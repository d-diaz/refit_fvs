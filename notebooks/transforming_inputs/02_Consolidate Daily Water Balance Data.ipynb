{
 "cells": [
  {
   "cell_type": "markdown",
   "id": "a42bd3fc-686f-476d-bb63-8c7d22693435",
   "metadata": {},
   "source": [
    "# Consolidating Water Balance Data\n",
    "In this notebook, we will combine daily GRIDMET climate data and NASA SMAP soil moisture data. We will add a calculation of reference evapotranspiration following the Hargreaves 1985 method. \n",
    "\n",
    "We will generate a separate file for each plot to be used for fitting a leaky bucket model and simulating soil moisture index."
   ]
  },
  {
   "cell_type": "code",
   "execution_count": 1,
   "id": "3ca85fc3-5413-42d8-b3b1-384ff89dd870",
   "metadata": {},
   "outputs": [],
   "source": [
    "from concurrent.futures import as_completed, ProcessPoolExecutor\n",
    "import glob\n",
    "import numpy as np\n",
    "import os\n",
    "import pandas as pd\n",
    "from tqdm.notebook import tqdm"
   ]
  },
  {
   "cell_type": "code",
   "execution_count": 2,
   "id": "29ef8573-a0fa-422f-85a7-2190736d27c3",
   "metadata": {},
   "outputs": [],
   "source": [
    "from refit_fvs.hargreaves import (\n",
    "    et_rad,\n",
    "    hargreaves,\n",
    "    inv_rel_dist_earth_sun,\n",
    "    sol_dec,\n",
    "    sunset_hour_angle,\n",
    ")"
   ]
  },
  {
   "cell_type": "code",
   "execution_count": 3,
   "id": "ce575c7f-0c3d-43aa-91cc-83c98ab8e1b5",
   "metadata": {},
   "outputs": [],
   "source": [
    "DATA_DIR = \"../../data\""
   ]
  },
  {
   "cell_type": "code",
   "execution_count": 4,
   "id": "89c0e28e-84ab-472b-8e34-625caffb784b",
   "metadata": {},
   "outputs": [
    {
     "name": "stdout",
     "output_type": "stream",
     "text": [
      "<class 'pandas.core.frame.DataFrame'>\n",
      "Int64Index: 12156 entries, 60101550679 to 530907572668\n",
      "Data columns (total 3 columns):\n",
      " #   Column  Non-Null Count  Dtype  \n",
      "---  ------  --------------  -----  \n",
      " 0   lat     12156 non-null  float64\n",
      " 1   lon     12156 non-null  float64\n",
      " 2   el      12156 non-null  int64  \n",
      "dtypes: float64(2), int64(1)\n",
      "memory usage: 379.9 KB\n"
     ]
    }
   ],
   "source": [
    "PLOTS = os.path.join(DATA_DIR, \"interim\", \"plot_info_for_climatena.csv\")\n",
    "plots = (\n",
    "    pd.read_csv(PLOTS, dtype={\"PLOT_ID\": int})\n",
    "    .rename({\"ID1\": \"PLOT_ID\"}, axis=1)\n",
    "    .drop([\"ID2\"], axis=1)\n",
    "    .set_index(\"PLOT_ID\")\n",
    ")\n",
    "plots.info()"
   ]
  },
  {
   "cell_type": "code",
   "execution_count": 5,
   "id": "1ab33adb-d194-44f0-a8d3-962220adebe6",
   "metadata": {},
   "outputs": [
    {
     "data": {
      "text/html": [
       "<div>\n",
       "<style scoped>\n",
       "    .dataframe tbody tr th:only-of-type {\n",
       "        vertical-align: middle;\n",
       "    }\n",
       "\n",
       "    .dataframe tbody tr th {\n",
       "        vertical-align: top;\n",
       "    }\n",
       "\n",
       "    .dataframe thead th {\n",
       "        text-align: right;\n",
       "    }\n",
       "</style>\n",
       "<table border=\"1\" class=\"dataframe\">\n",
       "  <thead>\n",
       "    <tr style=\"text-align: right;\">\n",
       "      <th></th>\n",
       "      <th>lat</th>\n",
       "      <th>lon</th>\n",
       "      <th>el</th>\n",
       "    </tr>\n",
       "    <tr>\n",
       "      <th>PLOT_ID</th>\n",
       "      <th></th>\n",
       "      <th></th>\n",
       "      <th></th>\n",
       "    </tr>\n",
       "  </thead>\n",
       "  <tbody>\n",
       "    <tr>\n",
       "      <th>60101550679</th>\n",
       "      <td>41.806228</td>\n",
       "      <td>-123.788726</td>\n",
       "      <td>761</td>\n",
       "    </tr>\n",
       "    <tr>\n",
       "      <th>60101551744</th>\n",
       "      <td>41.980638</td>\n",
       "      <td>-124.193526</td>\n",
       "      <td>91</td>\n",
       "    </tr>\n",
       "    <tr>\n",
       "      <th>60101551969</th>\n",
       "      <td>41.681432</td>\n",
       "      <td>-123.803842</td>\n",
       "      <td>701</td>\n",
       "    </tr>\n",
       "    <tr>\n",
       "      <th>60101552953</th>\n",
       "      <td>41.938125</td>\n",
       "      <td>-123.870868</td>\n",
       "      <td>640</td>\n",
       "    </tr>\n",
       "    <tr>\n",
       "      <th>60101553315</th>\n",
       "      <td>41.738938</td>\n",
       "      <td>-123.783382</td>\n",
       "      <td>1432</td>\n",
       "    </tr>\n",
       "  </tbody>\n",
       "</table>\n",
       "</div>"
      ],
      "text/plain": [
       "                   lat         lon    el\n",
       "PLOT_ID                                 \n",
       "60101550679  41.806228 -123.788726   761\n",
       "60101551744  41.980638 -124.193526    91\n",
       "60101551969  41.681432 -123.803842   701\n",
       "60101552953  41.938125 -123.870868   640\n",
       "60101553315  41.738938 -123.783382  1432"
      ]
     },
     "execution_count": 5,
     "metadata": {},
     "output_type": "execute_result"
    }
   ],
   "source": [
    "plots.head()"
   ]
  },
  {
   "cell_type": "code",
   "execution_count": 6,
   "id": "5cf58ac6-9b74-443b-b5cd-6e01fec1ac14",
   "metadata": {},
   "outputs": [
    {
     "data": {
      "application/vnd.jupyter.widget-view+json": {
       "model_id": "60b4894f08c745ddb2501afac0d598ed",
       "version_major": 2,
       "version_minor": 0
      },
      "text/plain": [
       "  0%|          | 0/12156 [00:00<?, ?it/s]"
      ]
     },
     "metadata": {},
     "output_type": "display_data"
    }
   ],
   "source": [
    "OVERWRITE = False\n",
    "\n",
    "with tqdm(total=len(plots)) as pbar:\n",
    "    for plot in plots.index.values:\n",
    "        outfile = os.path.join(DATA_DIR, \"interim\", \"leaky_bucket\", f\"{plot}.parquet\")\n",
    "        \n",
    "        if not os.path.exists(outfile) or OVERWRITE:\n",
    "            gridmet_ = os.path.join(DATA_DIR, \"raw\", \"gridmet\", f\"{plot}.parquet\")\n",
    "            smap_ = os.path.join(DATA_DIR, \"raw\", \"nasa_smap\", f\"{plot}.parquet\")\n",
    "        \n",
    "            if os.path.exists(gridmet_):\n",
    "                gridmet = pd.read_parquet(gridmet_).drop(\"PLOT_ID\", axis=1)\n",
    "                gridmet[\"DATE\"] = pd.to_datetime(gridmet.DATE).dt.to_period(\"D\")\n",
    "                gridmet.set_index([\"DATE\"], inplace=True)\n",
    "\n",
    "                # add hargreaves reference evapotranspiration to gridmet\n",
    "                lat_ = np.ones(len(gridmet)) * np.deg2rad(plots.loc[plot, \"lat\"])\n",
    "                doy_ = gridmet.index.day_of_year\n",
    "                sol_dec_ = sol_dec(doy_)\n",
    "                sha_ = sunset_hour_angle(lat_, sol_dec_)\n",
    "                ird_ = inv_rel_dist_earth_sun(doy_)\n",
    "                et_rad_ = et_rad(lat_, sol_dec_, sha_, ird_)\n",
    "                gridmet[\"EREF_HARGREAVES\"] = hargreaves(\n",
    "                    gridmet.TMIN - 273.15, gridmet.TMAX - 273.15, et_rad_\n",
    "                )\n",
    "                avg_temp = (gridmet.TMIN + gridmet.TMAX) / 2 - 273.15\n",
    "                gridmet.loc[avg_temp < 0, \"EREF_HARGREAVES\"] = 0\n",
    "                \n",
    "                gridmet = gridmet.resample(\"D\").interpolate(limit_area=\"inside\")\n",
    "                \n",
    "                # only merge with gridmet with smap if smap data exist\n",
    "                if os.path.exists(smap_):\n",
    "                    smap = pd.read_parquet(smap_).drop(\"PLOT_ID\", axis=1)\n",
    "                    smap[\"DATE\"] = pd.to_datetime(smap.DATE).dt.to_period(\"D\")\n",
    "                    smap.set_index([\"DATE\"], inplace=True)\n",
    "                    smap = smap.resample(\"D\").interpolate(limit_area=\"inside\")\n",
    "                    gridmet = gridmet.merge(\n",
    "                        smap, \n",
    "                        left_index=True, \n",
    "                        right_index=True, \n",
    "                        how=\"outer\"\n",
    "                    )\n",
    "                \n",
    "                # write gridmet to disk even if smap doesn't exit\n",
    "                gridmet = gridmet.reset_index()\n",
    "                gridmet[\"DATE\"] = gridmet[\"DATE\"].astype(str)\n",
    "                gridmet.insert(0, \"PLOT_ID\", int(plot))\n",
    "                gridmet.to_parquet(outfile, index=False)\n",
    "                \n",
    "        pbar.update()"
   ]
  }
 ],
 "metadata": {
  "kernelspec": {
   "display_name": "Python [conda env:miniconda3-refit_fvs]",
   "language": "python",
   "name": "conda-env-miniconda3-refit_fvs-py"
  },
  "language_info": {
   "codemirror_mode": {
    "name": "ipython",
    "version": 3
   },
   "file_extension": ".py",
   "mimetype": "text/x-python",
   "name": "python",
   "nbconvert_exporter": "python",
   "pygments_lexer": "ipython3",
   "version": "3.10.6"
  }
 },
 "nbformat": 4,
 "nbformat_minor": 5
}
