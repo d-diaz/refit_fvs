{
 "cells": [
  {
   "cell_type": "code",
   "execution_count": 1,
   "id": "1f99dd7e-393f-45db-943d-21bd97b70295",
   "metadata": {},
   "outputs": [],
   "source": [
    "import pandas as pd\n",
    "import numpy as np\n",
    "import jax.numpy as jnp\n",
    "from jax.lax import scan\n",
    "from functools import partial"
   ]
  },
  {
   "cell_type": "code",
   "execution_count": 2,
   "id": "cc55f5f9-9be0-4b87-8888-3c5b0f223f0a",
   "metadata": {},
   "outputs": [
    {
     "name": "stdout",
     "output_type": "stream",
     "text": [
      "<class 'pandas.core.frame.DataFrame'>\n",
      "MultiIndex: 4522032 entries, (60101550679, '1990-01') to (530907572668, '2020-12')\n",
      "Data columns (total 15 columns):\n",
      " #   Column  Dtype  \n",
      "---  ------  -----  \n",
      " 0   TMAX    float64\n",
      " 1   TMIN    float64\n",
      " 2   TAVE    float64\n",
      " 3   PPT     int64  \n",
      " 4   RAD     float64\n",
      " 5   DD_0_   int64  \n",
      " 6   DD5_    int64  \n",
      " 7   DD_18_  int64  \n",
      " 8   DD18_   int64  \n",
      " 9   NFFD    int64  \n",
      " 10  PAS     int64  \n",
      " 11  EREF    int64  \n",
      " 12  CMD     int64  \n",
      " 13  RH      int64  \n",
      " 14  CMI     float64\n",
      "dtypes: float64(5), int64(10)\n",
      "memory usage: 535.1+ MB\n"
     ]
    }
   ],
   "source": [
    "CLIM_DATA = \"../data/interim/climatena_1990-2020_monthly_long.csv\"\n",
    "clim = pd.read_csv(CLIM_DATA).set_index([\"PLOT_ID\", \"PERIOD\"])\n",
    "clim.info()"
   ]
  },
  {
   "cell_type": "code",
   "execution_count": 3,
   "id": "d70a4da4-7f0f-48f6-864d-165ec4164cf4",
   "metadata": {},
   "outputs": [
    {
     "name": "stdout",
     "output_type": "stream",
     "text": [
      "<class 'pandas.core.frame.DataFrame'>\n",
      "Int64Index: 12027 entries, 60101550679 to 530907572668\n",
      "Data columns (total 3 columns):\n",
      " #   Column    Non-Null Count  Dtype\n",
      "---  ------    --------------  -----\n",
      " 0   SMI_MIN   12027 non-null  Int64\n",
      " 1   SMI_CRIT  12027 non-null  Int64\n",
      " 2   SMI_MAX   12027 non-null  Int64\n",
      "dtypes: Int64(3)\n",
      "memory usage: 411.1 KB\n"
     ]
    }
   ],
   "source": [
    "SOIL_MOISTURE = \"../data/interim/monthly_soil_moisture_for_plots\"\n",
    "moisture = pd.read_csv(SOIL_MOISTURE)\n",
    "moisture[\"PLOT_ID\"] = moisture[\"PLOT_ID\"].astype(\"Int64\")\n",
    "moisture = moisture.set_index([\"PLOT_ID\", \"PERIOD\"])\n",
    "moisture.info()"
   ]
  },
  {
   "cell_type": "code",
   "execution_count": 7,
   "id": "ecaa9fe0-4e34-4775-8bec-7410fcef40ff",
   "metadata": {},
   "outputs": [
    {
     "name": "stdout",
     "output_type": "stream",
     "text": [
      "<class 'pandas.core.frame.DataFrame'>\n",
      "MultiIndex: 4667904 entries, (60101572041, '1990-01') to (530907572668, '2021-12')\n",
      "Data columns (total 8 columns):\n",
      " #   Column              Dtype  \n",
      "---  ------              -----  \n",
      " 0   POA_GLOBAL          float64\n",
      " 1   POA_DIRECT          float64\n",
      " 2   POA_DIFFUSE         float64\n",
      " 3   POA_SKY_DIFFUSE     float64\n",
      " 4   POA_GROUND_DIFFUSE  float64\n",
      " 5   CLEARSKY_GHI        float64\n",
      " 6   CLEARSKY_DNI        float64\n",
      " 7   CLEARSKY_DHI        float64\n",
      "dtypes: float64(8)\n",
      "memory usage: 303.1+ MB\n"
     ]
    }
   ],
   "source": [
    "SUN_DATA = \"../data/interim/monthly_irradiance_for_plots.csv\"\n",
    "sun = pd.read_csv(SUN_DATA)\n",
    "sun = sun.set_index([\"PLOT_ID\", \"PERIOD\"])\n",
    "sun.info()"
   ]
  },
  {
   "cell_type": "code",
   "execution_count": 8,
   "id": "c9a89d1a-d178-46a4-ab88-7ce3ee9163ec",
   "metadata": {},
   "outputs": [
    {
     "name": "stdout",
     "output_type": "stream",
     "text": [
      "<class 'pandas.core.frame.DataFrame'>\n",
      "Int64Index: 12156 entries, 60101550679 to 530907572668\n",
      "Data columns (total 5 columns):\n",
      " #   Column                      Non-Null Count  Dtype  \n",
      "---  ------                      --------------  -----  \n",
      " 0   INTERCEPT                   12156 non-null  float64\n",
      " 1   bRH                         12156 non-null  float64\n",
      " 2   bELEV                       12156 non-null  float64\n",
      " 3   RMSE                        12156 non-null  float64\n",
      " 4   ANNUAL_CLOUDY_GHI_PCT_DIFF  12156 non-null  float64\n",
      "dtypes: float64(5)\n",
      "memory usage: 569.8 KB\n"
     ]
    }
   ],
   "source": [
    "CLOUD_COEFS = \"../data/interim/cloud_linear_coefs.csv\"\n",
    "cloud_coefs = pd.read_csv(CLOUD_COEFS).set_index(\"PLOT_ID\")\n",
    "cloud_coefs.info()"
   ]
  },
  {
   "cell_type": "code",
   "execution_count": 9,
   "id": "5e48fb30-b6f3-482c-a0d3-ff71723536ea",
   "metadata": {},
   "outputs": [],
   "source": [
    "def pred_cloud_cover(\n",
    "    intercept, slope_rh, slope_elev, relative_humidity, elevation, clip_clouds=False\n",
    "):\n",
    "    cloud_cover = intercept + slope_rh * relative_humidity + slope_elev * elevation\n",
    "    if clip_clouds:\n",
    "        cloud_cover = np.clip(cloud_cover, 0, 1)\n",
    "    return cloud_cover\n",
    "\n",
    "\n",
    "def cloud_cover_correction(clearsky_ghi, cloud_cover, offset=0.35):\n",
    "    ghi = clearsky_ghi * (offset + (1 - offset) * (1 - cloud_cover))\n",
    "    return ghi\n",
    "\n",
    "\n",
    "def pred_cloudy_ghi(\n",
    "    intercept,\n",
    "    slope_rh,\n",
    "    slope_elev,\n",
    "    relative_humidity,\n",
    "    elevation,\n",
    "    clearsky_ghi,\n",
    "    clip_clouds=False,\n",
    "):\n",
    "    cloud_cover = pred_cloud_cover(\n",
    "        intercept,\n",
    "        slope_rh,\n",
    "        slope_elev,\n",
    "        relative_humidity,\n",
    "        elevation,\n",
    "        clip_clouds=clip_clouds,\n",
    "    )\n",
    "    return cloud_cover_correction(clearsky_ghi, cloud_cover)"
   ]
  },
  {
   "cell_type": "code",
   "execution_count": 10,
   "id": "13950468-b0ee-4f04-ad63-6fa739d7d0e9",
   "metadata": {},
   "outputs": [
    {
     "name": "stdout",
     "output_type": "stream",
     "text": [
      "<class 'pandas.core.frame.DataFrame'>\n",
      "Int64Index: 12156 entries, 60101550679 to 530907572668\n",
      "Data columns (total 3 columns):\n",
      " #   Column  Non-Null Count  Dtype  \n",
      "---  ------  --------------  -----  \n",
      " 0   LAT     12156 non-null  float64\n",
      " 1   LON     12156 non-null  float64\n",
      " 2   ELEV    12156 non-null  int64  \n",
      "dtypes: float64(2), int64(1)\n",
      "memory usage: 379.9 KB\n"
     ]
    }
   ],
   "source": [
    "PLOT_INFO = \"../data/interim/plot_info_for_climatena.csv\"\n",
    "plots = (\n",
    "    pd.read_csv(PLOT_INFO)\n",
    "    .rename({\"ID1\": \"PLOT_ID\", \"el\": \"ELEV\"}, axis=1)\n",
    "    .drop([\"ID2\"], axis=1)\n",
    "    .set_index(\"PLOT_ID\")\n",
    ")\n",
    "plots.columns = [col.upper() for col in plots.columns]\n",
    "plots.info()"
   ]
  },
  {
   "cell_type": "code",
   "execution_count": 11,
   "id": "26d23165-d31d-4a33-80e5-dc1c4ce1ec20",
   "metadata": {},
   "outputs": [],
   "source": [
    "cloud_data = (\n",
    "    cloud_coefs[[\"INTERCEPT\", \"bRH\", \"bELEV\"]]\n",
    "    .merge(clim[\"RH\"], left_index=True, right_index=True, how=\"inner\")\n",
    "    .merge(plots[\"ELEV\"], left_index=True, right_index=True, how=\"inner\")\n",
    "    .merge(sun[\"POA_GLOBAL\"], left_index=True, right_index=True, how=\"inner\")\n",
    ")\n",
    "cloud_data[\"CLOUD_COVER\"] = pred_cloud_cover(\n",
    "    cloud_data.INTERCEPT,\n",
    "    cloud_data.bRH,\n",
    "    cloud_data.bELEV,\n",
    "    cloud_data.RH,\n",
    "    cloud_data.ELEV,\n",
    "    clip_clouds=True,\n",
    ")\n",
    "cloud_data[\"SOLAR_RADIATION\"] = cloud_cover_correction(\n",
    "    cloud_data.POA_GLOBAL, cloud_data.CLOUD_COVER\n",
    ")"
   ]
  },
  {
   "cell_type": "code",
   "execution_count": 12,
   "id": "a6aaaba4-74b1-4c48-be17-aaca9be27275",
   "metadata": {},
   "outputs": [
    {
     "name": "stdout",
     "output_type": "stream",
     "text": [
      "<class 'pandas.core.frame.DataFrame'>\n",
      "MultiIndex: 4522032 entries, (60101550679, '1990-01') to (530907572668, '2020-12')\n",
      "Data columns (total 26 columns):\n",
      " #   Column              Dtype  \n",
      "---  ------              -----  \n",
      " 0   TMAX                float64\n",
      " 1   TMIN                float64\n",
      " 2   TAVE                float64\n",
      " 3   PPT                 int64  \n",
      " 4   RAD                 float64\n",
      " 5   DD_0_               int64  \n",
      " 6   DD5_                int64  \n",
      " 7   DD_18_              int64  \n",
      " 8   DD18_               int64  \n",
      " 9   NFFD                int64  \n",
      " 10  PAS                 int64  \n",
      " 11  EREF                int64  \n",
      " 12  CMD                 int64  \n",
      " 13  RH                  int64  \n",
      " 14  CMI                 float64\n",
      " 15  POA_GLOBAL          float64\n",
      " 16  POA_DIRECT          float64\n",
      " 17  POA_DIFFUSE         float64\n",
      " 18  POA_SKY_DIFFUSE     float64\n",
      " 19  POA_GROUND_DIFFUSE  float64\n",
      " 20  CLEARSKY_GHI        float64\n",
      " 21  CLEARSKY_DNI        float64\n",
      " 22  CLEARSKY_DHI        float64\n",
      " 23  CLOUD_COVER         float64\n",
      " 24  SOLAR_RADIATION     float64\n",
      " 25  SOIL_MOISTURE       float64\n",
      "dtypes: float64(16), int64(10)\n",
      "memory usage: 1.0+ GB\n"
     ]
    }
   ],
   "source": [
    "merged = (\n",
    "    clim.merge(sun, left_index=True, right_index=True, how=\"left\")\n",
    "    .merge(\n",
    "        cloud_data[[\"CLOUD_COVER\", \"SOLAR_RADIATION\"]],\n",
    "        left_index=True,\n",
    "        right_index=True,\n",
    "        how=\"left\",\n",
    "    )\n",
    "    .merge(smi_pred, left_index=True, right_index=True, how=\"left\")\n",
    ")\n",
    "merged.info()"
   ]
  },
  {
   "cell_type": "code",
   "execution_count": 18,
   "id": "a0d04587-ae22-4366-a256-331b56991f06",
   "metadata": {},
   "outputs": [
    {
     "data": {
      "text/plain": [
       "TMAX                        0\n",
       "TMIN                        0\n",
       "TAVE                        0\n",
       "PPT                         0\n",
       "RAD                   1508868\n",
       "DD_0_                       0\n",
       "DD5_                        0\n",
       "DD_18_                      0\n",
       "DD18_                       0\n",
       "NFFD                        0\n",
       "PAS                         0\n",
       "EREF                        0\n",
       "CMD                         0\n",
       "RH                          0\n",
       "CMI                         0\n",
       "POA_GLOBAL                  0\n",
       "POA_DIRECT                  0\n",
       "POA_DIFFUSE                 0\n",
       "POA_SKY_DIFFUSE             0\n",
       "POA_GROUND_DIFFUSE          0\n",
       "CLEARSKY_GHI                0\n",
       "CLEARSKY_DNI                0\n",
       "CLEARSKY_DHI                0\n",
       "CLOUD_COVER                 0\n",
       "SOLAR_RADIATION             0\n",
       "SOIL_MOISTURE               0\n",
       "dtype: int64"
      ]
     },
     "execution_count": 18,
     "metadata": {},
     "output_type": "execute_result"
    }
   ],
   "source": [
    "(merged == -9999).sum()"
   ]
  },
  {
   "cell_type": "code",
   "execution_count": 19,
   "id": "60413218-4c65-4212-a7da-f98107313229",
   "metadata": {},
   "outputs": [],
   "source": [
    "merged.loc[merged.RAD == -9999, \"RAD\"] = np.nan"
   ]
  },
  {
   "cell_type": "code",
   "execution_count": 20,
   "id": "db12cfef-b870-49b1-9d64-c09bf9d29199",
   "metadata": {},
   "outputs": [
    {
     "data": {
      "text/plain": [
       "TMAX                        0\n",
       "TMIN                        0\n",
       "TAVE                        0\n",
       "PPT                         0\n",
       "RAD                   1508868\n",
       "DD_0_                       0\n",
       "DD5_                        0\n",
       "DD_18_                      0\n",
       "DD18_                       0\n",
       "NFFD                        0\n",
       "PAS                         0\n",
       "EREF                        0\n",
       "CMD                         0\n",
       "RH                          0\n",
       "CMI                         0\n",
       "POA_GLOBAL                  0\n",
       "POA_DIRECT                  0\n",
       "POA_DIFFUSE                 0\n",
       "POA_SKY_DIFFUSE             0\n",
       "POA_GROUND_DIFFUSE          0\n",
       "CLEARSKY_GHI                0\n",
       "CLEARSKY_DNI                0\n",
       "CLEARSKY_DHI                0\n",
       "CLOUD_COVER                 0\n",
       "SOLAR_RADIATION             0\n",
       "SOIL_MOISTURE               0\n",
       "dtype: int64"
      ]
     },
     "execution_count": 20,
     "metadata": {},
     "output_type": "execute_result"
    }
   ],
   "source": [
    "merged.isna().sum()"
   ]
  },
  {
   "cell_type": "code",
   "execution_count": 21,
   "id": "669d2429-f7a5-4ca9-b51c-ed0f5e5f687e",
   "metadata": {},
   "outputs": [],
   "source": [
    "merged.to_csv(\n",
    "    \"../data/interim/monthly_climatic_drivers_for_plots.csv\", index=True, header=True\n",
    ")"
   ]
  }
 ],
 "metadata": {
  "kernelspec": {
   "display_name": "Python [conda env:.conda-refit_fvs_cpu]",
   "language": "python",
   "name": "conda-env-.conda-refit_fvs_cpu-py"
  },
  "language_info": {
   "codemirror_mode": {
    "name": "ipython",
    "version": 3
   },
   "file_extension": ".py",
   "mimetype": "text/x-python",
   "name": "python",
   "nbconvert_exporter": "python",
   "pygments_lexer": "ipython3",
   "version": "3.11.0"
  },
  "vscode": {
   "interpreter": {
    "hash": "9119bc58d768bfdd2f76799a1d93e337bddb836718d16466c18eaead93398f73"
   }
  }
 },
 "nbformat": 4,
 "nbformat_minor": 5
}
