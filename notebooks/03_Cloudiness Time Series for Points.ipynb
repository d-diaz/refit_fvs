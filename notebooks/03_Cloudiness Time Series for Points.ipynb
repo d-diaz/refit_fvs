{
 "cells": [
  {
   "cell_type": "code",
   "execution_count": 1,
   "metadata": {
    "id": "8VvxO-yVI9ux"
   },
   "outputs": [],
   "source": [
    "import os\n",
    "import glob\n",
    "\n",
    "import numpy as np\n",
    "import geopandas as gpd\n",
    "import pandas as pd\n",
    "import ee\n",
    "\n",
    "from tqdm.notebook import tqdm\n",
    "from concurrent.futures import as_completed, ThreadPoolExecutor, ProcessPoolExecutor"
   ]
  },
  {
   "cell_type": "markdown",
   "metadata": {
    "id": "zctQZgxYJLYa"
   },
   "source": [
    "## Get Earth Engine Running\n",
    "To access GEE, we will need to authenticate our account, and then initialize a connection to a server. "
   ]
  },
  {
   "cell_type": "code",
   "execution_count": 2,
   "metadata": {
    "colab": {
     "base_uri": "https://localhost:8080/"
    },
    "id": "NVpVYMc1JMho",
    "outputId": "53c702ef-fa29-419f-f35d-c9dee7bc9950"
   },
   "outputs": [],
   "source": [
    "SERVICE_ACCOUNT = 'refit-fvs@refit-fvs.iam.gserviceaccount.com'\n",
    "credentials = ee.ServiceAccountCredentials(SERVICE_ACCOUNT, '../gee_key.json')\n",
    "ee.Initialize(credentials)"
   ]
  },
  {
   "cell_type": "markdown",
   "metadata": {
    "id": "aq-gLalTJdDz"
   },
   "source": [
    "# Retrieve Soil Moisture Data\n",
    "For each of the plots in a GeoDataFrame, and each year the imagery are available, we will filter the NASA Soil Moisture Active Passive (SMAP) collection from GEE to our Area of Interest. We want to get a monthly time-series of soil profile moisture for each point."
   ]
  },
  {
   "cell_type": "code",
   "execution_count": 3,
   "metadata": {
    "colab": {
     "base_uri": "https://localhost:8080/",
     "height": 206
    },
    "id": "9aDmw2Z2Eu10",
    "outputId": "99ea9b41-afc2-459d-8df5-4219f62dc3c8"
   },
   "outputs": [
    {
     "data": {
      "text/html": [
       "<div>\n",
       "<style scoped>\n",
       "    .dataframe tbody tr th:only-of-type {\n",
       "        vertical-align: middle;\n",
       "    }\n",
       "\n",
       "    .dataframe tbody tr th {\n",
       "        vertical-align: top;\n",
       "    }\n",
       "\n",
       "    .dataframe thead th {\n",
       "        text-align: right;\n",
       "    }\n",
       "</style>\n",
       "<table border=\"1\" class=\"dataframe\">\n",
       "  <thead>\n",
       "    <tr style=\"text-align: right;\">\n",
       "      <th></th>\n",
       "      <th>PLOT_ID</th>\n",
       "      <th>lat</th>\n",
       "      <th>lon</th>\n",
       "      <th>el</th>\n",
       "    </tr>\n",
       "  </thead>\n",
       "  <tbody>\n",
       "    <tr>\n",
       "      <th>0</th>\n",
       "      <td>60101550679</td>\n",
       "      <td>41.806228</td>\n",
       "      <td>-123.788726</td>\n",
       "      <td>761</td>\n",
       "    </tr>\n",
       "    <tr>\n",
       "      <th>1</th>\n",
       "      <td>60101551744</td>\n",
       "      <td>41.980638</td>\n",
       "      <td>-124.193526</td>\n",
       "      <td>91</td>\n",
       "    </tr>\n",
       "    <tr>\n",
       "      <th>2</th>\n",
       "      <td>60101551969</td>\n",
       "      <td>41.681432</td>\n",
       "      <td>-123.803842</td>\n",
       "      <td>701</td>\n",
       "    </tr>\n",
       "    <tr>\n",
       "      <th>3</th>\n",
       "      <td>60101552953</td>\n",
       "      <td>41.938125</td>\n",
       "      <td>-123.870868</td>\n",
       "      <td>640</td>\n",
       "    </tr>\n",
       "    <tr>\n",
       "      <th>4</th>\n",
       "      <td>60101553315</td>\n",
       "      <td>41.738938</td>\n",
       "      <td>-123.783382</td>\n",
       "      <td>1432</td>\n",
       "    </tr>\n",
       "  </tbody>\n",
       "</table>\n",
       "</div>"
      ],
      "text/plain": [
       "       PLOT_ID        lat         lon    el\n",
       "0  60101550679  41.806228 -123.788726   761\n",
       "1  60101551744  41.980638 -124.193526    91\n",
       "2  60101551969  41.681432 -123.803842   701\n",
       "3  60101552953  41.938125 -123.870868   640\n",
       "4  60101553315  41.738938 -123.783382  1432"
      ]
     },
     "execution_count": 3,
     "metadata": {},
     "output_type": "execute_result"
    }
   ],
   "source": [
    "DATA_DIR = '../data/'\n",
    "PLOTS = os.path.join(DATA_DIR, 'interim', 'plot_info_for_climatena.csv')\n",
    "plots = pd.read_csv(PLOTS).rename({'ID1': 'PLOT_ID'}, axis=1).drop(['ID2'], axis=1)\n",
    "plots.head()"
   ]
  },
  {
   "cell_type": "markdown",
   "metadata": {
    "id": "7Sm952QOb4Xv"
   },
   "source": [
    "## Collection Processing Functions\n",
    "The following functions work on Google Earth Engine ImageCollections. "
   ]
  },
  {
   "cell_type": "code",
   "execution_count": 7,
   "metadata": {
    "id": "OcbKV5nPTEdp"
   },
   "outputs": [],
   "source": [
    "CLOUDS, FRACTION_BAND = ee.ImageCollection(\"MODIS/061/MOD08_M3\"), 'Cloud_Fraction_Nadir_Day_Mean_Mean'\n",
    "\n",
    "def get_month(coll, month, year):\n",
    "    start = ee.Date(f'{year}-{month}-01')\n",
    "    end = start.advance(1, 'month').advance(-1, 'day')\n",
    "    return coll.filterDate(start, end).first()\n",
    "\n",
    "def get_cloud_fraction_values(x, y, epsg=4326):\n",
    "    \"\"\"Returns cloud fraction image collection filtered \n",
    "    to intersect with a specific point.\"\"\"\n",
    "    aoi = ee.Geometry.Point((x,y), proj=f'EPSG:{epsg}')\n",
    "    cloud_coll = CLOUDS.filterBounds(aoi)\n",
    "    cloud_img = ee.ImageCollection([get_month(cloud_coll, month, year) \n",
    "                                    for year in range(2000, 2022)\n",
    "                                    for month in range(1, 13)]).select([FRACTION_BAND])\n",
    "    \n",
    "\n",
    "    def get_point(img):\n",
    "        result = img.reduceRegion(reducer=ee.Reducer.mean(), \n",
    "                                  geometry=aoi, crs=f'EPSG:{epsg}', \n",
    "                                  scale=1).get(FRACTION_BAND)\n",
    "    \n",
    "        return img.set('date', img.date().format()).set('result', result)    \n",
    "    \n",
    "    values = cloud_img.map(get_point).reduceColumns(ee.Reducer.toList(2), ['date', 'result']).values().get(0)\n",
    "\n",
    "    return values.getInfo()\n",
    "\n",
    "def get_clouds_df(point_id, x, y, epsg=4326):\n",
    "    values = get_cloud_fraction_values(x, y, epsg=epsg)\n",
    "    df = pd.DataFrame(values, columns=['DATE', 'CLOUDS'])\n",
    "    df.insert(0, 'PLOT_ID', point_id)\n",
    "    df['DATE'] = pd.to_datetime(df['DATE'])\n",
    "    df['CLOUDS'] = df['CLOUDS'] / 10000 # to scale cloudiness to be from 0-1\n",
    "    return df"
   ]
  },
  {
   "cell_type": "code",
   "execution_count": 8,
   "metadata": {
    "colab": {
     "base_uri": "https://localhost:8080/",
     "height": 67,
     "referenced_widgets": [
      "eac0872799ce4fff8145b0d4b55076d3",
      "532dee120fc74aa79108c912f4494fc2",
      "78124d116aa748759d88411f39dc0a3c",
      "e780cab5ba14411cac2d893d82f45a2d",
      "4352b8a59c5e47019fc5a994474e3718",
      "bb1254955a2945248a52ed1268ed91fb",
      "61aca79cc294497da0c14dbc501fb2e9",
      "e76579a9fea945a699261f01ccba3002",
      "b925b2dee56f4d49b96e7aca7361a60e",
      "4b09fe373795443ab9c56100d2ead145",
      "31f547f778b24fe5b8444b3dacd7d5bb"
     ]
    },
    "id": "y_UFtE2LqB6T",
    "outputId": "00c2b728-252b-46c2-a3c8-fc08ff73c64e"
   },
   "outputs": [
    {
     "name": "stdout",
     "output_type": "stream",
     "text": [
      "Starting to get data from Google Earth Engine.\n"
     ]
    },
    {
     "data": {
      "application/vnd.jupyter.widget-view+json": {
       "model_id": "bd2a57425e484f37acc63c0aa47d1bc0",
       "version_major": 2,
       "version_minor": 0
      },
      "text/plain": [
       "  0%|          | 0/12156 [00:00<?, ?it/s]"
      ]
     },
     "metadata": {},
     "output_type": "display_data"
    }
   ],
   "source": [
    "results = []\n",
    "\n",
    "ALREADY_DONE = os.path.join(DATA_DIR, 'interim', 'MODIS_monthly_cloud_fraction.csv')\n",
    "if os.path.exists(ALREADY_DONE):\n",
    "    already_done = pd.read_csv(ALREADY_DONE)\n",
    "    results.append(already_done)\n",
    "    already_done_plots = np.unique(already_done['PLOT_ID'].values)\n",
    "else:\n",
    "    already_done_plots = []\n",
    "\n",
    "# with ThreadPoolExecutor(1) as executor:\n",
    "with ProcessPoolExecutor(40) as executor:\n",
    "    print('Starting to get data from Google Earth Engine.')\n",
    "    jobs = [executor.submit(get_clouds_df, *[row['PLOT_ID'], row['lon'], row['lat']]) for _, row in plots.iterrows() if row['PLOT_ID'] not in already_done_plots]\n",
    "        \n",
    "    for job in tqdm(as_completed(jobs), total=len(jobs)):\n",
    "        results.append(job.result())"
   ]
  },
  {
   "cell_type": "code",
   "execution_count": 9,
   "metadata": {},
   "outputs": [
    {
     "data": {
      "text/html": [
       "<div>\n",
       "<style scoped>\n",
       "    .dataframe tbody tr th:only-of-type {\n",
       "        vertical-align: middle;\n",
       "    }\n",
       "\n",
       "    .dataframe tbody tr th {\n",
       "        vertical-align: top;\n",
       "    }\n",
       "\n",
       "    .dataframe thead th {\n",
       "        text-align: right;\n",
       "    }\n",
       "</style>\n",
       "<table border=\"1\" class=\"dataframe\">\n",
       "  <thead>\n",
       "    <tr style=\"text-align: right;\">\n",
       "      <th></th>\n",
       "      <th>PLOT_ID</th>\n",
       "      <th>DATE</th>\n",
       "      <th>CLOUDS</th>\n",
       "    </tr>\n",
       "  </thead>\n",
       "  <tbody>\n",
       "    <tr>\n",
       "      <th>0</th>\n",
       "      <td>6.010157e+10</td>\n",
       "      <td>2000-02-01</td>\n",
       "      <td>0.9913</td>\n",
       "    </tr>\n",
       "    <tr>\n",
       "      <th>1</th>\n",
       "      <td>6.010157e+10</td>\n",
       "      <td>2000-03-01</td>\n",
       "      <td>0.5010</td>\n",
       "    </tr>\n",
       "    <tr>\n",
       "      <th>2</th>\n",
       "      <td>6.010157e+10</td>\n",
       "      <td>2000-04-01</td>\n",
       "      <td>0.5461</td>\n",
       "    </tr>\n",
       "    <tr>\n",
       "      <th>3</th>\n",
       "      <td>6.010157e+10</td>\n",
       "      <td>2000-05-01</td>\n",
       "      <td>0.6189</td>\n",
       "    </tr>\n",
       "    <tr>\n",
       "      <th>4</th>\n",
       "      <td>6.010157e+10</td>\n",
       "      <td>2000-06-01</td>\n",
       "      <td>0.3208</td>\n",
       "    </tr>\n",
       "    <tr>\n",
       "      <th>...</th>\n",
       "      <td>...</td>\n",
       "      <td>...</td>\n",
       "      <td>...</td>\n",
       "    </tr>\n",
       "    <tr>\n",
       "      <th>256</th>\n",
       "      <td>6.010157e+10</td>\n",
       "      <td>2021-08-01</td>\n",
       "      <td>0.0651</td>\n",
       "    </tr>\n",
       "    <tr>\n",
       "      <th>257</th>\n",
       "      <td>6.010157e+10</td>\n",
       "      <td>2021-09-01</td>\n",
       "      <td>0.1769</td>\n",
       "    </tr>\n",
       "    <tr>\n",
       "      <th>258</th>\n",
       "      <td>6.010157e+10</td>\n",
       "      <td>2021-10-01</td>\n",
       "      <td>0.4170</td>\n",
       "    </tr>\n",
       "    <tr>\n",
       "      <th>259</th>\n",
       "      <td>6.010157e+10</td>\n",
       "      <td>2021-11-01</td>\n",
       "      <td>0.5734</td>\n",
       "    </tr>\n",
       "    <tr>\n",
       "      <th>260</th>\n",
       "      <td>6.010157e+10</td>\n",
       "      <td>2021-12-01</td>\n",
       "      <td>0.7065</td>\n",
       "    </tr>\n",
       "  </tbody>\n",
       "</table>\n",
       "<p>261 rows × 3 columns</p>\n",
       "</div>"
      ],
      "text/plain": [
       "          PLOT_ID       DATE  CLOUDS\n",
       "0    6.010157e+10 2000-02-01  0.9913\n",
       "1    6.010157e+10 2000-03-01  0.5010\n",
       "2    6.010157e+10 2000-04-01  0.5461\n",
       "3    6.010157e+10 2000-05-01  0.6189\n",
       "4    6.010157e+10 2000-06-01  0.3208\n",
       "..            ...        ...     ...\n",
       "256  6.010157e+10 2021-08-01  0.0651\n",
       "257  6.010157e+10 2021-09-01  0.1769\n",
       "258  6.010157e+10 2021-10-01  0.4170\n",
       "259  6.010157e+10 2021-11-01  0.5734\n",
       "260  6.010157e+10 2021-12-01  0.7065\n",
       "\n",
       "[261 rows x 3 columns]"
      ]
     },
     "execution_count": 9,
     "metadata": {},
     "output_type": "execute_result"
    }
   ],
   "source": [
    "results[0]"
   ]
  },
  {
   "cell_type": "code",
   "execution_count": 10,
   "metadata": {
    "colab": {
     "base_uri": "https://localhost:8080/"
    },
    "id": "ZrNXqoR8vcxO",
    "outputId": "0b1f3b56-936c-4341-ac41-e27ad5346b0e"
   },
   "outputs": [
    {
     "name": "stdout",
     "output_type": "stream",
     "text": [
      "<class 'pandas.core.frame.DataFrame'>\n",
      "RangeIndex: 3172716 entries, 0 to 3172715\n",
      "Data columns (total 3 columns):\n",
      " #   Column   Dtype         \n",
      "---  ------   -----         \n",
      " 0   PLOT_ID  float64       \n",
      " 1   DATE     datetime64[ns]\n",
      " 2   CLOUDS   float64       \n",
      "dtypes: datetime64[ns](1), float64(2)\n",
      "memory usage: 72.6 MB\n"
     ]
    }
   ],
   "source": [
    "result_df = pd.concat(results, axis=0, ignore_index=True)\n",
    "result_df['DATE'] = pd.to_datetime(result_df['DATE'])\n",
    "result_df.info()"
   ]
  },
  {
   "cell_type": "code",
   "execution_count": 11,
   "metadata": {
    "colab": {
     "base_uri": "https://localhost:8080/",
     "height": 206
    },
    "id": "v3C6lFP-vt0u",
    "outputId": "a4db0344-afce-4e31-e4a9-9178f6bed835"
   },
   "outputs": [
    {
     "data": {
      "text/html": [
       "<div>\n",
       "<style scoped>\n",
       "    .dataframe tbody tr th:only-of-type {\n",
       "        vertical-align: middle;\n",
       "    }\n",
       "\n",
       "    .dataframe tbody tr th {\n",
       "        vertical-align: top;\n",
       "    }\n",
       "\n",
       "    .dataframe thead th {\n",
       "        text-align: right;\n",
       "    }\n",
       "</style>\n",
       "<table border=\"1\" class=\"dataframe\">\n",
       "  <thead>\n",
       "    <tr style=\"text-align: right;\">\n",
       "      <th></th>\n",
       "      <th>PLOT_ID</th>\n",
       "      <th>DATE</th>\n",
       "      <th>CLOUDS</th>\n",
       "    </tr>\n",
       "  </thead>\n",
       "  <tbody>\n",
       "    <tr>\n",
       "      <th>0</th>\n",
       "      <td>6.010157e+10</td>\n",
       "      <td>2000-02-01</td>\n",
       "      <td>0.9913</td>\n",
       "    </tr>\n",
       "    <tr>\n",
       "      <th>1</th>\n",
       "      <td>6.010157e+10</td>\n",
       "      <td>2000-03-01</td>\n",
       "      <td>0.5010</td>\n",
       "    </tr>\n",
       "    <tr>\n",
       "      <th>2</th>\n",
       "      <td>6.010157e+10</td>\n",
       "      <td>2000-04-01</td>\n",
       "      <td>0.5461</td>\n",
       "    </tr>\n",
       "    <tr>\n",
       "      <th>3</th>\n",
       "      <td>6.010157e+10</td>\n",
       "      <td>2000-05-01</td>\n",
       "      <td>0.6189</td>\n",
       "    </tr>\n",
       "    <tr>\n",
       "      <th>4</th>\n",
       "      <td>6.010157e+10</td>\n",
       "      <td>2000-06-01</td>\n",
       "      <td>0.3208</td>\n",
       "    </tr>\n",
       "  </tbody>\n",
       "</table>\n",
       "</div>"
      ],
      "text/plain": [
       "        PLOT_ID       DATE  CLOUDS\n",
       "0  6.010157e+10 2000-02-01  0.9913\n",
       "1  6.010157e+10 2000-03-01  0.5010\n",
       "2  6.010157e+10 2000-04-01  0.5461\n",
       "3  6.010157e+10 2000-05-01  0.6189\n",
       "4  6.010157e+10 2000-06-01  0.3208"
      ]
     },
     "execution_count": 11,
     "metadata": {},
     "output_type": "execute_result"
    }
   ],
   "source": [
    "result_df.head()"
   ]
  },
  {
   "cell_type": "code",
   "execution_count": 12,
   "metadata": {
    "id": "BfsbS-9AwcpW"
   },
   "outputs": [],
   "source": [
    "out_csv = os.path.join(DATA_DIR, 'interim', 'MODIS_monthly_cloud_fraction.csv')\n",
    "result_df.to_csv(out_csv, index=False, header=True)"
   ]
  }
 ],
 "metadata": {
  "colab": {
   "collapsed_sections": [],
   "name": "0X - NASA Soil Moisture Time Series for Points.ipynb",
   "provenance": []
  },
  "kernelspec": {
   "display_name": "Python [conda env:refit_fvs]",
   "language": "python",
   "name": "conda-env-refit_fvs-py"
  },
  "language_info": {
   "codemirror_mode": {
    "name": "ipython",
    "version": 3
   },
   "file_extension": ".py",
   "mimetype": "text/x-python",
   "name": "python",
   "nbconvert_exporter": "python",
   "pygments_lexer": "ipython3",
   "version": "3.10.6"
  },
  "vscode": {
   "interpreter": {
    "hash": "9119bc58d768bfdd2f76799a1d93e337bddb836718d16466c18eaead93398f73"
   }
  },
  "widgets": {
   "application/vnd.jupyter.widget-state+json": {
    "31f547f778b24fe5b8444b3dacd7d5bb": {
     "model_module": "@jupyter-widgets/base",
     "model_module_version": "1.2.0",
     "model_name": "LayoutModel",
     "state": {
      "_model_module": "@jupyter-widgets/base",
      "_model_module_version": "1.2.0",
      "_model_name": "LayoutModel",
      "_view_count": null,
      "_view_module": "@jupyter-widgets/base",
      "_view_module_version": "1.2.0",
      "_view_name": "LayoutView",
      "align_content": null,
      "align_items": null,
      "align_self": null,
      "border": null,
      "bottom": null,
      "display": null,
      "flex": null,
      "flex_flow": null,
      "grid_area": null,
      "grid_auto_columns": null,
      "grid_auto_flow": null,
      "grid_auto_rows": null,
      "grid_column": null,
      "grid_gap": null,
      "grid_row": null,
      "grid_template_areas": null,
      "grid_template_columns": null,
      "grid_template_rows": null,
      "height": null,
      "justify_content": null,
      "justify_items": null,
      "left": null,
      "margin": null,
      "max_height": null,
      "max_width": null,
      "min_height": null,
      "min_width": null,
      "object_fit": null,
      "object_position": null,
      "order": null,
      "overflow": null,
      "overflow_x": null,
      "overflow_y": null,
      "padding": null,
      "right": null,
      "top": null,
      "visibility": null,
      "width": null
     }
    },
    "4352b8a59c5e47019fc5a994474e3718": {
     "model_module": "@jupyter-widgets/controls",
     "model_module_version": "1.5.0",
     "model_name": "HTMLModel",
     "state": {
      "_dom_classes": [],
      "_model_module": "@jupyter-widgets/controls",
      "_model_module_version": "1.5.0",
      "_model_name": "HTMLModel",
      "_view_count": null,
      "_view_module": "@jupyter-widgets/controls",
      "_view_module_version": "1.5.0",
      "_view_name": "HTMLView",
      "description": "",
      "description_tooltip": null,
      "layout": "IPY_MODEL_31f547f778b24fe5b8444b3dacd7d5bb",
      "placeholder": "​",
      "style": "IPY_MODEL_4b09fe373795443ab9c56100d2ead145",
      "value": " 10979/10979 [19:29&lt;00:00,  7.15it/s]"
     }
    },
    "4b09fe373795443ab9c56100d2ead145": {
     "model_module": "@jupyter-widgets/controls",
     "model_module_version": "1.5.0",
     "model_name": "DescriptionStyleModel",
     "state": {
      "_model_module": "@jupyter-widgets/controls",
      "_model_module_version": "1.5.0",
      "_model_name": "DescriptionStyleModel",
      "_view_count": null,
      "_view_module": "@jupyter-widgets/base",
      "_view_module_version": "1.2.0",
      "_view_name": "StyleView",
      "description_width": ""
     }
    },
    "532dee120fc74aa79108c912f4494fc2": {
     "model_module": "@jupyter-widgets/base",
     "model_module_version": "1.2.0",
     "model_name": "LayoutModel",
     "state": {
      "_model_module": "@jupyter-widgets/base",
      "_model_module_version": "1.2.0",
      "_model_name": "LayoutModel",
      "_view_count": null,
      "_view_module": "@jupyter-widgets/base",
      "_view_module_version": "1.2.0",
      "_view_name": "LayoutView",
      "align_content": null,
      "align_items": null,
      "align_self": null,
      "border": null,
      "bottom": null,
      "display": null,
      "flex": null,
      "flex_flow": null,
      "grid_area": null,
      "grid_auto_columns": null,
      "grid_auto_flow": null,
      "grid_auto_rows": null,
      "grid_column": null,
      "grid_gap": null,
      "grid_row": null,
      "grid_template_areas": null,
      "grid_template_columns": null,
      "grid_template_rows": null,
      "height": null,
      "justify_content": null,
      "justify_items": null,
      "left": null,
      "margin": null,
      "max_height": null,
      "max_width": null,
      "min_height": null,
      "min_width": null,
      "object_fit": null,
      "object_position": null,
      "order": null,
      "overflow": null,
      "overflow_x": null,
      "overflow_y": null,
      "padding": null,
      "right": null,
      "top": null,
      "visibility": null,
      "width": null
     }
    },
    "61aca79cc294497da0c14dbc501fb2e9": {
     "model_module": "@jupyter-widgets/base",
     "model_module_version": "1.2.0",
     "model_name": "LayoutModel",
     "state": {
      "_model_module": "@jupyter-widgets/base",
      "_model_module_version": "1.2.0",
      "_model_name": "LayoutModel",
      "_view_count": null,
      "_view_module": "@jupyter-widgets/base",
      "_view_module_version": "1.2.0",
      "_view_name": "LayoutView",
      "align_content": null,
      "align_items": null,
      "align_self": null,
      "border": null,
      "bottom": null,
      "display": null,
      "flex": null,
      "flex_flow": null,
      "grid_area": null,
      "grid_auto_columns": null,
      "grid_auto_flow": null,
      "grid_auto_rows": null,
      "grid_column": null,
      "grid_gap": null,
      "grid_row": null,
      "grid_template_areas": null,
      "grid_template_columns": null,
      "grid_template_rows": null,
      "height": null,
      "justify_content": null,
      "justify_items": null,
      "left": null,
      "margin": null,
      "max_height": null,
      "max_width": null,
      "min_height": null,
      "min_width": null,
      "object_fit": null,
      "object_position": null,
      "order": null,
      "overflow": null,
      "overflow_x": null,
      "overflow_y": null,
      "padding": null,
      "right": null,
      "top": null,
      "visibility": null,
      "width": null
     }
    },
    "78124d116aa748759d88411f39dc0a3c": {
     "model_module": "@jupyter-widgets/controls",
     "model_module_version": "1.5.0",
     "model_name": "HTMLModel",
     "state": {
      "_dom_classes": [],
      "_model_module": "@jupyter-widgets/controls",
      "_model_module_version": "1.5.0",
      "_model_name": "HTMLModel",
      "_view_count": null,
      "_view_module": "@jupyter-widgets/controls",
      "_view_module_version": "1.5.0",
      "_view_name": "HTMLView",
      "description": "",
      "description_tooltip": null,
      "layout": "IPY_MODEL_61aca79cc294497da0c14dbc501fb2e9",
      "placeholder": "​",
      "style": "IPY_MODEL_bb1254955a2945248a52ed1268ed91fb",
      "value": "100%"
     }
    },
    "b925b2dee56f4d49b96e7aca7361a60e": {
     "model_module": "@jupyter-widgets/base",
     "model_module_version": "1.2.0",
     "model_name": "LayoutModel",
     "state": {
      "_model_module": "@jupyter-widgets/base",
      "_model_module_version": "1.2.0",
      "_model_name": "LayoutModel",
      "_view_count": null,
      "_view_module": "@jupyter-widgets/base",
      "_view_module_version": "1.2.0",
      "_view_name": "LayoutView",
      "align_content": null,
      "align_items": null,
      "align_self": null,
      "border": null,
      "bottom": null,
      "display": null,
      "flex": null,
      "flex_flow": null,
      "grid_area": null,
      "grid_auto_columns": null,
      "grid_auto_flow": null,
      "grid_auto_rows": null,
      "grid_column": null,
      "grid_gap": null,
      "grid_row": null,
      "grid_template_areas": null,
      "grid_template_columns": null,
      "grid_template_rows": null,
      "height": null,
      "justify_content": null,
      "justify_items": null,
      "left": null,
      "margin": null,
      "max_height": null,
      "max_width": null,
      "min_height": null,
      "min_width": null,
      "object_fit": null,
      "object_position": null,
      "order": null,
      "overflow": null,
      "overflow_x": null,
      "overflow_y": null,
      "padding": null,
      "right": null,
      "top": null,
      "visibility": null,
      "width": null
     }
    },
    "bb1254955a2945248a52ed1268ed91fb": {
     "model_module": "@jupyter-widgets/controls",
     "model_module_version": "1.5.0",
     "model_name": "DescriptionStyleModel",
     "state": {
      "_model_module": "@jupyter-widgets/controls",
      "_model_module_version": "1.5.0",
      "_model_name": "DescriptionStyleModel",
      "_view_count": null,
      "_view_module": "@jupyter-widgets/base",
      "_view_module_version": "1.2.0",
      "_view_name": "StyleView",
      "description_width": ""
     }
    },
    "e76579a9fea945a699261f01ccba3002": {
     "model_module": "@jupyter-widgets/controls",
     "model_module_version": "1.5.0",
     "model_name": "ProgressStyleModel",
     "state": {
      "_model_module": "@jupyter-widgets/controls",
      "_model_module_version": "1.5.0",
      "_model_name": "ProgressStyleModel",
      "_view_count": null,
      "_view_module": "@jupyter-widgets/base",
      "_view_module_version": "1.2.0",
      "_view_name": "StyleView",
      "bar_color": null,
      "description_width": ""
     }
    },
    "e780cab5ba14411cac2d893d82f45a2d": {
     "model_module": "@jupyter-widgets/controls",
     "model_module_version": "1.5.0",
     "model_name": "FloatProgressModel",
     "state": {
      "_dom_classes": [],
      "_model_module": "@jupyter-widgets/controls",
      "_model_module_version": "1.5.0",
      "_model_name": "FloatProgressModel",
      "_view_count": null,
      "_view_module": "@jupyter-widgets/controls",
      "_view_module_version": "1.5.0",
      "_view_name": "ProgressView",
      "bar_style": "success",
      "description": "",
      "description_tooltip": null,
      "layout": "IPY_MODEL_b925b2dee56f4d49b96e7aca7361a60e",
      "max": 10979,
      "min": 0,
      "orientation": "horizontal",
      "style": "IPY_MODEL_e76579a9fea945a699261f01ccba3002",
      "value": 10979
     }
    },
    "eac0872799ce4fff8145b0d4b55076d3": {
     "model_module": "@jupyter-widgets/controls",
     "model_module_version": "1.5.0",
     "model_name": "HBoxModel",
     "state": {
      "_dom_classes": [],
      "_model_module": "@jupyter-widgets/controls",
      "_model_module_version": "1.5.0",
      "_model_name": "HBoxModel",
      "_view_count": null,
      "_view_module": "@jupyter-widgets/controls",
      "_view_module_version": "1.5.0",
      "_view_name": "HBoxView",
      "box_style": "",
      "children": [
       "IPY_MODEL_78124d116aa748759d88411f39dc0a3c",
       "IPY_MODEL_e780cab5ba14411cac2d893d82f45a2d",
       "IPY_MODEL_4352b8a59c5e47019fc5a994474e3718"
      ],
      "layout": "IPY_MODEL_532dee120fc74aa79108c912f4494fc2"
     }
    }
   }
  }
 },
 "nbformat": 4,
 "nbformat_minor": 4
}
