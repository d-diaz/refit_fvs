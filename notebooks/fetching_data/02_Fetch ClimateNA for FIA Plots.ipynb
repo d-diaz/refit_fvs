{
 "cells": [
  {
   "cell_type": "code",
   "execution_count": 117,
   "id": "pediatric-pitch",
   "metadata": {},
   "outputs": [],
   "source": [
    "import os\n",
    "import subprocess\n",
    "import shutil\n",
    "\n",
    "import pandas as pd\n",
    "import numpy as np"
   ]
  },
  {
   "cell_type": "code",
   "execution_count": 118,
   "id": "demanding-corps",
   "metadata": {},
   "outputs": [
    {
     "name": "stdout",
     "output_type": "stream",
     "text": [
      "<class 'pandas.core.frame.DataFrame'>\n",
      "RangeIndex: 290429 entries, 0 to 290428\n",
      "Data columns (total 63 columns):\n",
      " #   Column             Non-Null Count   Dtype  \n",
      "---  ------             --------------   -----  \n",
      " 0   STATECD            290429 non-null  int64  \n",
      " 1   UNITCD             290429 non-null  int64  \n",
      " 2   COUNTYCD           290429 non-null  int64  \n",
      " 3   PLOT               290429 non-null  int64  \n",
      " 4   PLOT_ID            290429 non-null  int64  \n",
      " 5   SUBPLOT            290429 non-null  int64  \n",
      " 6   SUBPLOT_ID         290429 non-null  int64  \n",
      " 7   PLOT_CN            290429 non-null  int64  \n",
      " 8   PLOT_CN_NEXT       290429 non-null  int64  \n",
      " 9   TREE_CN            220620 non-null  float64\n",
      " 10  TREE_CN_NEXT       269952 non-null  float64\n",
      " 11  TREE_ID            290429 non-null  int64  \n",
      " 12  LAT                290429 non-null  float64\n",
      " 13  LON                290429 non-null  float64\n",
      " 14  ELEV               290429 non-null  float64\n",
      " 15  VARIANT            290429 non-null  object \n",
      " 16  LOCATION           290429 non-null  float64\n",
      " 17  SLOPE              289987 non-null  float64\n",
      " 18  ASPECT             289987 non-null  float64\n",
      " 19  TOPO_POSITION_PNW  290423 non-null  float64\n",
      " 20  MEASYEAR           290429 non-null  int64  \n",
      " 21  MEASMON            290429 non-null  float64\n",
      " 22  MEASDAY            290429 non-null  float64\n",
      " 23  MEASYEAR_NEXT      290429 non-null  int64  \n",
      " 24  MEASMON_NEXT       290429 non-null  float64\n",
      " 25  MEASDAY_NEXT       290429 non-null  float64\n",
      " 26  SICOND             278737 non-null  float64\n",
      " 27  SIBASE             278740 non-null  float64\n",
      " 28  SISP               278740 non-null  float64\n",
      " 29  SITECLCD           289987 non-null  float64\n",
      " 30  AZIMUTH            249068 non-null  float64\n",
      " 31  DISTANCE           249068 non-null  float64\n",
      " 32  STATUSCD           220598 non-null  float64\n",
      " 33  STATUSCD_NEXT      269952 non-null  float64\n",
      " 34  MORTYR             139 non-null     float64\n",
      " 35  MORTYR_NEXT        9650 non-null    float64\n",
      " 36  TPA_UNADJ          290429 non-null  float64\n",
      " 37  FIA_SPCD           290429 non-null  int64  \n",
      " 38  FVS_ALPHA          289945 non-null  object \n",
      " 39  FVS_SPP            290140 non-null  object \n",
      " 40  FVS_SPP_IDX        290429 non-null  int64  \n",
      " 41  COMMON_NAME        290429 non-null  object \n",
      " 42  DBH                220598 non-null  float64\n",
      " 43  DBH_NEXT           269952 non-null  float64\n",
      " 44  HT                 220592 non-null  float64\n",
      " 45  HT_NEXT            269943 non-null  float64\n",
      " 46  ACTUALHT           200172 non-null  float64\n",
      " 47  ACTUALHT_NEXT      249634 non-null  float64\n",
      " 48  CR                 187125 non-null  float64\n",
      " 49  CR_NEXT            225888 non-null  float64\n",
      " 50  CCLCD              187125 non-null  float64\n",
      " 51  ESTHT              220327 non-null  float64\n",
      " 52  ESTHT_NEXT         269658 non-null  float64\n",
      " 53  PTCCF              290429 non-null  float64\n",
      " 54  PTCCF_NEXT         290429 non-null  float64\n",
      " 55  PTBAPA             290429 non-null  float64\n",
      " 56  PTBAPA_NEXT        290429 non-null  float64\n",
      " 57  DOMHT              51252 non-null   float64\n",
      " 58  RELHT              290429 non-null  float64\n",
      " 59  DOMHT_NEXT         121088 non-null  float64\n",
      " 60  RELHT_NEXT         290429 non-null  float64\n",
      " 61  BAPALARGER         207551 non-null  float64\n",
      " 62  BAPALARGER_NEXT    246234 non-null  float64\n",
      "dtypes: float64(45), int64(14), object(4)\n",
      "memory usage: 139.6+ MB\n"
     ]
    }
   ],
   "source": [
    "DATA = \"../../data/interim/FIA_remeasured_trees_for_training.csv\"\n",
    "df = pd.read_csv(DATA)\n",
    "df.info()"
   ]
  },
  {
   "cell_type": "code",
   "execution_count": 119,
   "id": "respiratory-active",
   "metadata": {},
   "outputs": [
    {
     "name": "stdout",
     "output_type": "stream",
     "text": [
      "<class 'pandas.core.frame.DataFrame'>\n",
      "RangeIndex: 12156 entries, 0 to 12155\n",
      "Data columns (total 5 columns):\n",
      " #   Column  Non-Null Count  Dtype  \n",
      "---  ------  --------------  -----  \n",
      " 0   ID1     12156 non-null  object \n",
      " 1   ID2     0 non-null      float64\n",
      " 2   lat     12156 non-null  float64\n",
      " 3   lon     12156 non-null  float64\n",
      " 4   el      12156 non-null  int64  \n",
      "dtypes: float64(3), int64(1), object(1)\n",
      "memory usage: 475.0+ KB\n"
     ]
    }
   ],
   "source": [
    "cna = pd.DataFrame(\n",
    "    df.groupby(by=[\"PLOT_ID\", \"LAT\", \"LON\", \"ELEV\"]).groups.keys(),\n",
    "    columns=[\"ID1\", \"lat\", \"lon\", \"el\"],\n",
    ")\n",
    "cna[\"el\"] = (cna[\"el\"] / 3.28084).astype(int)\n",
    "cna.insert(1, \"ID2\", np.nan)\n",
    "cna[\"ID1\"] = cna[\"ID1\"].astype(str)\n",
    "cna.info()"
   ]
  },
  {
   "cell_type": "code",
   "execution_count": 120,
   "id": "involved-rescue",
   "metadata": {},
   "outputs": [
    {
     "data": {
      "text/html": [
       "<div>\n",
       "<style scoped>\n",
       "    .dataframe tbody tr th:only-of-type {\n",
       "        vertical-align: middle;\n",
       "    }\n",
       "\n",
       "    .dataframe tbody tr th {\n",
       "        vertical-align: top;\n",
       "    }\n",
       "\n",
       "    .dataframe thead th {\n",
       "        text-align: right;\n",
       "    }\n",
       "</style>\n",
       "<table border=\"1\" class=\"dataframe\">\n",
       "  <thead>\n",
       "    <tr style=\"text-align: right;\">\n",
       "      <th></th>\n",
       "      <th>ID1</th>\n",
       "      <th>ID2</th>\n",
       "      <th>lat</th>\n",
       "      <th>lon</th>\n",
       "      <th>el</th>\n",
       "    </tr>\n",
       "  </thead>\n",
       "  <tbody>\n",
       "    <tr>\n",
       "      <th>0</th>\n",
       "      <td>60101550679</td>\n",
       "      <td>NaN</td>\n",
       "      <td>41.806228</td>\n",
       "      <td>-123.788726</td>\n",
       "      <td>761</td>\n",
       "    </tr>\n",
       "    <tr>\n",
       "      <th>1</th>\n",
       "      <td>60101551744</td>\n",
       "      <td>NaN</td>\n",
       "      <td>41.980638</td>\n",
       "      <td>-124.193526</td>\n",
       "      <td>91</td>\n",
       "    </tr>\n",
       "    <tr>\n",
       "      <th>2</th>\n",
       "      <td>60101551969</td>\n",
       "      <td>NaN</td>\n",
       "      <td>41.681432</td>\n",
       "      <td>-123.803842</td>\n",
       "      <td>701</td>\n",
       "    </tr>\n",
       "    <tr>\n",
       "      <th>3</th>\n",
       "      <td>60101552953</td>\n",
       "      <td>NaN</td>\n",
       "      <td>41.938125</td>\n",
       "      <td>-123.870868</td>\n",
       "      <td>640</td>\n",
       "    </tr>\n",
       "    <tr>\n",
       "      <th>4</th>\n",
       "      <td>60101553315</td>\n",
       "      <td>NaN</td>\n",
       "      <td>41.738938</td>\n",
       "      <td>-123.783382</td>\n",
       "      <td>1432</td>\n",
       "    </tr>\n",
       "  </tbody>\n",
       "</table>\n",
       "</div>"
      ],
      "text/plain": [
       "           ID1  ID2        lat         lon    el\n",
       "0  60101550679  NaN  41.806228 -123.788726   761\n",
       "1  60101551744  NaN  41.980638 -124.193526    91\n",
       "2  60101551969  NaN  41.681432 -123.803842   701\n",
       "3  60101552953  NaN  41.938125 -123.870868   640\n",
       "4  60101553315  NaN  41.738938 -123.783382  1432"
      ]
     },
     "execution_count": 120,
     "metadata": {},
     "output_type": "execute_result"
    }
   ],
   "source": [
    "cna.head()"
   ]
  },
  {
   "cell_type": "code",
   "execution_count": 121,
   "id": "furnished-athens",
   "metadata": {},
   "outputs": [],
   "source": [
    "OUT_CSV = \"../../data/interim/plot_info_for_climatena.csv\"\n",
    "cna.to_csv(OUT_CSV, index=False, header=True, lineterminator=\"\\r\\n\")"
   ]
  },
  {
   "cell_type": "code",
   "execution_count": 122,
   "id": "5a1826b4",
   "metadata": {},
   "outputs": [
    {
     "data": {
      "text/plain": [
       "(1999, 2019)"
      ]
     },
     "execution_count": 122,
     "metadata": {},
     "output_type": "execute_result"
    }
   ],
   "source": [
    "df.MEASYEAR.min(), df.MEASYEAR_NEXT.max()"
   ]
  },
  {
   "cell_type": "code",
   "execution_count": 123,
   "id": "06b7e470",
   "metadata": {},
   "outputs": [
    {
     "name": "stdout",
     "output_type": "stream",
     "text": [
      "1990... 1991... 1992... 1993... 1994... 1995... 1996... 1997... 1998... 1999... 2000... 2001... 2002... 2003... 2004... 2005... 2006... 2007... 2008... 2009... 2010... 2011... 2012... 2013... 2014... 2015... 2016... 2017... 2018... 2019... 2020... Done.\n"
     ]
    }
   ],
   "source": [
    "CLIMNA_DIR = \"/mnt/e/ecotrust/Climatena_v731/\"\n",
    "OUT_DIR = \"../../data/interim/climatena_output\"\n",
    "\n",
    "cna.to_csv(\n",
    "    os.path.join(CLIMNA_DIR, \"plot_info_for_climatena.csv\"),\n",
    "    index=False,\n",
    "    header=True,\n",
    "    lineterminator=\"\\r\\n\",\n",
    ")\n",
    "\n",
    "for year in range(1990, 2021):\n",
    "    infile = \"/plot_info_for_climatena.csv\"\n",
    "    outfile = f\"/climna_monthly_{year}.csv\"\n",
    "    yearfile = f\"/Year_{year}.ann\"\n",
    "    proc = subprocess.run(\n",
    "        [\"./ClimateNA_v7.31.exe\", \"/M\", yearfile, infile, outfile],\n",
    "        cwd=CLIMNA_DIR,\n",
    "        stdout=subprocess.PIPE,\n",
    "        stderr=subprocess.PIPE,\n",
    "    )\n",
    "    if os.path.exists(OUT_DIR + outfile):\n",
    "        os.remove(OUT_DIR + outfile)\n",
    "    shutil.move(CLIMNA_DIR + outfile, OUT_DIR)\n",
    "    print(year, end=\"... \")\n",
    "print(\"Done.\")"
   ]
  },
  {
   "cell_type": "code",
   "execution_count": 124,
   "id": "881f22b7",
   "metadata": {},
   "outputs": [
    {
     "name": "stdout",
     "output_type": "stream",
     "text": [
      "<class 'pandas.core.frame.DataFrame'>\n",
      "RangeIndex: 376836 entries, 0 to 376835\n",
      "Columns: 185 entries, YEAR to CMI12\n",
      "dtypes: float64(62), int64(123)\n",
      "memory usage: 531.9 MB\n"
     ]
    }
   ],
   "source": [
    "dfs = []\n",
    "for year in range(1990, 2021):\n",
    "    year_df = pd.read_csv(os.path.join(OUT_DIR, f\"climna_monthly_{year}.csv\"))\n",
    "    year_df.insert(0, \"YEAR\", year)\n",
    "    year_df = year_df.rename({\"ID1\": \"PLOT_ID\"})\n",
    "    year_df = year_df.drop([\"ID2\"], axis=1)\n",
    "    dfs.append(year_df)\n",
    "clim = pd.concat(dfs, axis=0, ignore_index=True)\n",
    "clim.info()"
   ]
  },
  {
   "cell_type": "code",
   "execution_count": 125,
   "id": "4c73d477",
   "metadata": {},
   "outputs": [],
   "source": [
    "clim.to_csv(\n",
    "    \"../../data/interim/climatena_1990-2020_monthly.csv\", index=False, header=True\n",
    ")"
   ]
  }
 ],
 "metadata": {
  "kernelspec": {
   "display_name": "Python 3 (ipykernel)",
   "language": "python",
   "name": "python3"
  },
  "language_info": {
   "codemirror_mode": {
    "name": "ipython",
    "version": 3
   },
   "file_extension": ".py",
   "mimetype": "text/x-python",
   "name": "python",
   "nbconvert_exporter": "python",
   "pygments_lexer": "ipython3",
   "version": "3.10.6"
  },
  "vscode": {
   "interpreter": {
    "hash": "9119bc58d768bfdd2f76799a1d93e337bddb836718d16466c18eaead93398f73"
   }
  }
 },
 "nbformat": 4,
 "nbformat_minor": 5
}
