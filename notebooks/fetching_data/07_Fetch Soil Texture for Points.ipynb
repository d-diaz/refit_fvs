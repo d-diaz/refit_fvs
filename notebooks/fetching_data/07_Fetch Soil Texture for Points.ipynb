{
 "cells": [
  {
   "cell_type": "code",
   "execution_count": 1,
   "metadata": {
    "id": "8VvxO-yVI9ux"
   },
   "outputs": [],
   "source": [
    "import ee\n",
    "from concurrent.futures import as_completed, ProcessPoolExecutor\n",
    "import glob\n",
    "import geopandas as gpd\n",
    "import matplotlib\n",
    "import numpy as np\n",
    "import os\n",
    "import pandas as pd\n",
    "from sklearn.metrics import (\n",
    "    accuracy_score,\n",
    "    cohen_kappa_score,\n",
    "    classification_report,\n",
    "    ConfusionMatrixDisplay,\n",
    ")\n",
    "from soiltexture import getTextures\n",
    "from tqdm.notebook import tqdm"
   ]
  },
  {
   "cell_type": "markdown",
   "metadata": {
    "id": "zctQZgxYJLYa"
   },
   "source": [
    "## Get Earth Engine Running\n",
    "To access GEE, we will need to authenticate our account, )&( then initialize a connection to a server. "
   ]
  },
  {
   "cell_type": "code",
   "execution_count": 2,
   "metadata": {
    "colab": {
     "base_uri": "https://localhost:8080/"
    },
    "id": "NVpVYMc1JMho",
    "outputId": "53c702ef-fa29-419f-f35d-c9dee7bc9950"
   },
   "outputs": [],
   "source": [
    "SERVICE_ACCOUNT = \"refit-fvs@refit-fvs.iam.gserviceaccount.com\"\n",
    "credentials = ee.ServiceAccountCredentials(SERVICE_ACCOUNT, \"../../gee_key.json\")\n",
    "ee.Initialize(credentials)"
   ]
  },
  {
   "cell_type": "markdown",
   "metadata": {
    "id": "aq-gLalTJdDz"
   },
   "source": [
    "# Retrieve Soil Texture Data\n",
    "For each of the plots in a GeoDataFrame, and each year the imagery are available, we will filter the NASA Soil Moisture Active Passive (SMAP) collection from GEE to our Area of Interest. We want to get a monthly time-series of soil profile moisture for each point."
   ]
  },
  {
   "cell_type": "code",
   "execution_count": 3,
   "metadata": {
    "colab": {
     "base_uri": "https://localhost:8080/",
     "height": 206
    },
    "id": "9aDmw2Z2Eu10",
    "outputId": "99ea9b41-afc2-459d-8df5-4219f62dc3c8"
   },
   "outputs": [
    {
     "data": {
      "text/html": [
       "<div>\n",
       "<style scoped>\n",
       "    .dataframe tbody tr th:only-of-type {\n",
       "        vertical-align: middle;\n",
       "    }\n",
       "\n",
       "    .dataframe tbody tr th {\n",
       "        vertical-align: top;\n",
       "    }\n",
       "\n",
       "    .dataframe thead th {\n",
       "        text-align: right;\n",
       "    }\n",
       "</style>\n",
       "<table border=\"1\" class=\"dataframe\">\n",
       "  <thead>\n",
       "    <tr style=\"text-align: right;\">\n",
       "      <th></th>\n",
       "      <th>PLOT_ID</th>\n",
       "      <th>lat</th>\n",
       "      <th>lon</th>\n",
       "      <th>el</th>\n",
       "    </tr>\n",
       "  </thead>\n",
       "  <tbody>\n",
       "    <tr>\n",
       "      <th>0</th>\n",
       "      <td>60101550679</td>\n",
       "      <td>41.806228</td>\n",
       "      <td>-123.788726</td>\n",
       "      <td>761</td>\n",
       "    </tr>\n",
       "    <tr>\n",
       "      <th>1</th>\n",
       "      <td>60101551744</td>\n",
       "      <td>41.980638</td>\n",
       "      <td>-124.193526</td>\n",
       "      <td>91</td>\n",
       "    </tr>\n",
       "    <tr>\n",
       "      <th>2</th>\n",
       "      <td>60101551969</td>\n",
       "      <td>41.681432</td>\n",
       "      <td>-123.803842</td>\n",
       "      <td>701</td>\n",
       "    </tr>\n",
       "    <tr>\n",
       "      <th>3</th>\n",
       "      <td>60101552953</td>\n",
       "      <td>41.938125</td>\n",
       "      <td>-123.870868</td>\n",
       "      <td>640</td>\n",
       "    </tr>\n",
       "    <tr>\n",
       "      <th>4</th>\n",
       "      <td>60101553315</td>\n",
       "      <td>41.738938</td>\n",
       "      <td>-123.783382</td>\n",
       "      <td>1432</td>\n",
       "    </tr>\n",
       "  </tbody>\n",
       "</table>\n",
       "</div>"
      ],
      "text/plain": [
       "       PLOT_ID        lat         lon    el\n",
       "0  60101550679  41.806228 -123.788726   761\n",
       "1  60101551744  41.980638 -124.193526    91\n",
       "2  60101551969  41.681432 -123.803842   701\n",
       "3  60101552953  41.938125 -123.870868   640\n",
       "4  60101553315  41.738938 -123.783382  1432"
      ]
     },
     "execution_count": 3,
     "metadata": {},
     "output_type": "execute_result"
    }
   ],
   "source": [
    "DATA_DIR = \"../../data/\"\n",
    "PLOTS = os.path.join(DATA_DIR, \"interim\", \"plot_info_for_climatena.csv\")\n",
    "plots = pd.read_csv(PLOTS).rename({\"ID1\": \"PLOT_ID\"}, axis=1).drop([\"ID2\"], axis=1)\n",
    "plots.head()"
   ]
  },
  {
   "cell_type": "code",
   "execution_count": 4,
   "metadata": {},
   "outputs": [
    {
     "name": "stdout",
     "output_type": "stream",
     "text": [
      "<class 'pandas.core.frame.DataFrame'>\n",
      "RangeIndex: 12156 entries, 0 to 12155\n",
      "Data columns (total 4 columns):\n",
      " #   Column   Non-Null Count  Dtype  \n",
      "---  ------   --------------  -----  \n",
      " 0   PLOT_ID  12156 non-null  int64  \n",
      " 1   lat      12156 non-null  float64\n",
      " 2   lon      12156 non-null  float64\n",
      " 3   el       12156 non-null  int64  \n",
      "dtypes: float64(2), int64(2)\n",
      "memory usage: 380.0 KB\n"
     ]
    }
   ],
   "source": [
    "plots.info()"
   ]
  },
  {
   "cell_type": "markdown",
   "metadata": {
    "id": "7Sm952QOb4Xv"
   },
   "source": [
    "## Collection Processing Functions\n",
    "The following functions work on Google Earth Engine ImageCollections. "
   ]
  },
  {
   "cell_type": "code",
   "execution_count": 5,
   "metadata": {
    "id": "OcbKV5nPTEdp"
   },
   "outputs": [],
   "source": [
    "SOILS = ee.Image(\"OpenLandMap/SOL/SOL_TEXTURE-CLASS_USDA-TT_M/v02\")\n",
    "\n",
    "\n",
    "def get_soil_texture(x, y, buffer=1, epsg=4326):\n",
    "    aoi = ee.Geometry.Point(x, y, epsg=epsg)\n",
    "    result = SOILS.reduceRegion(\n",
    "        reducer=ee.Reducer.mode(),\n",
    "        geometry=aoi.buffer(buffer),\n",
    "        crs=f\"EPSG:{epsg}\",\n",
    "        scale=1,\n",
    "    )\n",
    "    return result.getInfo()\n",
    "\n",
    "\n",
    "def get_soil_df(point_id, x, y, buffer=1, epsg=4326):\n",
    "    values = get_soil_texture(x, y, buffer=buffer, epsg=epsg)\n",
    "    df = pd.DataFrame(\n",
    "        data=values, dtype=int, index=pd.Series(point_id, name=\"PLOT_ID\", dtype=int)\n",
    "    )\n",
    "    while df.isna().values.sum() > 0:\n",
    "        buffer += 10\n",
    "        buffer = (buffer // 10) * 10\n",
    "        values = get_soil_texture(x, y, buffer=buffer, epsg=epsg)\n",
    "        df = pd.DataFrame(\n",
    "            data=values, dtype=int, index=pd.Series(point_id, name=\"PLOT_ID\", dtype=int)\n",
    "        )\n",
    "    return df"
   ]
  },
  {
   "cell_type": "code",
   "execution_count": 6,
   "metadata": {},
   "outputs": [],
   "source": [
    "sand = ee.Image(\"projects/soilgrids-isric/sand_mean\")\n",
    "silt = ee.Image(\"projects/soilgrids-isric/silt_mean\")\n",
    "clay = ee.Image(\"projects/soilgrids-isric/clay_mean\")\n",
    "\n",
    "\n",
    "def get_isric_texture(x, y, buffer=1, epsg=4326):\n",
    "    aoi = ee.Geometry.Point(x, y, epsg=epsg)\n",
    "    sand_result = sand.reduceRegion(\n",
    "        reducer=ee.Reducer.mean(),\n",
    "        geometry=aoi.buffer(buffer),\n",
    "        crs=f\"EPSG:{epsg}\",\n",
    "        scale=1,\n",
    "    )\n",
    "    silt_result = silt.reduceRegion(\n",
    "        reducer=ee.Reducer.mean(),\n",
    "        geometry=aoi.buffer(buffer),\n",
    "        crs=f\"EPSG:{epsg}\",\n",
    "        scale=1,\n",
    "    )\n",
    "\n",
    "    clay_result = clay.reduceRegion(\n",
    "        reducer=ee.Reducer.mean(),\n",
    "        geometry=aoi.buffer(buffer),\n",
    "        crs=f\"EPSG:{epsg}\",\n",
    "        scale=1,\n",
    "    )\n",
    "    return {**sand_result.getInfo(), **silt_result.getInfo(), **clay_result.getInfo()}\n",
    "\n",
    "\n",
    "def get_isric_df(point_id, x, y, buffer=1, epsg=4326):\n",
    "    values = get_isric_texture(x, y, buffer=buffer, epsg=epsg)\n",
    "    df = pd.DataFrame(\n",
    "        data=values, dtype=int, index=pd.Series(point_id, name=\"PLOT_ID\", dtype=int)\n",
    "    )\n",
    "    while df.isna().values.sum() > 0 and buffer < 500:\n",
    "        buffer += 10\n",
    "        buffer = (buffer // 10) * 10\n",
    "        values = get_isric_texture(x, y, buffer=buffer, epsg=epsg)\n",
    "        df = pd.DataFrame(\n",
    "            data=values, dtype=int, index=pd.Series(point_id, name=\"PLOT_ID\", dtype=int)\n",
    "        )\n",
    "    df.columns = [col.replace(\"_mean\", \"\") for col in df.columns]\n",
    "    return df"
   ]
  },
  {
   "cell_type": "code",
   "execution_count": 7,
   "metadata": {
    "colab": {
     "base_uri": "https://localhost:8080/",
     "height": 67,
     "referenced_widgets": [
      "eac0872799ce4fff8145b0d4b55076d3",
      "532dee120fc74aa79108c912f4494fc2",
      "78124d116aa748759d88411f39dc0a3c",
      "e780cab5ba14411cac2d893d82f45a2d",
      "4352b8a59c5e47019fc5a994474e3718",
      "bb1254955a2945248a52ed1268ed91fb",
      "61aca79cc294497da0c14dbc501fb2e9",
      "e76579a9fea945a699261f01ccba3002",
      "b925b2dee56f4d49b96e7aca7361a60e",
      "4b09fe373795443ab9c56100d2ead145",
      "31f547f778b24fe5b8444b3dacd7d5bb"
     ]
    },
    "id": "y_UFtE2LqB6T",
    "outputId": "00c2b728-252b-46c2-a3c8-fc08ff73c64e"
   },
   "outputs": [
    {
     "name": "stdout",
     "output_type": "stream",
     "text": [
      "Starting to get data from Google Earth Engine.\n"
     ]
    },
    {
     "data": {
      "application/vnd.jupyter.widget-view+json": {
       "model_id": "d5bbb0bc01f44849b834212a2844cbe5",
       "version_major": 2,
       "version_minor": 0
      },
      "text/plain": [
       "0it [00:00, ?it/s]"
      ]
     },
     "metadata": {},
     "output_type": "display_data"
    },
    {
     "name": "stdout",
     "output_type": "stream",
     "text": [
      "<class 'pandas.core.frame.DataFrame'>\n",
      "Int64Index: 12156 entries, 60101550679 to 530907572668\n",
      "Data columns (total 6 columns):\n",
      " #   Column  Non-Null Count  Dtype\n",
      "---  ------  --------------  -----\n",
      " 0   b0      12156 non-null  int64\n",
      " 1   b10     12156 non-null  int64\n",
      " 2   b30     12156 non-null  int64\n",
      " 3   b60     12156 non-null  int64\n",
      " 4   b100    12156 non-null  int64\n",
      " 5   b200    12156 non-null  int64\n",
      "dtypes: int64(6)\n",
      "memory usage: 664.8 KB\n"
     ]
    }
   ],
   "source": [
    "OVERWRITE = False\n",
    "results = []\n",
    "\n",
    "ALREADY_DONE = os.path.join(DATA_DIR, \"interim\", \"soil_types.csv\")\n",
    "if os.path.exists(ALREADY_DONE) and not OVERWRITE:\n",
    "    already_done = pd.read_csv(ALREADY_DONE).set_index(\"PLOT_ID\")\n",
    "    results.append(already_done)\n",
    "    already_done_plots = np.unique(already_done.index.get_level_values(0))\n",
    "else:\n",
    "    already_done_plots = []\n",
    "\n",
    "with ProcessPoolExecutor(40) as executor:\n",
    "    print(\"Starting to get data from Google Earth Engine.\")\n",
    "    jobs = [\n",
    "        executor.submit(get_soil_df, *[row[\"PLOT_ID\"], row[\"lon\"], row[\"lat\"]])\n",
    "        for _, row in plots.iterrows()\n",
    "        if row[\"PLOT_ID\"] not in already_done_plots\n",
    "    ]\n",
    "\n",
    "    for job in tqdm(as_completed(jobs), total=len(jobs)):\n",
    "        results.append(job.result())\n",
    "\n",
    "COL_ORDER = [\"b0\", \"b10\", \"b30\", \"b60\", \"b100\", \"b200\"]\n",
    "result_df = pd.concat(results, axis=0)[COL_ORDER].dropna()\n",
    "out_csv = os.path.join(DATA_DIR, \"interim\", \"soil_types.csv\")\n",
    "result_df.to_csv(out_csv, index=True, header=True)\n",
    "result_df.info()"
   ]
  },
  {
   "cell_type": "code",
   "execution_count": 8,
   "metadata": {},
   "outputs": [
    {
     "name": "stdout",
     "output_type": "stream",
     "text": [
      "Starting to get data from Google Earth Engine.\n"
     ]
    },
    {
     "data": {
      "application/vnd.jupyter.widget-view+json": {
       "model_id": "bc417eab10a64980846118f2d5203341",
       "version_major": 2,
       "version_minor": 0
      },
      "text/plain": [
       "  0%|          | 0/3 [00:00<?, ?it/s]"
      ]
     },
     "metadata": {},
     "output_type": "display_data"
    },
    {
     "name": "stdout",
     "output_type": "stream",
     "text": [
      "<class 'pandas.core.frame.DataFrame'>\n",
      "Int64Index: 12153 entries, 60101551969 to 530907572668\n",
      "Data columns (total 30 columns):\n",
      " #   Column              Non-Null Count  Dtype  \n",
      "---  ------              --------------  -----  \n",
      " 0   sand_0-5cm          12153 non-null  float64\n",
      " 1   sand_100-200cm      12153 non-null  float64\n",
      " 2   sand_15-30cm        12153 non-null  float64\n",
      " 3   sand_30-60cm        12153 non-null  float64\n",
      " 4   sand_5-15cm         12153 non-null  float64\n",
      " 5   sand_60-100cm       12153 non-null  float64\n",
      " 6   silt_0-5cm          12153 non-null  float64\n",
      " 7   silt_100-200cm      12153 non-null  float64\n",
      " 8   silt_15-30cm        12153 non-null  float64\n",
      " 9   silt_30-60cm        12153 non-null  float64\n",
      " 10  silt_5-15cm         12153 non-null  float64\n",
      " 11  silt_60-100cm       12153 non-null  float64\n",
      " 12  clay_0-5cm          12153 non-null  float64\n",
      " 13  clay_100-200cm      12153 non-null  float64\n",
      " 14  clay_15-30cm        12153 non-null  float64\n",
      " 15  clay_30-60cm        12153 non-null  float64\n",
      " 16  clay_5-15cm         12153 non-null  float64\n",
      " 17  clay_60-100cm       12153 non-null  float64\n",
      " 18  texture_0-5cm       12153 non-null  object \n",
      " 19  soiltype_0-5cm      12153 non-null  int64  \n",
      " 20  texture_5-15cm      12153 non-null  object \n",
      " 21  soiltype_5-15cm     12153 non-null  int64  \n",
      " 22  texture_15-30cm     12153 non-null  object \n",
      " 23  soiltype_15-30cm    12153 non-null  int64  \n",
      " 24  texture_30-60cm     12153 non-null  object \n",
      " 25  soiltype_30-60cm    12153 non-null  int64  \n",
      " 26  texture_60-100cm    12153 non-null  object \n",
      " 27  soiltype_60-100cm   12153 non-null  int64  \n",
      " 28  texture_100-200cm   12153 non-null  object \n",
      " 29  soiltype_100-200cm  12153 non-null  int64  \n",
      "dtypes: float64(18), int64(6), object(6)\n",
      "memory usage: 2.9+ MB\n"
     ]
    }
   ],
   "source": [
    "OVERWRITE = False\n",
    "isric_results = []\n",
    "\n",
    "ALREADY_DONE = os.path.join(DATA_DIR, \"interim\", \"isric_soil_types.csv\")\n",
    "if os.path.exists(ALREADY_DONE) and not OVERWRITE:\n",
    "    already_done = pd.read_csv(ALREADY_DONE).set_index(\"PLOT_ID\")\n",
    "    isric_results.append(already_done)\n",
    "    already_done_plots = np.unique(already_done.index.get_level_values(0))\n",
    "else:\n",
    "    already_done_plots = []\n",
    "\n",
    "with ProcessPoolExecutor(40) as executor:\n",
    "    print(\"Starting to get data from Google Earth Engine.\")\n",
    "    jobs = [\n",
    "        executor.submit(get_isric_df, *[row[\"PLOT_ID\"], row[\"lon\"], row[\"lat\"]])\n",
    "        for _, row in plots.iterrows()\n",
    "        if row[\"PLOT_ID\"] not in already_done_plots\n",
    "    ]\n",
    "\n",
    "    for job in tqdm(as_completed(jobs), total=len(jobs)):\n",
    "        isric_results.append(job.result())\n",
    "\n",
    "isric_result_df = pd.concat(isric_results, axis=0).dropna()\n",
    "\n",
    "CROSSWALK = {\n",
    "    \"clay\": 1,\n",
    "    \"silty clay\": 2,\n",
    "    \"silty clay loam\": 5,\n",
    "    \"sandy clay\": 3,\n",
    "    \"sandy clay loam\": 6,\n",
    "    \"clay loam\": 4,\n",
    "    \"silt\": 10,\n",
    "    \"silt loam\": 8,\n",
    "    \"loam\": 7,\n",
    "    \"sand\": 12,\n",
    "    \"loamy sand\": 11,\n",
    "    \"sandy loam\": 9,\n",
    "}\n",
    "crosswalk = pd.Series(CROSSWALK, name=\"SOIL_TYPE\")\n",
    "\n",
    "for depth in [\"0-5\", \"5-15\", \"15-30\", \"30-60\", \"60-100\", \"100-200\"]:\n",
    "    isric_result_df[f\"texture_{depth}cm\"] = getTextures(\n",
    "        isric_result_df[f\"sand_{depth}cm\"].values / 10.0,\n",
    "        isric_result_df[f\"clay_{depth}cm\"].values / 10.0,\n",
    "    )\n",
    "    isric_result_df[f\"soiltype_{depth}cm\"] = crosswalk.reindex(\n",
    "        isric_result_df[f\"texture_{depth}cm\"].values\n",
    "    ).values\n",
    "\n",
    "out_csv = os.path.join(DATA_DIR, \"interim\", \"isric_soil_types.csv\")\n",
    "isric_result_df.to_csv(out_csv, index=True, header=True)\n",
    "isric_result_df.info()"
   ]
  },
  {
   "cell_type": "code",
   "execution_count": 9,
   "metadata": {},
   "outputs": [
    {
     "name": "stdout",
     "output_type": "stream",
     "text": [
      "<class 'pandas.core.frame.DataFrame'>\n",
      "Int64Index: 12153 entries, 60101550679 to 530907572668\n",
      "Data columns (total 2 columns):\n",
      " #   Column           Non-Null Count  Dtype\n",
      "---  ------           --------------  -----\n",
      " 0   b10              12153 non-null  int64\n",
      " 1   soiltype_5-15cm  12153 non-null  int64\n",
      "dtypes: int64(2)\n",
      "memory usage: 284.8 KB\n"
     ]
    }
   ],
   "source": [
    "compare = pd.merge(\n",
    "    result_df[\"b10\"],\n",
    "    isric_result_df[\"soiltype_5-15cm\"],\n",
    "    left_index=True,\n",
    "    right_index=True,\n",
    "    how=\"inner\",\n",
    ")\n",
    "compare.info()"
   ]
  },
  {
   "cell_type": "code",
   "execution_count": 10,
   "metadata": {},
   "outputs": [],
   "source": [
    "LABELS = {\n",
    "    1: \"C\",\n",
    "    2: \"TC\",\n",
    "    3: \"SC\",\n",
    "    4: \"CL\",\n",
    "    5: \"TCL\",\n",
    "    6: \"SCL\",\n",
    "    7: \"L\",\n",
    "    8: \"TL\",\n",
    "    9: \"SL\",\n",
    "    10: \"T\",\n",
    "    11: \"LS\",\n",
    "    12: \"S\",\n",
    "}\n",
    "labels = pd.Series(LABELS, name=\"SOIL_TYPE\")"
   ]
  },
  {
   "cell_type": "code",
   "execution_count": 11,
   "metadata": {},
   "outputs": [
    {
     "data": {
      "image/png": "[encoded data removed]",
      "text/plain": [
       "<Figure size 640x480 with 2 Axes>"
      ]
     },
     "metadata": {},
     "output_type": "display_data"
    }
   ],
   "source": [
    "disp = ConfusionMatrixDisplay.from_predictions(\n",
    "    compare[\"b10\"],\n",
    "    compare[\"soiltype_5-15cm\"],\n",
    "    normalize=\"true\",  # normed by OpenLandMap preds\n",
    "    labels=labels.index,\n",
    "    display_labels=labels.values,\n",
    "    values_format=\",.0%\",\n",
    ")\n",
    "\n",
    "for child in disp.ax_.get_children():\n",
    "    if isinstance(child, matplotlib.text.Text):\n",
    "        child.set_fontsize(7)\n",
    "\n",
    "disp.ax_.set(xlabel=\"ISRIC\", ylabel=\"OpenLandMap\");"
   ]
  },
  {
   "cell_type": "code",
   "execution_count": 17,
   "metadata": {},
   "outputs": [
    {
     "data": {
      "image/png": "[encoded data removed]",
      "text/plain": [
       "<Figure size 640x480 with 2 Axes>"
      ]
     },
     "metadata": {},
     "output_type": "display_data"
    }
   ],
   "source": [
    "disp = ConfusionMatrixDisplay.from_predictions(\n",
    "    compare[\"b10\"],\n",
    "    compare[\"soiltype_5-15cm\"],\n",
    "    normalize=None,\n",
    "    labels=labels.index,\n",
    "    display_labels=labels.values,\n",
    "    values_format=\",.0f\",\n",
    ")\n",
    "\n",
    "for child in disp.ax_.get_children():\n",
    "    if isinstance(child, matplotlib.text.Text):\n",
    "        child.set_fontsize(7)\n",
    "\n",
    "disp.ax_.set(xlabel=\"ISRIC\", ylabel=\"OpenLandMap\");"
   ]
  },
  {
   "cell_type": "code",
   "execution_count": 16,
   "metadata": {},
   "outputs": [
    {
     "name": "stdout",
     "output_type": "stream",
     "text": [
      "Acc: 0.6347403933185222\n",
      "Kappa: 0.38182444965446216\n",
      "              precision    recall  f1-score   support\n",
      "\n",
      "           C       0.00      0.00      0.00         0\n",
      "          TC       0.00      0.00      0.00         0\n",
      "          SC       0.00      0.00      0.00         0\n",
      "          CL       0.09      0.66      0.15       153\n",
      "         TCL       0.00      0.00      0.00         0\n",
      "         SCL       0.07      0.10      0.08        29\n",
      "           L       0.87      0.63      0.73      8869\n",
      "          TL       0.07      0.72      0.13       107\n",
      "          SL       0.58      0.68      0.62      2860\n",
      "           T       0.00      0.00      0.00         0\n",
      "          LS       0.40      0.19      0.25       135\n",
      "           S       0.00      0.00      0.00         0\n",
      "\n",
      "   micro avg       0.63      0.63      0.63     12153\n",
      "   macro avg       0.17      0.25      0.16     12153\n",
      "weighted avg       0.78      0.63      0.69     12153\n",
      "\n"
     ]
    }
   ],
   "source": [
    "print(\"Acc:\", accuracy_score(compare[\"b10\"], compare[\"soiltype_5-15cm\"]))\n",
    "print(\n",
    "    \"Kappa:\",\n",
    "    cohen_kappa_score(compare[\"b10\"], compare[\"soiltype_5-15cm\"], weights=\"linear\"),\n",
    ")\n",
    "print(\n",
    "    classification_report(\n",
    "        compare[\"b10\"],\n",
    "        compare[\"soiltype_5-15cm\"],\n",
    "        labels=labels.index,\n",
    "        target_names=labels.values,\n",
    "        zero_division=0,\n",
    "    )\n",
    ")"
   ]
  }
 ],
 "metadata": {
  "colab": {
   "collapsed_sections": [],
   "name": "0X - NASA Soil Moisture Time Series for Points.ipynb",
   "provenance": []
  },
  "kernelspec": {
   "display_name": "Python [conda env:miniconda3-refit_fvs]",
   "language": "python",
   "name": "conda-env-miniconda3-refit_fvs-py"
  },
  "language_info": {
   "codemirror_mode": {
    "name": "ipython",
    "version": 3
   },
   "file_extension": ".py",
   "mimetype": "text/x-python",
   "name": "python",
   "nbconvert_exporter": "python",
   "pygments_lexer": "ipython3",
   "version": "3.10.6"
  },
  "vscode": {
   "interpreter": {
    "hash": "9119bc58d768bfdd2f76799a1d93e337bddb836718d16466c18eaead93398f73"
   }
  },
  "widgets": {
   "application/vnd.jupyter.widget-state+json": {
    "31f547f778b24fe5b8444b3dacd7d5bb": {
     "model_module": "@jupyter-widgets/base",
     "model_module_version": "1.2.0",
     "model_name": "LayoutModel",
     "state": {
      "_model_module": "@jupyter-widgets/base",
      "_model_module_version": "1.2.0",
      "_model_name": "LayoutModel",
      "_view_count": null,
      "_view_module": "@jupyter-widgets/base",
      "_view_module_version": "1.2.0",
      "_view_name": "LayoutView",
      "align_content": null,
      "align_items": null,
      "align_self": null,
      "border": null,
      "bottom": null,
      "display": null,
      "flex": null,
      "flex_flow": null,
      "grid_area": null,
      "grid_auto_columns": null,
      "grid_auto_flow": null,
      "grid_auto_rows": null,
      "grid_column": null,
      "grid_gap": null,
      "grid_row": null,
      "grid_template_areas": null,
      "grid_template_columns": null,
      "grid_template_rows": null,
      "height": null,
      "justify_content": null,
      "justify_items": null,
      "left": null,
      "margin": null,
      "max_height": null,
      "max_width": null,
      "min_height": null,
      "min_width": null,
      "object_fit": null,
      "object_position": null,
      "order": null,
      "overflow": null,
      "overflow_x": null,
      "overflow_y": null,
      "padding": null,
      "right": null,
      "top": null,
      "visibility": null,
      "width": null
     }
    },
    "4352b8a59c5e47019fc5a994474e3718": {
     "model_module": "@jupyter-widgets/controls",
     "model_module_version": "1.5.0",
     "model_name": "HTMLModel",
     "state": {
      "_dom_classes": [],
      "_model_module": "@jupyter-widgets/controls",
      "_model_module_version": "1.5.0",
      "_model_name": "HTMLModel",
      "_view_count": null,
      "_view_module": "@jupyter-widgets/controls",
      "_view_module_version": "1.5.0",
      "_view_name": "HTMLView",
      "description": "",
      "description_tooltip": null,
      "layout": "IPY_MODEL_31f547f778b24fe5b8444b3dacd7d5bb",
      "placeholder": "​",
      "style": "IPY_MODEL_4b09fe373795443ab9c56100d2ead145",
      "value": " 10979/10979 [19:29&lt;00:00,  7.15it/s]"
     }
    },
    "4b09fe373795443ab9c56100d2ead145": {
     "model_module": "@jupyter-widgets/controls",
     "model_module_version": "1.5.0",
     "model_name": "DescriptionStyleModel",
     "state": {
      "_model_module": "@jupyter-widgets/controls",
      "_model_module_version": "1.5.0",
      "_model_name": "DescriptionStyleModel",
      "_view_count": null,
      "_view_module": "@jupyter-widgets/base",
      "_view_module_version": "1.2.0",
      "_view_name": "StyleView",
      "description_width": ""
     }
    },
    "532dee120fc74aa79108c912f4494fc2": {
     "model_module": "@jupyter-widgets/base",
     "model_module_version": "1.2.0",
     "model_name": "LayoutModel",
     "state": {
      "_model_module": "@jupyter-widgets/base",
      "_model_module_version": "1.2.0",
      "_model_name": "LayoutModel",
      "_view_count": null,
      "_view_module": "@jupyter-widgets/base",
      "_view_module_version": "1.2.0",
      "_view_name": "LayoutView",
      "align_content": null,
      "align_items": null,
      "align_self": null,
      "border": null,
      "bottom": null,
      "display": null,
      "flex": null,
      "flex_flow": null,
      "grid_area": null,
      "grid_auto_columns": null,
      "grid_auto_flow": null,
      "grid_auto_rows": null,
      "grid_column": null,
      "grid_gap": null,
      "grid_row": null,
      "grid_template_areas": null,
      "grid_template_columns": null,
      "grid_template_rows": null,
      "height": null,
      "justify_content": null,
      "justify_items": null,
      "left": null,
      "margin": null,
      "max_height": null,
      "max_width": null,
      "min_height": null,
      "min_width": null,
      "object_fit": null,
      "object_position": null,
      "order": null,
      "overflow": null,
      "overflow_x": null,
      "overflow_y": null,
      "padding": null,
      "right": null,
      "top": null,
      "visibility": null,
      "width": null
     }
    },
    "61aca79cc294497da0c14dbc501fb2e9": {
     "model_module": "@jupyter-widgets/base",
     "model_module_version": "1.2.0",
     "model_name": "LayoutModel",
     "state": {
      "_model_module": "@jupyter-widgets/base",
      "_model_module_version": "1.2.0",
      "_model_name": "LayoutModel",
      "_view_count": null,
      "_view_module": "@jupyter-widgets/base",
      "_view_module_version": "1.2.0",
      "_view_name": "LayoutView",
      "align_content": null,
      "align_items": null,
      "align_self": null,
      "border": null,
      "bottom": null,
      "display": null,
      "flex": null,
      "flex_flow": null,
      "grid_area": null,
      "grid_auto_columns": null,
      "grid_auto_flow": null,
      "grid_auto_rows": null,
      "grid_column": null,
      "grid_gap": null,
      "grid_row": null,
      "grid_template_areas": null,
      "grid_template_columns": null,
      "grid_template_rows": null,
      "height": null,
      "justify_content": null,
      "justify_items": null,
      "left": null,
      "margin": null,
      "max_height": null,
      "max_width": null,
      "min_height": null,
      "min_width": null,
      "object_fit": null,
      "object_position": null,
      "order": null,
      "overflow": null,
      "overflow_x": null,
      "overflow_y": null,
      "padding": null,
      "right": null,
      "top": null,
      "visibility": null,
      "width": null
     }
    },
    "78124d116aa748759d88411f39dc0a3c": {
     "model_module": "@jupyter-widgets/controls",
     "model_module_version": "1.5.0",
     "model_name": "HTMLModel",
     "state": {
      "_dom_classes": [],
      "_model_module": "@jupyter-widgets/controls",
      "_model_module_version": "1.5.0",
      "_model_name": "HTMLModel",
      "_view_count": null,
      "_view_module": "@jupyter-widgets/controls",
      "_view_module_version": "1.5.0",
      "_view_name": "HTMLView",
      "description": "",
      "description_tooltip": null,
      "layout": "IPY_MODEL_61aca79cc294497da0c14dbc501fb2e9",
      "placeholder": "​",
      "style": "IPY_MODEL_bb1254955a2945248a52ed1268ed91fb",
      "value": "100%"
     }
    },
    "b925b2dee56f4d49b96e7aca7361a60e": {
     "model_module": "@jupyter-widgets/base",
     "model_module_version": "1.2.0",
     "model_name": "LayoutModel",
     "state": {
      "_model_module": "@jupyter-widgets/base",
      "_model_module_version": "1.2.0",
      "_model_name": "LayoutModel",
      "_view_count": null,
      "_view_module": "@jupyter-widgets/base",
      "_view_module_version": "1.2.0",
      "_view_name": "LayoutView",
      "align_content": null,
      "align_items": null,
      "align_self": null,
      "border": null,
      "bottom": null,
      "display": null,
      "flex": null,
      "flex_flow": null,
      "grid_area": null,
      "grid_auto_columns": null,
      "grid_auto_flow": null,
      "grid_auto_rows": null,
      "grid_column": null,
      "grid_gap": null,
      "grid_row": null,
      "grid_template_areas": null,
      "grid_template_columns": null,
      "grid_template_rows": null,
      "height": null,
      "justify_content": null,
      "justify_items": null,
      "left": null,
      "margin": null,
      "max_height": null,
      "max_width": null,
      "min_height": null,
      "min_width": null,
      "object_fit": null,
      "object_position": null,
      "order": null,
      "overflow": null,
      "overflow_x": null,
      "overflow_y": null,
      "padding": null,
      "right": null,
      "top": null,
      "visibility": null,
      "width": null
     }
    },
    "bb1254955a2945248a52ed1268ed91fb": {
     "model_module": "@jupyter-widgets/controls",
     "model_module_version": "1.5.0",
     "model_name": "DescriptionStyleModel",
     "state": {
      "_model_module": "@jupyter-widgets/controls",
      "_model_module_version": "1.5.0",
      "_model_name": "DescriptionStyleModel",
      "_view_count": null,
      "_view_module": "@jupyter-widgets/base",
      "_view_module_version": "1.2.0",
      "_view_name": "StyleView",
      "description_width": ""
     }
    },
    "e76579a9fea945a699261f01ccba3002": {
     "model_module": "@jupyter-widgets/controls",
     "model_module_version": "1.5.0",
     "model_name": "ProgressStyleModel",
     "state": {
      "_model_module": "@jupyter-widgets/controls",
      "_model_module_version": "1.5.0",
      "_model_name": "ProgressStyleModel",
      "_view_count": null,
      "_view_module": "@jupyter-widgets/base",
      "_view_module_version": "1.2.0",
      "_view_name": "StyleView",
      "bar_color": null,
      "description_width": ""
     }
    },
    "e780cab5ba14411cac2d893d82f45a2d": {
     "model_module": "@jupyter-widgets/controls",
     "model_module_version": "1.5.0",
     "model_name": "FloatProgressModel",
     "state": {
      "_dom_classes": [],
      "_model_module": "@jupyter-widgets/controls",
      "_model_module_version": "1.5.0",
      "_model_name": "FloatProgressModel",
      "_view_count": null,
      "_view_module": "@jupyter-widgets/controls",
      "_view_module_version": "1.5.0",
      "_view_name": "ProgressView",
      "bar_style": "success",
      "description": "",
      "description_tooltip": null,
      "layout": "IPY_MODEL_b925b2dee56f4d49b96e7aca7361a60e",
      "max": 10979,
      "min": 0,
      "orientation": "horizontal",
      "style": "IPY_MODEL_e76579a9fea945a699261f01ccba3002",
      "value": 10979
     }
    },
    "eac0872799ce4fff8145b0d4b55076d3": {
     "model_module": "@jupyter-widgets/controls",
     "model_module_version": "1.5.0",
     "model_name": "HBoxModel",
     "state": {
      "_dom_classes": [],
      "_model_module": "@jupyter-widgets/controls",
      "_model_module_version": "1.5.0",
      "_model_name": "HBoxModel",
      "_view_count": null,
      "_view_module": "@jupyter-widgets/controls",
      "_view_module_version": "1.5.0",
      "_view_name": "HBoxView",
      "box_style": "",
      "children": [
       "IPY_MODEL_78124d116aa748759d88411f39dc0a3c",
       "IPY_MODEL_e780cab5ba14411cac2d893d82f45a2d",
       "IPY_MODEL_4352b8a59c5e47019fc5a994474e3718"
      ],
      "layout": "IPY_MODEL_532dee120fc74aa79108c912f4494fc2"
     }
    }
   }
  }
 },
 "nbformat": 4,
 "nbformat_minor": 4
}
