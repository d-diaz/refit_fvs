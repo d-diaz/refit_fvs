{
 "cells": [
  {
   "cell_type": "code",
   "execution_count": 1,
   "id": "0e392d45-86b1-4de8-9748-0086f5e40d46",
   "metadata": {},
   "outputs": [],
   "source": [
    "import pandas as pd\n",
    "import os\n",
    "import numpyro\n",
    "from refit_fvs.data.load import fia_for_diameter_growth_modeling\n",
    "from refit_fvs.models.fit import fit_wykoff, fit_simpler_wykoff"
   ]
  },
  {
   "cell_type": "code",
   "execution_count": 2,
   "id": "b75769a8-46d8-421b-bc3f-f65be4f20168",
   "metadata": {},
   "outputs": [],
   "source": [
    "os.environ[\"XLA_PYTHON_CLIENT_MEM_FRACTION\"] = \"0.75\"\n",
    "numpyro.set_platform(\"gpu\")\n",
    "numpyro.set_host_device_count(3)"
   ]
  },
  {
   "cell_type": "code",
   "execution_count": 3,
   "id": "7b53fd2c-6f42-4c4f-bb9f-10e93ed904d2",
   "metadata": {},
   "outputs": [],
   "source": [
    "BARK_B0 = 0.0\n",
    "BARK_B1 = 0.809427\n",
    "BARK_B2 = 1.016866\n",
    "NUM_CYCLES = 2\n",
    "LOC_RANDOM = True\n",
    "PLOT_RANDOM = True\n",
    "CHECKPOINT_DIR = \"../../models/mcmc/checkpoints/wykoff/multichain/PP/\"\n",
    "NUM_WARMUP = 1000\n",
    "NUM_SAMPLES = 1000\n",
    "NUM_CHAINS = 3\n",
    "CHAIN_METHOD = \"parallel\"\n",
    "NUM_BATCHES = 3\n",
    "SEED = 42\n",
    "PROGRESS_BAR = True\n",
    "OVERWRITE = False"
   ]
  },
  {
   "cell_type": "code",
   "execution_count": 4,
   "id": "3f43e10f-90ba-4806-8945-e7bde2cf8dac",
   "metadata": {},
   "outputs": [
    {
     "data": {
      "text/html": [
       "<div>\n",
       "<style scoped>\n",
       "    .dataframe tbody tr th:only-of-type {\n",
       "        vertical-align: middle;\n",
       "    }\n",
       "\n",
       "    .dataframe tbody tr th {\n",
       "        vertical-align: top;\n",
       "    }\n",
       "\n",
       "    .dataframe thead th {\n",
       "        text-align: right;\n",
       "    }\n",
       "</style>\n",
       "<table border=\"1\" class=\"dataframe\">\n",
       "  <thead>\n",
       "    <tr style=\"text-align: right;\">\n",
       "      <th></th>\n",
       "      <th>LOCATION</th>\n",
       "      <th>PLOT_ID</th>\n",
       "      <th>FIA_SPCD</th>\n",
       "      <th>SICOND</th>\n",
       "      <th>SLOPE</th>\n",
       "      <th>ASPECT</th>\n",
       "      <th>ELEV</th>\n",
       "      <th>DBH</th>\n",
       "      <th>CR</th>\n",
       "      <th>CR_NEXT</th>\n",
       "      <th>BAPALARGER</th>\n",
       "      <th>BAPALARGER_NEXT</th>\n",
       "      <th>RELHT</th>\n",
       "      <th>RELHT_NEXT</th>\n",
       "      <th>PTBAPA</th>\n",
       "      <th>PTBAPA_NEXT</th>\n",
       "      <th>PTCCF</th>\n",
       "      <th>PTCCF_NEXT</th>\n",
       "      <th>DBH_NEXT</th>\n",
       "      <th>INC5YR</th>\n",
       "      <th>INC10YR</th>\n",
       "      <th>MEASYEAR</th>\n",
       "      <th>MEASMON</th>\n",
       "      <th>MEASYEAR_NEXT</th>\n",
       "      <th>MEASMON_NEXT</th>\n",
       "      <th>MEAS_INTERVAL</th>\n",
       "      <th>VAR_IDX</th>\n",
       "      <th>LOC_IDX</th>\n",
       "      <th>PLOT_IDX</th>\n",
       "    </tr>\n",
       "  </thead>\n",
       "  <tbody>\n",
       "    <tr>\n",
       "      <th>count</th>\n",
       "      <td>44004.000000</td>\n",
       "      <td>4.400400e+04</td>\n",
       "      <td>44004.0</td>\n",
       "      <td>44004.000000</td>\n",
       "      <td>44004.000000</td>\n",
       "      <td>44004.000000</td>\n",
       "      <td>44004.000000</td>\n",
       "      <td>44004.000000</td>\n",
       "      <td>44004.000000</td>\n",
       "      <td>44004.000000</td>\n",
       "      <td>44004.000000</td>\n",
       "      <td>44004.000000</td>\n",
       "      <td>44004.000000</td>\n",
       "      <td>44004.000000</td>\n",
       "      <td>44004.000000</td>\n",
       "      <td>44004.000000</td>\n",
       "      <td>44004.000000</td>\n",
       "      <td>44004.000000</td>\n",
       "      <td>44004.000000</td>\n",
       "      <td>1792.000000</td>\n",
       "      <td>1793.000000</td>\n",
       "      <td>44004.000000</td>\n",
       "      <td>44004.000000</td>\n",
       "      <td>44004.000000</td>\n",
       "      <td>44004.000000</td>\n",
       "      <td>44004.0</td>\n",
       "      <td>44004.000000</td>\n",
       "      <td>44004.000000</td>\n",
       "      <td>44004.000000</td>\n",
       "    </tr>\n",
       "    <tr>\n",
       "      <th>mean</th>\n",
       "      <td>611.572289</td>\n",
       "      <td>4.135238e+11</td>\n",
       "      <td>202.0</td>\n",
       "      <td>107.537269</td>\n",
       "      <td>0.396728</td>\n",
       "      <td>3.113367</td>\n",
       "      <td>27.396873</td>\n",
       "      <td>18.093626</td>\n",
       "      <td>0.507977</td>\n",
       "      <td>0.442950</td>\n",
       "      <td>23.544359</td>\n",
       "      <td>28.285925</td>\n",
       "      <td>1.100986</td>\n",
       "      <td>1.029960</td>\n",
       "      <td>50.809383</td>\n",
       "      <td>62.033302</td>\n",
       "      <td>58.965612</td>\n",
       "      <td>71.159808</td>\n",
       "      <td>19.711544</td>\n",
       "      <td>0.306948</td>\n",
       "      <td>0.663915</td>\n",
       "      <td>2005.287974</td>\n",
       "      <td>7.782633</td>\n",
       "      <td>2015.287974</td>\n",
       "      <td>7.243069</td>\n",
       "      <td>10.0</td>\n",
       "      <td>3.432733</td>\n",
       "      <td>18.706254</td>\n",
       "      <td>2784.075107</td>\n",
       "    </tr>\n",
       "    <tr>\n",
       "      <th>std</th>\n",
       "      <td>58.665323</td>\n",
       "      <td>1.343852e+11</td>\n",
       "      <td>0.0</td>\n",
       "      <td>40.240102</td>\n",
       "      <td>0.244975</td>\n",
       "      <td>1.865905</td>\n",
       "      <td>14.415495</td>\n",
       "      <td>13.199009</td>\n",
       "      <td>0.204041</td>\n",
       "      <td>0.183785</td>\n",
       "      <td>23.014544</td>\n",
       "      <td>25.696194</td>\n",
       "      <td>0.290522</td>\n",
       "      <td>0.349375</td>\n",
       "      <td>32.605045</td>\n",
       "      <td>32.958365</td>\n",
       "      <td>33.706842</td>\n",
       "      <td>35.455430</td>\n",
       "      <td>13.089013</td>\n",
       "      <td>0.257035</td>\n",
       "      <td>0.553666</td>\n",
       "      <td>2.514927</td>\n",
       "      <td>1.921593</td>\n",
       "      <td>2.514927</td>\n",
       "      <td>1.918564</td>\n",
       "      <td>0.0</td>\n",
       "      <td>1.990512</td>\n",
       "      <td>11.692257</td>\n",
       "      <td>1526.505267</td>\n",
       "    </tr>\n",
       "    <tr>\n",
       "      <th>min</th>\n",
       "      <td>113.000000</td>\n",
       "      <td>6.010155e+10</td>\n",
       "      <td>202.0</td>\n",
       "      <td>19.000000</td>\n",
       "      <td>0.000000</td>\n",
       "      <td>0.000000</td>\n",
       "      <td>1.000000</td>\n",
       "      <td>5.000000</td>\n",
       "      <td>0.020000</td>\n",
       "      <td>0.000000</td>\n",
       "      <td>0.000000</td>\n",
       "      <td>0.000000</td>\n",
       "      <td>0.000000</td>\n",
       "      <td>0.000000</td>\n",
       "      <td>0.820561</td>\n",
       "      <td>1.390836</td>\n",
       "      <td>1.077069</td>\n",
       "      <td>1.483576</td>\n",
       "      <td>5.000000</td>\n",
       "      <td>0.050000</td>\n",
       "      <td>0.050000</td>\n",
       "      <td>2001.000000</td>\n",
       "      <td>1.000000</td>\n",
       "      <td>2011.000000</td>\n",
       "      <td>3.000000</td>\n",
       "      <td>10.0</td>\n",
       "      <td>0.000000</td>\n",
       "      <td>0.000000</td>\n",
       "      <td>0.000000</td>\n",
       "    </tr>\n",
       "    <tr>\n",
       "      <th>25%</th>\n",
       "      <td>606.000000</td>\n",
       "      <td>4.101040e+11</td>\n",
       "      <td>202.0</td>\n",
       "      <td>72.000000</td>\n",
       "      <td>0.200000</td>\n",
       "      <td>1.570796</td>\n",
       "      <td>15.000000</td>\n",
       "      <td>8.000000</td>\n",
       "      <td>0.350000</td>\n",
       "      <td>0.300000</td>\n",
       "      <td>6.250702</td>\n",
       "      <td>8.507900</td>\n",
       "      <td>0.905688</td>\n",
       "      <td>0.741703</td>\n",
       "      <td>26.579099</td>\n",
       "      <td>38.957292</td>\n",
       "      <td>33.705233</td>\n",
       "      <td>45.112307</td>\n",
       "      <td>9.900000</td>\n",
       "      <td>0.100000</td>\n",
       "      <td>0.250000</td>\n",
       "      <td>2003.000000</td>\n",
       "      <td>6.000000</td>\n",
       "      <td>2013.000000</td>\n",
       "      <td>6.000000</td>\n",
       "      <td>10.0</td>\n",
       "      <td>3.000000</td>\n",
       "      <td>8.000000</td>\n",
       "      <td>1336.000000</td>\n",
       "    </tr>\n",
       "    <tr>\n",
       "      <th>50%</th>\n",
       "      <td>612.000000</td>\n",
       "      <td>4.102020e+11</td>\n",
       "      <td>202.0</td>\n",
       "      <td>109.000000</td>\n",
       "      <td>0.380000</td>\n",
       "      <td>3.228859</td>\n",
       "      <td>29.000000</td>\n",
       "      <td>12.400000</td>\n",
       "      <td>0.470000</td>\n",
       "      <td>0.400000</td>\n",
       "      <td>17.661089</td>\n",
       "      <td>22.828487</td>\n",
       "      <td>1.046947</td>\n",
       "      <td>0.955421</td>\n",
       "      <td>44.119917</td>\n",
       "      <td>55.914967</td>\n",
       "      <td>52.993950</td>\n",
       "      <td>67.002652</td>\n",
       "      <td>14.300000</td>\n",
       "      <td>0.200000</td>\n",
       "      <td>0.500000</td>\n",
       "      <td>2005.000000</td>\n",
       "      <td>8.000000</td>\n",
       "      <td>2015.000000</td>\n",
       "      <td>7.000000</td>\n",
       "      <td>10.0</td>\n",
       "      <td>3.000000</td>\n",
       "      <td>22.000000</td>\n",
       "      <td>3075.000000</td>\n",
       "    </tr>\n",
       "    <tr>\n",
       "      <th>75%</th>\n",
       "      <td>618.000000</td>\n",
       "      <td>5.306032e+11</td>\n",
       "      <td>202.0</td>\n",
       "      <td>139.000000</td>\n",
       "      <td>0.600000</td>\n",
       "      <td>4.694936</td>\n",
       "      <td>37.000000</td>\n",
       "      <td>26.700000</td>\n",
       "      <td>0.650000</td>\n",
       "      <td>0.550000</td>\n",
       "      <td>34.310949</td>\n",
       "      <td>41.720336</td>\n",
       "      <td>1.422850</td>\n",
       "      <td>1.500000</td>\n",
       "      <td>67.750215</td>\n",
       "      <td>78.748541</td>\n",
       "      <td>78.586568</td>\n",
       "      <td>91.555072</td>\n",
       "      <td>28.200000</td>\n",
       "      <td>0.450000</td>\n",
       "      <td>0.900000</td>\n",
       "      <td>2008.000000</td>\n",
       "      <td>9.000000</td>\n",
       "      <td>2018.000000</td>\n",
       "      <td>9.000000</td>\n",
       "      <td>10.0</td>\n",
       "      <td>4.000000</td>\n",
       "      <td>29.000000</td>\n",
       "      <td>4067.000000</td>\n",
       "    </tr>\n",
       "    <tr>\n",
       "      <th>max</th>\n",
       "      <td>800.000000</td>\n",
       "      <td>5.309072e+11</td>\n",
       "      <td>202.0</td>\n",
       "      <td>223.000000</td>\n",
       "      <td>1.550000</td>\n",
       "      <td>6.283185</td>\n",
       "      <td>77.000000</td>\n",
       "      <td>97.500000</td>\n",
       "      <td>0.990000</td>\n",
       "      <td>0.990000</td>\n",
       "      <td>192.072540</td>\n",
       "      <td>206.038192</td>\n",
       "      <td>1.500000</td>\n",
       "      <td>1.500000</td>\n",
       "      <td>221.177261</td>\n",
       "      <td>359.861708</td>\n",
       "      <td>371.317161</td>\n",
       "      <td>387.058402</td>\n",
       "      <td>98.300000</td>\n",
       "      <td>1.550000</td>\n",
       "      <td>3.250000</td>\n",
       "      <td>2009.000000</td>\n",
       "      <td>12.000000</td>\n",
       "      <td>2019.000000</td>\n",
       "      <td>12.000000</td>\n",
       "      <td>10.0</td>\n",
       "      <td>8.000000</td>\n",
       "      <td>43.000000</td>\n",
       "      <td>5383.000000</td>\n",
       "    </tr>\n",
       "  </tbody>\n",
       "</table>\n",
       "</div>"
      ],
      "text/plain": [
       "           LOCATION       PLOT_ID  ...       LOC_IDX      PLOT_IDX\n",
       "count  44004.000000  4.400400e+04  ...  44004.000000  44004.000000\n",
       "mean     611.572289  4.135238e+11  ...     18.706254   2784.075107\n",
       "std       58.665323  1.343852e+11  ...     11.692257   1526.505267\n",
       "min      113.000000  6.010155e+10  ...      0.000000      0.000000\n",
       "25%      606.000000  4.101040e+11  ...      8.000000   1336.000000\n",
       "50%      612.000000  4.102020e+11  ...     22.000000   3075.000000\n",
       "75%      618.000000  5.306032e+11  ...     29.000000   4067.000000\n",
       "max      800.000000  5.309072e+11  ...     43.000000   5383.000000\n",
       "\n",
       "[8 rows x 29 columns]"
      ]
     },
     "execution_count": 4,
     "metadata": {},
     "output_type": "execute_result"
    }
   ],
   "source": [
    "data, factors = fia_for_diameter_growth_modeling(\n",
    "    path=\"../../data/interim/FIA_remeasured_trees_for_training.csv\",\n",
    "    filter_spp=[122]\n",
    ")\n",
    "obs_variants, obs_locations, obs_plots = factors\n",
    "data.describe()"
   ]
  },
  {
   "cell_type": "code",
   "execution_count": 5,
   "id": "fa6efd78-c55b-4fd6-8bb7-b065e7411842",
   "metadata": {},
   "outputs": [
    {
     "name": "stdout",
     "output_type": "stream",
     "text": [
      "wykoff_unpooled_mixed_bal-ba\n",
      "Already done.\n",
      "MCMC saved at ../../models/mcmc/checkpoints/wykoff/multichain/DF/wykoff_unpooled_mixed_bal-ba_batch02_mcmc.pkl\n",
      "wykoff_unpooled_mixed_bal-lnba\n",
      "wykoff_unpooled_mixed_bal-lnba_batch00\n"
     ]
    },
    {
     "name": "stderr",
     "output_type": "stream",
     "text": [
      "/opt/miniconda3/envs/refit_fvs/lib/python3.10/site-packages/jax/linear_util.py:168: UserWarning: We will disable progress bar because it does not work yet on multi-GPUs platforms.\n",
      "  ans = self.f(*args, **dict(self.params, **kwargs))\n"
     ]
    },
    {
     "name": "stdout",
     "output_type": "stream",
     "text": [
      "wykoff_unpooled_mixed_bal-lnba_batch01\n"
     ]
    },
    {
     "name": "stderr",
     "output_type": "stream",
     "text": [
      "/opt/miniconda3/envs/refit_fvs/lib/python3.10/site-packages/jax/linear_util.py:168: UserWarning: We will disable progress bar because it does not work yet on multi-GPUs platforms.\n",
      "  ans = self.f(*args, **dict(self.params, **kwargs))\n"
     ]
    },
    {
     "name": "stdout",
     "output_type": "stream",
     "text": [
      "wykoff_unpooled_mixed_bal-lnba_batch02\n"
     ]
    },
    {
     "name": "stderr",
     "output_type": "stream",
     "text": [
      "/opt/miniconda3/envs/refit_fvs/lib/python3.10/site-packages/jax/linear_util.py:168: UserWarning: We will disable progress bar because it does not work yet on multi-GPUs platforms.\n",
      "  ans = self.f(*args, **dict(self.params, **kwargs))\n"
     ]
    },
    {
     "name": "stdout",
     "output_type": "stream",
     "text": [
      "Done.\n",
      "Samples saved at ../../models/mcmc/checkpoints/wykoff/multichain/DF//wykoff_unpooled_mixed_bal-lnba_batch02.pkl\n",
      "MCMC saved at ../../models/mcmc/checkpoints/wykoff/multichain/DF//wykoff_unpooled_mixed_bal-lnba_batch02_mcmc.pkl\n",
      "wykoff_unpooled_mixed_bal-ccf\n",
      "wykoff_unpooled_mixed_bal-ccf_batch00\n"
     ]
    },
    {
     "name": "stderr",
     "output_type": "stream",
     "text": [
      "/opt/miniconda3/envs/refit_fvs/lib/python3.10/site-packages/jax/linear_util.py:168: UserWarning: We will disable progress bar because it does not work yet on multi-GPUs platforms.\n",
      "  ans = self.f(*args, **dict(self.params, **kwargs))\n"
     ]
    },
    {
     "name": "stdout",
     "output_type": "stream",
     "text": [
      "wykoff_unpooled_mixed_bal-ccf_batch01\n"
     ]
    },
    {
     "name": "stderr",
     "output_type": "stream",
     "text": [
      "/opt/miniconda3/envs/refit_fvs/lib/python3.10/site-packages/jax/linear_util.py:168: UserWarning: We will disable progress bar because it does not work yet on multi-GPUs platforms.\n",
      "  ans = self.f(*args, **dict(self.params, **kwargs))\n"
     ]
    },
    {
     "name": "stdout",
     "output_type": "stream",
     "text": [
      "wykoff_unpooled_mixed_bal-ccf_batch02\n"
     ]
    },
    {
     "name": "stderr",
     "output_type": "stream",
     "text": [
      "/opt/miniconda3/envs/refit_fvs/lib/python3.10/site-packages/jax/linear_util.py:168: UserWarning: We will disable progress bar because it does not work yet on multi-GPUs platforms.\n",
      "  ans = self.f(*args, **dict(self.params, **kwargs))\n"
     ]
    },
    {
     "name": "stdout",
     "output_type": "stream",
     "text": [
      "Done.\n",
      "Samples saved at ../../models/mcmc/checkpoints/wykoff/multichain/DF//wykoff_unpooled_mixed_bal-ccf_batch02.pkl\n",
      "MCMC saved at ../../models/mcmc/checkpoints/wykoff/multichain/DF//wykoff_unpooled_mixed_bal-ccf_batch02_mcmc.pkl\n",
      "wykoff_unpooled_mixed_relht-ba\n",
      "wykoff_unpooled_mixed_relht-ba_batch00\n"
     ]
    },
    {
     "name": "stderr",
     "output_type": "stream",
     "text": [
      "/opt/miniconda3/envs/refit_fvs/lib/python3.10/site-packages/jax/linear_util.py:168: UserWarning: We will disable progress bar because it does not work yet on multi-GPUs platforms.\n",
      "  ans = self.f(*args, **dict(self.params, **kwargs))\n"
     ]
    },
    {
     "name": "stdout",
     "output_type": "stream",
     "text": [
      "wykoff_unpooled_mixed_relht-ba_batch01\n"
     ]
    },
    {
     "name": "stderr",
     "output_type": "stream",
     "text": [
      "/opt/miniconda3/envs/refit_fvs/lib/python3.10/site-packages/jax/linear_util.py:168: UserWarning: We will disable progress bar because it does not work yet on multi-GPUs platforms.\n",
      "  ans = self.f(*args, **dict(self.params, **kwargs))\n"
     ]
    },
    {
     "name": "stdout",
     "output_type": "stream",
     "text": [
      "wykoff_unpooled_mixed_relht-ba_batch02\n"
     ]
    },
    {
     "name": "stderr",
     "output_type": "stream",
     "text": [
      "/opt/miniconda3/envs/refit_fvs/lib/python3.10/site-packages/jax/linear_util.py:168: UserWarning: We will disable progress bar because it does not work yet on multi-GPUs platforms.\n",
      "  ans = self.f(*args, **dict(self.params, **kwargs))\n"
     ]
    },
    {
     "name": "stdout",
     "output_type": "stream",
     "text": [
      "Done.\n",
      "Samples saved at ../../models/mcmc/checkpoints/wykoff/multichain/DF//wykoff_unpooled_mixed_relht-ba_batch02.pkl\n",
      "MCMC saved at ../../models/mcmc/checkpoints/wykoff/multichain/DF//wykoff_unpooled_mixed_relht-ba_batch02_mcmc.pkl\n",
      "wykoff_unpooled_mixed_relht-lnba\n",
      "wykoff_unpooled_mixed_relht-lnba_batch00\n"
     ]
    },
    {
     "name": "stderr",
     "output_type": "stream",
     "text": [
      "/opt/miniconda3/envs/refit_fvs/lib/python3.10/site-packages/jax/linear_util.py:168: UserWarning: We will disable progress bar because it does not work yet on multi-GPUs platforms.\n",
      "  ans = self.f(*args, **dict(self.params, **kwargs))\n"
     ]
    },
    {
     "name": "stdout",
     "output_type": "stream",
     "text": [
      "wykoff_unpooled_mixed_relht-lnba_batch01\n"
     ]
    },
    {
     "name": "stderr",
     "output_type": "stream",
     "text": [
      "/opt/miniconda3/envs/refit_fvs/lib/python3.10/site-packages/jax/linear_util.py:168: UserWarning: We will disable progress bar because it does not work yet on multi-GPUs platforms.\n",
      "  ans = self.f(*args, **dict(self.params, **kwargs))\n"
     ]
    },
    {
     "name": "stdout",
     "output_type": "stream",
     "text": [
      "wykoff_unpooled_mixed_relht-lnba_batch02\n"
     ]
    },
    {
     "name": "stderr",
     "output_type": "stream",
     "text": [
      "/opt/miniconda3/envs/refit_fvs/lib/python3.10/site-packages/jax/linear_util.py:168: UserWarning: We will disable progress bar because it does not work yet on multi-GPUs platforms.\n",
      "  ans = self.f(*args, **dict(self.params, **kwargs))\n"
     ]
    },
    {
     "name": "stdout",
     "output_type": "stream",
     "text": [
      "Done.\n",
      "Samples saved at ../../models/mcmc/checkpoints/wykoff/multichain/DF//wykoff_unpooled_mixed_relht-lnba_batch02.pkl\n",
      "MCMC saved at ../../models/mcmc/checkpoints/wykoff/multichain/DF//wykoff_unpooled_mixed_relht-lnba_batch02_mcmc.pkl\n",
      "wykoff_unpooled_mixed_relht-ccf\n",
      "wykoff_unpooled_mixed_relht-ccf_batch00\n"
     ]
    },
    {
     "name": "stderr",
     "output_type": "stream",
     "text": [
      "/opt/miniconda3/envs/refit_fvs/lib/python3.10/site-packages/jax/linear_util.py:168: UserWarning: We will disable progress bar because it does not work yet on multi-GPUs platforms.\n",
      "  ans = self.f(*args, **dict(self.params, **kwargs))\n"
     ]
    },
    {
     "name": "stdout",
     "output_type": "stream",
     "text": [
      "wykoff_unpooled_mixed_relht-ccf_batch01\n"
     ]
    },
    {
     "name": "stderr",
     "output_type": "stream",
     "text": [
      "/opt/miniconda3/envs/refit_fvs/lib/python3.10/site-packages/jax/linear_util.py:168: UserWarning: We will disable progress bar because it does not work yet on multi-GPUs platforms.\n",
      "  ans = self.f(*args, **dict(self.params, **kwargs))\n"
     ]
    },
    {
     "name": "stdout",
     "output_type": "stream",
     "text": [
      "wykoff_unpooled_mixed_relht-ccf_batch02\n"
     ]
    },
    {
     "name": "stderr",
     "output_type": "stream",
     "text": [
      "/opt/miniconda3/envs/refit_fvs/lib/python3.10/site-packages/jax/linear_util.py:168: UserWarning: We will disable progress bar because it does not work yet on multi-GPUs platforms.\n",
      "  ans = self.f(*args, **dict(self.params, **kwargs))\n"
     ]
    },
    {
     "name": "stdout",
     "output_type": "stream",
     "text": [
      "Done.\n",
      "Samples saved at ../../models/mcmc/checkpoints/wykoff/multichain/DF//wykoff_unpooled_mixed_relht-ccf_batch02.pkl\n",
      "MCMC saved at ../../models/mcmc/checkpoints/wykoff/multichain/DF//wykoff_unpooled_mixed_relht-ccf_batch02_mcmc.pkl\n",
      "wykoff_unpooled_mixed_ballndbh-ba\n",
      "wykoff_unpooled_mixed_ballndbh-ba_batch00\n"
     ]
    },
    {
     "name": "stderr",
     "output_type": "stream",
     "text": [
      "/opt/miniconda3/envs/refit_fvs/lib/python3.10/site-packages/jax/linear_util.py:168: UserWarning: We will disable progress bar because it does not work yet on multi-GPUs platforms.\n",
      "  ans = self.f(*args, **dict(self.params, **kwargs))\n"
     ]
    },
    {
     "name": "stdout",
     "output_type": "stream",
     "text": [
      "wykoff_unpooled_mixed_ballndbh-ba_batch01\n"
     ]
    },
    {
     "name": "stderr",
     "output_type": "stream",
     "text": [
      "/opt/miniconda3/envs/refit_fvs/lib/python3.10/site-packages/jax/linear_util.py:168: UserWarning: We will disable progress bar because it does not work yet on multi-GPUs platforms.\n",
      "  ans = self.f(*args, **dict(self.params, **kwargs))\n"
     ]
    },
    {
     "name": "stdout",
     "output_type": "stream",
     "text": [
      "wykoff_unpooled_mixed_ballndbh-ba_batch02\n"
     ]
    },
    {
     "name": "stderr",
     "output_type": "stream",
     "text": [
      "/opt/miniconda3/envs/refit_fvs/lib/python3.10/site-packages/jax/linear_util.py:168: UserWarning: We will disable progress bar because it does not work yet on multi-GPUs platforms.\n",
      "  ans = self.f(*args, **dict(self.params, **kwargs))\n"
     ]
    },
    {
     "name": "stdout",
     "output_type": "stream",
     "text": [
      "Done.\n",
      "Samples saved at ../../models/mcmc/checkpoints/wykoff/multichain/DF//wykoff_unpooled_mixed_ballndbh-ba_batch02.pkl\n",
      "MCMC saved at ../../models/mcmc/checkpoints/wykoff/multichain/DF//wykoff_unpooled_mixed_ballndbh-ba_batch02_mcmc.pkl\n",
      "wykoff_unpooled_mixed_ballndbh-lnba\n",
      "wykoff_unpooled_mixed_ballndbh-lnba_batch00\n"
     ]
    },
    {
     "name": "stderr",
     "output_type": "stream",
     "text": [
      "/opt/miniconda3/envs/refit_fvs/lib/python3.10/site-packages/jax/linear_util.py:168: UserWarning: We will disable progress bar because it does not work yet on multi-GPUs platforms.\n",
      "  ans = self.f(*args, **dict(self.params, **kwargs))\n"
     ]
    },
    {
     "name": "stdout",
     "output_type": "stream",
     "text": [
      "wykoff_unpooled_mixed_ballndbh-lnba_batch01\n"
     ]
    },
    {
     "name": "stderr",
     "output_type": "stream",
     "text": [
      "/opt/miniconda3/envs/refit_fvs/lib/python3.10/site-packages/jax/linear_util.py:168: UserWarning: We will disable progress bar because it does not work yet on multi-GPUs platforms.\n",
      "  ans = self.f(*args, **dict(self.params, **kwargs))\n"
     ]
    },
    {
     "name": "stdout",
     "output_type": "stream",
     "text": [
      "wykoff_unpooled_mixed_ballndbh-lnba_batch02\n"
     ]
    },
    {
     "name": "stderr",
     "output_type": "stream",
     "text": [
      "/opt/miniconda3/envs/refit_fvs/lib/python3.10/site-packages/jax/linear_util.py:168: UserWarning: We will disable progress bar because it does not work yet on multi-GPUs platforms.\n",
      "  ans = self.f(*args, **dict(self.params, **kwargs))\n"
     ]
    },
    {
     "name": "stdout",
     "output_type": "stream",
     "text": [
      "Done.\n",
      "Samples saved at ../../models/mcmc/checkpoints/wykoff/multichain/DF//wykoff_unpooled_mixed_ballndbh-lnba_batch02.pkl\n",
      "MCMC saved at ../../models/mcmc/checkpoints/wykoff/multichain/DF//wykoff_unpooled_mixed_ballndbh-lnba_batch02_mcmc.pkl\n",
      "wykoff_unpooled_mixed_ballndbh-ccf\n",
      "wykoff_unpooled_mixed_ballndbh-ccf_batch00\n"
     ]
    },
    {
     "name": "stderr",
     "output_type": "stream",
     "text": [
      "/opt/miniconda3/envs/refit_fvs/lib/python3.10/site-packages/jax/linear_util.py:168: UserWarning: We will disable progress bar because it does not work yet on multi-GPUs platforms.\n",
      "  ans = self.f(*args, **dict(self.params, **kwargs))\n"
     ]
    },
    {
     "name": "stdout",
     "output_type": "stream",
     "text": [
      "wykoff_unpooled_mixed_ballndbh-ccf_batch01\n"
     ]
    },
    {
     "name": "stderr",
     "output_type": "stream",
     "text": [
      "/opt/miniconda3/envs/refit_fvs/lib/python3.10/site-packages/jax/linear_util.py:168: UserWarning: We will disable progress bar because it does not work yet on multi-GPUs platforms.\n",
      "  ans = self.f(*args, **dict(self.params, **kwargs))\n"
     ]
    },
    {
     "name": "stdout",
     "output_type": "stream",
     "text": [
      "wykoff_unpooled_mixed_ballndbh-ccf_batch02\n"
     ]
    },
    {
     "name": "stderr",
     "output_type": "stream",
     "text": [
      "/opt/miniconda3/envs/refit_fvs/lib/python3.10/site-packages/jax/linear_util.py:168: UserWarning: We will disable progress bar because it does not work yet on multi-GPUs platforms.\n",
      "  ans = self.f(*args, **dict(self.params, **kwargs))\n"
     ]
    },
    {
     "name": "stdout",
     "output_type": "stream",
     "text": [
      "Done.\n",
      "Samples saved at ../../models/mcmc/checkpoints/wykoff/multichain/DF//wykoff_unpooled_mixed_ballndbh-ccf_batch02.pkl\n",
      "MCMC saved at ../../models/mcmc/checkpoints/wykoff/multichain/DF//wykoff_unpooled_mixed_ballndbh-ccf_batch02_mcmc.pkl\n"
     ]
    }
   ],
   "source": [
    "for tree_comp in ['bal', 'relht', 'ballndbh']:\n",
    "    for stand_comp in ['ba', 'lnba', 'ccf']:\n",
    "        for pooling in ['unpooled']:\n",
    "            model_name = f\"wykoff_{pooling}_mixed_{tree_comp}-{stand_comp}\"\n",
    "            fit_wykoff(\n",
    "                BARK_B0,\n",
    "                BARK_B1,\n",
    "                BARK_B2,\n",
    "                tree_comp,\n",
    "                stand_comp,\n",
    "                pooling,\n",
    "                LOC_RANDOM,\n",
    "                PLOT_RANDOM,\n",
    "                NUM_CYCLES,\n",
    "                data,\n",
    "                model_name,\n",
    "                CHECKPOINT_DIR,\n",
    "                NUM_WARMUP,\n",
    "                NUM_SAMPLES,\n",
    "                NUM_CHAINS,\n",
    "                CHAIN_METHOD,\n",
    "                NUM_BATCHES,\n",
    "                SEED,\n",
    "                PROGRESS_BAR,\n",
    "                OVERWRITE\n",
    "            )"
   ]
  },
  {
   "cell_type": "code",
   "execution_count": 6,
   "id": "2dca0146-2cc8-456b-bfa4-a5e8b61cbaf4",
   "metadata": {},
   "outputs": [
    {
     "name": "stdout",
     "output_type": "stream",
     "text": [
      "simplerwykoff_unpooled_mixed_bal-ba\n",
      "simplerwykoff_unpooled_mixed_bal-ba_batch00\n"
     ]
    },
    {
     "name": "stderr",
     "output_type": "stream",
     "text": [
      "/opt/miniconda3/envs/refit_fvs/lib/python3.10/site-packages/jax/linear_util.py:168: UserWarning: We will disable progress bar because it does not work yet on multi-GPUs platforms.\n",
      "  ans = self.f(*args, **dict(self.params, **kwargs))\n"
     ]
    },
    {
     "name": "stdout",
     "output_type": "stream",
     "text": [
      "simplerwykoff_unpooled_mixed_bal-ba_batch01\n"
     ]
    },
    {
     "name": "stderr",
     "output_type": "stream",
     "text": [
      "/opt/miniconda3/envs/refit_fvs/lib/python3.10/site-packages/jax/linear_util.py:168: UserWarning: We will disable progress bar because it does not work yet on multi-GPUs platforms.\n",
      "  ans = self.f(*args, **dict(self.params, **kwargs))\n"
     ]
    },
    {
     "name": "stdout",
     "output_type": "stream",
     "text": [
      "simplerwykoff_unpooled_mixed_bal-ba_batch02\n"
     ]
    },
    {
     "name": "stderr",
     "output_type": "stream",
     "text": [
      "/opt/miniconda3/envs/refit_fvs/lib/python3.10/site-packages/jax/linear_util.py:168: UserWarning: We will disable progress bar because it does not work yet on multi-GPUs platforms.\n",
      "  ans = self.f(*args, **dict(self.params, **kwargs))\n"
     ]
    },
    {
     "name": "stdout",
     "output_type": "stream",
     "text": [
      "Done.\n",
      "Samples saved at ../../models/mcmc/checkpoints/wykoff/multichain/DF//simplerwykoff_unpooled_mixed_bal-ba_batch02.pkl\n",
      "MCMC saved at ../../models/mcmc/checkpoints/wykoff/multichain/DF//simplerwykoff_unpooled_mixed_bal-ba_batch02_mcmc.pkl\n",
      "simplerwykoff_unpooled_mixed_bal-lnba\n",
      "simplerwykoff_unpooled_mixed_bal-lnba_batch00\n"
     ]
    },
    {
     "name": "stderr",
     "output_type": "stream",
     "text": [
      "/opt/miniconda3/envs/refit_fvs/lib/python3.10/site-packages/jax/linear_util.py:168: UserWarning: We will disable progress bar because it does not work yet on multi-GPUs platforms.\n",
      "  ans = self.f(*args, **dict(self.params, **kwargs))\n"
     ]
    },
    {
     "name": "stdout",
     "output_type": "stream",
     "text": [
      "simplerwykoff_unpooled_mixed_bal-lnba_batch01\n"
     ]
    },
    {
     "name": "stderr",
     "output_type": "stream",
     "text": [
      "/opt/miniconda3/envs/refit_fvs/lib/python3.10/site-packages/jax/linear_util.py:168: UserWarning: We will disable progress bar because it does not work yet on multi-GPUs platforms.\n",
      "  ans = self.f(*args, **dict(self.params, **kwargs))\n"
     ]
    },
    {
     "name": "stdout",
     "output_type": "stream",
     "text": [
      "simplerwykoff_unpooled_mixed_bal-lnba_batch02\n"
     ]
    },
    {
     "name": "stderr",
     "output_type": "stream",
     "text": [
      "/opt/miniconda3/envs/refit_fvs/lib/python3.10/site-packages/jax/linear_util.py:168: UserWarning: We will disable progress bar because it does not work yet on multi-GPUs platforms.\n",
      "  ans = self.f(*args, **dict(self.params, **kwargs))\n"
     ]
    },
    {
     "name": "stdout",
     "output_type": "stream",
     "text": [
      "Done.\n",
      "Samples saved at ../../models/mcmc/checkpoints/wykoff/multichain/DF//simplerwykoff_unpooled_mixed_bal-lnba_batch02.pkl\n",
      "MCMC saved at ../../models/mcmc/checkpoints/wykoff/multichain/DF//simplerwykoff_unpooled_mixed_bal-lnba_batch02_mcmc.pkl\n",
      "simplerwykoff_unpooled_mixed_bal-ccf\n",
      "simplerwykoff_unpooled_mixed_bal-ccf_batch00\n"
     ]
    },
    {
     "name": "stderr",
     "output_type": "stream",
     "text": [
      "/opt/miniconda3/envs/refit_fvs/lib/python3.10/site-packages/jax/linear_util.py:168: UserWarning: We will disable progress bar because it does not work yet on multi-GPUs platforms.\n",
      "  ans = self.f(*args, **dict(self.params, **kwargs))\n"
     ]
    },
    {
     "name": "stdout",
     "output_type": "stream",
     "text": [
      "simplerwykoff_unpooled_mixed_bal-ccf_batch01\n"
     ]
    },
    {
     "name": "stderr",
     "output_type": "stream",
     "text": [
      "/opt/miniconda3/envs/refit_fvs/lib/python3.10/site-packages/jax/linear_util.py:168: UserWarning: We will disable progress bar because it does not work yet on multi-GPUs platforms.\n",
      "  ans = self.f(*args, **dict(self.params, **kwargs))\n"
     ]
    },
    {
     "name": "stdout",
     "output_type": "stream",
     "text": [
      "simplerwykoff_unpooled_mixed_bal-ccf_batch02\n"
     ]
    },
    {
     "name": "stderr",
     "output_type": "stream",
     "text": [
      "/opt/miniconda3/envs/refit_fvs/lib/python3.10/site-packages/jax/linear_util.py:168: UserWarning: We will disable progress bar because it does not work yet on multi-GPUs platforms.\n",
      "  ans = self.f(*args, **dict(self.params, **kwargs))\n"
     ]
    },
    {
     "name": "stdout",
     "output_type": "stream",
     "text": [
      "Done.\n",
      "Samples saved at ../../models/mcmc/checkpoints/wykoff/multichain/DF//simplerwykoff_unpooled_mixed_bal-ccf_batch02.pkl\n",
      "MCMC saved at ../../models/mcmc/checkpoints/wykoff/multichain/DF//simplerwykoff_unpooled_mixed_bal-ccf_batch02_mcmc.pkl\n",
      "simplerwykoff_unpooled_mixed_relht-ba\n",
      "simplerwykoff_unpooled_mixed_relht-ba_batch00\n"
     ]
    },
    {
     "name": "stderr",
     "output_type": "stream",
     "text": [
      "/opt/miniconda3/envs/refit_fvs/lib/python3.10/site-packages/jax/linear_util.py:168: UserWarning: We will disable progress bar because it does not work yet on multi-GPUs platforms.\n",
      "  ans = self.f(*args, **dict(self.params, **kwargs))\n"
     ]
    },
    {
     "name": "stdout",
     "output_type": "stream",
     "text": [
      "simplerwykoff_unpooled_mixed_relht-ba_batch01\n"
     ]
    },
    {
     "name": "stderr",
     "output_type": "stream",
     "text": [
      "/opt/miniconda3/envs/refit_fvs/lib/python3.10/site-packages/jax/linear_util.py:168: UserWarning: We will disable progress bar because it does not work yet on multi-GPUs platforms.\n",
      "  ans = self.f(*args, **dict(self.params, **kwargs))\n"
     ]
    },
    {
     "name": "stdout",
     "output_type": "stream",
     "text": [
      "simplerwykoff_unpooled_mixed_relht-ba_batch02\n"
     ]
    },
    {
     "name": "stderr",
     "output_type": "stream",
     "text": [
      "/opt/miniconda3/envs/refit_fvs/lib/python3.10/site-packages/jax/linear_util.py:168: UserWarning: We will disable progress bar because it does not work yet on multi-GPUs platforms.\n",
      "  ans = self.f(*args, **dict(self.params, **kwargs))\n"
     ]
    },
    {
     "name": "stdout",
     "output_type": "stream",
     "text": [
      "Done.\n",
      "Samples saved at ../../models/mcmc/checkpoints/wykoff/multichain/DF//simplerwykoff_unpooled_mixed_relht-ba_batch02.pkl\n",
      "MCMC saved at ../../models/mcmc/checkpoints/wykoff/multichain/DF//simplerwykoff_unpooled_mixed_relht-ba_batch02_mcmc.pkl\n",
      "simplerwykoff_unpooled_mixed_relht-lnba\n",
      "simplerwykoff_unpooled_mixed_relht-lnba_batch00\n"
     ]
    },
    {
     "name": "stderr",
     "output_type": "stream",
     "text": [
      "/opt/miniconda3/envs/refit_fvs/lib/python3.10/site-packages/jax/linear_util.py:168: UserWarning: We will disable progress bar because it does not work yet on multi-GPUs platforms.\n",
      "  ans = self.f(*args, **dict(self.params, **kwargs))\n"
     ]
    },
    {
     "name": "stdout",
     "output_type": "stream",
     "text": [
      "simplerwykoff_unpooled_mixed_relht-lnba_batch01\n"
     ]
    },
    {
     "name": "stderr",
     "output_type": "stream",
     "text": [
      "/opt/miniconda3/envs/refit_fvs/lib/python3.10/site-packages/jax/linear_util.py:168: UserWarning: We will disable progress bar because it does not work yet on multi-GPUs platforms.\n",
      "  ans = self.f(*args, **dict(self.params, **kwargs))\n"
     ]
    },
    {
     "name": "stdout",
     "output_type": "stream",
     "text": [
      "simplerwykoff_unpooled_mixed_relht-lnba_batch02\n"
     ]
    },
    {
     "name": "stderr",
     "output_type": "stream",
     "text": [
      "/opt/miniconda3/envs/refit_fvs/lib/python3.10/site-packages/jax/linear_util.py:168: UserWarning: We will disable progress bar because it does not work yet on multi-GPUs platforms.\n",
      "  ans = self.f(*args, **dict(self.params, **kwargs))\n"
     ]
    },
    {
     "name": "stdout",
     "output_type": "stream",
     "text": [
      "Done.\n",
      "Samples saved at ../../models/mcmc/checkpoints/wykoff/multichain/DF//simplerwykoff_unpooled_mixed_relht-lnba_batch02.pkl\n",
      "MCMC saved at ../../models/mcmc/checkpoints/wykoff/multichain/DF//simplerwykoff_unpooled_mixed_relht-lnba_batch02_mcmc.pkl\n",
      "simplerwykoff_unpooled_mixed_relht-ccf\n",
      "simplerwykoff_unpooled_mixed_relht-ccf_batch00\n"
     ]
    },
    {
     "name": "stderr",
     "output_type": "stream",
     "text": [
      "/opt/miniconda3/envs/refit_fvs/lib/python3.10/site-packages/jax/linear_util.py:168: UserWarning: We will disable progress bar because it does not work yet on multi-GPUs platforms.\n",
      "  ans = self.f(*args, **dict(self.params, **kwargs))\n"
     ]
    },
    {
     "name": "stdout",
     "output_type": "stream",
     "text": [
      "simplerwykoff_unpooled_mixed_relht-ccf_batch01\n"
     ]
    },
    {
     "name": "stderr",
     "output_type": "stream",
     "text": [
      "/opt/miniconda3/envs/refit_fvs/lib/python3.10/site-packages/jax/linear_util.py:168: UserWarning: We will disable progress bar because it does not work yet on multi-GPUs platforms.\n",
      "  ans = self.f(*args, **dict(self.params, **kwargs))\n"
     ]
    },
    {
     "name": "stdout",
     "output_type": "stream",
     "text": [
      "simplerwykoff_unpooled_mixed_relht-ccf_batch02\n"
     ]
    },
    {
     "name": "stderr",
     "output_type": "stream",
     "text": [
      "/opt/miniconda3/envs/refit_fvs/lib/python3.10/site-packages/jax/linear_util.py:168: UserWarning: We will disable progress bar because it does not work yet on multi-GPUs platforms.\n",
      "  ans = self.f(*args, **dict(self.params, **kwargs))\n"
     ]
    },
    {
     "name": "stdout",
     "output_type": "stream",
     "text": [
      "Done.\n",
      "Samples saved at ../../models/mcmc/checkpoints/wykoff/multichain/DF//simplerwykoff_unpooled_mixed_relht-ccf_batch02.pkl\n",
      "MCMC saved at ../../models/mcmc/checkpoints/wykoff/multichain/DF//simplerwykoff_unpooled_mixed_relht-ccf_batch02_mcmc.pkl\n",
      "simplerwykoff_unpooled_mixed_ballndbh-ba\n",
      "simplerwykoff_unpooled_mixed_ballndbh-ba_batch00\n"
     ]
    },
    {
     "name": "stderr",
     "output_type": "stream",
     "text": [
      "/opt/miniconda3/envs/refit_fvs/lib/python3.10/site-packages/jax/linear_util.py:168: UserWarning: We will disable progress bar because it does not work yet on multi-GPUs platforms.\n",
      "  ans = self.f(*args, **dict(self.params, **kwargs))\n"
     ]
    },
    {
     "name": "stdout",
     "output_type": "stream",
     "text": [
      "simplerwykoff_unpooled_mixed_ballndbh-ba_batch01\n"
     ]
    },
    {
     "name": "stderr",
     "output_type": "stream",
     "text": [
      "/opt/miniconda3/envs/refit_fvs/lib/python3.10/site-packages/jax/linear_util.py:168: UserWarning: We will disable progress bar because it does not work yet on multi-GPUs platforms.\n",
      "  ans = self.f(*args, **dict(self.params, **kwargs))\n"
     ]
    },
    {
     "name": "stdout",
     "output_type": "stream",
     "text": [
      "simplerwykoff_unpooled_mixed_ballndbh-ba_batch02\n"
     ]
    },
    {
     "name": "stderr",
     "output_type": "stream",
     "text": [
      "/opt/miniconda3/envs/refit_fvs/lib/python3.10/site-packages/jax/linear_util.py:168: UserWarning: We will disable progress bar because it does not work yet on multi-GPUs platforms.\n",
      "  ans = self.f(*args, **dict(self.params, **kwargs))\n"
     ]
    },
    {
     "name": "stdout",
     "output_type": "stream",
     "text": [
      "Done.\n",
      "Samples saved at ../../models/mcmc/checkpoints/wykoff/multichain/DF//simplerwykoff_unpooled_mixed_ballndbh-ba_batch02.pkl\n",
      "MCMC saved at ../../models/mcmc/checkpoints/wykoff/multichain/DF//simplerwykoff_unpooled_mixed_ballndbh-ba_batch02_mcmc.pkl\n",
      "simplerwykoff_unpooled_mixed_ballndbh-lnba\n",
      "simplerwykoff_unpooled_mixed_ballndbh-lnba_batch00\n"
     ]
    },
    {
     "name": "stderr",
     "output_type": "stream",
     "text": [
      "/opt/miniconda3/envs/refit_fvs/lib/python3.10/site-packages/jax/linear_util.py:168: UserWarning: We will disable progress bar because it does not work yet on multi-GPUs platforms.\n",
      "  ans = self.f(*args, **dict(self.params, **kwargs))\n"
     ]
    },
    {
     "name": "stdout",
     "output_type": "stream",
     "text": [
      "simplerwykoff_unpooled_mixed_ballndbh-lnba_batch01\n"
     ]
    },
    {
     "name": "stderr",
     "output_type": "stream",
     "text": [
      "/opt/miniconda3/envs/refit_fvs/lib/python3.10/site-packages/jax/linear_util.py:168: UserWarning: We will disable progress bar because it does not work yet on multi-GPUs platforms.\n",
      "  ans = self.f(*args, **dict(self.params, **kwargs))\n"
     ]
    },
    {
     "name": "stdout",
     "output_type": "stream",
     "text": [
      "simplerwykoff_unpooled_mixed_ballndbh-lnba_batch02\n"
     ]
    },
    {
     "name": "stderr",
     "output_type": "stream",
     "text": [
      "/opt/miniconda3/envs/refit_fvs/lib/python3.10/site-packages/jax/linear_util.py:168: UserWarning: We will disable progress bar because it does not work yet on multi-GPUs platforms.\n",
      "  ans = self.f(*args, **dict(self.params, **kwargs))\n"
     ]
    },
    {
     "name": "stdout",
     "output_type": "stream",
     "text": [
      "Done.\n",
      "Samples saved at ../../models/mcmc/checkpoints/wykoff/multichain/DF//simplerwykoff_unpooled_mixed_ballndbh-lnba_batch02.pkl\n",
      "MCMC saved at ../../models/mcmc/checkpoints/wykoff/multichain/DF//simplerwykoff_unpooled_mixed_ballndbh-lnba_batch02_mcmc.pkl\n",
      "simplerwykoff_unpooled_mixed_ballndbh-ccf\n",
      "simplerwykoff_unpooled_mixed_ballndbh-ccf_batch00\n"
     ]
    },
    {
     "name": "stderr",
     "output_type": "stream",
     "text": [
      "/opt/miniconda3/envs/refit_fvs/lib/python3.10/site-packages/jax/linear_util.py:168: UserWarning: We will disable progress bar because it does not work yet on multi-GPUs platforms.\n",
      "  ans = self.f(*args, **dict(self.params, **kwargs))\n"
     ]
    },
    {
     "name": "stdout",
     "output_type": "stream",
     "text": [
      "simplerwykoff_unpooled_mixed_ballndbh-ccf_batch01\n"
     ]
    },
    {
     "name": "stderr",
     "output_type": "stream",
     "text": [
      "/opt/miniconda3/envs/refit_fvs/lib/python3.10/site-packages/jax/linear_util.py:168: UserWarning: We will disable progress bar because it does not work yet on multi-GPUs platforms.\n",
      "  ans = self.f(*args, **dict(self.params, **kwargs))\n"
     ]
    },
    {
     "name": "stdout",
     "output_type": "stream",
     "text": [
      "simplerwykoff_unpooled_mixed_ballndbh-ccf_batch02\n"
     ]
    },
    {
     "name": "stderr",
     "output_type": "stream",
     "text": [
      "/opt/miniconda3/envs/refit_fvs/lib/python3.10/site-packages/jax/linear_util.py:168: UserWarning: We will disable progress bar because it does not work yet on multi-GPUs platforms.\n",
      "  ans = self.f(*args, **dict(self.params, **kwargs))\n"
     ]
    },
    {
     "name": "stdout",
     "output_type": "stream",
     "text": [
      "Done.\n",
      "Samples saved at ../../models/mcmc/checkpoints/wykoff/multichain/DF//simplerwykoff_unpooled_mixed_ballndbh-ccf_batch02.pkl\n",
      "MCMC saved at ../../models/mcmc/checkpoints/wykoff/multichain/DF//simplerwykoff_unpooled_mixed_ballndbh-ccf_batch02_mcmc.pkl\n"
     ]
    }
   ],
   "source": [
    "for tree_comp in ['bal', 'relht', 'ballndbh']:\n",
    "    for stand_comp in ['ba', 'lnba', 'ccf']:\n",
    "        for pooling in ['unpooled']:\n",
    "            model_name = f\"simplerwykoff_{pooling}_mixed_{tree_comp}-{stand_comp}\"\n",
    "            fit_simpler_wykoff(\n",
    "                BARK_B0,\n",
    "                BARK_B1,\n",
    "                BARK_B2,\n",
    "                tree_comp,\n",
    "                stand_comp,\n",
    "                pooling,\n",
    "                LOC_RANDOM,\n",
    "                PLOT_RANDOM,\n",
    "                NUM_CYCLES,\n",
    "                data,\n",
    "                model_name,\n",
    "                CHECKPOINT_DIR,\n",
    "                NUM_WARMUP,\n",
    "                NUM_SAMPLES,\n",
    "                NUM_CHAINS,\n",
    "                CHAIN_METHOD,\n",
    "                NUM_BATCHES,\n",
    "                SEED,\n",
    "                PROGRESS_BAR,\n",
    "                OVERWRITE\n",
    "            )"
   ]
  },
  {
   "cell_type": "code",
   "execution_count": 7,
   "id": "bb053f07-7e14-4393-aab9-641e154a1838",
   "metadata": {},
   "outputs": [
    {
     "name": "stdout",
     "output_type": "stream",
     "text": [
      "simplerwykoff_partial_mixed_ballndbh-ba\n",
      "simplerwykoff_partial_mixed_ballndbh-ba_batch00\n"
     ]
    },
    {
     "name": "stderr",
     "output_type": "stream",
     "text": [
      "/opt/miniconda3/envs/refit_fvs/lib/python3.10/site-packages/jax/linear_util.py:168: UserWarning: We will disable progress bar because it does not work yet on multi-GPUs platforms.\n",
      "  ans = self.f(*args, **dict(self.params, **kwargs))\n"
     ]
    },
    {
     "name": "stdout",
     "output_type": "stream",
     "text": [
      "simplerwykoff_partial_mixed_ballndbh-ba_batch01\n"
     ]
    },
    {
     "name": "stderr",
     "output_type": "stream",
     "text": [
      "/opt/miniconda3/envs/refit_fvs/lib/python3.10/site-packages/jax/linear_util.py:168: UserWarning: We will disable progress bar because it does not work yet on multi-GPUs platforms.\n",
      "  ans = self.f(*args, **dict(self.params, **kwargs))\n"
     ]
    },
    {
     "name": "stdout",
     "output_type": "stream",
     "text": [
      "simplerwykoff_partial_mixed_ballndbh-ba_batch02\n"
     ]
    },
    {
     "name": "stderr",
     "output_type": "stream",
     "text": [
      "/opt/miniconda3/envs/refit_fvs/lib/python3.10/site-packages/jax/linear_util.py:168: UserWarning: We will disable progress bar because it does not work yet on multi-GPUs platforms.\n",
      "  ans = self.f(*args, **dict(self.params, **kwargs))\n"
     ]
    },
    {
     "name": "stdout",
     "output_type": "stream",
     "text": [
      "Done.\n",
      "Samples saved at ../../models/mcmc/checkpoints/wykoff/multichain/DF//simplerwykoff_partial_mixed_ballndbh-ba_batch02.pkl\n",
      "MCMC saved at ../../models/mcmc/checkpoints/wykoff/multichain/DF//simplerwykoff_partial_mixed_ballndbh-ba_batch02_mcmc.pkl\n"
     ]
    }
   ],
   "source": [
    "for tree_comp in ['ballndbh']:\n",
    "    for stand_comp in ['ba']:\n",
    "        for pooling in ['partial']:\n",
    "            model_name = f\"simplerwykoff_{pooling}_mixed_{tree_comp}-{stand_comp}\"\n",
    "            fit_simpler_wykoff(\n",
    "                BARK_B0,\n",
    "                BARK_B1,\n",
    "                BARK_B2,\n",
    "                tree_comp,\n",
    "                stand_comp,\n",
    "                pooling,\n",
    "                LOC_RANDOM,\n",
    "                PLOT_RANDOM,\n",
    "                NUM_CYCLES,\n",
    "                data,\n",
    "                model_name,\n",
    "                CHECKPOINT_DIR,\n",
    "                NUM_WARMUP,\n",
    "                NUM_SAMPLES,\n",
    "                NUM_CHAINS,\n",
    "                CHAIN_METHOD,\n",
    "                NUM_BATCHES,\n",
    "                SEED,\n",
    "                PROGRESS_BAR,\n",
    "                OVERWRITE\n",
    "            )"
   ]
  }
 ],
 "metadata": {
  "kernelspec": {
   "display_name": "Python [conda env:miniconda3-refit_fvs]",
   "language": "python",
   "name": "conda-env-miniconda3-refit_fvs-py"
  },
  "language_info": {
   "codemirror_mode": {
    "name": "ipython",
    "version": 3
   },
   "file_extension": ".py",
   "mimetype": "text/x-python",
   "name": "python",
   "nbconvert_exporter": "python",
   "pygments_lexer": "ipython3",
   "version": "3.10.6"
  }
 },
 "nbformat": 4,
 "nbformat_minor": 5
}
