{
 "cells": [
  {
   "cell_type": "code",
   "execution_count": 8,
   "id": "0e392d45-86b1-4de8-9748-0086f5e40d46",
   "metadata": {},
   "outputs": [],
   "source": [
    "import pandas as pd\n",
    "import os\n",
    "import numpyro\n",
    "from refit_fvs.data.load import fia_for_diameter_growth_modeling\n",
    "from refit_fvs.models.fit import fit_wykoff, fit_simpler_wykoff"
   ]
  },
  {
   "cell_type": "code",
   "execution_count": 2,
   "id": "b75769a8-46d8-421b-bc3f-f65be4f20168",
   "metadata": {},
   "outputs": [],
   "source": [
    "os.environ[\"XLA_PYTHON_CLIENT_MEM_FRACTION\"] = \"0.75\"\n",
    "numpyro.set_platform(\"gpu\")\n",
    "numpyro.set_host_device_count(3)"
   ]
  },
  {
   "cell_type": "markdown",
   "id": "9bd96038-f30a-48d1-81ba-f2593e8be408",
   "metadata": {},
   "source": [
    "# Select species\n",
    "Identify species codes and the FVS variant from which bark ratio coefficients should be drawn."
   ]
  },
  {
   "cell_type": "code",
   "execution_count": 3,
   "id": "e5c84098-1dba-4c19-bc06-fa8eae8a2f60",
   "metadata": {},
   "outputs": [],
   "source": [
    "FVS_ALPHA = \"WH\"\n",
    "BARK_VAR = \"WC\"\n",
    "FIA_SPCD = 263"
   ]
  },
  {
   "cell_type": "code",
   "execution_count": 4,
   "id": "9db5d35d-29aa-43fb-a775-94229fa52247",
   "metadata": {},
   "outputs": [
    {
     "data": {
      "text/plain": [
       "(0.0, 0.93371, 1.0)"
      ]
     },
     "execution_count": 4,
     "metadata": {},
     "output_type": "execute_result"
    }
   ],
   "source": [
    "BARK_COEFS = \"../../data/raw/fvs_barkratio_coefs.csv\"\n",
    "bark = pd.read_csv(BARK_COEFS).set_index([\"FIA_SPCD\", \"FVS_VARIANT\"])\n",
    "\n",
    "bark_b0, bark_b1, bark_b2 = bark.loc[FIA_SPCD, BARK_VAR][[\"BARK_B0\", \"BARK_B1\", \"BARK_B2\"]]\n",
    "bark_b0, bark_b1, bark_b2"
   ]
  },
  {
   "cell_type": "markdown",
   "id": "7d812fc8-0f00-43ef-9993-3eb576f62af9",
   "metadata": {},
   "source": [
    "# Model-fitting parameters\n",
    "These don't usually need to be updated when fitting a new species unless you want to add more chains or samples per chain."
   ]
  },
  {
   "cell_type": "code",
   "execution_count": 5,
   "id": "a81b074f-f9c8-47a9-a89b-bd15787de9d3",
   "metadata": {},
   "outputs": [],
   "source": [
    "NUM_CYCLES = 2\n",
    "LOC_RANDOM = True\n",
    "PLOT_RANDOM = True\n",
    "CHECKPOINT_DIR = f\"../../models/maicf/{FVS_ALPHA}/\"\n",
    "NUM_WARMUP = 1000\n",
    "NUM_SAMPLES = 1000\n",
    "NUM_CHAINS = 1\n",
    "CHAIN_METHOD = \"parallel\"\n",
    "NUM_BATCHES = 1\n",
    "SEED = 42\n",
    "PROGRESS_BAR = True\n",
    "OVERWRITE = False"
   ]
  },
  {
   "cell_type": "code",
   "execution_count": 6,
   "id": "3f43e10f-90ba-4806-8945-e7bde2cf8dac",
   "metadata": {},
   "outputs": [
    {
     "data": {
      "text/html": [
       "<div>\n",
       "<style scoped>\n",
       "    .dataframe tbody tr th:only-of-type {\n",
       "        vertical-align: middle;\n",
       "    }\n",
       "\n",
       "    .dataframe tbody tr th {\n",
       "        vertical-align: top;\n",
       "    }\n",
       "\n",
       "    .dataframe thead th {\n",
       "        text-align: right;\n",
       "    }\n",
       "</style>\n",
       "<table border=\"1\" class=\"dataframe\">\n",
       "  <thead>\n",
       "    <tr style=\"text-align: right;\">\n",
       "      <th></th>\n",
       "      <th>LOCATION</th>\n",
       "      <th>PLOT_ID</th>\n",
       "      <th>FIA_SPCD</th>\n",
       "      <th>MAICF</th>\n",
       "      <th>SLOPE</th>\n",
       "      <th>ASPECT</th>\n",
       "      <th>ELEV</th>\n",
       "      <th>DBH</th>\n",
       "      <th>CR</th>\n",
       "      <th>CR_NEXT</th>\n",
       "      <th>...</th>\n",
       "      <th>INC5YR</th>\n",
       "      <th>INC10YR</th>\n",
       "      <th>MEASYEAR</th>\n",
       "      <th>MEASMON</th>\n",
       "      <th>MEASYEAR_NEXT</th>\n",
       "      <th>MEASMON_NEXT</th>\n",
       "      <th>MEAS_INTERVAL</th>\n",
       "      <th>VAR_IDX</th>\n",
       "      <th>LOC_IDX</th>\n",
       "      <th>PLOT_IDX</th>\n",
       "    </tr>\n",
       "  </thead>\n",
       "  <tbody>\n",
       "    <tr>\n",
       "      <th>count</th>\n",
       "      <td>11023.000000</td>\n",
       "      <td>1.102300e+04</td>\n",
       "      <td>11023.0</td>\n",
       "      <td>11023.000000</td>\n",
       "      <td>11023.000000</td>\n",
       "      <td>11023.000000</td>\n",
       "      <td>11023.000000</td>\n",
       "      <td>11023.000000</td>\n",
       "      <td>11023.000000</td>\n",
       "      <td>11023.000000</td>\n",
       "      <td>...</td>\n",
       "      <td>450.000000</td>\n",
       "      <td>450.000000</td>\n",
       "      <td>11023.000000</td>\n",
       "      <td>11023.000000</td>\n",
       "      <td>11023.000000</td>\n",
       "      <td>11023.000000</td>\n",
       "      <td>11023.0</td>\n",
       "      <td>11023.000000</td>\n",
       "      <td>11023.000000</td>\n",
       "      <td>11023.000000</td>\n",
       "    </tr>\n",
       "    <tr>\n",
       "      <th>mean</th>\n",
       "      <td>617.956545</td>\n",
       "      <td>4.837046e+11</td>\n",
       "      <td>263.0</td>\n",
       "      <td>139.067991</td>\n",
       "      <td>0.385094</td>\n",
       "      <td>3.096250</td>\n",
       "      <td>24.820376</td>\n",
       "      <td>14.345686</td>\n",
       "      <td>0.530373</td>\n",
       "      <td>0.487965</td>\n",
       "      <td>...</td>\n",
       "      <td>0.268667</td>\n",
       "      <td>0.586444</td>\n",
       "      <td>2005.347183</td>\n",
       "      <td>7.941032</td>\n",
       "      <td>2015.347183</td>\n",
       "      <td>7.397532</td>\n",
       "      <td>10.0</td>\n",
       "      <td>2.536152</td>\n",
       "      <td>9.183707</td>\n",
       "      <td>859.573347</td>\n",
       "    </tr>\n",
       "    <tr>\n",
       "      <th>std</th>\n",
       "      <td>59.904642</td>\n",
       "      <td>6.258495e+10</td>\n",
       "      <td>0.0</td>\n",
       "      <td>58.574204</td>\n",
       "      <td>0.257229</td>\n",
       "      <td>1.947415</td>\n",
       "      <td>12.218109</td>\n",
       "      <td>10.382984</td>\n",
       "      <td>0.200821</td>\n",
       "      <td>0.192369</td>\n",
       "      <td>...</td>\n",
       "      <td>0.215972</td>\n",
       "      <td>0.457059</td>\n",
       "      <td>2.430868</td>\n",
       "      <td>1.738212</td>\n",
       "      <td>2.430868</td>\n",
       "      <td>1.734145</td>\n",
       "      <td>0.0</td>\n",
       "      <td>0.799618</td>\n",
       "      <td>5.844357</td>\n",
       "      <td>497.952252</td>\n",
       "    </tr>\n",
       "    <tr>\n",
       "      <th>min</th>\n",
       "      <td>113.000000</td>\n",
       "      <td>6.010155e+10</td>\n",
       "      <td>263.0</td>\n",
       "      <td>4.400000</td>\n",
       "      <td>0.000000</td>\n",
       "      <td>0.000000</td>\n",
       "      <td>1.000000</td>\n",
       "      <td>5.000000</td>\n",
       "      <td>0.030000</td>\n",
       "      <td>0.010000</td>\n",
       "      <td>...</td>\n",
       "      <td>0.050000</td>\n",
       "      <td>0.050000</td>\n",
       "      <td>2001.000000</td>\n",
       "      <td>1.000000</td>\n",
       "      <td>2011.000000</td>\n",
       "      <td>3.000000</td>\n",
       "      <td>10.0</td>\n",
       "      <td>0.000000</td>\n",
       "      <td>0.000000</td>\n",
       "      <td>0.000000</td>\n",
       "    </tr>\n",
       "    <tr>\n",
       "      <th>25%</th>\n",
       "      <td>605.000000</td>\n",
       "      <td>4.101042e+11</td>\n",
       "      <td>263.0</td>\n",
       "      <td>100.414000</td>\n",
       "      <td>0.170000</td>\n",
       "      <td>1.326450</td>\n",
       "      <td>15.000000</td>\n",
       "      <td>7.100000</td>\n",
       "      <td>0.400000</td>\n",
       "      <td>0.350000</td>\n",
       "      <td>...</td>\n",
       "      <td>0.100000</td>\n",
       "      <td>0.250000</td>\n",
       "      <td>2003.000000</td>\n",
       "      <td>7.000000</td>\n",
       "      <td>2013.000000</td>\n",
       "      <td>6.000000</td>\n",
       "      <td>10.0</td>\n",
       "      <td>2.000000</td>\n",
       "      <td>6.000000</td>\n",
       "      <td>472.000000</td>\n",
       "    </tr>\n",
       "    <tr>\n",
       "      <th>50%</th>\n",
       "      <td>609.000000</td>\n",
       "      <td>5.305058e+11</td>\n",
       "      <td>263.0</td>\n",
       "      <td>142.500000</td>\n",
       "      <td>0.350000</td>\n",
       "      <td>3.298672</td>\n",
       "      <td>27.000000</td>\n",
       "      <td>10.300000</td>\n",
       "      <td>0.500000</td>\n",
       "      <td>0.450000</td>\n",
       "      <td>...</td>\n",
       "      <td>0.200000</td>\n",
       "      <td>0.500000</td>\n",
       "      <td>2005.000000</td>\n",
       "      <td>8.000000</td>\n",
       "      <td>2015.000000</td>\n",
       "      <td>7.000000</td>\n",
       "      <td>10.0</td>\n",
       "      <td>3.000000</td>\n",
       "      <td>9.000000</td>\n",
       "      <td>790.000000</td>\n",
       "    </tr>\n",
       "    <tr>\n",
       "      <th>75%</th>\n",
       "      <td>617.000000</td>\n",
       "      <td>5.306032e+11</td>\n",
       "      <td>263.0</td>\n",
       "      <td>176.208000</td>\n",
       "      <td>0.600000</td>\n",
       "      <td>4.764749</td>\n",
       "      <td>35.000000</td>\n",
       "      <td>17.000000</td>\n",
       "      <td>0.680000</td>\n",
       "      <td>0.650000</td>\n",
       "      <td>...</td>\n",
       "      <td>0.350000</td>\n",
       "      <td>0.800000</td>\n",
       "      <td>2007.000000</td>\n",
       "      <td>9.000000</td>\n",
       "      <td>2017.000000</td>\n",
       "      <td>9.000000</td>\n",
       "      <td>10.0</td>\n",
       "      <td>3.000000</td>\n",
       "      <td>14.000000</td>\n",
       "      <td>1277.000000</td>\n",
       "    </tr>\n",
       "    <tr>\n",
       "      <th>max</th>\n",
       "      <td>800.000000</td>\n",
       "      <td>5.309066e+11</td>\n",
       "      <td>263.0</td>\n",
       "      <td>336.516000</td>\n",
       "      <td>1.500000</td>\n",
       "      <td>6.283185</td>\n",
       "      <td>55.000000</td>\n",
       "      <td>91.000000</td>\n",
       "      <td>0.990000</td>\n",
       "      <td>0.980000</td>\n",
       "      <td>...</td>\n",
       "      <td>2.050000</td>\n",
       "      <td>4.150000</td>\n",
       "      <td>2009.000000</td>\n",
       "      <td>12.000000</td>\n",
       "      <td>2019.000000</td>\n",
       "      <td>11.000000</td>\n",
       "      <td>10.0</td>\n",
       "      <td>6.000000</td>\n",
       "      <td>23.000000</td>\n",
       "      <td>1776.000000</td>\n",
       "    </tr>\n",
       "  </tbody>\n",
       "</table>\n",
       "<p>8 rows × 29 columns</p>\n",
       "</div>"
      ],
      "text/plain": [
       "           LOCATION       PLOT_ID  FIA_SPCD         MAICF         SLOPE  \\\n",
       "count  11023.000000  1.102300e+04   11023.0  11023.000000  11023.000000   \n",
       "mean     617.956545  4.837046e+11     263.0    139.067991      0.385094   \n",
       "std       59.904642  6.258495e+10       0.0     58.574204      0.257229   \n",
       "min      113.000000  6.010155e+10     263.0      4.400000      0.000000   \n",
       "25%      605.000000  4.101042e+11     263.0    100.414000      0.170000   \n",
       "50%      609.000000  5.305058e+11     263.0    142.500000      0.350000   \n",
       "75%      617.000000  5.306032e+11     263.0    176.208000      0.600000   \n",
       "max      800.000000  5.309066e+11     263.0    336.516000      1.500000   \n",
       "\n",
       "             ASPECT          ELEV           DBH            CR       CR_NEXT  \\\n",
       "count  11023.000000  11023.000000  11023.000000  11023.000000  11023.000000   \n",
       "mean       3.096250     24.820376     14.345686      0.530373      0.487965   \n",
       "std        1.947415     12.218109     10.382984      0.200821      0.192369   \n",
       "min        0.000000      1.000000      5.000000      0.030000      0.010000   \n",
       "25%        1.326450     15.000000      7.100000      0.400000      0.350000   \n",
       "50%        3.298672     27.000000     10.300000      0.500000      0.450000   \n",
       "75%        4.764749     35.000000     17.000000      0.680000      0.650000   \n",
       "max        6.283185     55.000000     91.000000      0.990000      0.980000   \n",
       "\n",
       "       ...      INC5YR     INC10YR      MEASYEAR       MEASMON  MEASYEAR_NEXT  \\\n",
       "count  ...  450.000000  450.000000  11023.000000  11023.000000   11023.000000   \n",
       "mean   ...    0.268667    0.586444   2005.347183      7.941032    2015.347183   \n",
       "std    ...    0.215972    0.457059      2.430868      1.738212       2.430868   \n",
       "min    ...    0.050000    0.050000   2001.000000      1.000000    2011.000000   \n",
       "25%    ...    0.100000    0.250000   2003.000000      7.000000    2013.000000   \n",
       "50%    ...    0.200000    0.500000   2005.000000      8.000000    2015.000000   \n",
       "75%    ...    0.350000    0.800000   2007.000000      9.000000    2017.000000   \n",
       "max    ...    2.050000    4.150000   2009.000000     12.000000    2019.000000   \n",
       "\n",
       "       MEASMON_NEXT  MEAS_INTERVAL       VAR_IDX       LOC_IDX      PLOT_IDX  \n",
       "count  11023.000000        11023.0  11023.000000  11023.000000  11023.000000  \n",
       "mean       7.397532           10.0      2.536152      9.183707    859.573347  \n",
       "std        1.734145            0.0      0.799618      5.844357    497.952252  \n",
       "min        3.000000           10.0      0.000000      0.000000      0.000000  \n",
       "25%        6.000000           10.0      2.000000      6.000000    472.000000  \n",
       "50%        7.000000           10.0      3.000000      9.000000    790.000000  \n",
       "75%        9.000000           10.0      3.000000     14.000000   1277.000000  \n",
       "max       11.000000           10.0      6.000000     23.000000   1776.000000  \n",
       "\n",
       "[8 rows x 29 columns]"
      ]
     },
     "execution_count": 6,
     "metadata": {},
     "output_type": "execute_result"
    }
   ],
   "source": [
    "data, factors = fia_for_diameter_growth_modeling(\n",
    "    path=\"../../data/interim/FIA_remeasured_trees_for_training.csv\",\n",
    "    filter_spp=[FIA_SPCD]\n",
    ")\n",
    "obs_variants, obs_locations, obs_plots = factors\n",
    "data.describe()"
   ]
  },
  {
   "cell_type": "code",
   "execution_count": 7,
   "id": "fa6efd78-c55b-4fd6-8bb7-b065e7411842",
   "metadata": {},
   "outputs": [
    {
     "name": "stdout",
     "output_type": "stream",
     "text": [
      "wykoff_unpooled_mixed_bal-ba\n",
      "wykoff_unpooled_mixed_bal-ba_batch00\n"
     ]
    },
    {
     "name": "stderr",
     "output_type": "stream",
     "text": [
      "sample: 100%|█| 2000/2000 [19:53<00:00,  1.68it/s, 255 steps of size 2.12e-02. a\n"
     ]
    },
    {
     "name": "stdout",
     "output_type": "stream",
     "text": [
      "Done.\n",
      "Samples saved at ../../models/maicf/WH//wykoff_unpooled_mixed_bal-ba_batch00.pkl\n",
      "MCMC saved at ../../models/maicf/WH//wykoff_unpooled_mixed_bal-ba_batch00_mcmc.pkl\n",
      "wykoff_partial_mixed_bal-ba\n",
      "wykoff_partial_mixed_bal-ba_batch00\n"
     ]
    },
    {
     "name": "stderr",
     "output_type": "stream",
     "text": [
      "sample: 100%|█| 2000/2000 [31:57<00:00,  1.04it/s, 255 steps of size 1.74e-02. a\n"
     ]
    },
    {
     "name": "stdout",
     "output_type": "stream",
     "text": [
      "Done.\n",
      "Samples saved at ../../models/maicf/WH//wykoff_partial_mixed_bal-ba_batch00.pkl\n",
      "MCMC saved at ../../models/maicf/WH//wykoff_partial_mixed_bal-ba_batch00_mcmc.pkl\n",
      "wykoff_unpooled_mixed_bal-lnba\n",
      "wykoff_unpooled_mixed_bal-lnba_batch00\n"
     ]
    },
    {
     "name": "stderr",
     "output_type": "stream",
     "text": [
      "sample: 100%|█| 2000/2000 [19:56<00:00,  1.67it/s, 255 steps of size 1.84e-02. a\n"
     ]
    },
    {
     "name": "stdout",
     "output_type": "stream",
     "text": [
      "Done.\n",
      "Samples saved at ../../models/maicf/WH//wykoff_unpooled_mixed_bal-lnba_batch00.pkl\n",
      "MCMC saved at ../../models/maicf/WH//wykoff_unpooled_mixed_bal-lnba_batch00_mcmc.pkl\n",
      "wykoff_partial_mixed_bal-lnba\n",
      "wykoff_partial_mixed_bal-lnba_batch00\n"
     ]
    },
    {
     "name": "stderr",
     "output_type": "stream",
     "text": [
      "sample: 100%|█| 2000/2000 [32:00<00:00,  1.04it/s, 255 steps of size 1.73e-02. a\n"
     ]
    },
    {
     "name": "stdout",
     "output_type": "stream",
     "text": [
      "Done.\n",
      "Samples saved at ../../models/maicf/WH//wykoff_partial_mixed_bal-lnba_batch00.pkl\n",
      "MCMC saved at ../../models/maicf/WH//wykoff_partial_mixed_bal-lnba_batch00_mcmc.pkl\n",
      "wykoff_unpooled_mixed_bal-ccf\n",
      "wykoff_unpooled_mixed_bal-ccf_batch00\n"
     ]
    },
    {
     "name": "stderr",
     "output_type": "stream",
     "text": [
      "sample: 100%|█| 2000/2000 [19:41<00:00,  1.69it/s, 255 steps of size 1.97e-02. a\n"
     ]
    },
    {
     "name": "stdout",
     "output_type": "stream",
     "text": [
      "Done.\n",
      "Samples saved at ../../models/maicf/WH//wykoff_unpooled_mixed_bal-ccf_batch00.pkl\n",
      "MCMC saved at ../../models/maicf/WH//wykoff_unpooled_mixed_bal-ccf_batch00_mcmc.pkl\n",
      "wykoff_partial_mixed_bal-ccf\n",
      "wykoff_partial_mixed_bal-ccf_batch00\n"
     ]
    },
    {
     "name": "stderr",
     "output_type": "stream",
     "text": [
      "sample: 100%|█| 2000/2000 [31:50<00:00,  1.05it/s, 255 steps of size 1.86e-02. a\n"
     ]
    },
    {
     "name": "stdout",
     "output_type": "stream",
     "text": [
      "Done.\n",
      "Samples saved at ../../models/maicf/WH//wykoff_partial_mixed_bal-ccf_batch00.pkl\n",
      "MCMC saved at ../../models/maicf/WH//wykoff_partial_mixed_bal-ccf_batch00_mcmc.pkl\n",
      "wykoff_unpooled_mixed_relht-ba\n",
      "wykoff_unpooled_mixed_relht-ba_batch00\n"
     ]
    },
    {
     "name": "stderr",
     "output_type": "stream",
     "text": [
      "sample: 100%|█| 2000/2000 [19:47<00:00,  1.68it/s, 255 steps of size 2.03e-02. a\n"
     ]
    },
    {
     "name": "stdout",
     "output_type": "stream",
     "text": [
      "Done.\n",
      "Samples saved at ../../models/maicf/WH//wykoff_unpooled_mixed_relht-ba_batch00.pkl\n",
      "MCMC saved at ../../models/maicf/WH//wykoff_unpooled_mixed_relht-ba_batch00_mcmc.pkl\n",
      "wykoff_partial_mixed_relht-ba\n",
      "wykoff_partial_mixed_relht-ba_batch00\n"
     ]
    },
    {
     "name": "stderr",
     "output_type": "stream",
     "text": [
      "sample: 100%|█| 2000/2000 [32:59<00:00,  1.01it/s, 255 steps of size 1.73e-02. a\n"
     ]
    },
    {
     "name": "stdout",
     "output_type": "stream",
     "text": [
      "Done.\n",
      "Samples saved at ../../models/maicf/WH//wykoff_partial_mixed_relht-ba_batch00.pkl\n",
      "MCMC saved at ../../models/maicf/WH//wykoff_partial_mixed_relht-ba_batch00_mcmc.pkl\n",
      "wykoff_unpooled_mixed_relht-lnba\n",
      "wykoff_unpooled_mixed_relht-lnba_batch00\n"
     ]
    },
    {
     "name": "stderr",
     "output_type": "stream",
     "text": [
      "sample: 100%|█| 2000/2000 [19:43<00:00,  1.69it/s, 255 steps of size 1.87e-02. a\n"
     ]
    },
    {
     "name": "stdout",
     "output_type": "stream",
     "text": [
      "Done.\n",
      "Samples saved at ../../models/maicf/WH//wykoff_unpooled_mixed_relht-lnba_batch00.pkl\n",
      "MCMC saved at ../../models/maicf/WH//wykoff_unpooled_mixed_relht-lnba_batch00_mcmc.pkl\n",
      "wykoff_partial_mixed_relht-lnba\n",
      "wykoff_partial_mixed_relht-lnba_batch00\n"
     ]
    },
    {
     "name": "stderr",
     "output_type": "stream",
     "text": [
      "sample: 100%|█| 2000/2000 [32:38<00:00,  1.02it/s, 255 steps of size 1.74e-02. a\n"
     ]
    },
    {
     "name": "stdout",
     "output_type": "stream",
     "text": [
      "Done.\n",
      "Samples saved at ../../models/maicf/WH//wykoff_partial_mixed_relht-lnba_batch00.pkl\n",
      "MCMC saved at ../../models/maicf/WH//wykoff_partial_mixed_relht-lnba_batch00_mcmc.pkl\n",
      "wykoff_unpooled_mixed_relht-ccf\n",
      "wykoff_unpooled_mixed_relht-ccf_batch00\n"
     ]
    },
    {
     "name": "stderr",
     "output_type": "stream",
     "text": [
      "sample: 100%|█| 2000/2000 [20:24<00:00,  1.63it/s, 255 steps of size 1.98e-02. a\n"
     ]
    },
    {
     "name": "stdout",
     "output_type": "stream",
     "text": [
      "Done.\n",
      "Samples saved at ../../models/maicf/WH//wykoff_unpooled_mixed_relht-ccf_batch00.pkl\n",
      "MCMC saved at ../../models/maicf/WH//wykoff_unpooled_mixed_relht-ccf_batch00_mcmc.pkl\n",
      "wykoff_partial_mixed_relht-ccf\n",
      "wykoff_partial_mixed_relht-ccf_batch00\n"
     ]
    },
    {
     "name": "stderr",
     "output_type": "stream",
     "text": [
      "sample: 100%|█| 2000/2000 [32:11<00:00,  1.04it/s, 255 steps of size 1.72e-02. a\n"
     ]
    },
    {
     "name": "stdout",
     "output_type": "stream",
     "text": [
      "Done.\n",
      "Samples saved at ../../models/maicf/WH//wykoff_partial_mixed_relht-ccf_batch00.pkl\n",
      "MCMC saved at ../../models/maicf/WH//wykoff_partial_mixed_relht-ccf_batch00_mcmc.pkl\n",
      "wykoff_unpooled_mixed_ballndbh-ba\n",
      "wykoff_unpooled_mixed_ballndbh-ba_batch00\n"
     ]
    },
    {
     "name": "stderr",
     "output_type": "stream",
     "text": [
      "sample: 100%|█| 2000/2000 [19:37<00:00,  1.70it/s, 255 steps of size 1.98e-02. a\n"
     ]
    },
    {
     "name": "stdout",
     "output_type": "stream",
     "text": [
      "Done.\n",
      "Samples saved at ../../models/maicf/WH//wykoff_unpooled_mixed_ballndbh-ba_batch00.pkl\n",
      "MCMC saved at ../../models/maicf/WH//wykoff_unpooled_mixed_ballndbh-ba_batch00_mcmc.pkl\n",
      "wykoff_partial_mixed_ballndbh-ba\n",
      "wykoff_partial_mixed_ballndbh-ba_batch00\n"
     ]
    },
    {
     "name": "stderr",
     "output_type": "stream",
     "text": [
      "sample: 100%|█| 2000/2000 [32:00<00:00,  1.04it/s, 255 steps of size 1.96e-02. a\n"
     ]
    },
    {
     "name": "stdout",
     "output_type": "stream",
     "text": [
      "Done.\n",
      "Samples saved at ../../models/maicf/WH//wykoff_partial_mixed_ballndbh-ba_batch00.pkl\n",
      "MCMC saved at ../../models/maicf/WH//wykoff_partial_mixed_ballndbh-ba_batch00_mcmc.pkl\n",
      "wykoff_unpooled_mixed_ballndbh-lnba\n",
      "wykoff_unpooled_mixed_ballndbh-lnba_batch00\n"
     ]
    },
    {
     "name": "stderr",
     "output_type": "stream",
     "text": [
      "sample: 100%|█| 2000/2000 [20:16<00:00,  1.64it/s, 255 steps of size 1.95e-02. a\n"
     ]
    },
    {
     "name": "stdout",
     "output_type": "stream",
     "text": [
      "Done.\n",
      "Samples saved at ../../models/maicf/WH//wykoff_unpooled_mixed_ballndbh-lnba_batch00.pkl\n",
      "MCMC saved at ../../models/maicf/WH//wykoff_unpooled_mixed_ballndbh-lnba_batch00_mcmc.pkl\n",
      "wykoff_partial_mixed_ballndbh-lnba\n",
      "wykoff_partial_mixed_ballndbh-lnba_batch00\n"
     ]
    },
    {
     "name": "stderr",
     "output_type": "stream",
     "text": [
      "sample: 100%|█| 2000/2000 [32:55<00:00,  1.01it/s, 255 steps of size 1.73e-02. a\n"
     ]
    },
    {
     "name": "stdout",
     "output_type": "stream",
     "text": [
      "Done.\n",
      "Samples saved at ../../models/maicf/WH//wykoff_partial_mixed_ballndbh-lnba_batch00.pkl\n",
      "MCMC saved at ../../models/maicf/WH//wykoff_partial_mixed_ballndbh-lnba_batch00_mcmc.pkl\n",
      "wykoff_unpooled_mixed_ballndbh-ccf\n",
      "wykoff_unpooled_mixed_ballndbh-ccf_batch00\n"
     ]
    },
    {
     "name": "stderr",
     "output_type": "stream",
     "text": [
      "sample: 100%|█| 2000/2000 [19:52<00:00,  1.68it/s, 255 steps of size 2.09e-02. a\n"
     ]
    },
    {
     "name": "stdout",
     "output_type": "stream",
     "text": [
      "Done.\n",
      "Samples saved at ../../models/maicf/WH//wykoff_unpooled_mixed_ballndbh-ccf_batch00.pkl\n",
      "MCMC saved at ../../models/maicf/WH//wykoff_unpooled_mixed_ballndbh-ccf_batch00_mcmc.pkl\n",
      "wykoff_partial_mixed_ballndbh-ccf\n",
      "wykoff_partial_mixed_ballndbh-ccf_batch00\n"
     ]
    },
    {
     "name": "stderr",
     "output_type": "stream",
     "text": [
      "sample: 100%|█| 2000/2000 [32:03<00:00,  1.04it/s, 255 steps of size 1.69e-02. a\n"
     ]
    },
    {
     "name": "stdout",
     "output_type": "stream",
     "text": [
      "Done.\n",
      "Samples saved at ../../models/maicf/WH//wykoff_partial_mixed_ballndbh-ccf_batch00.pkl\n",
      "MCMC saved at ../../models/maicf/WH//wykoff_partial_mixed_ballndbh-ccf_batch00_mcmc.pkl\n"
     ]
    }
   ],
   "source": [
    "for tree_comp in ['bal', 'relht', 'ballndbh']:\n",
    "    for stand_comp in ['ba', 'lnba', 'ccf']:\n",
    "        for pooling in ['unpooled', 'partial']:\n",
    "            model_name = f\"wykoff_{pooling}_mixed_{tree_comp}-{stand_comp}\"\n",
    "            fit_wykoff(\n",
    "                bark_b0,\n",
    "                bark_b1,\n",
    "                bark_b2,\n",
    "                tree_comp,\n",
    "                stand_comp,\n",
    "                pooling,\n",
    "                LOC_RANDOM,\n",
    "                PLOT_RANDOM,\n",
    "                NUM_CYCLES,\n",
    "                data,\n",
    "                model_name,\n",
    "                CHECKPOINT_DIR,\n",
    "                NUM_WARMUP,\n",
    "                NUM_SAMPLES,\n",
    "                NUM_CHAINS,\n",
    "                CHAIN_METHOD,\n",
    "                NUM_BATCHES,\n",
    "                SEED,\n",
    "                PROGRESS_BAR,\n",
    "                OVERWRITE\n",
    "            )"
   ]
  },
  {
   "cell_type": "code",
   "execution_count": 9,
   "id": "d000f348-ff1e-418e-8d61-f072fe009df5",
   "metadata": {},
   "outputs": [
    {
     "name": "stdout",
     "output_type": "stream",
     "text": [
      "simplerwykoff_unpooled_mixed_bal-ba\n",
      "simplerwykoff_unpooled_mixed_bal-ba_batch00\n"
     ]
    },
    {
     "name": "stderr",
     "output_type": "stream",
     "text": [
      "sample: 100%|█| 2000/2000 [15:14<00:00,  2.19it/s, 255 steps of size 1.92e-02. a\n"
     ]
    },
    {
     "name": "stdout",
     "output_type": "stream",
     "text": [
      "Done.\n",
      "Samples saved at ../../models/maicf/WH//simplerwykoff_unpooled_mixed_bal-ba_batch00.pkl\n",
      "MCMC saved at ../../models/maicf/WH//simplerwykoff_unpooled_mixed_bal-ba_batch00_mcmc.pkl\n",
      "simplerwykoff_unpooled_mixed_bal-lnba\n",
      "simplerwykoff_unpooled_mixed_bal-lnba_batch00\n"
     ]
    },
    {
     "name": "stderr",
     "output_type": "stream",
     "text": [
      "sample: 100%|█| 2000/2000 [15:23<00:00,  2.17it/s, 255 steps of size 1.89e-02. a\n"
     ]
    },
    {
     "name": "stdout",
     "output_type": "stream",
     "text": [
      "Done.\n",
      "Samples saved at ../../models/maicf/WH//simplerwykoff_unpooled_mixed_bal-lnba_batch00.pkl\n",
      "MCMC saved at ../../models/maicf/WH//simplerwykoff_unpooled_mixed_bal-lnba_batch00_mcmc.pkl\n",
      "simplerwykoff_unpooled_mixed_bal-ccf\n",
      "simplerwykoff_unpooled_mixed_bal-ccf_batch00\n"
     ]
    },
    {
     "name": "stderr",
     "output_type": "stream",
     "text": [
      "sample: 100%|█| 2000/2000 [15:13<00:00,  2.19it/s, 255 steps of size 2.16e-02. a\n"
     ]
    },
    {
     "name": "stdout",
     "output_type": "stream",
     "text": [
      "Done.\n",
      "Samples saved at ../../models/maicf/WH//simplerwykoff_unpooled_mixed_bal-ccf_batch00.pkl\n",
      "MCMC saved at ../../models/maicf/WH//simplerwykoff_unpooled_mixed_bal-ccf_batch00_mcmc.pkl\n",
      "simplerwykoff_unpooled_mixed_relht-ba\n",
      "simplerwykoff_unpooled_mixed_relht-ba_batch00\n"
     ]
    },
    {
     "name": "stderr",
     "output_type": "stream",
     "text": [
      "sample: 100%|█| 2000/2000 [15:20<00:00,  2.17it/s, 255 steps of size 1.83e-02. a\n"
     ]
    },
    {
     "name": "stdout",
     "output_type": "stream",
     "text": [
      "Done.\n",
      "Samples saved at ../../models/maicf/WH//simplerwykoff_unpooled_mixed_relht-ba_batch00.pkl\n",
      "MCMC saved at ../../models/maicf/WH//simplerwykoff_unpooled_mixed_relht-ba_batch00_mcmc.pkl\n",
      "simplerwykoff_unpooled_mixed_relht-lnba\n",
      "simplerwykoff_unpooled_mixed_relht-lnba_batch00\n"
     ]
    },
    {
     "name": "stderr",
     "output_type": "stream",
     "text": [
      "sample: 100%|█| 2000/2000 [15:36<00:00,  2.14it/s, 255 steps of size 2.09e-02. a\n"
     ]
    },
    {
     "name": "stdout",
     "output_type": "stream",
     "text": [
      "Done.\n",
      "Samples saved at ../../models/maicf/WH//simplerwykoff_unpooled_mixed_relht-lnba_batch00.pkl\n",
      "MCMC saved at ../../models/maicf/WH//simplerwykoff_unpooled_mixed_relht-lnba_batch00_mcmc.pkl\n",
      "simplerwykoff_unpooled_mixed_relht-ccf\n",
      "simplerwykoff_unpooled_mixed_relht-ccf_batch00\n"
     ]
    },
    {
     "name": "stderr",
     "output_type": "stream",
     "text": [
      "sample: 100%|█| 2000/2000 [15:33<00:00,  2.14it/s, 255 steps of size 1.86e-02. a\n"
     ]
    },
    {
     "name": "stdout",
     "output_type": "stream",
     "text": [
      "Done.\n",
      "Samples saved at ../../models/maicf/WH//simplerwykoff_unpooled_mixed_relht-ccf_batch00.pkl\n",
      "MCMC saved at ../../models/maicf/WH//simplerwykoff_unpooled_mixed_relht-ccf_batch00_mcmc.pkl\n",
      "simplerwykoff_unpooled_mixed_ballndbh-ba\n",
      "simplerwykoff_unpooled_mixed_ballndbh-ba_batch00\n"
     ]
    },
    {
     "name": "stderr",
     "output_type": "stream",
     "text": [
      "sample: 100%|█| 2000/2000 [15:32<00:00,  2.14it/s, 255 steps of size 1.84e-02. a\n"
     ]
    },
    {
     "name": "stdout",
     "output_type": "stream",
     "text": [
      "Done.\n",
      "Samples saved at ../../models/maicf/WH//simplerwykoff_unpooled_mixed_ballndbh-ba_batch00.pkl\n",
      "MCMC saved at ../../models/maicf/WH//simplerwykoff_unpooled_mixed_ballndbh-ba_batch00_mcmc.pkl\n",
      "simplerwykoff_unpooled_mixed_ballndbh-lnba\n",
      "simplerwykoff_unpooled_mixed_ballndbh-lnba_batch00\n"
     ]
    },
    {
     "name": "stderr",
     "output_type": "stream",
     "text": [
      "sample: 100%|█| 2000/2000 [15:35<00:00,  2.14it/s, 255 steps of size 2.00e-02. a\n"
     ]
    },
    {
     "name": "stdout",
     "output_type": "stream",
     "text": [
      "Done.\n",
      "Samples saved at ../../models/maicf/WH//simplerwykoff_unpooled_mixed_ballndbh-lnba_batch00.pkl\n",
      "MCMC saved at ../../models/maicf/WH//simplerwykoff_unpooled_mixed_ballndbh-lnba_batch00_mcmc.pkl\n",
      "simplerwykoff_unpooled_mixed_ballndbh-ccf\n",
      "simplerwykoff_unpooled_mixed_ballndbh-ccf_batch00\n"
     ]
    },
    {
     "name": "stderr",
     "output_type": "stream",
     "text": [
      "sample: 100%|█| 2000/2000 [15:26<00:00,  2.16it/s, 255 steps of size 1.85e-02. a\n"
     ]
    },
    {
     "name": "stdout",
     "output_type": "stream",
     "text": [
      "Done.\n",
      "Samples saved at ../../models/maicf/WH//simplerwykoff_unpooled_mixed_ballndbh-ccf_batch00.pkl\n",
      "MCMC saved at ../../models/maicf/WH//simplerwykoff_unpooled_mixed_ballndbh-ccf_batch00_mcmc.pkl\n",
      "simplerwykoff_partial_mixed_bal-ba\n",
      "simplerwykoff_partial_mixed_bal-ba_batch00\n"
     ]
    },
    {
     "name": "stderr",
     "output_type": "stream",
     "text": [
      "sample: 100%|█| 2000/2000 [23:05<00:00,  1.44it/s, 255 steps of size 1.76e-02. a\n"
     ]
    },
    {
     "name": "stdout",
     "output_type": "stream",
     "text": [
      "Done.\n",
      "Samples saved at ../../models/maicf/WH//simplerwykoff_partial_mixed_bal-ba_batch00.pkl\n",
      "MCMC saved at ../../models/maicf/WH//simplerwykoff_partial_mixed_bal-ba_batch00_mcmc.pkl\n",
      "simplerwykoff_partial_mixed_bal-lnba\n",
      "simplerwykoff_partial_mixed_bal-lnba_batch00\n"
     ]
    },
    {
     "name": "stderr",
     "output_type": "stream",
     "text": [
      "sample: 100%|█| 2000/2000 [22:47<00:00,  1.46it/s, 255 steps of size 1.86e-02. a\n"
     ]
    },
    {
     "name": "stdout",
     "output_type": "stream",
     "text": [
      "Done.\n",
      "Samples saved at ../../models/maicf/WH//simplerwykoff_partial_mixed_bal-lnba_batch00.pkl\n",
      "MCMC saved at ../../models/maicf/WH//simplerwykoff_partial_mixed_bal-lnba_batch00_mcmc.pkl\n",
      "simplerwykoff_partial_mixed_bal-ccf\n",
      "simplerwykoff_partial_mixed_bal-ccf_batch00\n"
     ]
    },
    {
     "name": "stderr",
     "output_type": "stream",
     "text": [
      "sample: 100%|█| 2000/2000 [22:33<00:00,  1.48it/s, 255 steps of size 1.91e-02. a\n"
     ]
    },
    {
     "name": "stdout",
     "output_type": "stream",
     "text": [
      "Done.\n",
      "Samples saved at ../../models/maicf/WH//simplerwykoff_partial_mixed_bal-ccf_batch00.pkl\n",
      "MCMC saved at ../../models/maicf/WH//simplerwykoff_partial_mixed_bal-ccf_batch00_mcmc.pkl\n",
      "simplerwykoff_partial_mixed_relht-ba\n",
      "simplerwykoff_partial_mixed_relht-ba_batch00\n"
     ]
    },
    {
     "name": "stderr",
     "output_type": "stream",
     "text": [
      "sample: 100%|█| 2000/2000 [22:13<00:00,  1.50it/s, 255 steps of size 1.83e-02. a\n"
     ]
    },
    {
     "name": "stdout",
     "output_type": "stream",
     "text": [
      "Done.\n",
      "Samples saved at ../../models/maicf/WH//simplerwykoff_partial_mixed_relht-ba_batch00.pkl\n",
      "MCMC saved at ../../models/maicf/WH//simplerwykoff_partial_mixed_relht-ba_batch00_mcmc.pkl\n",
      "simplerwykoff_partial_mixed_relht-lnba\n",
      "simplerwykoff_partial_mixed_relht-lnba_batch00\n"
     ]
    },
    {
     "name": "stderr",
     "output_type": "stream",
     "text": [
      "sample: 100%|█| 2000/2000 [23:17<00:00,  1.43it/s, 255 steps of size 1.97e-02. a\n"
     ]
    },
    {
     "name": "stdout",
     "output_type": "stream",
     "text": [
      "Done.\n",
      "Samples saved at ../../models/maicf/WH//simplerwykoff_partial_mixed_relht-lnba_batch00.pkl\n",
      "MCMC saved at ../../models/maicf/WH//simplerwykoff_partial_mixed_relht-lnba_batch00_mcmc.pkl\n",
      "simplerwykoff_partial_mixed_relht-ccf\n",
      "simplerwykoff_partial_mixed_relht-ccf_batch00\n"
     ]
    },
    {
     "name": "stderr",
     "output_type": "stream",
     "text": [
      "sample: 100%|█| 2000/2000 [23:07<00:00,  1.44it/s, 255 steps of size 1.76e-02. a\n"
     ]
    },
    {
     "name": "stdout",
     "output_type": "stream",
     "text": [
      "Done.\n",
      "Samples saved at ../../models/maicf/WH//simplerwykoff_partial_mixed_relht-ccf_batch00.pkl\n",
      "MCMC saved at ../../models/maicf/WH//simplerwykoff_partial_mixed_relht-ccf_batch00_mcmc.pkl\n",
      "simplerwykoff_partial_mixed_ballndbh-ba\n",
      "simplerwykoff_partial_mixed_ballndbh-ba_batch00\n"
     ]
    },
    {
     "name": "stderr",
     "output_type": "stream",
     "text": [
      "sample: 100%|█| 2000/2000 [22:24<00:00,  1.49it/s, 255 steps of size 1.95e-02. a\n"
     ]
    },
    {
     "name": "stdout",
     "output_type": "stream",
     "text": [
      "Done.\n",
      "Samples saved at ../../models/maicf/WH//simplerwykoff_partial_mixed_ballndbh-ba_batch00.pkl\n",
      "MCMC saved at ../../models/maicf/WH//simplerwykoff_partial_mixed_ballndbh-ba_batch00_mcmc.pkl\n",
      "simplerwykoff_partial_mixed_ballndbh-lnba\n",
      "simplerwykoff_partial_mixed_ballndbh-lnba_batch00\n"
     ]
    },
    {
     "name": "stderr",
     "output_type": "stream",
     "text": [
      "sample: 100%|█| 2000/2000 [22:45<00:00,  1.46it/s, 255 steps of size 1.85e-02. a\n"
     ]
    },
    {
     "name": "stdout",
     "output_type": "stream",
     "text": [
      "Done.\n",
      "Samples saved at ../../models/maicf/WH//simplerwykoff_partial_mixed_ballndbh-lnba_batch00.pkl\n",
      "MCMC saved at ../../models/maicf/WH//simplerwykoff_partial_mixed_ballndbh-lnba_batch00_mcmc.pkl\n",
      "simplerwykoff_partial_mixed_ballndbh-ccf\n",
      "simplerwykoff_partial_mixed_ballndbh-ccf_batch00\n"
     ]
    },
    {
     "name": "stderr",
     "output_type": "stream",
     "text": [
      "sample: 100%|█| 2000/2000 [23:09<00:00,  1.44it/s, 255 steps of size 1.81e-02. a\n"
     ]
    },
    {
     "name": "stdout",
     "output_type": "stream",
     "text": [
      "Done.\n",
      "Samples saved at ../../models/maicf/WH//simplerwykoff_partial_mixed_ballndbh-ccf_batch00.pkl\n",
      "MCMC saved at ../../models/maicf/WH//simplerwykoff_partial_mixed_ballndbh-ccf_batch00_mcmc.pkl\n"
     ]
    }
   ],
   "source": [
    "for pooling in ['unpooled', 'partial']:\n",
    "    for tree_comp in ['bal', 'relht', 'ballndbh']:\n",
    "        for stand_comp in ['ba', 'lnba', 'ccf']:\n",
    "            model_name = f\"simplerwykoff_{pooling}_mixed_{tree_comp}-{stand_comp}\"\n",
    "            fit_simpler_wykoff(\n",
    "                bark_b0,\n",
    "                bark_b1,\n",
    "                bark_b2,\n",
    "                tree_comp,\n",
    "                stand_comp,\n",
    "                pooling,\n",
    "                LOC_RANDOM,\n",
    "                PLOT_RANDOM,\n",
    "                NUM_CYCLES,\n",
    "                data,\n",
    "                model_name,\n",
    "                CHECKPOINT_DIR,\n",
    "                NUM_WARMUP,\n",
    "                NUM_SAMPLES,\n",
    "                NUM_CHAINS,\n",
    "                CHAIN_METHOD,\n",
    "                NUM_BATCHES,\n",
    "                SEED,\n",
    "                PROGRESS_BAR,\n",
    "                OVERWRITE\n",
    "            )"
   ]
  }
 ],
 "metadata": {
  "kernelspec": {
   "display_name": "Python [conda env:miniconda3-refit_fvs]",
   "language": "python",
   "name": "conda-env-miniconda3-refit_fvs-py"
  },
  "language_info": {
   "codemirror_mode": {
    "name": "ipython",
    "version": 3
   },
   "file_extension": ".py",
   "mimetype": "text/x-python",
   "name": "python",
   "nbconvert_exporter": "python",
   "pygments_lexer": "ipython3",
   "version": "3.10.6"
  }
 },
 "nbformat": 4,
 "nbformat_minor": 5
}
