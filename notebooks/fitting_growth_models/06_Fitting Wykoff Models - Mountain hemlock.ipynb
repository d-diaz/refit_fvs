{
 "cells": [
  {
   "cell_type": "code",
   "execution_count": 1,
   "id": "0e392d45-86b1-4de8-9748-0086f5e40d46",
   "metadata": {},
   "outputs": [],
   "source": [
    "import pandas as pd\n",
    "import os\n",
    "import numpyro\n",
    "from refit_fvs.data.load import fia_for_diameter_growth_modeling\n",
    "from refit_fvs.models.fit import fit_wykoff, fit_simpler_wykoff"
   ]
  },
  {
   "cell_type": "code",
   "execution_count": 2,
   "id": "b75769a8-46d8-421b-bc3f-f65be4f20168",
   "metadata": {},
   "outputs": [],
   "source": [
    "os.environ[\"XLA_PYTHON_CLIENT_MEM_FRACTION\"] = \"0.75\"\n",
    "numpyro.set_platform(\"gpu\")\n",
    "numpyro.set_host_device_count(3)"
   ]
  },
  {
   "cell_type": "markdown",
   "id": "9bd96038-f30a-48d1-81ba-f2593e8be408",
   "metadata": {},
   "source": [
    "# Select species\n",
    "Identify species codes and the FVS variant from which bark ratio coefficients should be drawn."
   ]
  },
  {
   "cell_type": "code",
   "execution_count": 3,
   "id": "e5c84098-1dba-4c19-bc06-fa8eae8a2f60",
   "metadata": {},
   "outputs": [],
   "source": [
    "FVS_ALPHA = \"MH\"\n",
    "BARK_VAR = \"WC\"\n",
    "FIA_SPCD = 264"
   ]
  },
  {
   "cell_type": "code",
   "execution_count": 4,
   "id": "9db5d35d-29aa-43fb-a775-94229fa52247",
   "metadata": {},
   "outputs": [
    {
     "data": {
      "text/plain": [
       "(0.0, 0.94967, 1.0)"
      ]
     },
     "execution_count": 4,
     "metadata": {},
     "output_type": "execute_result"
    }
   ],
   "source": [
    "BARK_COEFS = \"../../data/raw/fvs_barkratio_coefs.csv\"\n",
    "bark = pd.read_csv(BARK_COEFS).set_index([\"FIA_SPCD\", \"FVS_VARIANT\"])\n",
    "\n",
    "bark_b0, bark_b1, bark_b2 = bark.loc[FIA_SPCD, BARK_VAR][[\"BARK_B0\", \"BARK_B1\", \"BARK_B2\"]]\n",
    "bark_b0, bark_b1, bark_b2"
   ]
  },
  {
   "cell_type": "markdown",
   "id": "7d812fc8-0f00-43ef-9993-3eb576f62af9",
   "metadata": {},
   "source": [
    "# Model-fitting parameters\n",
    "These don't usually need to be updated when fitting a new species unless you want to add more chains or samples per chain."
   ]
  },
  {
   "cell_type": "code",
   "execution_count": 5,
   "id": "a81b074f-f9c8-47a9-a89b-bd15787de9d3",
   "metadata": {},
   "outputs": [],
   "source": [
    "NUM_CYCLES = 2\n",
    "LOC_RANDOM = True\n",
    "PLOT_RANDOM = True\n",
    "CHECKPOINT_DIR = f\"../../models/maicf/{FVS_ALPHA}/\"\n",
    "NUM_WARMUP = 1000\n",
    "NUM_SAMPLES = 1000\n",
    "NUM_CHAINS = 1\n",
    "CHAIN_METHOD = \"parallel\"\n",
    "NUM_BATCHES = 1\n",
    "SEED = 42\n",
    "PROGRESS_BAR = True\n",
    "OVERWRITE = False"
   ]
  },
  {
   "cell_type": "code",
   "execution_count": 6,
   "id": "3f43e10f-90ba-4806-8945-e7bde2cf8dac",
   "metadata": {},
   "outputs": [
    {
     "data": {
      "text/html": [
       "<div>\n",
       "<style scoped>\n",
       "    .dataframe tbody tr th:only-of-type {\n",
       "        vertical-align: middle;\n",
       "    }\n",
       "\n",
       "    .dataframe tbody tr th {\n",
       "        vertical-align: top;\n",
       "    }\n",
       "\n",
       "    .dataframe thead th {\n",
       "        text-align: right;\n",
       "    }\n",
       "</style>\n",
       "<table border=\"1\" class=\"dataframe\">\n",
       "  <thead>\n",
       "    <tr style=\"text-align: right;\">\n",
       "      <th></th>\n",
       "      <th>LOCATION</th>\n",
       "      <th>PLOT_ID</th>\n",
       "      <th>FIA_SPCD</th>\n",
       "      <th>MAICF</th>\n",
       "      <th>SLOPE</th>\n",
       "      <th>ASPECT</th>\n",
       "      <th>ELEV</th>\n",
       "      <th>DBH</th>\n",
       "      <th>CR</th>\n",
       "      <th>CR_NEXT</th>\n",
       "      <th>...</th>\n",
       "      <th>INC5YR</th>\n",
       "      <th>INC10YR</th>\n",
       "      <th>MEASYEAR</th>\n",
       "      <th>MEASMON</th>\n",
       "      <th>MEASYEAR_NEXT</th>\n",
       "      <th>MEASMON_NEXT</th>\n",
       "      <th>MEAS_INTERVAL</th>\n",
       "      <th>VAR_IDX</th>\n",
       "      <th>LOC_IDX</th>\n",
       "      <th>PLOT_IDX</th>\n",
       "    </tr>\n",
       "  </thead>\n",
       "  <tbody>\n",
       "    <tr>\n",
       "      <th>count</th>\n",
       "      <td>4123.000000</td>\n",
       "      <td>4.123000e+03</td>\n",
       "      <td>4123.0</td>\n",
       "      <td>4123.000000</td>\n",
       "      <td>4123.000000</td>\n",
       "      <td>4123.000000</td>\n",
       "      <td>4123.000000</td>\n",
       "      <td>4123.000000</td>\n",
       "      <td>4123.000000</td>\n",
       "      <td>4123.000000</td>\n",
       "      <td>...</td>\n",
       "      <td>141.000000</td>\n",
       "      <td>141.000000</td>\n",
       "      <td>4123.000000</td>\n",
       "      <td>4123.000000</td>\n",
       "      <td>4123.000000</td>\n",
       "      <td>4123.000000</td>\n",
       "      <td>4123.0</td>\n",
       "      <td>4123.000000</td>\n",
       "      <td>4123.000000</td>\n",
       "      <td>4123.000000</td>\n",
       "    </tr>\n",
       "    <tr>\n",
       "      <th>mean</th>\n",
       "      <td>596.586951</td>\n",
       "      <td>4.052218e+11</td>\n",
       "      <td>264.0</td>\n",
       "      <td>55.014876</td>\n",
       "      <td>0.292508</td>\n",
       "      <td>3.109531</td>\n",
       "      <td>57.623333</td>\n",
       "      <td>15.111521</td>\n",
       "      <td>0.576539</td>\n",
       "      <td>0.562006</td>\n",
       "      <td>...</td>\n",
       "      <td>0.165248</td>\n",
       "      <td>0.333333</td>\n",
       "      <td>2005.366723</td>\n",
       "      <td>8.167839</td>\n",
       "      <td>2015.366723</td>\n",
       "      <td>7.991754</td>\n",
       "      <td>10.0</td>\n",
       "      <td>2.780015</td>\n",
       "      <td>10.749212</td>\n",
       "      <td>273.875819</td>\n",
       "    </tr>\n",
       "    <tr>\n",
       "      <th>std</th>\n",
       "      <td>43.382655</td>\n",
       "      <td>1.381559e+11</td>\n",
       "      <td>0.0</td>\n",
       "      <td>36.094264</td>\n",
       "      <td>0.224943</td>\n",
       "      <td>2.059593</td>\n",
       "      <td>13.894540</td>\n",
       "      <td>9.806877</td>\n",
       "      <td>0.189249</td>\n",
       "      <td>0.187621</td>\n",
       "      <td>...</td>\n",
       "      <td>0.113852</td>\n",
       "      <td>0.235104</td>\n",
       "      <td>2.438049</td>\n",
       "      <td>1.114922</td>\n",
       "      <td>2.438049</td>\n",
       "      <td>1.115995</td>\n",
       "      <td>0.0</td>\n",
       "      <td>2.033291</td>\n",
       "      <td>5.831673</td>\n",
       "      <td>139.185844</td>\n",
       "    </tr>\n",
       "    <tr>\n",
       "      <th>min</th>\n",
       "      <td>113.000000</td>\n",
       "      <td>6.020896e+10</td>\n",
       "      <td>264.0</td>\n",
       "      <td>2.800000</td>\n",
       "      <td>0.000000</td>\n",
       "      <td>0.000000</td>\n",
       "      <td>19.000000</td>\n",
       "      <td>5.000000</td>\n",
       "      <td>0.020000</td>\n",
       "      <td>0.020000</td>\n",
       "      <td>...</td>\n",
       "      <td>0.050000</td>\n",
       "      <td>0.050000</td>\n",
       "      <td>2001.000000</td>\n",
       "      <td>5.000000</td>\n",
       "      <td>2011.000000</td>\n",
       "      <td>4.000000</td>\n",
       "      <td>10.0</td>\n",
       "      <td>0.000000</td>\n",
       "      <td>0.000000</td>\n",
       "      <td>0.000000</td>\n",
       "    </tr>\n",
       "    <tr>\n",
       "      <th>25%</th>\n",
       "      <td>601.000000</td>\n",
       "      <td>4.101040e+11</td>\n",
       "      <td>264.0</td>\n",
       "      <td>29.244000</td>\n",
       "      <td>0.120000</td>\n",
       "      <td>1.221730</td>\n",
       "      <td>49.000000</td>\n",
       "      <td>7.200000</td>\n",
       "      <td>0.450000</td>\n",
       "      <td>0.400000</td>\n",
       "      <td>...</td>\n",
       "      <td>0.100000</td>\n",
       "      <td>0.150000</td>\n",
       "      <td>2003.000000</td>\n",
       "      <td>7.000000</td>\n",
       "      <td>2013.000000</td>\n",
       "      <td>7.000000</td>\n",
       "      <td>10.0</td>\n",
       "      <td>1.000000</td>\n",
       "      <td>6.000000</td>\n",
       "      <td>163.000000</td>\n",
       "    </tr>\n",
       "    <tr>\n",
       "      <th>50%</th>\n",
       "      <td>606.000000</td>\n",
       "      <td>4.103018e+11</td>\n",
       "      <td>264.0</td>\n",
       "      <td>42.800000</td>\n",
       "      <td>0.200000</td>\n",
       "      <td>3.176499</td>\n",
       "      <td>57.000000</td>\n",
       "      <td>11.500000</td>\n",
       "      <td>0.600000</td>\n",
       "      <td>0.560000</td>\n",
       "      <td>...</td>\n",
       "      <td>0.150000</td>\n",
       "      <td>0.300000</td>\n",
       "      <td>2005.000000</td>\n",
       "      <td>8.000000</td>\n",
       "      <td>2015.000000</td>\n",
       "      <td>8.000000</td>\n",
       "      <td>10.0</td>\n",
       "      <td>2.000000</td>\n",
       "      <td>12.000000</td>\n",
       "      <td>279.000000</td>\n",
       "    </tr>\n",
       "    <tr>\n",
       "      <th>75%</th>\n",
       "      <td>617.000000</td>\n",
       "      <td>5.305058e+11</td>\n",
       "      <td>264.0</td>\n",
       "      <td>74.762000</td>\n",
       "      <td>0.420000</td>\n",
       "      <td>5.096361</td>\n",
       "      <td>63.000000</td>\n",
       "      <td>21.000000</td>\n",
       "      <td>0.700000</td>\n",
       "      <td>0.700000</td>\n",
       "      <td>...</td>\n",
       "      <td>0.200000</td>\n",
       "      <td>0.400000</td>\n",
       "      <td>2008.000000</td>\n",
       "      <td>9.000000</td>\n",
       "      <td>2018.000000</td>\n",
       "      <td>9.000000</td>\n",
       "      <td>10.0</td>\n",
       "      <td>5.000000</td>\n",
       "      <td>15.000000</td>\n",
       "      <td>390.000000</td>\n",
       "    </tr>\n",
       "    <tr>\n",
       "      <th>max</th>\n",
       "      <td>710.000000</td>\n",
       "      <td>5.309064e+11</td>\n",
       "      <td>264.0</td>\n",
       "      <td>195.000000</td>\n",
       "      <td>1.550000</td>\n",
       "      <td>6.283185</td>\n",
       "      <td>99.000000</td>\n",
       "      <td>61.600000</td>\n",
       "      <td>0.990000</td>\n",
       "      <td>0.990000</td>\n",
       "      <td>...</td>\n",
       "      <td>0.600000</td>\n",
       "      <td>1.250000</td>\n",
       "      <td>2009.000000</td>\n",
       "      <td>11.000000</td>\n",
       "      <td>2019.000000</td>\n",
       "      <td>11.000000</td>\n",
       "      <td>10.0</td>\n",
       "      <td>8.000000</td>\n",
       "      <td>27.000000</td>\n",
       "      <td>510.000000</td>\n",
       "    </tr>\n",
       "  </tbody>\n",
       "</table>\n",
       "<p>8 rows × 29 columns</p>\n",
       "</div>"
      ],
      "text/plain": [
       "          LOCATION       PLOT_ID  FIA_SPCD        MAICF        SLOPE  \\\n",
       "count  4123.000000  4.123000e+03    4123.0  4123.000000  4123.000000   \n",
       "mean    596.586951  4.052218e+11     264.0    55.014876     0.292508   \n",
       "std      43.382655  1.381559e+11       0.0    36.094264     0.224943   \n",
       "min     113.000000  6.020896e+10     264.0     2.800000     0.000000   \n",
       "25%     601.000000  4.101040e+11     264.0    29.244000     0.120000   \n",
       "50%     606.000000  4.103018e+11     264.0    42.800000     0.200000   \n",
       "75%     617.000000  5.305058e+11     264.0    74.762000     0.420000   \n",
       "max     710.000000  5.309064e+11     264.0   195.000000     1.550000   \n",
       "\n",
       "            ASPECT         ELEV          DBH           CR      CR_NEXT  ...  \\\n",
       "count  4123.000000  4123.000000  4123.000000  4123.000000  4123.000000  ...   \n",
       "mean      3.109531    57.623333    15.111521     0.576539     0.562006  ...   \n",
       "std       2.059593    13.894540     9.806877     0.189249     0.187621  ...   \n",
       "min       0.000000    19.000000     5.000000     0.020000     0.020000  ...   \n",
       "25%       1.221730    49.000000     7.200000     0.450000     0.400000  ...   \n",
       "50%       3.176499    57.000000    11.500000     0.600000     0.560000  ...   \n",
       "75%       5.096361    63.000000    21.000000     0.700000     0.700000  ...   \n",
       "max       6.283185    99.000000    61.600000     0.990000     0.990000  ...   \n",
       "\n",
       "           INC5YR     INC10YR     MEASYEAR      MEASMON  MEASYEAR_NEXT  \\\n",
       "count  141.000000  141.000000  4123.000000  4123.000000    4123.000000   \n",
       "mean     0.165248    0.333333  2005.366723     8.167839    2015.366723   \n",
       "std      0.113852    0.235104     2.438049     1.114922       2.438049   \n",
       "min      0.050000    0.050000  2001.000000     5.000000    2011.000000   \n",
       "25%      0.100000    0.150000  2003.000000     7.000000    2013.000000   \n",
       "50%      0.150000    0.300000  2005.000000     8.000000    2015.000000   \n",
       "75%      0.200000    0.400000  2008.000000     9.000000    2018.000000   \n",
       "max      0.600000    1.250000  2009.000000    11.000000    2019.000000   \n",
       "\n",
       "       MEASMON_NEXT  MEAS_INTERVAL      VAR_IDX      LOC_IDX     PLOT_IDX  \n",
       "count   4123.000000         4123.0  4123.000000  4123.000000  4123.000000  \n",
       "mean       7.991754           10.0     2.780015    10.749212   273.875819  \n",
       "std        1.115995            0.0     2.033291     5.831673   139.185844  \n",
       "min        4.000000           10.0     0.000000     0.000000     0.000000  \n",
       "25%        7.000000           10.0     1.000000     6.000000   163.000000  \n",
       "50%        8.000000           10.0     2.000000    12.000000   279.000000  \n",
       "75%        9.000000           10.0     5.000000    15.000000   390.000000  \n",
       "max       11.000000           10.0     8.000000    27.000000   510.000000  \n",
       "\n",
       "[8 rows x 29 columns]"
      ]
     },
     "execution_count": 6,
     "metadata": {},
     "output_type": "execute_result"
    }
   ],
   "source": [
    "data, factors = fia_for_diameter_growth_modeling(\n",
    "    path=\"../../data/interim/FIA_remeasured_trees_for_training.csv\",\n",
    "    filter_spp=[FIA_SPCD]\n",
    ")\n",
    "obs_variants, obs_locations, obs_plots = factors\n",
    "data.describe()"
   ]
  },
  {
   "cell_type": "code",
   "execution_count": 7,
   "id": "fa6efd78-c55b-4fd6-8bb7-b065e7411842",
   "metadata": {},
   "outputs": [
    {
     "name": "stdout",
     "output_type": "stream",
     "text": [
      "wykoff_unpooled_mixed_bal-ba\n",
      "wykoff_unpooled_mixed_bal-ba_batch00\n"
     ]
    },
    {
     "name": "stderr",
     "output_type": "stream",
     "text": [
      "sample: 100%|█| 2000/2000 [13:53<00:00,  2.40it/s, 255 steps of size 2.56e-02. a\n"
     ]
    },
    {
     "name": "stdout",
     "output_type": "stream",
     "text": [
      "Done.\n",
      "Samples saved at ../../models/maicf/MH//wykoff_unpooled_mixed_bal-ba_batch00.pkl\n",
      "MCMC saved at ../../models/maicf/MH//wykoff_unpooled_mixed_bal-ba_batch00_mcmc.pkl\n",
      "wykoff_partial_mixed_bal-ba\n",
      "wykoff_partial_mixed_bal-ba_batch00\n"
     ]
    },
    {
     "name": "stderr",
     "output_type": "stream",
     "text": [
      "sample: 100%|█| 2000/2000 [25:42<00:00,  1.30it/s, 255 steps of size 2.04e-02. a\n"
     ]
    },
    {
     "name": "stdout",
     "output_type": "stream",
     "text": [
      "Done.\n",
      "Samples saved at ../../models/maicf/MH//wykoff_partial_mixed_bal-ba_batch00.pkl\n",
      "MCMC saved at ../../models/maicf/MH//wykoff_partial_mixed_bal-ba_batch00_mcmc.pkl\n",
      "wykoff_unpooled_mixed_bal-lnba\n",
      "wykoff_unpooled_mixed_bal-lnba_batch00\n"
     ]
    },
    {
     "name": "stderr",
     "output_type": "stream",
     "text": [
      "sample: 100%|█| 2000/2000 [09:27<00:00,  3.53it/s, 127 steps of size 3.09e-02. a\n"
     ]
    },
    {
     "name": "stdout",
     "output_type": "stream",
     "text": [
      "Done.\n",
      "Samples saved at ../../models/maicf/MH//wykoff_unpooled_mixed_bal-lnba_batch00.pkl\n",
      "MCMC saved at ../../models/maicf/MH//wykoff_unpooled_mixed_bal-lnba_batch00_mcmc.pkl\n",
      "wykoff_partial_mixed_bal-lnba\n",
      "wykoff_partial_mixed_bal-lnba_batch00\n"
     ]
    },
    {
     "name": "stderr",
     "output_type": "stream",
     "text": [
      "sample: 100%|█| 2000/2000 [25:03<00:00,  1.33it/s, 255 steps of size 2.01e-02. a\n"
     ]
    },
    {
     "name": "stdout",
     "output_type": "stream",
     "text": [
      "Done.\n",
      "Samples saved at ../../models/maicf/MH//wykoff_partial_mixed_bal-lnba_batch00.pkl\n",
      "MCMC saved at ../../models/maicf/MH//wykoff_partial_mixed_bal-lnba_batch00_mcmc.pkl\n",
      "wykoff_unpooled_mixed_bal-ccf\n",
      "wykoff_unpooled_mixed_bal-ccf_batch00\n"
     ]
    },
    {
     "name": "stderr",
     "output_type": "stream",
     "text": [
      "sample: 100%|█| 2000/2000 [09:17<00:00,  3.59it/s, 127 steps of size 2.88e-02. a\n"
     ]
    },
    {
     "name": "stdout",
     "output_type": "stream",
     "text": [
      "Done.\n",
      "Samples saved at ../../models/maicf/MH//wykoff_unpooled_mixed_bal-ccf_batch00.pkl\n",
      "MCMC saved at ../../models/maicf/MH//wykoff_unpooled_mixed_bal-ccf_batch00_mcmc.pkl\n",
      "wykoff_partial_mixed_bal-ccf\n",
      "wykoff_partial_mixed_bal-ccf_batch00\n"
     ]
    },
    {
     "name": "stderr",
     "output_type": "stream",
     "text": [
      "warmup:  44%|▍| 889/2000 [12:05<11:05,  1.67it/s, 127 steps of size 3.04e-02. acIOPub message rate exceeded.\n",
      "The Jupyter server will temporarily stop sending output\n",
      "to the client in order to avoid crashing it.\n",
      "To change this limit, set the config variable\n",
      "`--ServerApp.iopub_msg_rate_limit`.\n",
      "\n",
      "Current values:\n",
      "ServerApp.iopub_msg_rate_limit=1000.0 (msgs/sec)\n",
      "ServerApp.rate_limit_window=3.0 (secs)\n",
      "\n",
      "sample: 100%|█| 2000/2000 [25:58<00:00,  1.28it/s, 255 steps of size 1.72e-02. a\n"
     ]
    },
    {
     "name": "stdout",
     "output_type": "stream",
     "text": [
      "Done.\n",
      "Samples saved at ../../models/maicf/MH//wykoff_partial_mixed_bal-ccf_batch00.pkl\n",
      "MCMC saved at ../../models/maicf/MH//wykoff_partial_mixed_bal-ccf_batch00_mcmc.pkl\n",
      "wykoff_unpooled_mixed_relht-ba\n",
      "wykoff_unpooled_mixed_relht-ba_batch00\n"
     ]
    },
    {
     "name": "stderr",
     "output_type": "stream",
     "text": [
      "sample: 100%|█| 2000/2000 [10:13<00:00,  3.26it/s, 127 steps of size 2.82e-02. a\n"
     ]
    },
    {
     "name": "stdout",
     "output_type": "stream",
     "text": [
      "Done.\n",
      "Samples saved at ../../models/maicf/MH//wykoff_unpooled_mixed_relht-ba_batch00.pkl\n",
      "MCMC saved at ../../models/maicf/MH//wykoff_unpooled_mixed_relht-ba_batch00_mcmc.pkl\n",
      "wykoff_partial_mixed_relht-ba\n",
      "wykoff_partial_mixed_relht-ba_batch00\n"
     ]
    },
    {
     "name": "stderr",
     "output_type": "stream",
     "text": [
      "sample: 100%|█| 2000/2000 [25:59<00:00,  1.28it/s, 255 steps of size 1.92e-02. a\n"
     ]
    },
    {
     "name": "stdout",
     "output_type": "stream",
     "text": [
      "Done.\n",
      "Samples saved at ../../models/maicf/MH//wykoff_partial_mixed_relht-ba_batch00.pkl\n",
      "MCMC saved at ../../models/maicf/MH//wykoff_partial_mixed_relht-ba_batch00_mcmc.pkl\n",
      "wykoff_unpooled_mixed_relht-lnba\n",
      "wykoff_unpooled_mixed_relht-lnba_batch00\n"
     ]
    },
    {
     "name": "stderr",
     "output_type": "stream",
     "text": [
      "sample: 100%|█| 2000/2000 [14:09<00:00,  2.35it/s, 255 steps of size 2.49e-02. a\n"
     ]
    },
    {
     "name": "stdout",
     "output_type": "stream",
     "text": [
      "Done.\n",
      "Samples saved at ../../models/maicf/MH//wykoff_unpooled_mixed_relht-lnba_batch00.pkl\n",
      "MCMC saved at ../../models/maicf/MH//wykoff_unpooled_mixed_relht-lnba_batch00_mcmc.pkl\n",
      "wykoff_partial_mixed_relht-lnba\n",
      "wykoff_partial_mixed_relht-lnba_batch00\n"
     ]
    },
    {
     "name": "stderr",
     "output_type": "stream",
     "text": [
      "sample: 100%|█| 2000/2000 [25:48<00:00,  1.29it/s, 255 steps of size 1.81e-02. a\n"
     ]
    },
    {
     "name": "stdout",
     "output_type": "stream",
     "text": [
      "Done.\n",
      "Samples saved at ../../models/maicf/MH//wykoff_partial_mixed_relht-lnba_batch00.pkl\n",
      "MCMC saved at ../../models/maicf/MH//wykoff_partial_mixed_relht-lnba_batch00_mcmc.pkl\n",
      "wykoff_unpooled_mixed_relht-ccf\n",
      "wykoff_unpooled_mixed_relht-ccf_batch00\n"
     ]
    },
    {
     "name": "stderr",
     "output_type": "stream",
     "text": [
      "sample: 100%|█| 2000/2000 [13:33<00:00,  2.46it/s, 255 steps of size 2.34e-02. a\n"
     ]
    },
    {
     "name": "stdout",
     "output_type": "stream",
     "text": [
      "Done.\n",
      "Samples saved at ../../models/maicf/MH//wykoff_unpooled_mixed_relht-ccf_batch00.pkl\n",
      "MCMC saved at ../../models/maicf/MH//wykoff_unpooled_mixed_relht-ccf_batch00_mcmc.pkl\n",
      "wykoff_partial_mixed_relht-ccf\n",
      "wykoff_partial_mixed_relht-ccf_batch00\n"
     ]
    },
    {
     "name": "stderr",
     "output_type": "stream",
     "text": [
      "sample: 100%|█| 2000/2000 [26:06<00:00,  1.28it/s, 255 steps of size 1.81e-02. a\n"
     ]
    },
    {
     "name": "stdout",
     "output_type": "stream",
     "text": [
      "Done.\n",
      "Samples saved at ../../models/maicf/MH//wykoff_partial_mixed_relht-ccf_batch00.pkl\n",
      "MCMC saved at ../../models/maicf/MH//wykoff_partial_mixed_relht-ccf_batch00_mcmc.pkl\n",
      "wykoff_unpooled_mixed_ballndbh-ba\n",
      "wykoff_unpooled_mixed_ballndbh-ba_batch00\n"
     ]
    },
    {
     "name": "stderr",
     "output_type": "stream",
     "text": [
      "sample: 100%|█| 2000/2000 [09:13<00:00,  3.61it/s, 127 steps of size 3.05e-02. a\n"
     ]
    },
    {
     "name": "stdout",
     "output_type": "stream",
     "text": [
      "Done.\n",
      "Samples saved at ../../models/maicf/MH//wykoff_unpooled_mixed_ballndbh-ba_batch00.pkl\n",
      "MCMC saved at ../../models/maicf/MH//wykoff_unpooled_mixed_ballndbh-ba_batch00_mcmc.pkl\n",
      "wykoff_partial_mixed_ballndbh-ba\n",
      "wykoff_partial_mixed_ballndbh-ba_batch00\n"
     ]
    },
    {
     "name": "stderr",
     "output_type": "stream",
     "text": [
      "sample: 100%|█| 2000/2000 [26:28<00:00,  1.26it/s, 255 steps of size 1.77e-02. a\n"
     ]
    },
    {
     "name": "stdout",
     "output_type": "stream",
     "text": [
      "Done.\n",
      "Samples saved at ../../models/maicf/MH//wykoff_partial_mixed_ballndbh-ba_batch00.pkl\n",
      "MCMC saved at ../../models/maicf/MH//wykoff_partial_mixed_ballndbh-ba_batch00_mcmc.pkl\n",
      "wykoff_unpooled_mixed_ballndbh-lnba\n",
      "wykoff_unpooled_mixed_ballndbh-lnba_batch00\n"
     ]
    },
    {
     "name": "stderr",
     "output_type": "stream",
     "text": [
      "sample: 100%|█| 2000/2000 [09:44<00:00,  3.42it/s, 127 steps of size 3.41e-02. a\n"
     ]
    },
    {
     "name": "stdout",
     "output_type": "stream",
     "text": [
      "Done.\n",
      "Samples saved at ../../models/maicf/MH//wykoff_unpooled_mixed_ballndbh-lnba_batch00.pkl\n",
      "MCMC saved at ../../models/maicf/MH//wykoff_unpooled_mixed_ballndbh-lnba_batch00_mcmc.pkl\n",
      "wykoff_partial_mixed_ballndbh-lnba\n",
      "wykoff_partial_mixed_ballndbh-lnba_batch00\n"
     ]
    },
    {
     "name": "stderr",
     "output_type": "stream",
     "text": [
      "sample: 100%|█| 2000/2000 [25:53<00:00,  1.29it/s, 255 steps of size 2.19e-02. a\n"
     ]
    },
    {
     "name": "stdout",
     "output_type": "stream",
     "text": [
      "Done.\n",
      "Samples saved at ../../models/maicf/MH//wykoff_partial_mixed_ballndbh-lnba_batch00.pkl\n",
      "MCMC saved at ../../models/maicf/MH//wykoff_partial_mixed_ballndbh-lnba_batch00_mcmc.pkl\n",
      "wykoff_unpooled_mixed_ballndbh-ccf\n",
      "wykoff_unpooled_mixed_ballndbh-ccf_batch00\n"
     ]
    },
    {
     "name": "stderr",
     "output_type": "stream",
     "text": [
      "sample: 100%|█| 2000/2000 [12:54<00:00,  2.58it/s, 255 steps of size 2.63e-02. a\n"
     ]
    },
    {
     "name": "stdout",
     "output_type": "stream",
     "text": [
      "Done.\n",
      "Samples saved at ../../models/maicf/MH//wykoff_unpooled_mixed_ballndbh-ccf_batch00.pkl\n",
      "MCMC saved at ../../models/maicf/MH//wykoff_unpooled_mixed_ballndbh-ccf_batch00_mcmc.pkl\n",
      "wykoff_partial_mixed_ballndbh-ccf\n",
      "wykoff_partial_mixed_ballndbh-ccf_batch00\n"
     ]
    },
    {
     "name": "stderr",
     "output_type": "stream",
     "text": [
      "sample: 100%|█| 2000/2000 [25:21<00:00,  1.31it/s, 255 steps of size 1.82e-02. a\n"
     ]
    },
    {
     "name": "stdout",
     "output_type": "stream",
     "text": [
      "Done.\n",
      "Samples saved at ../../models/maicf/MH//wykoff_partial_mixed_ballndbh-ccf_batch00.pkl\n",
      "MCMC saved at ../../models/maicf/MH//wykoff_partial_mixed_ballndbh-ccf_batch00_mcmc.pkl\n"
     ]
    }
   ],
   "source": [
    "for tree_comp in ['bal', 'relht', 'ballndbh']:\n",
    "    for stand_comp in ['ba', 'lnba', 'ccf']:\n",
    "        for pooling in ['unpooled', 'partial']:\n",
    "            model_name = f\"wykoff_{pooling}_mixed_{tree_comp}-{stand_comp}\"\n",
    "            fit_wykoff(\n",
    "                bark_b0,\n",
    "                bark_b1,\n",
    "                bark_b2,\n",
    "                tree_comp,\n",
    "                stand_comp,\n",
    "                pooling,\n",
    "                LOC_RANDOM,\n",
    "                PLOT_RANDOM,\n",
    "                NUM_CYCLES,\n",
    "                data,\n",
    "                model_name,\n",
    "                CHECKPOINT_DIR,\n",
    "                NUM_WARMUP,\n",
    "                NUM_SAMPLES,\n",
    "                NUM_CHAINS,\n",
    "                CHAIN_METHOD,\n",
    "                NUM_BATCHES,\n",
    "                SEED,\n",
    "                PROGRESS_BAR,\n",
    "                OVERWRITE\n",
    "            )"
   ]
  },
  {
   "cell_type": "code",
   "execution_count": 8,
   "id": "d000f348-ff1e-418e-8d61-f072fe009df5",
   "metadata": {},
   "outputs": [
    {
     "name": "stdout",
     "output_type": "stream",
     "text": [
      "simplerwykoff_unpooled_mixed_bal-ba\n",
      "simplerwykoff_unpooled_mixed_bal-ba_batch00\n"
     ]
    },
    {
     "name": "stderr",
     "output_type": "stream",
     "text": [
      "sample: 100%|█| 2000/2000 [10:25<00:00,  3.20it/s, 255 steps of size 2.47e-02. a\n"
     ]
    },
    {
     "name": "stdout",
     "output_type": "stream",
     "text": [
      "Done.\n",
      "Samples saved at ../../models/maicf/MH//simplerwykoff_unpooled_mixed_bal-ba_batch00.pkl\n",
      "MCMC saved at ../../models/maicf/MH//simplerwykoff_unpooled_mixed_bal-ba_batch00_mcmc.pkl\n",
      "simplerwykoff_unpooled_mixed_bal-lnba\n",
      "simplerwykoff_unpooled_mixed_bal-lnba_batch00\n"
     ]
    },
    {
     "name": "stderr",
     "output_type": "stream",
     "text": [
      "sample: 100%|█| 2000/2000 [10:12<00:00,  3.27it/s, 255 steps of size 2.62e-02. a\n"
     ]
    },
    {
     "name": "stdout",
     "output_type": "stream",
     "text": [
      "Done.\n",
      "Samples saved at ../../models/maicf/MH//simplerwykoff_unpooled_mixed_bal-lnba_batch00.pkl\n",
      "MCMC saved at ../../models/maicf/MH//simplerwykoff_unpooled_mixed_bal-lnba_batch00_mcmc.pkl\n",
      "simplerwykoff_unpooled_mixed_bal-ccf\n",
      "simplerwykoff_unpooled_mixed_bal-ccf_batch00\n"
     ]
    },
    {
     "name": "stderr",
     "output_type": "stream",
     "text": [
      "sample: 100%|█| 2000/2000 [10:25<00:00,  3.20it/s, 255 steps of size 2.40e-02. a\n"
     ]
    },
    {
     "name": "stdout",
     "output_type": "stream",
     "text": [
      "Done.\n",
      "Samples saved at ../../models/maicf/MH//simplerwykoff_unpooled_mixed_bal-ccf_batch00.pkl\n",
      "MCMC saved at ../../models/maicf/MH//simplerwykoff_unpooled_mixed_bal-ccf_batch00_mcmc.pkl\n",
      "simplerwykoff_unpooled_mixed_relht-ba\n",
      "simplerwykoff_unpooled_mixed_relht-ba_batch00\n"
     ]
    },
    {
     "name": "stderr",
     "output_type": "stream",
     "text": [
      "sample: 100%|█| 2000/2000 [07:20<00:00,  4.54it/s, 127 steps of size 3.24e-02. a\n"
     ]
    },
    {
     "name": "stdout",
     "output_type": "stream",
     "text": [
      "Done.\n",
      "Samples saved at ../../models/maicf/MH//simplerwykoff_unpooled_mixed_relht-ba_batch00.pkl\n",
      "MCMC saved at ../../models/maicf/MH//simplerwykoff_unpooled_mixed_relht-ba_batch00_mcmc.pkl\n",
      "simplerwykoff_unpooled_mixed_relht-lnba\n",
      "simplerwykoff_unpooled_mixed_relht-lnba_batch00\n"
     ]
    },
    {
     "name": "stderr",
     "output_type": "stream",
     "text": [
      "sample: 100%|█| 2000/2000 [10:51<00:00,  3.07it/s, 255 steps of size 2.37e-02. a\n"
     ]
    },
    {
     "name": "stdout",
     "output_type": "stream",
     "text": [
      "Done.\n",
      "Samples saved at ../../models/maicf/MH//simplerwykoff_unpooled_mixed_relht-lnba_batch00.pkl\n",
      "MCMC saved at ../../models/maicf/MH//simplerwykoff_unpooled_mixed_relht-lnba_batch00_mcmc.pkl\n",
      "simplerwykoff_unpooled_mixed_relht-ccf\n",
      "simplerwykoff_unpooled_mixed_relht-ccf_batch00\n"
     ]
    },
    {
     "name": "stderr",
     "output_type": "stream",
     "text": [
      "sample: 100%|█| 2000/2000 [10:56<00:00,  3.05it/s, 255 steps of size 2.35e-02. a\n"
     ]
    },
    {
     "name": "stdout",
     "output_type": "stream",
     "text": [
      "Done.\n",
      "Samples saved at ../../models/maicf/MH//simplerwykoff_unpooled_mixed_relht-ccf_batch00.pkl\n",
      "MCMC saved at ../../models/maicf/MH//simplerwykoff_unpooled_mixed_relht-ccf_batch00_mcmc.pkl\n",
      "simplerwykoff_unpooled_mixed_ballndbh-ba\n",
      "simplerwykoff_unpooled_mixed_ballndbh-ba_batch00\n"
     ]
    },
    {
     "name": "stderr",
     "output_type": "stream",
     "text": [
      "sample: 100%|█| 2000/2000 [10:08<00:00,  3.29it/s, 255 steps of size 2.41e-02. a\n"
     ]
    },
    {
     "name": "stdout",
     "output_type": "stream",
     "text": [
      "Done.\n",
      "Samples saved at ../../models/maicf/MH//simplerwykoff_unpooled_mixed_ballndbh-ba_batch00.pkl\n",
      "MCMC saved at ../../models/maicf/MH//simplerwykoff_unpooled_mixed_ballndbh-ba_batch00_mcmc.pkl\n",
      "simplerwykoff_unpooled_mixed_ballndbh-lnba\n",
      "simplerwykoff_unpooled_mixed_ballndbh-lnba_batch00\n"
     ]
    },
    {
     "name": "stderr",
     "output_type": "stream",
     "text": [
      "sample: 100%|█| 2000/2000 [07:28<00:00,  4.46it/s, 127 steps of size 3.23e-02. a\n"
     ]
    },
    {
     "name": "stdout",
     "output_type": "stream",
     "text": [
      "Done.\n",
      "Samples saved at ../../models/maicf/MH//simplerwykoff_unpooled_mixed_ballndbh-lnba_batch00.pkl\n",
      "MCMC saved at ../../models/maicf/MH//simplerwykoff_unpooled_mixed_ballndbh-lnba_batch00_mcmc.pkl\n",
      "simplerwykoff_unpooled_mixed_ballndbh-ccf\n",
      "simplerwykoff_unpooled_mixed_ballndbh-ccf_batch00\n"
     ]
    },
    {
     "name": "stderr",
     "output_type": "stream",
     "text": [
      "sample: 100%|█| 2000/2000 [07:45<00:00,  4.29it/s, 127 steps of size 2.86e-02. a\n"
     ]
    },
    {
     "name": "stdout",
     "output_type": "stream",
     "text": [
      "Done.\n",
      "Samples saved at ../../models/maicf/MH//simplerwykoff_unpooled_mixed_ballndbh-ccf_batch00.pkl\n",
      "MCMC saved at ../../models/maicf/MH//simplerwykoff_unpooled_mixed_ballndbh-ccf_batch00_mcmc.pkl\n",
      "simplerwykoff_partial_mixed_bal-ba\n",
      "simplerwykoff_partial_mixed_bal-ba_batch00\n"
     ]
    },
    {
     "name": "stderr",
     "output_type": "stream",
     "text": [
      "sample: 100%|█| 2000/2000 [18:27<00:00,  1.81it/s, 255 steps of size 2.07e-02. a\n"
     ]
    },
    {
     "name": "stdout",
     "output_type": "stream",
     "text": [
      "Done.\n",
      "Samples saved at ../../models/maicf/MH//simplerwykoff_partial_mixed_bal-ba_batch00.pkl\n",
      "MCMC saved at ../../models/maicf/MH//simplerwykoff_partial_mixed_bal-ba_batch00_mcmc.pkl\n",
      "simplerwykoff_partial_mixed_bal-lnba\n",
      "simplerwykoff_partial_mixed_bal-lnba_batch00\n"
     ]
    },
    {
     "name": "stderr",
     "output_type": "stream",
     "text": [
      "sample: 100%|█| 2000/2000 [16:04<00:00,  2.07it/s, 255 steps of size 2.66e-02. a\n"
     ]
    },
    {
     "name": "stdout",
     "output_type": "stream",
     "text": [
      "Done.\n",
      "Samples saved at ../../models/maicf/MH//simplerwykoff_partial_mixed_bal-lnba_batch00.pkl\n",
      "MCMC saved at ../../models/maicf/MH//simplerwykoff_partial_mixed_bal-lnba_batch00_mcmc.pkl\n",
      "simplerwykoff_partial_mixed_bal-ccf\n",
      "simplerwykoff_partial_mixed_bal-ccf_batch00\n"
     ]
    },
    {
     "name": "stderr",
     "output_type": "stream",
     "text": [
      "sample: 100%|█| 2000/2000 [18:18<00:00,  1.82it/s, 255 steps of size 2.03e-02. a\n"
     ]
    },
    {
     "name": "stdout",
     "output_type": "stream",
     "text": [
      "Done.\n",
      "Samples saved at ../../models/maicf/MH//simplerwykoff_partial_mixed_bal-ccf_batch00.pkl\n",
      "MCMC saved at ../../models/maicf/MH//simplerwykoff_partial_mixed_bal-ccf_batch00_mcmc.pkl\n",
      "simplerwykoff_partial_mixed_relht-ba\n",
      "simplerwykoff_partial_mixed_relht-ba_batch00\n"
     ]
    },
    {
     "name": "stderr",
     "output_type": "stream",
     "text": [
      "sample: 100%|█| 2000/2000 [17:44<00:00,  1.88it/s, 255 steps of size 2.30e-02. a\n"
     ]
    },
    {
     "name": "stdout",
     "output_type": "stream",
     "text": [
      "Done.\n",
      "Samples saved at ../../models/maicf/MH//simplerwykoff_partial_mixed_relht-ba_batch00.pkl\n",
      "MCMC saved at ../../models/maicf/MH//simplerwykoff_partial_mixed_relht-ba_batch00_mcmc.pkl\n",
      "simplerwykoff_partial_mixed_relht-lnba\n",
      "simplerwykoff_partial_mixed_relht-lnba_batch00\n"
     ]
    },
    {
     "name": "stderr",
     "output_type": "stream",
     "text": [
      "sample: 100%|█| 2000/2000 [18:16<00:00,  1.82it/s, 255 steps of size 2.48e-02. a\n"
     ]
    },
    {
     "name": "stdout",
     "output_type": "stream",
     "text": [
      "Done.\n",
      "Samples saved at ../../models/maicf/MH//simplerwykoff_partial_mixed_relht-lnba_batch00.pkl\n",
      "MCMC saved at ../../models/maicf/MH//simplerwykoff_partial_mixed_relht-lnba_batch00_mcmc.pkl\n",
      "simplerwykoff_partial_mixed_relht-ccf\n",
      "simplerwykoff_partial_mixed_relht-ccf_batch00\n"
     ]
    },
    {
     "name": "stderr",
     "output_type": "stream",
     "text": [
      "sample: 100%|█| 2000/2000 [18:16<00:00,  1.82it/s, 255 steps of size 2.25e-02. a\n"
     ]
    },
    {
     "name": "stdout",
     "output_type": "stream",
     "text": [
      "Done.\n",
      "Samples saved at ../../models/maicf/MH//simplerwykoff_partial_mixed_relht-ccf_batch00.pkl\n",
      "MCMC saved at ../../models/maicf/MH//simplerwykoff_partial_mixed_relht-ccf_batch00_mcmc.pkl\n",
      "simplerwykoff_partial_mixed_ballndbh-ba\n",
      "simplerwykoff_partial_mixed_ballndbh-ba_batch00\n"
     ]
    },
    {
     "name": "stderr",
     "output_type": "stream",
     "text": [
      "sample: 100%|█| 2000/2000 [18:55<00:00,  1.76it/s, 255 steps of size 2.29e-02. a\n"
     ]
    },
    {
     "name": "stdout",
     "output_type": "stream",
     "text": [
      "Done.\n",
      "Samples saved at ../../models/maicf/MH//simplerwykoff_partial_mixed_ballndbh-ba_batch00.pkl\n",
      "MCMC saved at ../../models/maicf/MH//simplerwykoff_partial_mixed_ballndbh-ba_batch00_mcmc.pkl\n",
      "simplerwykoff_partial_mixed_ballndbh-lnba\n",
      "simplerwykoff_partial_mixed_ballndbh-lnba_batch00\n"
     ]
    },
    {
     "name": "stderr",
     "output_type": "stream",
     "text": [
      "sample: 100%|█| 2000/2000 [18:21<00:00,  1.82it/s, 255 steps of size 2.07e-02. a\n"
     ]
    },
    {
     "name": "stdout",
     "output_type": "stream",
     "text": [
      "Done.\n",
      "Samples saved at ../../models/maicf/MH//simplerwykoff_partial_mixed_ballndbh-lnba_batch00.pkl\n",
      "MCMC saved at ../../models/maicf/MH//simplerwykoff_partial_mixed_ballndbh-lnba_batch00_mcmc.pkl\n",
      "simplerwykoff_partial_mixed_ballndbh-ccf\n",
      "simplerwykoff_partial_mixed_ballndbh-ccf_batch00\n"
     ]
    },
    {
     "name": "stderr",
     "output_type": "stream",
     "text": [
      "sample: 100%|█| 2000/2000 [18:47<00:00,  1.77it/s, 255 steps of size 1.98e-02. a\n"
     ]
    },
    {
     "name": "stdout",
     "output_type": "stream",
     "text": [
      "Done.\n",
      "Samples saved at ../../models/maicf/MH//simplerwykoff_partial_mixed_ballndbh-ccf_batch00.pkl\n",
      "MCMC saved at ../../models/maicf/MH//simplerwykoff_partial_mixed_ballndbh-ccf_batch00_mcmc.pkl\n"
     ]
    }
   ],
   "source": [
    "for pooling in ['unpooled', 'partial']:\n",
    "    for tree_comp in ['bal', 'relht', 'ballndbh']:\n",
    "        for stand_comp in ['ba', 'lnba', 'ccf']:\n",
    "            model_name = f\"simplerwykoff_{pooling}_mixed_{tree_comp}-{stand_comp}\"\n",
    "            fit_simpler_wykoff(\n",
    "                bark_b0,\n",
    "                bark_b1,\n",
    "                bark_b2,\n",
    "                tree_comp,\n",
    "                stand_comp,\n",
    "                pooling,\n",
    "                LOC_RANDOM,\n",
    "                PLOT_RANDOM,\n",
    "                NUM_CYCLES,\n",
    "                data,\n",
    "                model_name,\n",
    "                CHECKPOINT_DIR,\n",
    "                NUM_WARMUP,\n",
    "                NUM_SAMPLES,\n",
    "                NUM_CHAINS,\n",
    "                CHAIN_METHOD,\n",
    "                NUM_BATCHES,\n",
    "                SEED,\n",
    "                PROGRESS_BAR,\n",
    "                OVERWRITE\n",
    "            )"
   ]
  }
 ],
 "metadata": {
  "kernelspec": {
   "display_name": "Python [conda env:miniconda3-refit_fvs]",
   "language": "python",
   "name": "conda-env-miniconda3-refit_fvs-py"
  },
  "language_info": {
   "codemirror_mode": {
    "name": "ipython",
    "version": 3
   },
   "file_extension": ".py",
   "mimetype": "text/x-python",
   "name": "python",
   "nbconvert_exporter": "python",
   "pygments_lexer": "ipython3",
   "version": "3.10.6"
  }
 },
 "nbformat": 4,
 "nbformat_minor": 5
}
