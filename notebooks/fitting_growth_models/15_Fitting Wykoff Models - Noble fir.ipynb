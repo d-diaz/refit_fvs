{
 "cells": [
  {
   "cell_type": "code",
   "execution_count": 1,
   "id": "0e392d45-86b1-4de8-9748-0086f5e40d46",
   "metadata": {},
   "outputs": [],
   "source": [
    "import pandas as pd\n",
    "import os\n",
    "import numpyro\n",
    "from refit_fvs.data.load import fia_for_diameter_growth_modeling\n",
    "from refit_fvs.models.fit import fit_wykoff, fit_simpler_wykoff"
   ]
  },
  {
   "cell_type": "code",
   "execution_count": 2,
   "id": "b75769a8-46d8-421b-bc3f-f65be4f20168",
   "metadata": {},
   "outputs": [],
   "source": [
    "os.environ[\"XLA_PYTHON_CLIENT_MEM_FRACTION\"] = \"0.75\"\n",
    "numpyro.set_platform(\"gpu\")\n",
    "numpyro.set_host_device_count(3)"
   ]
  },
  {
   "cell_type": "markdown",
   "id": "9bd96038-f30a-48d1-81ba-f2593e8be408",
   "metadata": {},
   "source": [
    "# Select species\n",
    "Identify species codes and the FVS variant from which bark ratio coefficients should be drawn."
   ]
  },
  {
   "cell_type": "code",
   "execution_count": 3,
   "id": "e5c84098-1dba-4c19-bc06-fa8eae8a2f60",
   "metadata": {},
   "outputs": [],
   "source": [
    "FVS_ALPHA = \"NF\"\n",
    "BARK_VAR = \"WC\"\n",
    "FIA_SPCD = 22"
   ]
  },
  {
   "cell_type": "code",
   "execution_count": 4,
   "id": "9db5d35d-29aa-43fb-a775-94229fa52247",
   "metadata": {},
   "outputs": [
    {
     "data": {
      "text/plain": [
       "(0.0, 0.904973, 1.0)"
      ]
     },
     "execution_count": 4,
     "metadata": {},
     "output_type": "execute_result"
    }
   ],
   "source": [
    "BARK_COEFS = \"../../data/raw/fvs_barkratio_coefs.csv\"\n",
    "bark = pd.read_csv(BARK_COEFS).set_index([\"FIA_SPCD\", \"FVS_VARIANT\"])\n",
    "\n",
    "bark_b0, bark_b1, bark_b2 = bark.loc[FIA_SPCD, BARK_VAR][[\"BARK_B0\", \"BARK_B1\", \"BARK_B2\"]]\n",
    "bark_b0, bark_b1, bark_b2"
   ]
  },
  {
   "cell_type": "markdown",
   "id": "7d812fc8-0f00-43ef-9993-3eb576f62af9",
   "metadata": {},
   "source": [
    "# Model-fitting parameters\n",
    "These don't usually need to be updated when fitting a new species unless you want to add more chains or samples per chain."
   ]
  },
  {
   "cell_type": "code",
   "execution_count": 5,
   "id": "a81b074f-f9c8-47a9-a89b-bd15787de9d3",
   "metadata": {},
   "outputs": [],
   "source": [
    "NUM_CYCLES = 2\n",
    "LOC_RANDOM = True\n",
    "PLOT_RANDOM = True\n",
    "CHECKPOINT_DIR = f\"../../models/maicf/{FVS_ALPHA}/\"\n",
    "NUM_WARMUP = 1000\n",
    "NUM_SAMPLES = 1000\n",
    "NUM_CHAINS = 1\n",
    "CHAIN_METHOD = \"parallel\"\n",
    "NUM_BATCHES = 1\n",
    "SEED = 42\n",
    "PROGRESS_BAR = True\n",
    "OVERWRITE = False"
   ]
  },
  {
   "cell_type": "code",
   "execution_count": 6,
   "id": "3f43e10f-90ba-4806-8945-e7bde2cf8dac",
   "metadata": {},
   "outputs": [
    {
     "data": {
      "text/html": [
       "<div>\n",
       "<style scoped>\n",
       "    .dataframe tbody tr th:only-of-type {\n",
       "        vertical-align: middle;\n",
       "    }\n",
       "\n",
       "    .dataframe tbody tr th {\n",
       "        vertical-align: top;\n",
       "    }\n",
       "\n",
       "    .dataframe thead th {\n",
       "        text-align: right;\n",
       "    }\n",
       "</style>\n",
       "<table border=\"1\" class=\"dataframe\">\n",
       "  <thead>\n",
       "    <tr style=\"text-align: right;\">\n",
       "      <th></th>\n",
       "      <th>LOCATION</th>\n",
       "      <th>PLOT_ID</th>\n",
       "      <th>FIA_SPCD</th>\n",
       "      <th>MAICF</th>\n",
       "      <th>SLOPE</th>\n",
       "      <th>ASPECT</th>\n",
       "      <th>ELEV</th>\n",
       "      <th>DBH</th>\n",
       "      <th>CR</th>\n",
       "      <th>CR_NEXT</th>\n",
       "      <th>...</th>\n",
       "      <th>INC5YR</th>\n",
       "      <th>INC10YR</th>\n",
       "      <th>MEASYEAR</th>\n",
       "      <th>MEASMON</th>\n",
       "      <th>MEASYEAR_NEXT</th>\n",
       "      <th>MEASMON_NEXT</th>\n",
       "      <th>MEAS_INTERVAL</th>\n",
       "      <th>VAR_IDX</th>\n",
       "      <th>LOC_IDX</th>\n",
       "      <th>PLOT_IDX</th>\n",
       "    </tr>\n",
       "  </thead>\n",
       "  <tbody>\n",
       "    <tr>\n",
       "      <th>count</th>\n",
       "      <td>1114.000000</td>\n",
       "      <td>1.114000e+03</td>\n",
       "      <td>1114.0</td>\n",
       "      <td>1114.000000</td>\n",
       "      <td>1114.000000</td>\n",
       "      <td>1114.000000</td>\n",
       "      <td>1114.000000</td>\n",
       "      <td>1114.000000</td>\n",
       "      <td>1114.000000</td>\n",
       "      <td>1114.000000</td>\n",
       "      <td>...</td>\n",
       "      <td>49.000000</td>\n",
       "      <td>49.000000</td>\n",
       "      <td>1114.000000</td>\n",
       "      <td>1114.000000</td>\n",
       "      <td>1114.000000</td>\n",
       "      <td>1114.000000</td>\n",
       "      <td>1114.0</td>\n",
       "      <td>1114.000000</td>\n",
       "      <td>1114.000000</td>\n",
       "      <td>1114.000000</td>\n",
       "    </tr>\n",
       "    <tr>\n",
       "      <th>mean</th>\n",
       "      <td>616.934470</td>\n",
       "      <td>4.647665e+11</td>\n",
       "      <td>22.0</td>\n",
       "      <td>137.366457</td>\n",
       "      <td>0.385745</td>\n",
       "      <td>3.252235</td>\n",
       "      <td>40.093357</td>\n",
       "      <td>15.732496</td>\n",
       "      <td>0.613743</td>\n",
       "      <td>0.536831</td>\n",
       "      <td>...</td>\n",
       "      <td>0.480612</td>\n",
       "      <td>1.040816</td>\n",
       "      <td>2005.359964</td>\n",
       "      <td>8.143627</td>\n",
       "      <td>2015.359964</td>\n",
       "      <td>7.667864</td>\n",
       "      <td>10.0</td>\n",
       "      <td>1.964093</td>\n",
       "      <td>6.345601</td>\n",
       "      <td>122.928187</td>\n",
       "    </tr>\n",
       "    <tr>\n",
       "      <th>std</th>\n",
       "      <td>29.048248</td>\n",
       "      <td>6.362469e+10</td>\n",
       "      <td>0.0</td>\n",
       "      <td>47.788318</td>\n",
       "      <td>0.229333</td>\n",
       "      <td>1.737888</td>\n",
       "      <td>7.877789</td>\n",
       "      <td>12.008833</td>\n",
       "      <td>0.249002</td>\n",
       "      <td>0.221837</td>\n",
       "      <td>...</td>\n",
       "      <td>0.346232</td>\n",
       "      <td>0.720147</td>\n",
       "      <td>2.268313</td>\n",
       "      <td>1.330079</td>\n",
       "      <td>2.268313</td>\n",
       "      <td>1.457733</td>\n",
       "      <td>0.0</td>\n",
       "      <td>0.498483</td>\n",
       "      <td>4.687536</td>\n",
       "      <td>69.151436</td>\n",
       "    </tr>\n",
       "    <tr>\n",
       "      <th>min</th>\n",
       "      <td>505.000000</td>\n",
       "      <td>6.020935e+10</td>\n",
       "      <td>22.0</td>\n",
       "      <td>10.000000</td>\n",
       "      <td>0.000000</td>\n",
       "      <td>0.000000</td>\n",
       "      <td>5.000000</td>\n",
       "      <td>5.000000</td>\n",
       "      <td>0.060000</td>\n",
       "      <td>0.010000</td>\n",
       "      <td>...</td>\n",
       "      <td>0.050000</td>\n",
       "      <td>0.050000</td>\n",
       "      <td>2001.000000</td>\n",
       "      <td>4.000000</td>\n",
       "      <td>2011.000000</td>\n",
       "      <td>4.000000</td>\n",
       "      <td>10.0</td>\n",
       "      <td>0.000000</td>\n",
       "      <td>0.000000</td>\n",
       "      <td>0.000000</td>\n",
       "    </tr>\n",
       "    <tr>\n",
       "      <th>25%</th>\n",
       "      <td>603.000000</td>\n",
       "      <td>4.101040e+11</td>\n",
       "      <td>22.0</td>\n",
       "      <td>102.500000</td>\n",
       "      <td>0.180000</td>\n",
       "      <td>1.710423</td>\n",
       "      <td>35.000000</td>\n",
       "      <td>6.900000</td>\n",
       "      <td>0.372500</td>\n",
       "      <td>0.350000</td>\n",
       "      <td>...</td>\n",
       "      <td>0.200000</td>\n",
       "      <td>0.500000</td>\n",
       "      <td>2004.000000</td>\n",
       "      <td>7.000000</td>\n",
       "      <td>2014.000000</td>\n",
       "      <td>7.000000</td>\n",
       "      <td>10.0</td>\n",
       "      <td>2.000000</td>\n",
       "      <td>2.000000</td>\n",
       "      <td>67.000000</td>\n",
       "    </tr>\n",
       "    <tr>\n",
       "      <th>50%</th>\n",
       "      <td>606.000000</td>\n",
       "      <td>4.103066e+11</td>\n",
       "      <td>22.0</td>\n",
       "      <td>142.500000</td>\n",
       "      <td>0.365000</td>\n",
       "      <td>3.665191</td>\n",
       "      <td>39.000000</td>\n",
       "      <td>9.900000</td>\n",
       "      <td>0.650000</td>\n",
       "      <td>0.500000</td>\n",
       "      <td>...</td>\n",
       "      <td>0.400000</td>\n",
       "      <td>0.850000</td>\n",
       "      <td>2005.000000</td>\n",
       "      <td>8.000000</td>\n",
       "      <td>2015.000000</td>\n",
       "      <td>8.000000</td>\n",
       "      <td>10.0</td>\n",
       "      <td>2.000000</td>\n",
       "      <td>7.000000</td>\n",
       "      <td>121.000000</td>\n",
       "    </tr>\n",
       "    <tr>\n",
       "      <th>75%</th>\n",
       "      <td>618.000000</td>\n",
       "      <td>5.307042e+11</td>\n",
       "      <td>22.0</td>\n",
       "      <td>172.400000</td>\n",
       "      <td>0.560000</td>\n",
       "      <td>4.638212</td>\n",
       "      <td>45.000000</td>\n",
       "      <td>23.200000</td>\n",
       "      <td>0.850000</td>\n",
       "      <td>0.750000</td>\n",
       "      <td>...</td>\n",
       "      <td>0.700000</td>\n",
       "      <td>1.500000</td>\n",
       "      <td>2007.000000</td>\n",
       "      <td>9.000000</td>\n",
       "      <td>2017.000000</td>\n",
       "      <td>9.000000</td>\n",
       "      <td>10.0</td>\n",
       "      <td>2.000000</td>\n",
       "      <td>12.000000</td>\n",
       "      <td>176.000000</td>\n",
       "    </tr>\n",
       "    <tr>\n",
       "      <th>max</th>\n",
       "      <td>800.000000</td>\n",
       "      <td>5.309052e+11</td>\n",
       "      <td>22.0</td>\n",
       "      <td>274.704527</td>\n",
       "      <td>1.550000</td>\n",
       "      <td>6.283185</td>\n",
       "      <td>65.000000</td>\n",
       "      <td>76.500000</td>\n",
       "      <td>0.990000</td>\n",
       "      <td>0.980000</td>\n",
       "      <td>...</td>\n",
       "      <td>1.450000</td>\n",
       "      <td>2.650000</td>\n",
       "      <td>2009.000000</td>\n",
       "      <td>11.000000</td>\n",
       "      <td>2019.000000</td>\n",
       "      <td>11.000000</td>\n",
       "      <td>10.0</td>\n",
       "      <td>7.000000</td>\n",
       "      <td>16.000000</td>\n",
       "      <td>251.000000</td>\n",
       "    </tr>\n",
       "  </tbody>\n",
       "</table>\n",
       "<p>8 rows × 29 columns</p>\n",
       "</div>"
      ],
      "text/plain": [
       "          LOCATION       PLOT_ID  FIA_SPCD        MAICF        SLOPE  \\\n",
       "count  1114.000000  1.114000e+03    1114.0  1114.000000  1114.000000   \n",
       "mean    616.934470  4.647665e+11      22.0   137.366457     0.385745   \n",
       "std      29.048248  6.362469e+10       0.0    47.788318     0.229333   \n",
       "min     505.000000  6.020935e+10      22.0    10.000000     0.000000   \n",
       "25%     603.000000  4.101040e+11      22.0   102.500000     0.180000   \n",
       "50%     606.000000  4.103066e+11      22.0   142.500000     0.365000   \n",
       "75%     618.000000  5.307042e+11      22.0   172.400000     0.560000   \n",
       "max     800.000000  5.309052e+11      22.0   274.704527     1.550000   \n",
       "\n",
       "            ASPECT         ELEV          DBH           CR      CR_NEXT  ...  \\\n",
       "count  1114.000000  1114.000000  1114.000000  1114.000000  1114.000000  ...   \n",
       "mean      3.252235    40.093357    15.732496     0.613743     0.536831  ...   \n",
       "std       1.737888     7.877789    12.008833     0.249002     0.221837  ...   \n",
       "min       0.000000     5.000000     5.000000     0.060000     0.010000  ...   \n",
       "25%       1.710423    35.000000     6.900000     0.372500     0.350000  ...   \n",
       "50%       3.665191    39.000000     9.900000     0.650000     0.500000  ...   \n",
       "75%       4.638212    45.000000    23.200000     0.850000     0.750000  ...   \n",
       "max       6.283185    65.000000    76.500000     0.990000     0.980000  ...   \n",
       "\n",
       "          INC5YR    INC10YR     MEASYEAR      MEASMON  MEASYEAR_NEXT  \\\n",
       "count  49.000000  49.000000  1114.000000  1114.000000    1114.000000   \n",
       "mean    0.480612   1.040816  2005.359964     8.143627    2015.359964   \n",
       "std     0.346232   0.720147     2.268313     1.330079       2.268313   \n",
       "min     0.050000   0.050000  2001.000000     4.000000    2011.000000   \n",
       "25%     0.200000   0.500000  2004.000000     7.000000    2014.000000   \n",
       "50%     0.400000   0.850000  2005.000000     8.000000    2015.000000   \n",
       "75%     0.700000   1.500000  2007.000000     9.000000    2017.000000   \n",
       "max     1.450000   2.650000  2009.000000    11.000000    2019.000000   \n",
       "\n",
       "       MEASMON_NEXT  MEAS_INTERVAL      VAR_IDX      LOC_IDX     PLOT_IDX  \n",
       "count   1114.000000         1114.0  1114.000000  1114.000000  1114.000000  \n",
       "mean       7.667864           10.0     1.964093     6.345601   122.928187  \n",
       "std        1.457733            0.0     0.498483     4.687536    69.151436  \n",
       "min        4.000000           10.0     0.000000     0.000000     0.000000  \n",
       "25%        7.000000           10.0     2.000000     2.000000    67.000000  \n",
       "50%        8.000000           10.0     2.000000     7.000000   121.000000  \n",
       "75%        9.000000           10.0     2.000000    12.000000   176.000000  \n",
       "max       11.000000           10.0     7.000000    16.000000   251.000000  \n",
       "\n",
       "[8 rows x 29 columns]"
      ]
     },
     "execution_count": 6,
     "metadata": {},
     "output_type": "execute_result"
    }
   ],
   "source": [
    "data, factors = fia_for_diameter_growth_modeling(\n",
    "    path=\"../../data/interim/FIA_remeasured_trees_for_training.csv\",\n",
    "    filter_spp=[FIA_SPCD]\n",
    ")\n",
    "obs_variants, obs_locations, obs_plots = factors\n",
    "data.describe()"
   ]
  },
  {
   "cell_type": "code",
   "execution_count": 7,
   "id": "fa6efd78-c55b-4fd6-8bb7-b065e7411842",
   "metadata": {},
   "outputs": [
    {
     "name": "stdout",
     "output_type": "stream",
     "text": [
      "wykoff_unpooled_mixed_bal-ba\n",
      "wykoff_unpooled_mixed_bal-ba_batch00\n"
     ]
    },
    {
     "name": "stderr",
     "output_type": "stream",
     "text": [
      "sample: 100%|█| 2000/2000 [07:31<00:00,  4.43it/s, 127 steps of size 4.87e-02. a\n"
     ]
    },
    {
     "name": "stdout",
     "output_type": "stream",
     "text": [
      "Done.\n",
      "Samples saved at ../../models/maicf/NF//wykoff_unpooled_mixed_bal-ba_batch00.pkl\n",
      "MCMC saved at ../../models/maicf/NF//wykoff_unpooled_mixed_bal-ba_batch00_mcmc.pkl\n",
      "wykoff_partial_mixed_bal-ba\n",
      "wykoff_partial_mixed_bal-ba_batch00\n"
     ]
    },
    {
     "name": "stderr",
     "output_type": "stream",
     "text": [
      "sample: 100%|█| 2000/2000 [14:47<00:00,  2.25it/s, 127 steps of size 2.97e-02. a\n"
     ]
    },
    {
     "name": "stdout",
     "output_type": "stream",
     "text": [
      "Done.\n",
      "Samples saved at ../../models/maicf/NF//wykoff_partial_mixed_bal-ba_batch00.pkl\n",
      "MCMC saved at ../../models/maicf/NF//wykoff_partial_mixed_bal-ba_batch00_mcmc.pkl\n",
      "wykoff_unpooled_mixed_bal-lnba\n",
      "wykoff_unpooled_mixed_bal-lnba_batch00\n"
     ]
    },
    {
     "name": "stderr",
     "output_type": "stream",
     "text": [
      "sample: 100%|█| 2000/2000 [07:37<00:00,  4.37it/s, 127 steps of size 4.47e-02. a\n"
     ]
    },
    {
     "name": "stdout",
     "output_type": "stream",
     "text": [
      "Done.\n",
      "Samples saved at ../../models/maicf/NF//wykoff_unpooled_mixed_bal-lnba_batch00.pkl\n",
      "MCMC saved at ../../models/maicf/NF//wykoff_unpooled_mixed_bal-lnba_batch00_mcmc.pkl\n",
      "wykoff_partial_mixed_bal-lnba\n",
      "wykoff_partial_mixed_bal-lnba_batch00\n"
     ]
    },
    {
     "name": "stderr",
     "output_type": "stream",
     "text": [
      "sample: 100%|█| 2000/2000 [14:46<00:00,  2.26it/s, 127 steps of size 3.04e-02. a\n"
     ]
    },
    {
     "name": "stdout",
     "output_type": "stream",
     "text": [
      "Done.\n",
      "Samples saved at ../../models/maicf/NF//wykoff_partial_mixed_bal-lnba_batch00.pkl\n",
      "MCMC saved at ../../models/maicf/NF//wykoff_partial_mixed_bal-lnba_batch00_mcmc.pkl\n",
      "wykoff_unpooled_mixed_bal-ccf\n",
      "wykoff_unpooled_mixed_bal-ccf_batch00\n"
     ]
    },
    {
     "name": "stderr",
     "output_type": "stream",
     "text": [
      "sample: 100%|█| 2000/2000 [07:27<00:00,  4.47it/s, 127 steps of size 4.64e-02. a\n"
     ]
    },
    {
     "name": "stdout",
     "output_type": "stream",
     "text": [
      "Done.\n",
      "Samples saved at ../../models/maicf/NF//wykoff_unpooled_mixed_bal-ccf_batch00.pkl\n",
      "MCMC saved at ../../models/maicf/NF//wykoff_unpooled_mixed_bal-ccf_batch00_mcmc.pkl\n",
      "wykoff_partial_mixed_bal-ccf\n",
      "wykoff_partial_mixed_bal-ccf_batch00\n"
     ]
    },
    {
     "name": "stderr",
     "output_type": "stream",
     "text": [
      "sample: 100%|█| 2000/2000 [14:59<00:00,  2.22it/s, 127 steps of size 3.49e-02. a\n"
     ]
    },
    {
     "name": "stdout",
     "output_type": "stream",
     "text": [
      "Done.\n",
      "Samples saved at ../../models/maicf/NF//wykoff_partial_mixed_bal-ccf_batch00.pkl\n",
      "MCMC saved at ../../models/maicf/NF//wykoff_partial_mixed_bal-ccf_batch00_mcmc.pkl\n",
      "wykoff_unpooled_mixed_relht-ba\n",
      "wykoff_unpooled_mixed_relht-ba_batch00\n"
     ]
    },
    {
     "name": "stderr",
     "output_type": "stream",
     "text": [
      "sample: 100%|█| 2000/2000 [07:38<00:00,  4.36it/s, 127 steps of size 4.13e-02. a\n"
     ]
    },
    {
     "name": "stdout",
     "output_type": "stream",
     "text": [
      "Done.\n",
      "Samples saved at ../../models/maicf/NF//wykoff_unpooled_mixed_relht-ba_batch00.pkl\n",
      "MCMC saved at ../../models/maicf/NF//wykoff_unpooled_mixed_relht-ba_batch00_mcmc.pkl\n",
      "wykoff_partial_mixed_relht-ba\n",
      "wykoff_partial_mixed_relht-ba_batch00\n"
     ]
    },
    {
     "name": "stderr",
     "output_type": "stream",
     "text": [
      "sample: 100%|█| 2000/2000 [15:10<00:00,  2.20it/s, 127 steps of size 3.06e-02. a\n"
     ]
    },
    {
     "name": "stdout",
     "output_type": "stream",
     "text": [
      "Done.\n",
      "Samples saved at ../../models/maicf/NF//wykoff_partial_mixed_relht-ba_batch00.pkl\n",
      "MCMC saved at ../../models/maicf/NF//wykoff_partial_mixed_relht-ba_batch00_mcmc.pkl\n",
      "wykoff_unpooled_mixed_relht-lnba\n",
      "wykoff_unpooled_mixed_relht-lnba_batch00\n"
     ]
    },
    {
     "name": "stderr",
     "output_type": "stream",
     "text": [
      "sample: 100%|█| 2000/2000 [07:35<00:00,  4.39it/s, 127 steps of size 4.55e-02. a\n"
     ]
    },
    {
     "name": "stdout",
     "output_type": "stream",
     "text": [
      "Done.\n",
      "Samples saved at ../../models/maicf/NF//wykoff_unpooled_mixed_relht-lnba_batch00.pkl\n",
      "MCMC saved at ../../models/maicf/NF//wykoff_unpooled_mixed_relht-lnba_batch00_mcmc.pkl\n",
      "wykoff_partial_mixed_relht-lnba\n",
      "wykoff_partial_mixed_relht-lnba_batch00\n"
     ]
    },
    {
     "name": "stderr",
     "output_type": "stream",
     "text": [
      "sample: 100%|█| 2000/2000 [15:22<00:00,  2.17it/s, 127 steps of size 3.18e-02. a\n"
     ]
    },
    {
     "name": "stdout",
     "output_type": "stream",
     "text": [
      "Done.\n",
      "Samples saved at ../../models/maicf/NF//wykoff_partial_mixed_relht-lnba_batch00.pkl\n",
      "MCMC saved at ../../models/maicf/NF//wykoff_partial_mixed_relht-lnba_batch00_mcmc.pkl\n",
      "wykoff_unpooled_mixed_relht-ccf\n",
      "wykoff_unpooled_mixed_relht-ccf_batch00\n"
     ]
    },
    {
     "name": "stderr",
     "output_type": "stream",
     "text": [
      "sample: 100%|█| 2000/2000 [07:40<00:00,  4.34it/s, 127 steps of size 4.58e-02. a\n"
     ]
    },
    {
     "name": "stdout",
     "output_type": "stream",
     "text": [
      "Done.\n",
      "Samples saved at ../../models/maicf/NF//wykoff_unpooled_mixed_relht-ccf_batch00.pkl\n",
      "MCMC saved at ../../models/maicf/NF//wykoff_unpooled_mixed_relht-ccf_batch00_mcmc.pkl\n",
      "wykoff_partial_mixed_relht-ccf\n",
      "wykoff_partial_mixed_relht-ccf_batch00\n"
     ]
    },
    {
     "name": "stderr",
     "output_type": "stream",
     "text": [
      "sample: 100%|█| 2000/2000 [15:03<00:00,  2.21it/s, 127 steps of size 3.78e-02. a\n"
     ]
    },
    {
     "name": "stdout",
     "output_type": "stream",
     "text": [
      "Done.\n",
      "Samples saved at ../../models/maicf/NF//wykoff_partial_mixed_relht-ccf_batch00.pkl\n",
      "MCMC saved at ../../models/maicf/NF//wykoff_partial_mixed_relht-ccf_batch00_mcmc.pkl\n",
      "wykoff_unpooled_mixed_ballndbh-ba\n",
      "wykoff_unpooled_mixed_ballndbh-ba_batch00\n"
     ]
    },
    {
     "name": "stderr",
     "output_type": "stream",
     "text": [
      "sample: 100%|█| 2000/2000 [07:47<00:00,  4.28it/s, 127 steps of size 4.51e-02. a\n"
     ]
    },
    {
     "name": "stdout",
     "output_type": "stream",
     "text": [
      "Done.\n",
      "Samples saved at ../../models/maicf/NF//wykoff_unpooled_mixed_ballndbh-ba_batch00.pkl\n",
      "MCMC saved at ../../models/maicf/NF//wykoff_unpooled_mixed_ballndbh-ba_batch00_mcmc.pkl\n",
      "wykoff_partial_mixed_ballndbh-ba\n",
      "wykoff_partial_mixed_ballndbh-ba_batch00\n"
     ]
    },
    {
     "name": "stderr",
     "output_type": "stream",
     "text": [
      "sample: 100%|█| 2000/2000 [15:19<00:00,  2.17it/s, 127 steps of size 3.12e-02. a\n"
     ]
    },
    {
     "name": "stdout",
     "output_type": "stream",
     "text": [
      "Done.\n",
      "Samples saved at ../../models/maicf/NF//wykoff_partial_mixed_ballndbh-ba_batch00.pkl\n",
      "MCMC saved at ../../models/maicf/NF//wykoff_partial_mixed_ballndbh-ba_batch00_mcmc.pkl\n",
      "wykoff_unpooled_mixed_ballndbh-lnba\n",
      "wykoff_unpooled_mixed_ballndbh-lnba_batch00\n"
     ]
    },
    {
     "name": "stderr",
     "output_type": "stream",
     "text": [
      "sample: 100%|█| 2000/2000 [07:42<00:00,  4.32it/s, 127 steps of size 4.94e-02. a\n"
     ]
    },
    {
     "name": "stdout",
     "output_type": "stream",
     "text": [
      "Done.\n",
      "Samples saved at ../../models/maicf/NF//wykoff_unpooled_mixed_ballndbh-lnba_batch00.pkl\n",
      "MCMC saved at ../../models/maicf/NF//wykoff_unpooled_mixed_ballndbh-lnba_batch00_mcmc.pkl\n",
      "wykoff_partial_mixed_ballndbh-lnba\n",
      "wykoff_partial_mixed_ballndbh-lnba_batch00\n"
     ]
    },
    {
     "name": "stderr",
     "output_type": "stream",
     "text": [
      "sample: 100%|█| 2000/2000 [15:19<00:00,  2.18it/s, 127 steps of size 2.88e-02. a\n"
     ]
    },
    {
     "name": "stdout",
     "output_type": "stream",
     "text": [
      "Done.\n",
      "Samples saved at ../../models/maicf/NF//wykoff_partial_mixed_ballndbh-lnba_batch00.pkl\n",
      "MCMC saved at ../../models/maicf/NF//wykoff_partial_mixed_ballndbh-lnba_batch00_mcmc.pkl\n",
      "wykoff_unpooled_mixed_ballndbh-ccf\n",
      "wykoff_unpooled_mixed_ballndbh-ccf_batch00\n"
     ]
    },
    {
     "name": "stderr",
     "output_type": "stream",
     "text": [
      "sample: 100%|█| 2000/2000 [07:34<00:00,  4.40it/s, 127 steps of size 4.48e-02. a\n"
     ]
    },
    {
     "name": "stdout",
     "output_type": "stream",
     "text": [
      "Done.\n",
      "Samples saved at ../../models/maicf/NF//wykoff_unpooled_mixed_ballndbh-ccf_batch00.pkl\n",
      "MCMC saved at ../../models/maicf/NF//wykoff_unpooled_mixed_ballndbh-ccf_batch00_mcmc.pkl\n",
      "wykoff_partial_mixed_ballndbh-ccf\n",
      "wykoff_partial_mixed_ballndbh-ccf_batch00\n"
     ]
    },
    {
     "name": "stderr",
     "output_type": "stream",
     "text": [
      "sample: 100%|█| 2000/2000 [15:26<00:00,  2.16it/s, 127 steps of size 3.08e-02. a\n"
     ]
    },
    {
     "name": "stdout",
     "output_type": "stream",
     "text": [
      "Done.\n",
      "Samples saved at ../../models/maicf/NF//wykoff_partial_mixed_ballndbh-ccf_batch00.pkl\n",
      "MCMC saved at ../../models/maicf/NF//wykoff_partial_mixed_ballndbh-ccf_batch00_mcmc.pkl\n"
     ]
    }
   ],
   "source": [
    "for tree_comp in ['bal', 'relht', 'ballndbh']:\n",
    "    for stand_comp in ['ba', 'lnba', 'ccf']:\n",
    "        for pooling in ['unpooled', 'partial']:\n",
    "            model_name = f\"wykoff_{pooling}_mixed_{tree_comp}-{stand_comp}\"\n",
    "            fit_wykoff(\n",
    "                bark_b0,\n",
    "                bark_b1,\n",
    "                bark_b2,\n",
    "                tree_comp,\n",
    "                stand_comp,\n",
    "                pooling,\n",
    "                LOC_RANDOM,\n",
    "                PLOT_RANDOM,\n",
    "                NUM_CYCLES,\n",
    "                data,\n",
    "                model_name,\n",
    "                CHECKPOINT_DIR,\n",
    "                NUM_WARMUP,\n",
    "                NUM_SAMPLES,\n",
    "                NUM_CHAINS,\n",
    "                CHAIN_METHOD,\n",
    "                NUM_BATCHES,\n",
    "                SEED,\n",
    "                PROGRESS_BAR,\n",
    "                OVERWRITE\n",
    "            )"
   ]
  },
  {
   "cell_type": "code",
   "execution_count": 8,
   "id": "d000f348-ff1e-418e-8d61-f072fe009df5",
   "metadata": {},
   "outputs": [
    {
     "name": "stdout",
     "output_type": "stream",
     "text": [
      "simplerwykoff_unpooled_mixed_bal-ba\n",
      "simplerwykoff_unpooled_mixed_bal-ba_batch00\n"
     ]
    },
    {
     "name": "stderr",
     "output_type": "stream",
     "text": [
      "sample: 100%|█| 2000/2000 [06:08<00:00,  5.43it/s, 127 steps of size 4.25e-02. a\n"
     ]
    },
    {
     "name": "stdout",
     "output_type": "stream",
     "text": [
      "Done.\n",
      "Samples saved at ../../models/maicf/NF//simplerwykoff_unpooled_mixed_bal-ba_batch00.pkl\n",
      "MCMC saved at ../../models/maicf/NF//simplerwykoff_unpooled_mixed_bal-ba_batch00_mcmc.pkl\n",
      "simplerwykoff_unpooled_mixed_bal-lnba\n",
      "simplerwykoff_unpooled_mixed_bal-lnba_batch00\n"
     ]
    },
    {
     "name": "stderr",
     "output_type": "stream",
     "text": [
      "sample: 100%|█| 2000/2000 [05:52<00:00,  5.67it/s, 127 steps of size 5.01e-02. a\n"
     ]
    },
    {
     "name": "stdout",
     "output_type": "stream",
     "text": [
      "Done.\n",
      "Samples saved at ../../models/maicf/NF//simplerwykoff_unpooled_mixed_bal-lnba_batch00.pkl\n",
      "MCMC saved at ../../models/maicf/NF//simplerwykoff_unpooled_mixed_bal-lnba_batch00_mcmc.pkl\n",
      "simplerwykoff_unpooled_mixed_bal-ccf\n",
      "simplerwykoff_unpooled_mixed_bal-ccf_batch00\n"
     ]
    },
    {
     "name": "stderr",
     "output_type": "stream",
     "text": [
      "sample: 100%|█| 2000/2000 [05:59<00:00,  5.57it/s, 127 steps of size 4.67e-02. a\n"
     ]
    },
    {
     "name": "stdout",
     "output_type": "stream",
     "text": [
      "Done.\n",
      "Samples saved at ../../models/maicf/NF//simplerwykoff_unpooled_mixed_bal-ccf_batch00.pkl\n",
      "MCMC saved at ../../models/maicf/NF//simplerwykoff_unpooled_mixed_bal-ccf_batch00_mcmc.pkl\n",
      "simplerwykoff_unpooled_mixed_relht-ba\n",
      "simplerwykoff_unpooled_mixed_relht-ba_batch00\n"
     ]
    },
    {
     "name": "stderr",
     "output_type": "stream",
     "text": [
      "sample: 100%|█| 2000/2000 [05:03<00:00,  6.60it/s, 63 steps of size 5.61e-02. ac\n"
     ]
    },
    {
     "name": "stdout",
     "output_type": "stream",
     "text": [
      "Done.\n",
      "Samples saved at ../../models/maicf/NF//simplerwykoff_unpooled_mixed_relht-ba_batch00.pkl\n",
      "MCMC saved at ../../models/maicf/NF//simplerwykoff_unpooled_mixed_relht-ba_batch00_mcmc.pkl\n",
      "simplerwykoff_unpooled_mixed_relht-lnba\n",
      "simplerwykoff_unpooled_mixed_relht-lnba_batch00\n"
     ]
    },
    {
     "name": "stderr",
     "output_type": "stream",
     "text": [
      "sample: 100%|█| 2000/2000 [05:57<00:00,  5.59it/s, 127 steps of size 4.86e-02. a\n"
     ]
    },
    {
     "name": "stdout",
     "output_type": "stream",
     "text": [
      "Done.\n",
      "Samples saved at ../../models/maicf/NF//simplerwykoff_unpooled_mixed_relht-lnba_batch00.pkl\n",
      "MCMC saved at ../../models/maicf/NF//simplerwykoff_unpooled_mixed_relht-lnba_batch00_mcmc.pkl\n",
      "simplerwykoff_unpooled_mixed_relht-ccf\n",
      "simplerwykoff_unpooled_mixed_relht-ccf_batch00\n"
     ]
    },
    {
     "name": "stderr",
     "output_type": "stream",
     "text": [
      "sample: 100%|█| 2000/2000 [05:54<00:00,  5.65it/s, 127 steps of size 5.15e-02. a\n"
     ]
    },
    {
     "name": "stdout",
     "output_type": "stream",
     "text": [
      "Done.\n",
      "Samples saved at ../../models/maicf/NF//simplerwykoff_unpooled_mixed_relht-ccf_batch00.pkl\n",
      "MCMC saved at ../../models/maicf/NF//simplerwykoff_unpooled_mixed_relht-ccf_batch00_mcmc.pkl\n",
      "simplerwykoff_unpooled_mixed_ballndbh-ba\n",
      "simplerwykoff_unpooled_mixed_ballndbh-ba_batch00\n"
     ]
    },
    {
     "name": "stderr",
     "output_type": "stream",
     "text": [
      "sample: 100%|█| 2000/2000 [06:04<00:00,  5.49it/s, 127 steps of size 4.67e-02. a\n"
     ]
    },
    {
     "name": "stdout",
     "output_type": "stream",
     "text": [
      "Done.\n",
      "Samples saved at ../../models/maicf/NF//simplerwykoff_unpooled_mixed_ballndbh-ba_batch00.pkl\n",
      "MCMC saved at ../../models/maicf/NF//simplerwykoff_unpooled_mixed_ballndbh-ba_batch00_mcmc.pkl\n",
      "simplerwykoff_unpooled_mixed_ballndbh-lnba\n",
      "simplerwykoff_unpooled_mixed_ballndbh-lnba_batch00\n"
     ]
    },
    {
     "name": "stderr",
     "output_type": "stream",
     "text": [
      "sample: 100%|█| 2000/2000 [06:07<00:00,  5.45it/s, 127 steps of size 4.79e-02. a\n"
     ]
    },
    {
     "name": "stdout",
     "output_type": "stream",
     "text": [
      "Done.\n",
      "Samples saved at ../../models/maicf/NF//simplerwykoff_unpooled_mixed_ballndbh-lnba_batch00.pkl\n",
      "MCMC saved at ../../models/maicf/NF//simplerwykoff_unpooled_mixed_ballndbh-lnba_batch00_mcmc.pkl\n",
      "simplerwykoff_unpooled_mixed_ballndbh-ccf\n",
      "simplerwykoff_unpooled_mixed_ballndbh-ccf_batch00\n"
     ]
    },
    {
     "name": "stderr",
     "output_type": "stream",
     "text": [
      "sample: 100%|█| 2000/2000 [06:00<00:00,  5.55it/s, 127 steps of size 4.91e-02. a\n"
     ]
    },
    {
     "name": "stdout",
     "output_type": "stream",
     "text": [
      "Done.\n",
      "Samples saved at ../../models/maicf/NF//simplerwykoff_unpooled_mixed_ballndbh-ccf_batch00.pkl\n",
      "MCMC saved at ../../models/maicf/NF//simplerwykoff_unpooled_mixed_ballndbh-ccf_batch00_mcmc.pkl\n",
      "simplerwykoff_partial_mixed_bal-ba\n",
      "simplerwykoff_partial_mixed_bal-ba_batch00\n"
     ]
    },
    {
     "name": "stderr",
     "output_type": "stream",
     "text": [
      "sample: 100%|█| 2000/2000 [10:26<00:00,  3.19it/s, 127 steps of size 3.48e-02. a\n"
     ]
    },
    {
     "name": "stdout",
     "output_type": "stream",
     "text": [
      "Done.\n",
      "Samples saved at ../../models/maicf/NF//simplerwykoff_partial_mixed_bal-ba_batch00.pkl\n",
      "MCMC saved at ../../models/maicf/NF//simplerwykoff_partial_mixed_bal-ba_batch00_mcmc.pkl\n",
      "simplerwykoff_partial_mixed_bal-lnba\n",
      "simplerwykoff_partial_mixed_bal-lnba_batch00\n"
     ]
    },
    {
     "name": "stderr",
     "output_type": "stream",
     "text": [
      "sample: 100%|█| 2000/2000 [11:22<00:00,  2.93it/s, 127 steps of size 3.14e-02. a\n"
     ]
    },
    {
     "name": "stdout",
     "output_type": "stream",
     "text": [
      "Done.\n",
      "Samples saved at ../../models/maicf/NF//simplerwykoff_partial_mixed_bal-lnba_batch00.pkl\n",
      "MCMC saved at ../../models/maicf/NF//simplerwykoff_partial_mixed_bal-lnba_batch00_mcmc.pkl\n",
      "simplerwykoff_partial_mixed_bal-ccf\n",
      "simplerwykoff_partial_mixed_bal-ccf_batch00\n"
     ]
    },
    {
     "name": "stderr",
     "output_type": "stream",
     "text": [
      "sample: 100%|█| 2000/2000 [14:53<00:00,  2.24it/s, 255 steps of size 2.38e-02. a\n"
     ]
    },
    {
     "name": "stdout",
     "output_type": "stream",
     "text": [
      "Done.\n",
      "Samples saved at ../../models/maicf/NF//simplerwykoff_partial_mixed_bal-ccf_batch00.pkl\n",
      "MCMC saved at ../../models/maicf/NF//simplerwykoff_partial_mixed_bal-ccf_batch00_mcmc.pkl\n",
      "simplerwykoff_partial_mixed_relht-ba\n",
      "simplerwykoff_partial_mixed_relht-ba_batch00\n"
     ]
    },
    {
     "name": "stderr",
     "output_type": "stream",
     "text": [
      "sample: 100%|█| 2000/2000 [11:00<00:00,  3.03it/s, 127 steps of size 3.36e-02. a\n"
     ]
    },
    {
     "name": "stdout",
     "output_type": "stream",
     "text": [
      "Done.\n",
      "Samples saved at ../../models/maicf/NF//simplerwykoff_partial_mixed_relht-ba_batch00.pkl\n",
      "MCMC saved at ../../models/maicf/NF//simplerwykoff_partial_mixed_relht-ba_batch00_mcmc.pkl\n",
      "simplerwykoff_partial_mixed_relht-lnba\n",
      "simplerwykoff_partial_mixed_relht-lnba_batch00\n"
     ]
    },
    {
     "name": "stderr",
     "output_type": "stream",
     "text": [
      "sample: 100%|█| 2000/2000 [11:05<00:00,  3.01it/s, 127 steps of size 3.56e-02. a\n"
     ]
    },
    {
     "name": "stdout",
     "output_type": "stream",
     "text": [
      "Done.\n",
      "Samples saved at ../../models/maicf/NF//simplerwykoff_partial_mixed_relht-lnba_batch00.pkl\n",
      "MCMC saved at ../../models/maicf/NF//simplerwykoff_partial_mixed_relht-lnba_batch00_mcmc.pkl\n",
      "simplerwykoff_partial_mixed_relht-ccf\n",
      "simplerwykoff_partial_mixed_relht-ccf_batch00\n"
     ]
    },
    {
     "name": "stderr",
     "output_type": "stream",
     "text": [
      "sample: 100%|█| 2000/2000 [11:02<00:00,  3.02it/s, 127 steps of size 3.25e-02. a\n"
     ]
    },
    {
     "name": "stdout",
     "output_type": "stream",
     "text": [
      "Done.\n",
      "Samples saved at ../../models/maicf/NF//simplerwykoff_partial_mixed_relht-ccf_batch00.pkl\n",
      "MCMC saved at ../../models/maicf/NF//simplerwykoff_partial_mixed_relht-ccf_batch00_mcmc.pkl\n",
      "simplerwykoff_partial_mixed_ballndbh-ba\n",
      "simplerwykoff_partial_mixed_ballndbh-ba_batch00\n"
     ]
    },
    {
     "name": "stderr",
     "output_type": "stream",
     "text": [
      "sample: 100%|█| 2000/2000 [10:39<00:00,  3.13it/s, 127 steps of size 2.94e-02. a\n"
     ]
    },
    {
     "name": "stdout",
     "output_type": "stream",
     "text": [
      "Done.\n",
      "Samples saved at ../../models/maicf/NF//simplerwykoff_partial_mixed_ballndbh-ba_batch00.pkl\n",
      "MCMC saved at ../../models/maicf/NF//simplerwykoff_partial_mixed_ballndbh-ba_batch00_mcmc.pkl\n",
      "simplerwykoff_partial_mixed_ballndbh-lnba\n",
      "simplerwykoff_partial_mixed_ballndbh-lnba_batch00\n"
     ]
    },
    {
     "name": "stderr",
     "output_type": "stream",
     "text": [
      "sample: 100%|█| 2000/2000 [11:03<00:00,  3.02it/s, 127 steps of size 2.83e-02. a\n"
     ]
    },
    {
     "name": "stdout",
     "output_type": "stream",
     "text": [
      "Done.\n",
      "Samples saved at ../../models/maicf/NF//simplerwykoff_partial_mixed_ballndbh-lnba_batch00.pkl\n",
      "MCMC saved at ../../models/maicf/NF//simplerwykoff_partial_mixed_ballndbh-lnba_batch00_mcmc.pkl\n",
      "simplerwykoff_partial_mixed_ballndbh-ccf\n",
      "simplerwykoff_partial_mixed_ballndbh-ccf_batch00\n"
     ]
    },
    {
     "name": "stderr",
     "output_type": "stream",
     "text": [
      "sample: 100%|█| 2000/2000 [11:05<00:00,  3.00it/s, 127 steps of size 3.04e-02. a\n"
     ]
    },
    {
     "name": "stdout",
     "output_type": "stream",
     "text": [
      "Done.\n",
      "Samples saved at ../../models/maicf/NF//simplerwykoff_partial_mixed_ballndbh-ccf_batch00.pkl\n",
      "MCMC saved at ../../models/maicf/NF//simplerwykoff_partial_mixed_ballndbh-ccf_batch00_mcmc.pkl\n"
     ]
    }
   ],
   "source": [
    "for pooling in ['unpooled', 'partial']:\n",
    "    for tree_comp in ['bal', 'relht', 'ballndbh']:\n",
    "        for stand_comp in ['ba', 'lnba', 'ccf']:\n",
    "            model_name = f\"simplerwykoff_{pooling}_mixed_{tree_comp}-{stand_comp}\"\n",
    "            fit_simpler_wykoff(\n",
    "                bark_b0,\n",
    "                bark_b1,\n",
    "                bark_b2,\n",
    "                tree_comp,\n",
    "                stand_comp,\n",
    "                pooling,\n",
    "                LOC_RANDOM,\n",
    "                PLOT_RANDOM,\n",
    "                NUM_CYCLES,\n",
    "                data,\n",
    "                model_name,\n",
    "                CHECKPOINT_DIR,\n",
    "                NUM_WARMUP,\n",
    "                NUM_SAMPLES,\n",
    "                NUM_CHAINS,\n",
    "                CHAIN_METHOD,\n",
    "                NUM_BATCHES,\n",
    "                SEED,\n",
    "                PROGRESS_BAR,\n",
    "                OVERWRITE\n",
    "            )"
   ]
  }
 ],
 "metadata": {
  "kernelspec": {
   "display_name": "Python [conda env:miniconda3-refit_fvs]",
   "language": "python",
   "name": "conda-env-miniconda3-refit_fvs-py"
  },
  "language_info": {
   "codemirror_mode": {
    "name": "ipython",
    "version": 3
   },
   "file_extension": ".py",
   "mimetype": "text/x-python",
   "name": "python",
   "nbconvert_exporter": "python",
   "pygments_lexer": "ipython3",
   "version": "3.10.6"
  }
 },
 "nbformat": 4,
 "nbformat_minor": 5
}
