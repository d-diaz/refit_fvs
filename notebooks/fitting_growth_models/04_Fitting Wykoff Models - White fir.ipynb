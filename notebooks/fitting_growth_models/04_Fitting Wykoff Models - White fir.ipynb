{
 "cells": [
  {
   "cell_type": "code",
   "execution_count": 1,
   "id": "0e392d45-86b1-4de8-9748-0086f5e40d46",
   "metadata": {},
   "outputs": [],
   "source": [
    "import pandas as pd\n",
    "import os\n",
    "import numpyro\n",
    "from refit_fvs.data.load import fia_for_diameter_growth_modeling\n",
    "from refit_fvs.models.fit import fit_wykoff, fit_simpler_wykoff"
   ]
  },
  {
   "cell_type": "code",
   "execution_count": 2,
   "id": "b75769a8-46d8-421b-bc3f-f65be4f20168",
   "metadata": {},
   "outputs": [],
   "source": [
    "os.environ[\"XLA_PYTHON_CLIENT_MEM_FRACTION\"] = \"0.75\"\n",
    "numpyro.set_platform(\"gpu\")\n",
    "numpyro.set_host_device_count(3)"
   ]
  },
  {
   "cell_type": "markdown",
   "id": "9bd96038-f30a-48d1-81ba-f2593e8be408",
   "metadata": {},
   "source": [
    "# Select species\n",
    "Identify species codes and the FVS variant from which bark ratio coefficients should be drawn."
   ]
  },
  {
   "cell_type": "code",
   "execution_count": 3,
   "id": "e5c84098-1dba-4c19-bc06-fa8eae8a2f60",
   "metadata": {},
   "outputs": [],
   "source": [
    "FVS_ALPHA = \"WF\"\n",
    "BARK_VAR = \"CA\"\n",
    "FIA_SPCD = 15"
   ]
  },
  {
   "cell_type": "code",
   "execution_count": 4,
   "id": "9db5d35d-29aa-43fb-a775-94229fa52247",
   "metadata": {},
   "outputs": [
    {
     "data": {
      "text/plain": [
       "(-0.1593, 0.8911, 1.0)"
      ]
     },
     "execution_count": 4,
     "metadata": {},
     "output_type": "execute_result"
    }
   ],
   "source": [
    "BARK_COEFS = \"../../data/raw/fvs_barkratio_coefs.csv\"\n",
    "bark = pd.read_csv(BARK_COEFS).set_index([\"FIA_SPCD\", \"FVS_VARIANT\"])\n",
    "\n",
    "bark_b0, bark_b1, bark_b2 = bark.loc[FIA_SPCD, BARK_VAR][[\"BARK_B0\", \"BARK_B1\", \"BARK_B2\"]]\n",
    "bark_b0, bark_b1, bark_b2"
   ]
  },
  {
   "cell_type": "markdown",
   "id": "7d812fc8-0f00-43ef-9993-3eb576f62af9",
   "metadata": {},
   "source": [
    "# Model-fitting parameters\n",
    "These don't usually need to be updated when fitting a new species unless you want to add more chains or samples per chain."
   ]
  },
  {
   "cell_type": "code",
   "execution_count": 5,
   "id": "a81b074f-f9c8-47a9-a89b-bd15787de9d3",
   "metadata": {},
   "outputs": [],
   "source": [
    "NUM_CYCLES = 2\n",
    "LOC_RANDOM = True\n",
    "PLOT_RANDOM = True\n",
    "CHECKPOINT_DIR = f\"../../models/maicf/{FVS_ALPHA}/\"\n",
    "NUM_WARMUP = 1000\n",
    "NUM_SAMPLES = 1000\n",
    "NUM_CHAINS = 1\n",
    "CHAIN_METHOD = \"parallel\"\n",
    "NUM_BATCHES = 1\n",
    "SEED = 42\n",
    "PROGRESS_BAR = True\n",
    "OVERWRITE = False"
   ]
  },
  {
   "cell_type": "code",
   "execution_count": 6,
   "id": "3f43e10f-90ba-4806-8945-e7bde2cf8dac",
   "metadata": {},
   "outputs": [
    {
     "data": {
      "text/html": [
       "<div>\n",
       "<style scoped>\n",
       "    .dataframe tbody tr th:only-of-type {\n",
       "        vertical-align: middle;\n",
       "    }\n",
       "\n",
       "    .dataframe tbody tr th {\n",
       "        vertical-align: top;\n",
       "    }\n",
       "\n",
       "    .dataframe thead th {\n",
       "        text-align: right;\n",
       "    }\n",
       "</style>\n",
       "<table border=\"1\" class=\"dataframe\">\n",
       "  <thead>\n",
       "    <tr style=\"text-align: right;\">\n",
       "      <th></th>\n",
       "      <th>LOCATION</th>\n",
       "      <th>PLOT_ID</th>\n",
       "      <th>FIA_SPCD</th>\n",
       "      <th>MAICF</th>\n",
       "      <th>SLOPE</th>\n",
       "      <th>ASPECT</th>\n",
       "      <th>ELEV</th>\n",
       "      <th>DBH</th>\n",
       "      <th>CR</th>\n",
       "      <th>CR_NEXT</th>\n",
       "      <th>...</th>\n",
       "      <th>INC5YR</th>\n",
       "      <th>INC10YR</th>\n",
       "      <th>MEASYEAR</th>\n",
       "      <th>MEASMON</th>\n",
       "      <th>MEASYEAR_NEXT</th>\n",
       "      <th>MEASMON_NEXT</th>\n",
       "      <th>MEAS_INTERVAL</th>\n",
       "      <th>VAR_IDX</th>\n",
       "      <th>LOC_IDX</th>\n",
       "      <th>PLOT_IDX</th>\n",
       "    </tr>\n",
       "  </thead>\n",
       "  <tbody>\n",
       "    <tr>\n",
       "      <th>count</th>\n",
       "      <td>7478.00000</td>\n",
       "      <td>7.478000e+03</td>\n",
       "      <td>7478.0</td>\n",
       "      <td>7478.000000</td>\n",
       "      <td>7478.000000</td>\n",
       "      <td>7478.000000</td>\n",
       "      <td>7478.000000</td>\n",
       "      <td>7478.000000</td>\n",
       "      <td>7478.000000</td>\n",
       "      <td>7478.000000</td>\n",
       "      <td>...</td>\n",
       "      <td>365.000000</td>\n",
       "      <td>364.000000</td>\n",
       "      <td>7478.000000</td>\n",
       "      <td>7478.000000</td>\n",
       "      <td>7478.000000</td>\n",
       "      <td>7478.000000</td>\n",
       "      <td>7478.0</td>\n",
       "      <td>7478.000000</td>\n",
       "      <td>7478.000000</td>\n",
       "      <td>7478.000000</td>\n",
       "    </tr>\n",
       "    <tr>\n",
       "      <th>mean</th>\n",
       "      <td>560.03410</td>\n",
       "      <td>2.279706e+11</td>\n",
       "      <td>15.0</td>\n",
       "      <td>133.517954</td>\n",
       "      <td>0.261423</td>\n",
       "      <td>2.862578</td>\n",
       "      <td>56.689489</td>\n",
       "      <td>15.698689</td>\n",
       "      <td>0.577247</td>\n",
       "      <td>0.547827</td>\n",
       "      <td>...</td>\n",
       "      <td>0.289041</td>\n",
       "      <td>0.596291</td>\n",
       "      <td>2004.824819</td>\n",
       "      <td>7.591736</td>\n",
       "      <td>2014.824819</td>\n",
       "      <td>7.645360</td>\n",
       "      <td>10.0</td>\n",
       "      <td>3.889676</td>\n",
       "      <td>16.047205</td>\n",
       "      <td>551.502541</td>\n",
       "    </tr>\n",
       "    <tr>\n",
       "      <th>std</th>\n",
       "      <td>53.86656</td>\n",
       "      <td>1.749225e+11</td>\n",
       "      <td>0.0</td>\n",
       "      <td>77.726379</td>\n",
       "      <td>0.177286</td>\n",
       "      <td>1.924303</td>\n",
       "      <td>11.182074</td>\n",
       "      <td>10.368679</td>\n",
       "      <td>0.197450</td>\n",
       "      <td>0.195958</td>\n",
       "      <td>...</td>\n",
       "      <td>0.208581</td>\n",
       "      <td>0.403301</td>\n",
       "      <td>2.571604</td>\n",
       "      <td>1.518050</td>\n",
       "      <td>2.571604</td>\n",
       "      <td>1.575419</td>\n",
       "      <td>0.0</td>\n",
       "      <td>2.124013</td>\n",
       "      <td>9.195151</td>\n",
       "      <td>333.036875</td>\n",
       "    </tr>\n",
       "    <tr>\n",
       "      <th>min</th>\n",
       "      <td>417.00000</td>\n",
       "      <td>6.010156e+10</td>\n",
       "      <td>15.0</td>\n",
       "      <td>10.000000</td>\n",
       "      <td>0.000000</td>\n",
       "      <td>0.000000</td>\n",
       "      <td>11.000000</td>\n",
       "      <td>5.000000</td>\n",
       "      <td>0.020000</td>\n",
       "      <td>0.000000</td>\n",
       "      <td>...</td>\n",
       "      <td>0.050000</td>\n",
       "      <td>0.050000</td>\n",
       "      <td>2001.000000</td>\n",
       "      <td>1.000000</td>\n",
       "      <td>2011.000000</td>\n",
       "      <td>4.000000</td>\n",
       "      <td>10.0</td>\n",
       "      <td>0.000000</td>\n",
       "      <td>0.000000</td>\n",
       "      <td>0.000000</td>\n",
       "    </tr>\n",
       "    <tr>\n",
       "      <th>25%</th>\n",
       "      <td>511.00000</td>\n",
       "      <td>6.030216e+10</td>\n",
       "      <td>15.0</td>\n",
       "      <td>74.818920</td>\n",
       "      <td>0.120000</td>\n",
       "      <td>1.047198</td>\n",
       "      <td>49.000000</td>\n",
       "      <td>7.300000</td>\n",
       "      <td>0.400000</td>\n",
       "      <td>0.400000</td>\n",
       "      <td>...</td>\n",
       "      <td>0.150000</td>\n",
       "      <td>0.300000</td>\n",
       "      <td>2003.000000</td>\n",
       "      <td>7.000000</td>\n",
       "      <td>2013.000000</td>\n",
       "      <td>7.000000</td>\n",
       "      <td>10.0</td>\n",
       "      <td>2.000000</td>\n",
       "      <td>7.000000</td>\n",
       "      <td>246.000000</td>\n",
       "    </tr>\n",
       "    <tr>\n",
       "      <th>50%</th>\n",
       "      <td>517.00000</td>\n",
       "      <td>6.051096e+10</td>\n",
       "      <td>15.0</td>\n",
       "      <td>116.660000</td>\n",
       "      <td>0.250000</td>\n",
       "      <td>2.967060</td>\n",
       "      <td>57.000000</td>\n",
       "      <td>11.600000</td>\n",
       "      <td>0.600000</td>\n",
       "      <td>0.550000</td>\n",
       "      <td>...</td>\n",
       "      <td>0.250000</td>\n",
       "      <td>0.500000</td>\n",
       "      <td>2005.000000</td>\n",
       "      <td>7.000000</td>\n",
       "      <td>2015.000000</td>\n",
       "      <td>8.000000</td>\n",
       "      <td>10.0</td>\n",
       "      <td>3.000000</td>\n",
       "      <td>14.000000</td>\n",
       "      <td>566.000000</td>\n",
       "    </tr>\n",
       "    <tr>\n",
       "      <th>75%</th>\n",
       "      <td>610.00000</td>\n",
       "      <td>4.103036e+11</td>\n",
       "      <td>15.0</td>\n",
       "      <td>169.773500</td>\n",
       "      <td>0.350000</td>\n",
       "      <td>4.607669</td>\n",
       "      <td>65.000000</td>\n",
       "      <td>24.300000</td>\n",
       "      <td>0.717500</td>\n",
       "      <td>0.700000</td>\n",
       "      <td>...</td>\n",
       "      <td>0.400000</td>\n",
       "      <td>0.800000</td>\n",
       "      <td>2007.000000</td>\n",
       "      <td>9.000000</td>\n",
       "      <td>2017.000000</td>\n",
       "      <td>9.000000</td>\n",
       "      <td>10.0</td>\n",
       "      <td>7.000000</td>\n",
       "      <td>25.000000</td>\n",
       "      <td>840.000000</td>\n",
       "    </tr>\n",
       "    <tr>\n",
       "      <th>max</th>\n",
       "      <td>711.00000</td>\n",
       "      <td>5.308078e+11</td>\n",
       "      <td>15.0</td>\n",
       "      <td>523.332582</td>\n",
       "      <td>1.280000</td>\n",
       "      <td>6.283185</td>\n",
       "      <td>91.000000</td>\n",
       "      <td>71.100000</td>\n",
       "      <td>0.990000</td>\n",
       "      <td>0.990000</td>\n",
       "      <td>...</td>\n",
       "      <td>1.300000</td>\n",
       "      <td>2.400000</td>\n",
       "      <td>2009.000000</td>\n",
       "      <td>12.000000</td>\n",
       "      <td>2019.000000</td>\n",
       "      <td>11.000000</td>\n",
       "      <td>10.0</td>\n",
       "      <td>7.000000</td>\n",
       "      <td>32.000000</td>\n",
       "      <td>1126.000000</td>\n",
       "    </tr>\n",
       "  </tbody>\n",
       "</table>\n",
       "<p>8 rows × 29 columns</p>\n",
       "</div>"
      ],
      "text/plain": [
       "         LOCATION       PLOT_ID  FIA_SPCD        MAICF        SLOPE  \\\n",
       "count  7478.00000  7.478000e+03    7478.0  7478.000000  7478.000000   \n",
       "mean    560.03410  2.279706e+11      15.0   133.517954     0.261423   \n",
       "std      53.86656  1.749225e+11       0.0    77.726379     0.177286   \n",
       "min     417.00000  6.010156e+10      15.0    10.000000     0.000000   \n",
       "25%     511.00000  6.030216e+10      15.0    74.818920     0.120000   \n",
       "50%     517.00000  6.051096e+10      15.0   116.660000     0.250000   \n",
       "75%     610.00000  4.103036e+11      15.0   169.773500     0.350000   \n",
       "max     711.00000  5.308078e+11      15.0   523.332582     1.280000   \n",
       "\n",
       "            ASPECT         ELEV          DBH           CR      CR_NEXT  ...  \\\n",
       "count  7478.000000  7478.000000  7478.000000  7478.000000  7478.000000  ...   \n",
       "mean      2.862578    56.689489    15.698689     0.577247     0.547827  ...   \n",
       "std       1.924303    11.182074    10.368679     0.197450     0.195958  ...   \n",
       "min       0.000000    11.000000     5.000000     0.020000     0.000000  ...   \n",
       "25%       1.047198    49.000000     7.300000     0.400000     0.400000  ...   \n",
       "50%       2.967060    57.000000    11.600000     0.600000     0.550000  ...   \n",
       "75%       4.607669    65.000000    24.300000     0.717500     0.700000  ...   \n",
       "max       6.283185    91.000000    71.100000     0.990000     0.990000  ...   \n",
       "\n",
       "           INC5YR     INC10YR     MEASYEAR      MEASMON  MEASYEAR_NEXT  \\\n",
       "count  365.000000  364.000000  7478.000000  7478.000000    7478.000000   \n",
       "mean     0.289041    0.596291  2004.824819     7.591736    2014.824819   \n",
       "std      0.208581    0.403301     2.571604     1.518050       2.571604   \n",
       "min      0.050000    0.050000  2001.000000     1.000000    2011.000000   \n",
       "25%      0.150000    0.300000  2003.000000     7.000000    2013.000000   \n",
       "50%      0.250000    0.500000  2005.000000     7.000000    2015.000000   \n",
       "75%      0.400000    0.800000  2007.000000     9.000000    2017.000000   \n",
       "max      1.300000    2.400000  2009.000000    12.000000    2019.000000   \n",
       "\n",
       "       MEASMON_NEXT  MEAS_INTERVAL      VAR_IDX      LOC_IDX     PLOT_IDX  \n",
       "count   7478.000000         7478.0  7478.000000  7478.000000  7478.000000  \n",
       "mean       7.645360           10.0     3.889676    16.047205   551.502541  \n",
       "std        1.575419            0.0     2.124013     9.195151   333.036875  \n",
       "min        4.000000           10.0     0.000000     0.000000     0.000000  \n",
       "25%        7.000000           10.0     2.000000     7.000000   246.000000  \n",
       "50%        8.000000           10.0     3.000000    14.000000   566.000000  \n",
       "75%        9.000000           10.0     7.000000    25.000000   840.000000  \n",
       "max       11.000000           10.0     7.000000    32.000000  1126.000000  \n",
       "\n",
       "[8 rows x 29 columns]"
      ]
     },
     "execution_count": 6,
     "metadata": {},
     "output_type": "execute_result"
    }
   ],
   "source": [
    "data, factors = fia_for_diameter_growth_modeling(\n",
    "    path=\"../../data/interim/FIA_remeasured_trees_for_training.csv\",\n",
    "    filter_spp=[FIA_SPCD]\n",
    ")\n",
    "obs_variants, obs_locations, obs_plots = factors\n",
    "data.describe()"
   ]
  },
  {
   "cell_type": "code",
   "execution_count": 7,
   "id": "fa6efd78-c55b-4fd6-8bb7-b065e7411842",
   "metadata": {},
   "outputs": [
    {
     "name": "stdout",
     "output_type": "stream",
     "text": [
      "wykoff_unpooled_mixed_bal-ba\n",
      "wykoff_unpooled_mixed_bal-ba_batch00\n"
     ]
    },
    {
     "name": "stderr",
     "output_type": "stream",
     "text": [
      "sample: 100%|█| 2000/2000 [10:47<00:00,  3.09it/s, 127 steps of size 3.40e-02. a\n"
     ]
    },
    {
     "name": "stdout",
     "output_type": "stream",
     "text": [
      "Done.\n",
      "Samples saved at ../../models/maicf/WF//wykoff_unpooled_mixed_bal-ba_batch00.pkl\n",
      "MCMC saved at ../../models/maicf/WF//wykoff_unpooled_mixed_bal-ba_batch00_mcmc.pkl\n",
      "wykoff_partial_mixed_bal-ba\n",
      "wykoff_partial_mixed_bal-ba_batch00\n"
     ]
    },
    {
     "name": "stderr",
     "output_type": "stream",
     "text": [
      "sample: 100%|█| 2000/2000 [19:12<00:00,  1.74it/s, 127 steps of size 2.90e-02. a\n"
     ]
    },
    {
     "name": "stdout",
     "output_type": "stream",
     "text": [
      "Done.\n",
      "Samples saved at ../../models/maicf/WF//wykoff_partial_mixed_bal-ba_batch00.pkl\n",
      "MCMC saved at ../../models/maicf/WF//wykoff_partial_mixed_bal-ba_batch00_mcmc.pkl\n",
      "wykoff_unpooled_mixed_bal-lnba\n",
      "wykoff_unpooled_mixed_bal-lnba_batch00\n"
     ]
    },
    {
     "name": "stderr",
     "output_type": "stream",
     "text": [
      "sample: 100%|█| 2000/2000 [10:52<00:00,  3.06it/s, 127 steps of size 3.36e-02. a\n"
     ]
    },
    {
     "name": "stdout",
     "output_type": "stream",
     "text": [
      "Done.\n",
      "Samples saved at ../../models/maicf/WF//wykoff_unpooled_mixed_bal-lnba_batch00.pkl\n",
      "MCMC saved at ../../models/maicf/WF//wykoff_unpooled_mixed_bal-lnba_batch00_mcmc.pkl\n",
      "wykoff_partial_mixed_bal-lnba\n",
      "wykoff_partial_mixed_bal-lnba_batch00\n"
     ]
    },
    {
     "name": "stderr",
     "output_type": "stream",
     "text": [
      "sample: 100%|█| 2000/2000 [19:01<00:00,  1.75it/s, 127 steps of size 3.18e-02. a\n"
     ]
    },
    {
     "name": "stdout",
     "output_type": "stream",
     "text": [
      "Done.\n",
      "Samples saved at ../../models/maicf/WF//wykoff_partial_mixed_bal-lnba_batch00.pkl\n",
      "MCMC saved at ../../models/maicf/WF//wykoff_partial_mixed_bal-lnba_batch00_mcmc.pkl\n",
      "wykoff_unpooled_mixed_bal-ccf\n",
      "wykoff_unpooled_mixed_bal-ccf_batch00\n"
     ]
    },
    {
     "name": "stderr",
     "output_type": "stream",
     "text": [
      "sample: 100%|█| 2000/2000 [10:47<00:00,  3.09it/s, 127 steps of size 3.42e-02. a\n"
     ]
    },
    {
     "name": "stdout",
     "output_type": "stream",
     "text": [
      "Done.\n",
      "Samples saved at ../../models/maicf/WF//wykoff_unpooled_mixed_bal-ccf_batch00.pkl\n",
      "MCMC saved at ../../models/maicf/WF//wykoff_unpooled_mixed_bal-ccf_batch00_mcmc.pkl\n",
      "wykoff_partial_mixed_bal-ccf\n",
      "wykoff_partial_mixed_bal-ccf_batch00\n"
     ]
    },
    {
     "name": "stderr",
     "output_type": "stream",
     "text": [
      "sample: 100%|█| 2000/2000 [19:22<00:00,  1.72it/s, 127 steps of size 2.96e-02. a\n"
     ]
    },
    {
     "name": "stdout",
     "output_type": "stream",
     "text": [
      "Done.\n",
      "Samples saved at ../../models/maicf/WF//wykoff_partial_mixed_bal-ccf_batch00.pkl\n",
      "MCMC saved at ../../models/maicf/WF//wykoff_partial_mixed_bal-ccf_batch00_mcmc.pkl\n",
      "wykoff_unpooled_mixed_relht-ba\n",
      "wykoff_unpooled_mixed_relht-ba_batch00\n"
     ]
    },
    {
     "name": "stderr",
     "output_type": "stream",
     "text": [
      "sample: 100%|█| 2000/2000 [10:46<00:00,  3.09it/s, 127 steps of size 3.80e-02. a\n"
     ]
    },
    {
     "name": "stdout",
     "output_type": "stream",
     "text": [
      "Done.\n",
      "Samples saved at ../../models/maicf/WF//wykoff_unpooled_mixed_relht-ba_batch00.pkl\n",
      "MCMC saved at ../../models/maicf/WF//wykoff_unpooled_mixed_relht-ba_batch00_mcmc.pkl\n",
      "wykoff_partial_mixed_relht-ba\n",
      "wykoff_partial_mixed_relht-ba_batch00\n"
     ]
    },
    {
     "name": "stderr",
     "output_type": "stream",
     "text": [
      "sample: 100%|█| 2000/2000 [19:09<00:00,  1.74it/s, 127 steps of size 2.95e-02. a\n"
     ]
    },
    {
     "name": "stdout",
     "output_type": "stream",
     "text": [
      "Done.\n",
      "Samples saved at ../../models/maicf/WF//wykoff_partial_mixed_relht-ba_batch00.pkl\n",
      "MCMC saved at ../../models/maicf/WF//wykoff_partial_mixed_relht-ba_batch00_mcmc.pkl\n",
      "wykoff_unpooled_mixed_relht-lnba\n",
      "wykoff_unpooled_mixed_relht-lnba_batch00\n"
     ]
    },
    {
     "name": "stderr",
     "output_type": "stream",
     "text": [
      "sample: 100%|█| 2000/2000 [10:37<00:00,  3.14it/s, 127 steps of size 3.24e-02. a\n"
     ]
    },
    {
     "name": "stdout",
     "output_type": "stream",
     "text": [
      "Done.\n",
      "Samples saved at ../../models/maicf/WF//wykoff_unpooled_mixed_relht-lnba_batch00.pkl\n",
      "MCMC saved at ../../models/maicf/WF//wykoff_unpooled_mixed_relht-lnba_batch00_mcmc.pkl\n",
      "wykoff_partial_mixed_relht-lnba\n",
      "wykoff_partial_mixed_relht-lnba_batch00\n"
     ]
    },
    {
     "name": "stderr",
     "output_type": "stream",
     "text": [
      "sample: 100%|█| 2000/2000 [21:30<00:00,  1.55it/s, 255 steps of size 2.81e-02. a\n"
     ]
    },
    {
     "name": "stdout",
     "output_type": "stream",
     "text": [
      "Done.\n",
      "Samples saved at ../../models/maicf/WF//wykoff_partial_mixed_relht-lnba_batch00.pkl\n",
      "MCMC saved at ../../models/maicf/WF//wykoff_partial_mixed_relht-lnba_batch00_mcmc.pkl\n",
      "wykoff_unpooled_mixed_relht-ccf\n",
      "wykoff_unpooled_mixed_relht-ccf_batch00\n"
     ]
    },
    {
     "name": "stderr",
     "output_type": "stream",
     "text": [
      "sample: 100%|█| 2000/2000 [10:53<00:00,  3.06it/s, 127 steps of size 3.14e-02. a\n"
     ]
    },
    {
     "name": "stdout",
     "output_type": "stream",
     "text": [
      "Done.\n",
      "Samples saved at ../../models/maicf/WF//wykoff_unpooled_mixed_relht-ccf_batch00.pkl\n",
      "MCMC saved at ../../models/maicf/WF//wykoff_unpooled_mixed_relht-ccf_batch00_mcmc.pkl\n",
      "wykoff_partial_mixed_relht-ccf\n",
      "wykoff_partial_mixed_relht-ccf_batch00\n"
     ]
    },
    {
     "name": "stderr",
     "output_type": "stream",
     "text": [
      "sample: 100%|█| 2000/2000 [19:35<00:00,  1.70it/s, 127 steps of size 3.00e-02. a\n"
     ]
    },
    {
     "name": "stdout",
     "output_type": "stream",
     "text": [
      "Done.\n",
      "Samples saved at ../../models/maicf/WF//wykoff_partial_mixed_relht-ccf_batch00.pkl\n",
      "MCMC saved at ../../models/maicf/WF//wykoff_partial_mixed_relht-ccf_batch00_mcmc.pkl\n",
      "wykoff_unpooled_mixed_ballndbh-ba\n",
      "wykoff_unpooled_mixed_ballndbh-ba_batch00\n"
     ]
    },
    {
     "name": "stderr",
     "output_type": "stream",
     "text": [
      "sample: 100%|█| 2000/2000 [10:57<00:00,  3.04it/s, 127 steps of size 3.40e-02. a\n"
     ]
    },
    {
     "name": "stdout",
     "output_type": "stream",
     "text": [
      "Done.\n",
      "Samples saved at ../../models/maicf/WF//wykoff_unpooled_mixed_ballndbh-ba_batch00.pkl\n",
      "MCMC saved at ../../models/maicf/WF//wykoff_unpooled_mixed_ballndbh-ba_batch00_mcmc.pkl\n",
      "wykoff_partial_mixed_ballndbh-ba\n",
      "wykoff_partial_mixed_ballndbh-ba_batch00\n"
     ]
    },
    {
     "name": "stderr",
     "output_type": "stream",
     "text": [
      "sample: 100%|█| 2000/2000 [25:40<00:00,  1.30it/s, 255 steps of size 2.77e-02. a\n"
     ]
    },
    {
     "name": "stdout",
     "output_type": "stream",
     "text": [
      "Done.\n",
      "Samples saved at ../../models/maicf/WF//wykoff_partial_mixed_ballndbh-ba_batch00.pkl\n",
      "MCMC saved at ../../models/maicf/WF//wykoff_partial_mixed_ballndbh-ba_batch00_mcmc.pkl\n",
      "wykoff_unpooled_mixed_ballndbh-lnba\n",
      "wykoff_unpooled_mixed_ballndbh-lnba_batch00\n"
     ]
    },
    {
     "name": "stderr",
     "output_type": "stream",
     "text": [
      "sample: 100%|█| 2000/2000 [10:52<00:00,  3.07it/s, 127 steps of size 3.67e-02. a\n"
     ]
    },
    {
     "name": "stdout",
     "output_type": "stream",
     "text": [
      "Done.\n",
      "Samples saved at ../../models/maicf/WF//wykoff_unpooled_mixed_ballndbh-lnba_batch00.pkl\n",
      "MCMC saved at ../../models/maicf/WF//wykoff_unpooled_mixed_ballndbh-lnba_batch00_mcmc.pkl\n",
      "wykoff_partial_mixed_ballndbh-lnba\n",
      "wykoff_partial_mixed_ballndbh-lnba_batch00\n"
     ]
    },
    {
     "name": "stderr",
     "output_type": "stream",
     "text": [
      "sample: 100%|█| 2000/2000 [19:17<00:00,  1.73it/s, 127 steps of size 2.88e-02. a\n"
     ]
    },
    {
     "name": "stdout",
     "output_type": "stream",
     "text": [
      "Done.\n",
      "Samples saved at ../../models/maicf/WF//wykoff_partial_mixed_ballndbh-lnba_batch00.pkl\n",
      "MCMC saved at ../../models/maicf/WF//wykoff_partial_mixed_ballndbh-lnba_batch00_mcmc.pkl\n",
      "wykoff_unpooled_mixed_ballndbh-ccf\n",
      "wykoff_unpooled_mixed_ballndbh-ccf_batch00\n"
     ]
    },
    {
     "name": "stderr",
     "output_type": "stream",
     "text": [
      "sample: 100%|█| 2000/2000 [10:51<00:00,  3.07it/s, 127 steps of size 3.47e-02. a\n"
     ]
    },
    {
     "name": "stdout",
     "output_type": "stream",
     "text": [
      "Done.\n",
      "Samples saved at ../../models/maicf/WF//wykoff_unpooled_mixed_ballndbh-ccf_batch00.pkl\n",
      "MCMC saved at ../../models/maicf/WF//wykoff_unpooled_mixed_ballndbh-ccf_batch00_mcmc.pkl\n",
      "wykoff_partial_mixed_ballndbh-ccf\n",
      "wykoff_partial_mixed_ballndbh-ccf_batch00\n"
     ]
    },
    {
     "name": "stderr",
     "output_type": "stream",
     "text": [
      "sample: 100%|█| 2000/2000 [19:06<00:00,  1.74it/s, 127 steps of size 3.30e-02. a\n"
     ]
    },
    {
     "name": "stdout",
     "output_type": "stream",
     "text": [
      "Done.\n",
      "Samples saved at ../../models/maicf/WF//wykoff_partial_mixed_ballndbh-ccf_batch00.pkl\n",
      "MCMC saved at ../../models/maicf/WF//wykoff_partial_mixed_ballndbh-ccf_batch00_mcmc.pkl\n"
     ]
    }
   ],
   "source": [
    "for tree_comp in ['bal', 'relht', 'ballndbh']:\n",
    "    for stand_comp in ['ba', 'lnba', 'ccf']:\n",
    "        for pooling in ['unpooled', 'partial']:\n",
    "            model_name = f\"wykoff_{pooling}_mixed_{tree_comp}-{stand_comp}\"\n",
    "            fit_wykoff(\n",
    "                bark_b0,\n",
    "                bark_b1,\n",
    "                bark_b2,\n",
    "                tree_comp,\n",
    "                stand_comp,\n",
    "                pooling,\n",
    "                LOC_RANDOM,\n",
    "                PLOT_RANDOM,\n",
    "                NUM_CYCLES,\n",
    "                data,\n",
    "                model_name,\n",
    "                CHECKPOINT_DIR,\n",
    "                NUM_WARMUP,\n",
    "                NUM_SAMPLES,\n",
    "                NUM_CHAINS,\n",
    "                CHAIN_METHOD,\n",
    "                NUM_BATCHES,\n",
    "                SEED,\n",
    "                PROGRESS_BAR,\n",
    "                OVERWRITE\n",
    "            )"
   ]
  },
  {
   "cell_type": "code",
   "execution_count": 8,
   "id": "d000f348-ff1e-418e-8d61-f072fe009df5",
   "metadata": {},
   "outputs": [
    {
     "name": "stdout",
     "output_type": "stream",
     "text": [
      "simplerwykoff_unpooled_mixed_bal-ba\n",
      "simplerwykoff_unpooled_mixed_bal-ba_batch00\n"
     ]
    },
    {
     "name": "stderr",
     "output_type": "stream",
     "text": [
      "sample: 100%|█| 2000/2000 [08:12<00:00,  4.06it/s, 127 steps of size 3.25e-02. a\n"
     ]
    },
    {
     "name": "stdout",
     "output_type": "stream",
     "text": [
      "Done.\n",
      "Samples saved at ../../models/maicf/WF//simplerwykoff_unpooled_mixed_bal-ba_batch00.pkl\n",
      "MCMC saved at ../../models/maicf/WF//simplerwykoff_unpooled_mixed_bal-ba_batch00_mcmc.pkl\n",
      "simplerwykoff_unpooled_mixed_bal-lnba\n",
      "simplerwykoff_unpooled_mixed_bal-lnba_batch00\n"
     ]
    },
    {
     "name": "stderr",
     "output_type": "stream",
     "text": [
      "sample: 100%|█| 2000/2000 [08:17<00:00,  4.02it/s, 127 steps of size 3.09e-02. a\n"
     ]
    },
    {
     "name": "stdout",
     "output_type": "stream",
     "text": [
      "Done.\n",
      "Samples saved at ../../models/maicf/WF//simplerwykoff_unpooled_mixed_bal-lnba_batch00.pkl\n",
      "MCMC saved at ../../models/maicf/WF//simplerwykoff_unpooled_mixed_bal-lnba_batch00_mcmc.pkl\n",
      "simplerwykoff_unpooled_mixed_bal-ccf\n",
      "simplerwykoff_unpooled_mixed_bal-ccf_batch00\n"
     ]
    },
    {
     "name": "stderr",
     "output_type": "stream",
     "text": [
      "sample: 100%|█| 2000/2000 [08:16<00:00,  4.02it/s, 127 steps of size 3.23e-02. a\n"
     ]
    },
    {
     "name": "stdout",
     "output_type": "stream",
     "text": [
      "Done.\n",
      "Samples saved at ../../models/maicf/WF//simplerwykoff_unpooled_mixed_bal-ccf_batch00.pkl\n",
      "MCMC saved at ../../models/maicf/WF//simplerwykoff_unpooled_mixed_bal-ccf_batch00_mcmc.pkl\n",
      "simplerwykoff_unpooled_mixed_relht-ba\n",
      "simplerwykoff_unpooled_mixed_relht-ba_batch00\n"
     ]
    },
    {
     "name": "stderr",
     "output_type": "stream",
     "text": [
      "sample: 100%|█| 2000/2000 [08:06<00:00,  4.11it/s, 127 steps of size 3.19e-02. a\n"
     ]
    },
    {
     "name": "stdout",
     "output_type": "stream",
     "text": [
      "Done.\n",
      "Samples saved at ../../models/maicf/WF//simplerwykoff_unpooled_mixed_relht-ba_batch00.pkl\n",
      "MCMC saved at ../../models/maicf/WF//simplerwykoff_unpooled_mixed_relht-ba_batch00_mcmc.pkl\n",
      "simplerwykoff_unpooled_mixed_relht-lnba\n",
      "simplerwykoff_unpooled_mixed_relht-lnba_batch00\n"
     ]
    },
    {
     "name": "stderr",
     "output_type": "stream",
     "text": [
      "sample: 100%|█| 2000/2000 [08:23<00:00,  3.97it/s, 127 steps of size 2.92e-02. a\n"
     ]
    },
    {
     "name": "stdout",
     "output_type": "stream",
     "text": [
      "Done.\n",
      "Samples saved at ../../models/maicf/WF//simplerwykoff_unpooled_mixed_relht-lnba_batch00.pkl\n",
      "MCMC saved at ../../models/maicf/WF//simplerwykoff_unpooled_mixed_relht-lnba_batch00_mcmc.pkl\n",
      "simplerwykoff_unpooled_mixed_relht-ccf\n",
      "simplerwykoff_unpooled_mixed_relht-ccf_batch00\n"
     ]
    },
    {
     "name": "stderr",
     "output_type": "stream",
     "text": [
      "sample: 100%|█| 2000/2000 [08:23<00:00,  3.97it/s, 127 steps of size 3.24e-02. a\n"
     ]
    },
    {
     "name": "stdout",
     "output_type": "stream",
     "text": [
      "Done.\n",
      "Samples saved at ../../models/maicf/WF//simplerwykoff_unpooled_mixed_relht-ccf_batch00.pkl\n",
      "MCMC saved at ../../models/maicf/WF//simplerwykoff_unpooled_mixed_relht-ccf_batch00_mcmc.pkl\n",
      "simplerwykoff_unpooled_mixed_ballndbh-ba\n",
      "simplerwykoff_unpooled_mixed_ballndbh-ba_batch00\n"
     ]
    },
    {
     "name": "stderr",
     "output_type": "stream",
     "text": [
      "sample: 100%|█| 2000/2000 [08:17<00:00,  4.02it/s, 127 steps of size 3.53e-02. a\n"
     ]
    },
    {
     "name": "stdout",
     "output_type": "stream",
     "text": [
      "Done.\n",
      "Samples saved at ../../models/maicf/WF//simplerwykoff_unpooled_mixed_ballndbh-ba_batch00.pkl\n",
      "MCMC saved at ../../models/maicf/WF//simplerwykoff_unpooled_mixed_ballndbh-ba_batch00_mcmc.pkl\n",
      "simplerwykoff_unpooled_mixed_ballndbh-lnba\n",
      "simplerwykoff_unpooled_mixed_ballndbh-lnba_batch00\n"
     ]
    },
    {
     "name": "stderr",
     "output_type": "stream",
     "text": [
      "sample: 100%|█| 2000/2000 [08:29<00:00,  3.92it/s, 127 steps of size 3.53e-02. a\n"
     ]
    },
    {
     "name": "stdout",
     "output_type": "stream",
     "text": [
      "Done.\n",
      "Samples saved at ../../models/maicf/WF//simplerwykoff_unpooled_mixed_ballndbh-lnba_batch00.pkl\n",
      "MCMC saved at ../../models/maicf/WF//simplerwykoff_unpooled_mixed_ballndbh-lnba_batch00_mcmc.pkl\n",
      "simplerwykoff_unpooled_mixed_ballndbh-ccf\n",
      "simplerwykoff_unpooled_mixed_ballndbh-ccf_batch00\n"
     ]
    },
    {
     "name": "stderr",
     "output_type": "stream",
     "text": [
      "sample: 100%|█| 2000/2000 [08:35<00:00,  3.88it/s, 127 steps of size 3.43e-02. a\n"
     ]
    },
    {
     "name": "stdout",
     "output_type": "stream",
     "text": [
      "Done.\n",
      "Samples saved at ../../models/maicf/WF//simplerwykoff_unpooled_mixed_ballndbh-ccf_batch00.pkl\n",
      "MCMC saved at ../../models/maicf/WF//simplerwykoff_unpooled_mixed_ballndbh-ccf_batch00_mcmc.pkl\n",
      "simplerwykoff_partial_mixed_bal-ba\n",
      "simplerwykoff_partial_mixed_bal-ba_batch00\n"
     ]
    },
    {
     "name": "stderr",
     "output_type": "stream",
     "text": [
      "sample: 100%|█| 2000/2000 [12:52<00:00,  2.59it/s, 127 steps of size 3.32e-02. a\n"
     ]
    },
    {
     "name": "stdout",
     "output_type": "stream",
     "text": [
      "Done.\n",
      "Samples saved at ../../models/maicf/WF//simplerwykoff_partial_mixed_bal-ba_batch00.pkl\n",
      "MCMC saved at ../../models/maicf/WF//simplerwykoff_partial_mixed_bal-ba_batch00_mcmc.pkl\n",
      "simplerwykoff_partial_mixed_bal-lnba\n",
      "simplerwykoff_partial_mixed_bal-lnba_batch00\n"
     ]
    },
    {
     "name": "stderr",
     "output_type": "stream",
     "text": [
      "sample: 100%|█| 2000/2000 [13:01<00:00,  2.56it/s, 127 steps of size 3.14e-02. a\n"
     ]
    },
    {
     "name": "stdout",
     "output_type": "stream",
     "text": [
      "Done.\n",
      "Samples saved at ../../models/maicf/WF//simplerwykoff_partial_mixed_bal-lnba_batch00.pkl\n",
      "MCMC saved at ../../models/maicf/WF//simplerwykoff_partial_mixed_bal-lnba_batch00_mcmc.pkl\n",
      "simplerwykoff_partial_mixed_bal-ccf\n",
      "simplerwykoff_partial_mixed_bal-ccf_batch00\n"
     ]
    },
    {
     "name": "stderr",
     "output_type": "stream",
     "text": [
      "sample: 100%|█| 2000/2000 [17:50<00:00,  1.87it/s, 255 steps of size 2.63e-02. a\n"
     ]
    },
    {
     "name": "stdout",
     "output_type": "stream",
     "text": [
      "Done.\n",
      "Samples saved at ../../models/maicf/WF//simplerwykoff_partial_mixed_bal-ccf_batch00.pkl\n",
      "MCMC saved at ../../models/maicf/WF//simplerwykoff_partial_mixed_bal-ccf_batch00_mcmc.pkl\n",
      "simplerwykoff_partial_mixed_relht-ba\n",
      "simplerwykoff_partial_mixed_relht-ba_batch00\n"
     ]
    },
    {
     "name": "stderr",
     "output_type": "stream",
     "text": [
      "sample: 100%|█| 2000/2000 [18:04<00:00,  1.84it/s, 255 steps of size 2.47e-02. a\n"
     ]
    },
    {
     "name": "stdout",
     "output_type": "stream",
     "text": [
      "Done.\n",
      "Samples saved at ../../models/maicf/WF//simplerwykoff_partial_mixed_relht-ba_batch00.pkl\n",
      "MCMC saved at ../../models/maicf/WF//simplerwykoff_partial_mixed_relht-ba_batch00_mcmc.pkl\n",
      "simplerwykoff_partial_mixed_relht-lnba\n",
      "simplerwykoff_partial_mixed_relht-lnba_batch00\n"
     ]
    },
    {
     "name": "stderr",
     "output_type": "stream",
     "text": [
      "sample: 100%|█| 2000/2000 [13:20<00:00,  2.50it/s, 127 steps of size 3.38e-02. a\n"
     ]
    },
    {
     "name": "stdout",
     "output_type": "stream",
     "text": [
      "Done.\n",
      "Samples saved at ../../models/maicf/WF//simplerwykoff_partial_mixed_relht-lnba_batch00.pkl\n",
      "MCMC saved at ../../models/maicf/WF//simplerwykoff_partial_mixed_relht-lnba_batch00_mcmc.pkl\n",
      "simplerwykoff_partial_mixed_relht-ccf\n",
      "simplerwykoff_partial_mixed_relht-ccf_batch00\n"
     ]
    },
    {
     "name": "stderr",
     "output_type": "stream",
     "text": [
      "sample: 100%|█| 2000/2000 [18:04<00:00,  1.84it/s, 255 steps of size 2.77e-02. a\n"
     ]
    },
    {
     "name": "stdout",
     "output_type": "stream",
     "text": [
      "Done.\n",
      "Samples saved at ../../models/maicf/WF//simplerwykoff_partial_mixed_relht-ccf_batch00.pkl\n",
      "MCMC saved at ../../models/maicf/WF//simplerwykoff_partial_mixed_relht-ccf_batch00_mcmc.pkl\n",
      "simplerwykoff_partial_mixed_ballndbh-ba\n",
      "simplerwykoff_partial_mixed_ballndbh-ba_batch00\n"
     ]
    },
    {
     "name": "stderr",
     "output_type": "stream",
     "text": [
      "sample: 100%|█| 2000/2000 [13:02<00:00,  2.56it/s, 127 steps of size 3.64e-02. a\n"
     ]
    },
    {
     "name": "stdout",
     "output_type": "stream",
     "text": [
      "Done.\n",
      "Samples saved at ../../models/maicf/WF//simplerwykoff_partial_mixed_ballndbh-ba_batch00.pkl\n",
      "MCMC saved at ../../models/maicf/WF//simplerwykoff_partial_mixed_ballndbh-ba_batch00_mcmc.pkl\n",
      "simplerwykoff_partial_mixed_ballndbh-lnba\n",
      "simplerwykoff_partial_mixed_ballndbh-lnba_batch00\n"
     ]
    },
    {
     "name": "stderr",
     "output_type": "stream",
     "text": [
      "sample: 100%|█| 2000/2000 [17:57<00:00,  1.86it/s, 255 steps of size 2.75e-02. a\n"
     ]
    },
    {
     "name": "stdout",
     "output_type": "stream",
     "text": [
      "Done.\n",
      "Samples saved at ../../models/maicf/WF//simplerwykoff_partial_mixed_ballndbh-lnba_batch00.pkl\n",
      "MCMC saved at ../../models/maicf/WF//simplerwykoff_partial_mixed_ballndbh-lnba_batch00_mcmc.pkl\n",
      "simplerwykoff_partial_mixed_ballndbh-ccf\n",
      "simplerwykoff_partial_mixed_ballndbh-ccf_batch00\n"
     ]
    },
    {
     "name": "stderr",
     "output_type": "stream",
     "text": [
      "sample: 100%|█| 2000/2000 [13:19<00:00,  2.50it/s, 127 steps of size 3.27e-02. a\n"
     ]
    },
    {
     "name": "stdout",
     "output_type": "stream",
     "text": [
      "Done.\n",
      "Samples saved at ../../models/maicf/WF//simplerwykoff_partial_mixed_ballndbh-ccf_batch00.pkl\n",
      "MCMC saved at ../../models/maicf/WF//simplerwykoff_partial_mixed_ballndbh-ccf_batch00_mcmc.pkl\n"
     ]
    }
   ],
   "source": [
    "for pooling in ['unpooled', 'partial']:\n",
    "    for tree_comp in ['bal', 'relht', 'ballndbh']:\n",
    "        for stand_comp in ['ba', 'lnba', 'ccf']:\n",
    "            model_name = f\"simplerwykoff_{pooling}_mixed_{tree_comp}-{stand_comp}\"\n",
    "            fit_simpler_wykoff(\n",
    "                bark_b0,\n",
    "                bark_b1,\n",
    "                bark_b2,\n",
    "                tree_comp,\n",
    "                stand_comp,\n",
    "                pooling,\n",
    "                LOC_RANDOM,\n",
    "                PLOT_RANDOM,\n",
    "                NUM_CYCLES,\n",
    "                data,\n",
    "                model_name,\n",
    "                CHECKPOINT_DIR,\n",
    "                NUM_WARMUP,\n",
    "                NUM_SAMPLES,\n",
    "                NUM_CHAINS,\n",
    "                CHAIN_METHOD,\n",
    "                NUM_BATCHES,\n",
    "                SEED,\n",
    "                PROGRESS_BAR,\n",
    "                OVERWRITE\n",
    "            )"
   ]
  }
 ],
 "metadata": {
  "kernelspec": {
   "display_name": "Python [conda env:miniconda3-refit_fvs]",
   "language": "python",
   "name": "conda-env-miniconda3-refit_fvs-py"
  },
  "language_info": {
   "codemirror_mode": {
    "name": "ipython",
    "version": 3
   },
   "file_extension": ".py",
   "mimetype": "text/x-python",
   "name": "python",
   "nbconvert_exporter": "python",
   "pygments_lexer": "ipython3",
   "version": "3.10.6"
  }
 },
 "nbformat": 4,
 "nbformat_minor": 5
}
