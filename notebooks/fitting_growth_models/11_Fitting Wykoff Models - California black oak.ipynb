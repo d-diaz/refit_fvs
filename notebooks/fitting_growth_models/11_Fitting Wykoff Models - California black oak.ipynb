{
 "cells": [
  {
   "cell_type": "code",
   "execution_count": 1,
   "id": "0e392d45-86b1-4de8-9748-0086f5e40d46",
   "metadata": {},
   "outputs": [],
   "source": [
    "import pandas as pd\n",
    "import os\n",
    "import numpyro\n",
    "from refit_fvs.data.load import fia_for_diameter_growth_modeling\n",
    "from refit_fvs.models.fit import fit_wykoff, fit_simpler_wykoff"
   ]
  },
  {
   "cell_type": "code",
   "execution_count": 2,
   "id": "b75769a8-46d8-421b-bc3f-f65be4f20168",
   "metadata": {},
   "outputs": [],
   "source": [
    "os.environ[\"XLA_PYTHON_CLIENT_MEM_FRACTION\"] = \"0.75\"\n",
    "numpyro.set_platform(\"gpu\")\n",
    "numpyro.set_host_device_count(3)"
   ]
  },
  {
   "cell_type": "markdown",
   "id": "9bd96038-f30a-48d1-81ba-f2593e8be408",
   "metadata": {},
   "source": [
    "# Select species\n",
    "Identify species codes and the FVS variant from which bark ratio coefficients should be drawn."
   ]
  },
  {
   "cell_type": "code",
   "execution_count": 3,
   "id": "e5c84098-1dba-4c19-bc06-fa8eae8a2f60",
   "metadata": {},
   "outputs": [],
   "source": [
    "FVS_ALPHA = \"BO\"\n",
    "BARK_VAR = \"CA\"\n",
    "FIA_SPCD = 818"
   ]
  },
  {
   "cell_type": "code",
   "execution_count": 4,
   "id": "9db5d35d-29aa-43fb-a775-94229fa52247",
   "metadata": {},
   "outputs": [
    {
     "data": {
      "text/plain": [
       "(-0.26824, 0.95767, 1.0)"
      ]
     },
     "execution_count": 4,
     "metadata": {},
     "output_type": "execute_result"
    }
   ],
   "source": [
    "BARK_COEFS = \"../../data/raw/fvs_barkratio_coefs.csv\"\n",
    "bark = pd.read_csv(BARK_COEFS).set_index([\"FIA_SPCD\", \"FVS_VARIANT\"])\n",
    "\n",
    "bark_b0, bark_b1, bark_b2 = bark.loc[FIA_SPCD, BARK_VAR][[\"BARK_B0\", \"BARK_B1\", \"BARK_B2\"]]\n",
    "bark_b0, bark_b1, bark_b2"
   ]
  },
  {
   "cell_type": "markdown",
   "id": "7d812fc8-0f00-43ef-9993-3eb576f62af9",
   "metadata": {},
   "source": [
    "# Model-fitting parameters\n",
    "These don't usually need to be updated when fitting a new species unless you want to add more chains or samples per chain."
   ]
  },
  {
   "cell_type": "code",
   "execution_count": 5,
   "id": "a81b074f-f9c8-47a9-a89b-bd15787de9d3",
   "metadata": {},
   "outputs": [],
   "source": [
    "NUM_CYCLES = 2\n",
    "LOC_RANDOM = True\n",
    "PLOT_RANDOM = True\n",
    "CHECKPOINT_DIR = f\"../../models/maicf/{FVS_ALPHA}/\"\n",
    "NUM_WARMUP = 1000\n",
    "NUM_SAMPLES = 1000\n",
    "NUM_CHAINS = 1\n",
    "CHAIN_METHOD = \"parallel\"\n",
    "NUM_BATCHES = 1\n",
    "SEED = 42\n",
    "PROGRESS_BAR = True\n",
    "OVERWRITE = False"
   ]
  },
  {
   "cell_type": "code",
   "execution_count": 6,
   "id": "3f43e10f-90ba-4806-8945-e7bde2cf8dac",
   "metadata": {},
   "outputs": [
    {
     "data": {
      "text/html": [
       "<div>\n",
       "<style scoped>\n",
       "    .dataframe tbody tr th:only-of-type {\n",
       "        vertical-align: middle;\n",
       "    }\n",
       "\n",
       "    .dataframe tbody tr th {\n",
       "        vertical-align: top;\n",
       "    }\n",
       "\n",
       "    .dataframe thead th {\n",
       "        text-align: right;\n",
       "    }\n",
       "</style>\n",
       "<table border=\"1\" class=\"dataframe\">\n",
       "  <thead>\n",
       "    <tr style=\"text-align: right;\">\n",
       "      <th></th>\n",
       "      <th>LOCATION</th>\n",
       "      <th>PLOT_ID</th>\n",
       "      <th>FIA_SPCD</th>\n",
       "      <th>MAICF</th>\n",
       "      <th>SLOPE</th>\n",
       "      <th>ASPECT</th>\n",
       "      <th>ELEV</th>\n",
       "      <th>DBH</th>\n",
       "      <th>CR</th>\n",
       "      <th>CR_NEXT</th>\n",
       "      <th>...</th>\n",
       "      <th>INC5YR</th>\n",
       "      <th>INC10YR</th>\n",
       "      <th>MEASYEAR</th>\n",
       "      <th>MEASMON</th>\n",
       "      <th>MEASYEAR_NEXT</th>\n",
       "      <th>MEASMON_NEXT</th>\n",
       "      <th>MEAS_INTERVAL</th>\n",
       "      <th>VAR_IDX</th>\n",
       "      <th>LOC_IDX</th>\n",
       "      <th>PLOT_IDX</th>\n",
       "    </tr>\n",
       "  </thead>\n",
       "  <tbody>\n",
       "    <tr>\n",
       "      <th>count</th>\n",
       "      <td>1750.000000</td>\n",
       "      <td>1.750000e+03</td>\n",
       "      <td>1750.0</td>\n",
       "      <td>1750.000000</td>\n",
       "      <td>1750.000000</td>\n",
       "      <td>1750.000000</td>\n",
       "      <td>1750.000000</td>\n",
       "      <td>1750.000000</td>\n",
       "      <td>1750.000000</td>\n",
       "      <td>1750.000000</td>\n",
       "      <td>...</td>\n",
       "      <td>0.0</td>\n",
       "      <td>0.0</td>\n",
       "      <td>1750.000000</td>\n",
       "      <td>1750.000000</td>\n",
       "      <td>1750.000000</td>\n",
       "      <td>1750.000000</td>\n",
       "      <td>1750.0</td>\n",
       "      <td>1750.000000</td>\n",
       "      <td>1750.000000</td>\n",
       "      <td>1750.000000</td>\n",
       "    </tr>\n",
       "    <tr>\n",
       "      <th>mean</th>\n",
       "      <td>526.341143</td>\n",
       "      <td>1.020847e+11</td>\n",
       "      <td>818.0</td>\n",
       "      <td>91.021797</td>\n",
       "      <td>0.378926</td>\n",
       "      <td>3.079868</td>\n",
       "      <td>33.443429</td>\n",
       "      <td>11.165657</td>\n",
       "      <td>0.416160</td>\n",
       "      <td>0.401840</td>\n",
       "      <td>...</td>\n",
       "      <td>NaN</td>\n",
       "      <td>NaN</td>\n",
       "      <td>2004.683429</td>\n",
       "      <td>7.990286</td>\n",
       "      <td>2014.683429</td>\n",
       "      <td>6.873714</td>\n",
       "      <td>10.0</td>\n",
       "      <td>2.492000</td>\n",
       "      <td>11.561714</td>\n",
       "      <td>213.757143</td>\n",
       "    </tr>\n",
       "    <tr>\n",
       "      <th>std</th>\n",
       "      <td>44.944431</td>\n",
       "      <td>1.135046e+11</td>\n",
       "      <td>0.0</td>\n",
       "      <td>61.696896</td>\n",
       "      <td>0.199458</td>\n",
       "      <td>1.863211</td>\n",
       "      <td>13.911258</td>\n",
       "      <td>7.202577</td>\n",
       "      <td>0.166822</td>\n",
       "      <td>0.168117</td>\n",
       "      <td>...</td>\n",
       "      <td>NaN</td>\n",
       "      <td>NaN</td>\n",
       "      <td>2.554004</td>\n",
       "      <td>2.142819</td>\n",
       "      <td>2.554004</td>\n",
       "      <td>2.085520</td>\n",
       "      <td>0.0</td>\n",
       "      <td>2.290931</td>\n",
       "      <td>5.408675</td>\n",
       "      <td>119.655556</td>\n",
       "    </tr>\n",
       "    <tr>\n",
       "      <th>min</th>\n",
       "      <td>503.000000</td>\n",
       "      <td>6.010235e+10</td>\n",
       "      <td>818.0</td>\n",
       "      <td>4.080000</td>\n",
       "      <td>0.000000</td>\n",
       "      <td>0.000000</td>\n",
       "      <td>3.000000</td>\n",
       "      <td>5.000000</td>\n",
       "      <td>0.010000</td>\n",
       "      <td>0.010000</td>\n",
       "      <td>...</td>\n",
       "      <td>NaN</td>\n",
       "      <td>NaN</td>\n",
       "      <td>2001.000000</td>\n",
       "      <td>3.000000</td>\n",
       "      <td>2011.000000</td>\n",
       "      <td>3.000000</td>\n",
       "      <td>10.0</td>\n",
       "      <td>0.000000</td>\n",
       "      <td>0.000000</td>\n",
       "      <td>0.000000</td>\n",
       "    </tr>\n",
       "    <tr>\n",
       "      <th>25%</th>\n",
       "      <td>508.000000</td>\n",
       "      <td>6.020936e+10</td>\n",
       "      <td>818.0</td>\n",
       "      <td>50.042503</td>\n",
       "      <td>0.200000</td>\n",
       "      <td>1.658063</td>\n",
       "      <td>23.000000</td>\n",
       "      <td>6.400000</td>\n",
       "      <td>0.300000</td>\n",
       "      <td>0.300000</td>\n",
       "      <td>...</td>\n",
       "      <td>NaN</td>\n",
       "      <td>NaN</td>\n",
       "      <td>2002.000000</td>\n",
       "      <td>6.000000</td>\n",
       "      <td>2012.000000</td>\n",
       "      <td>5.000000</td>\n",
       "      <td>10.0</td>\n",
       "      <td>0.000000</td>\n",
       "      <td>9.000000</td>\n",
       "      <td>107.000000</td>\n",
       "    </tr>\n",
       "    <tr>\n",
       "      <th>50%</th>\n",
       "      <td>511.000000</td>\n",
       "      <td>6.030340e+10</td>\n",
       "      <td>818.0</td>\n",
       "      <td>94.337446</td>\n",
       "      <td>0.400000</td>\n",
       "      <td>3.106686</td>\n",
       "      <td>33.000000</td>\n",
       "      <td>8.400000</td>\n",
       "      <td>0.400000</td>\n",
       "      <td>0.400000</td>\n",
       "      <td>...</td>\n",
       "      <td>NaN</td>\n",
       "      <td>NaN</td>\n",
       "      <td>2004.000000</td>\n",
       "      <td>8.000000</td>\n",
       "      <td>2014.000000</td>\n",
       "      <td>7.000000</td>\n",
       "      <td>10.0</td>\n",
       "      <td>4.000000</td>\n",
       "      <td>14.000000</td>\n",
       "      <td>217.000000</td>\n",
       "    </tr>\n",
       "    <tr>\n",
       "      <th>75%</th>\n",
       "      <td>516.000000</td>\n",
       "      <td>6.050398e+10</td>\n",
       "      <td>818.0</td>\n",
       "      <td>124.201204</td>\n",
       "      <td>0.520000</td>\n",
       "      <td>4.699299</td>\n",
       "      <td>43.000000</td>\n",
       "      <td>12.875000</td>\n",
       "      <td>0.500000</td>\n",
       "      <td>0.500000</td>\n",
       "      <td>...</td>\n",
       "      <td>NaN</td>\n",
       "      <td>NaN</td>\n",
       "      <td>2007.000000</td>\n",
       "      <td>10.000000</td>\n",
       "      <td>2017.000000</td>\n",
       "      <td>9.000000</td>\n",
       "      <td>10.0</td>\n",
       "      <td>5.000000</td>\n",
       "      <td>15.000000</td>\n",
       "      <td>319.750000</td>\n",
       "    </tr>\n",
       "    <tr>\n",
       "      <th>max</th>\n",
       "      <td>712.000000</td>\n",
       "      <td>4.102034e+11</td>\n",
       "      <td>818.0</td>\n",
       "      <td>523.332582</td>\n",
       "      <td>0.970000</td>\n",
       "      <td>6.283185</td>\n",
       "      <td>73.000000</td>\n",
       "      <td>50.600000</td>\n",
       "      <td>0.950000</td>\n",
       "      <td>0.950000</td>\n",
       "      <td>...</td>\n",
       "      <td>NaN</td>\n",
       "      <td>NaN</td>\n",
       "      <td>2009.000000</td>\n",
       "      <td>12.000000</td>\n",
       "      <td>2019.000000</td>\n",
       "      <td>11.000000</td>\n",
       "      <td>10.0</td>\n",
       "      <td>5.000000</td>\n",
       "      <td>20.000000</td>\n",
       "      <td>416.000000</td>\n",
       "    </tr>\n",
       "  </tbody>\n",
       "</table>\n",
       "<p>8 rows × 29 columns</p>\n",
       "</div>"
      ],
      "text/plain": [
       "          LOCATION       PLOT_ID  FIA_SPCD        MAICF        SLOPE  \\\n",
       "count  1750.000000  1.750000e+03    1750.0  1750.000000  1750.000000   \n",
       "mean    526.341143  1.020847e+11     818.0    91.021797     0.378926   \n",
       "std      44.944431  1.135046e+11       0.0    61.696896     0.199458   \n",
       "min     503.000000  6.010235e+10     818.0     4.080000     0.000000   \n",
       "25%     508.000000  6.020936e+10     818.0    50.042503     0.200000   \n",
       "50%     511.000000  6.030340e+10     818.0    94.337446     0.400000   \n",
       "75%     516.000000  6.050398e+10     818.0   124.201204     0.520000   \n",
       "max     712.000000  4.102034e+11     818.0   523.332582     0.970000   \n",
       "\n",
       "            ASPECT         ELEV          DBH           CR      CR_NEXT  ...  \\\n",
       "count  1750.000000  1750.000000  1750.000000  1750.000000  1750.000000  ...   \n",
       "mean      3.079868    33.443429    11.165657     0.416160     0.401840  ...   \n",
       "std       1.863211    13.911258     7.202577     0.166822     0.168117  ...   \n",
       "min       0.000000     3.000000     5.000000     0.010000     0.010000  ...   \n",
       "25%       1.658063    23.000000     6.400000     0.300000     0.300000  ...   \n",
       "50%       3.106686    33.000000     8.400000     0.400000     0.400000  ...   \n",
       "75%       4.699299    43.000000    12.875000     0.500000     0.500000  ...   \n",
       "max       6.283185    73.000000    50.600000     0.950000     0.950000  ...   \n",
       "\n",
       "       INC5YR  INC10YR     MEASYEAR      MEASMON  MEASYEAR_NEXT  MEASMON_NEXT  \\\n",
       "count     0.0      0.0  1750.000000  1750.000000    1750.000000   1750.000000   \n",
       "mean      NaN      NaN  2004.683429     7.990286    2014.683429      6.873714   \n",
       "std       NaN      NaN     2.554004     2.142819       2.554004      2.085520   \n",
       "min       NaN      NaN  2001.000000     3.000000    2011.000000      3.000000   \n",
       "25%       NaN      NaN  2002.000000     6.000000    2012.000000      5.000000   \n",
       "50%       NaN      NaN  2004.000000     8.000000    2014.000000      7.000000   \n",
       "75%       NaN      NaN  2007.000000    10.000000    2017.000000      9.000000   \n",
       "max       NaN      NaN  2009.000000    12.000000    2019.000000     11.000000   \n",
       "\n",
       "       MEAS_INTERVAL      VAR_IDX      LOC_IDX     PLOT_IDX  \n",
       "count         1750.0  1750.000000  1750.000000  1750.000000  \n",
       "mean            10.0     2.492000    11.561714   213.757143  \n",
       "std              0.0     2.290931     5.408675   119.655556  \n",
       "min             10.0     0.000000     0.000000     0.000000  \n",
       "25%             10.0     0.000000     9.000000   107.000000  \n",
       "50%             10.0     4.000000    14.000000   217.000000  \n",
       "75%             10.0     5.000000    15.000000   319.750000  \n",
       "max             10.0     5.000000    20.000000   416.000000  \n",
       "\n",
       "[8 rows x 29 columns]"
      ]
     },
     "execution_count": 6,
     "metadata": {},
     "output_type": "execute_result"
    }
   ],
   "source": [
    "data, factors = fia_for_diameter_growth_modeling(\n",
    "    path=\"../../data/interim/FIA_remeasured_trees_for_training.csv\",\n",
    "    filter_spp=[FIA_SPCD]\n",
    ")\n",
    "obs_variants, obs_locations, obs_plots = factors\n",
    "data.describe()"
   ]
  },
  {
   "cell_type": "code",
   "execution_count": 7,
   "id": "fa6efd78-c55b-4fd6-8bb7-b065e7411842",
   "metadata": {},
   "outputs": [
    {
     "name": "stdout",
     "output_type": "stream",
     "text": [
      "wykoff_unpooled_mixed_bal-ba\n",
      "wykoff_unpooled_mixed_bal-ba_batch00\n"
     ]
    },
    {
     "name": "stderr",
     "output_type": "stream",
     "text": [
      "sample: 100%|█| 2000/2000 [15:04<00:00,  2.21it/s, 255 steps of size 1.86e-02. a\n"
     ]
    },
    {
     "name": "stdout",
     "output_type": "stream",
     "text": [
      "Done.\n",
      "Samples saved at ../../models/maicf/BO//wykoff_unpooled_mixed_bal-ba_batch00.pkl\n",
      "MCMC saved at ../../models/maicf/BO//wykoff_unpooled_mixed_bal-ba_batch00_mcmc.pkl\n",
      "wykoff_partial_mixed_bal-ba\n",
      "wykoff_partial_mixed_bal-ba_batch00\n"
     ]
    },
    {
     "name": "stderr",
     "output_type": "stream",
     "text": [
      "sample: 100%|█| 2000/2000 [23:03<00:00,  1.45it/s, 255 steps of size 1.91e-02. a\n"
     ]
    },
    {
     "name": "stdout",
     "output_type": "stream",
     "text": [
      "Done.\n",
      "Samples saved at ../../models/maicf/BO//wykoff_partial_mixed_bal-ba_batch00.pkl\n",
      "MCMC saved at ../../models/maicf/BO//wykoff_partial_mixed_bal-ba_batch00_mcmc.pkl\n",
      "wykoff_unpooled_mixed_bal-lnba\n",
      "wykoff_unpooled_mixed_bal-lnba_batch00\n"
     ]
    },
    {
     "name": "stderr",
     "output_type": "stream",
     "text": [
      "sample: 100%|█| 2000/2000 [14:04<00:00,  2.37it/s, 255 steps of size 1.52e-02. a\n"
     ]
    },
    {
     "name": "stdout",
     "output_type": "stream",
     "text": [
      "Done.\n",
      "Samples saved at ../../models/maicf/BO//wykoff_unpooled_mixed_bal-lnba_batch00.pkl\n",
      "MCMC saved at ../../models/maicf/BO//wykoff_unpooled_mixed_bal-lnba_batch00_mcmc.pkl\n",
      "wykoff_partial_mixed_bal-lnba\n",
      "wykoff_partial_mixed_bal-lnba_batch00\n"
     ]
    },
    {
     "name": "stderr",
     "output_type": "stream",
     "text": [
      "sample: 100%|█| 2000/2000 [26:01<00:00,  1.28it/s, 255 steps of size 1.57e-02. a\n"
     ]
    },
    {
     "name": "stdout",
     "output_type": "stream",
     "text": [
      "Done.\n",
      "Samples saved at ../../models/maicf/BO//wykoff_partial_mixed_bal-lnba_batch00.pkl\n",
      "MCMC saved at ../../models/maicf/BO//wykoff_partial_mixed_bal-lnba_batch00_mcmc.pkl\n",
      "wykoff_unpooled_mixed_bal-ccf\n",
      "wykoff_unpooled_mixed_bal-ccf_batch00\n"
     ]
    },
    {
     "name": "stderr",
     "output_type": "stream",
     "text": [
      "sample: 100%|█| 2000/2000 [13:25<00:00,  2.48it/s, 255 steps of size 1.78e-02. a\n"
     ]
    },
    {
     "name": "stdout",
     "output_type": "stream",
     "text": [
      "Done.\n",
      "Samples saved at ../../models/maicf/BO//wykoff_unpooled_mixed_bal-ccf_batch00.pkl\n",
      "MCMC saved at ../../models/maicf/BO//wykoff_unpooled_mixed_bal-ccf_batch00_mcmc.pkl\n",
      "wykoff_partial_mixed_bal-ccf\n",
      "wykoff_partial_mixed_bal-ccf_batch00\n"
     ]
    },
    {
     "name": "stderr",
     "output_type": "stream",
     "text": [
      "sample: 100%|█| 2000/2000 [25:05<00:00,  1.33it/s, 255 steps of size 1.78e-02. a\n"
     ]
    },
    {
     "name": "stdout",
     "output_type": "stream",
     "text": [
      "Done.\n",
      "Samples saved at ../../models/maicf/BO//wykoff_partial_mixed_bal-ccf_batch00.pkl\n",
      "MCMC saved at ../../models/maicf/BO//wykoff_partial_mixed_bal-ccf_batch00_mcmc.pkl\n",
      "wykoff_unpooled_mixed_relht-ba\n",
      "wykoff_unpooled_mixed_relht-ba_batch00\n"
     ]
    },
    {
     "name": "stderr",
     "output_type": "stream",
     "text": [
      "sample: 100%|█| 2000/2000 [14:07<00:00,  2.36it/s, 255 steps of size 1.85e-02. a\n"
     ]
    },
    {
     "name": "stdout",
     "output_type": "stream",
     "text": [
      "Done.\n",
      "Samples saved at ../../models/maicf/BO//wykoff_unpooled_mixed_relht-ba_batch00.pkl\n",
      "MCMC saved at ../../models/maicf/BO//wykoff_unpooled_mixed_relht-ba_batch00_mcmc.pkl\n",
      "wykoff_partial_mixed_relht-ba\n",
      "wykoff_partial_mixed_relht-ba_batch00\n"
     ]
    },
    {
     "name": "stderr",
     "output_type": "stream",
     "text": [
      "sample: 100%|█| 2000/2000 [25:57<00:00,  1.28it/s, 255 steps of size 1.59e-02. a\n"
     ]
    },
    {
     "name": "stdout",
     "output_type": "stream",
     "text": [
      "Done.\n",
      "Samples saved at ../../models/maicf/BO//wykoff_partial_mixed_relht-ba_batch00.pkl\n",
      "MCMC saved at ../../models/maicf/BO//wykoff_partial_mixed_relht-ba_batch00_mcmc.pkl\n",
      "wykoff_unpooled_mixed_relht-lnba\n",
      "wykoff_unpooled_mixed_relht-lnba_batch00\n"
     ]
    },
    {
     "name": "stderr",
     "output_type": "stream",
     "text": [
      "sample: 100%|█| 2000/2000 [14:45<00:00,  2.26it/s, 255 steps of size 1.42e-02. a\n"
     ]
    },
    {
     "name": "stdout",
     "output_type": "stream",
     "text": [
      "Done.\n",
      "Samples saved at ../../models/maicf/BO//wykoff_unpooled_mixed_relht-lnba_batch00.pkl\n",
      "MCMC saved at ../../models/maicf/BO//wykoff_unpooled_mixed_relht-lnba_batch00_mcmc.pkl\n",
      "wykoff_partial_mixed_relht-lnba\n",
      "wykoff_partial_mixed_relht-lnba_batch00\n"
     ]
    },
    {
     "name": "stderr",
     "output_type": "stream",
     "text": [
      "sample: 100%|█| 2000/2000 [24:54<00:00,  1.34it/s, 255 steps of size 1.47e-02. a\n"
     ]
    },
    {
     "name": "stdout",
     "output_type": "stream",
     "text": [
      "Done.\n",
      "Samples saved at ../../models/maicf/BO//wykoff_partial_mixed_relht-lnba_batch00.pkl\n",
      "MCMC saved at ../../models/maicf/BO//wykoff_partial_mixed_relht-lnba_batch00_mcmc.pkl\n",
      "wykoff_unpooled_mixed_relht-ccf\n",
      "wykoff_unpooled_mixed_relht-ccf_batch00\n"
     ]
    },
    {
     "name": "stderr",
     "output_type": "stream",
     "text": [
      "sample: 100%|█| 2000/2000 [14:38<00:00,  2.28it/s, 255 steps of size 1.47e-02. a\n"
     ]
    },
    {
     "name": "stdout",
     "output_type": "stream",
     "text": [
      "Done.\n",
      "Samples saved at ../../models/maicf/BO//wykoff_unpooled_mixed_relht-ccf_batch00.pkl\n",
      "MCMC saved at ../../models/maicf/BO//wykoff_unpooled_mixed_relht-ccf_batch00_mcmc.pkl\n",
      "wykoff_partial_mixed_relht-ccf\n",
      "wykoff_partial_mixed_relht-ccf_batch00\n"
     ]
    },
    {
     "name": "stderr",
     "output_type": "stream",
     "text": [
      "sample: 100%|█| 2000/2000 [24:08<00:00,  1.38it/s, 255 steps of size 2.06e-02. a\n"
     ]
    },
    {
     "name": "stdout",
     "output_type": "stream",
     "text": [
      "Done.\n",
      "Samples saved at ../../models/maicf/BO//wykoff_partial_mixed_relht-ccf_batch00.pkl\n",
      "MCMC saved at ../../models/maicf/BO//wykoff_partial_mixed_relht-ccf_batch00_mcmc.pkl\n",
      "wykoff_unpooled_mixed_ballndbh-ba\n",
      "wykoff_unpooled_mixed_ballndbh-ba_batch00\n"
     ]
    },
    {
     "name": "stderr",
     "output_type": "stream",
     "text": [
      "sample: 100%|█| 2000/2000 [12:34<00:00,  2.65it/s, 255 steps of size 2.38e-02. a\n"
     ]
    },
    {
     "name": "stdout",
     "output_type": "stream",
     "text": [
      "Done.\n",
      "Samples saved at ../../models/maicf/BO//wykoff_unpooled_mixed_ballndbh-ba_batch00.pkl\n",
      "MCMC saved at ../../models/maicf/BO//wykoff_unpooled_mixed_ballndbh-ba_batch00_mcmc.pkl\n",
      "wykoff_partial_mixed_ballndbh-ba\n",
      "wykoff_partial_mixed_ballndbh-ba_batch00\n"
     ]
    },
    {
     "name": "stderr",
     "output_type": "stream",
     "text": [
      "sample: 100%|█| 2000/2000 [24:39<00:00,  1.35it/s, 255 steps of size 1.48e-02. a\n"
     ]
    },
    {
     "name": "stdout",
     "output_type": "stream",
     "text": [
      "Done.\n",
      "Samples saved at ../../models/maicf/BO//wykoff_partial_mixed_ballndbh-ba_batch00.pkl\n",
      "MCMC saved at ../../models/maicf/BO//wykoff_partial_mixed_ballndbh-ba_batch00_mcmc.pkl\n",
      "wykoff_unpooled_mixed_ballndbh-lnba\n",
      "wykoff_unpooled_mixed_ballndbh-lnba_batch00\n"
     ]
    },
    {
     "name": "stderr",
     "output_type": "stream",
     "text": [
      "sample: 100%|█| 2000/2000 [13:13<00:00,  2.52it/s, 255 steps of size 1.96e-02. a\n"
     ]
    },
    {
     "name": "stdout",
     "output_type": "stream",
     "text": [
      "Done.\n",
      "Samples saved at ../../models/maicf/BO//wykoff_unpooled_mixed_ballndbh-lnba_batch00.pkl\n",
      "MCMC saved at ../../models/maicf/BO//wykoff_unpooled_mixed_ballndbh-lnba_batch00_mcmc.pkl\n",
      "wykoff_partial_mixed_ballndbh-lnba\n",
      "wykoff_partial_mixed_ballndbh-lnba_batch00\n"
     ]
    },
    {
     "name": "stderr",
     "output_type": "stream",
     "text": [
      "sample: 100%|█| 2000/2000 [24:26<00:00,  1.36it/s, 255 steps of size 1.79e-02. a\n"
     ]
    },
    {
     "name": "stdout",
     "output_type": "stream",
     "text": [
      "Done.\n",
      "Samples saved at ../../models/maicf/BO//wykoff_partial_mixed_ballndbh-lnba_batch00.pkl\n",
      "MCMC saved at ../../models/maicf/BO//wykoff_partial_mixed_ballndbh-lnba_batch00_mcmc.pkl\n",
      "wykoff_unpooled_mixed_ballndbh-ccf\n",
      "wykoff_unpooled_mixed_ballndbh-ccf_batch00\n"
     ]
    },
    {
     "name": "stderr",
     "output_type": "stream",
     "text": [
      "sample: 100%|█| 2000/2000 [12:59<00:00,  2.57it/s, 255 steps of size 2.25e-02. a\n"
     ]
    },
    {
     "name": "stdout",
     "output_type": "stream",
     "text": [
      "Done.\n",
      "Samples saved at ../../models/maicf/BO//wykoff_unpooled_mixed_ballndbh-ccf_batch00.pkl\n",
      "MCMC saved at ../../models/maicf/BO//wykoff_unpooled_mixed_ballndbh-ccf_batch00_mcmc.pkl\n",
      "wykoff_partial_mixed_ballndbh-ccf\n",
      "wykoff_partial_mixed_ballndbh-ccf_batch00\n"
     ]
    },
    {
     "name": "stderr",
     "output_type": "stream",
     "text": [
      "sample: 100%|█| 2000/2000 [23:11<00:00,  1.44it/s, 255 steps of size 1.97e-02. a\n"
     ]
    },
    {
     "name": "stdout",
     "output_type": "stream",
     "text": [
      "Done.\n",
      "Samples saved at ../../models/maicf/BO//wykoff_partial_mixed_ballndbh-ccf_batch00.pkl\n",
      "MCMC saved at ../../models/maicf/BO//wykoff_partial_mixed_ballndbh-ccf_batch00_mcmc.pkl\n"
     ]
    }
   ],
   "source": [
    "for tree_comp in ['bal', 'relht', 'ballndbh']:\n",
    "    for stand_comp in ['ba', 'lnba', 'ccf']:\n",
    "        for pooling in ['unpooled', 'partial']:\n",
    "            model_name = f\"wykoff_{pooling}_mixed_{tree_comp}-{stand_comp}\"\n",
    "            fit_wykoff(\n",
    "                bark_b0,\n",
    "                bark_b1,\n",
    "                bark_b2,\n",
    "                tree_comp,\n",
    "                stand_comp,\n",
    "                pooling,\n",
    "                LOC_RANDOM,\n",
    "                PLOT_RANDOM,\n",
    "                NUM_CYCLES,\n",
    "                data,\n",
    "                model_name,\n",
    "                CHECKPOINT_DIR,\n",
    "                NUM_WARMUP,\n",
    "                NUM_SAMPLES,\n",
    "                NUM_CHAINS,\n",
    "                CHAIN_METHOD,\n",
    "                NUM_BATCHES,\n",
    "                SEED,\n",
    "                PROGRESS_BAR,\n",
    "                OVERWRITE\n",
    "            )"
   ]
  },
  {
   "cell_type": "code",
   "execution_count": 8,
   "id": "d000f348-ff1e-418e-8d61-f072fe009df5",
   "metadata": {},
   "outputs": [
    {
     "name": "stdout",
     "output_type": "stream",
     "text": [
      "simplerwykoff_unpooled_mixed_bal-ba\n",
      "simplerwykoff_unpooled_mixed_bal-ba_batch00\n"
     ]
    },
    {
     "name": "stderr",
     "output_type": "stream",
     "text": [
      "sample: 100%|█| 2000/2000 [11:27<00:00,  2.91it/s, 255 steps of size 1.66e-02. a\n"
     ]
    },
    {
     "name": "stdout",
     "output_type": "stream",
     "text": [
      "Done.\n",
      "Samples saved at ../../models/maicf/BO//simplerwykoff_unpooled_mixed_bal-ba_batch00.pkl\n",
      "MCMC saved at ../../models/maicf/BO//simplerwykoff_unpooled_mixed_bal-ba_batch00_mcmc.pkl\n",
      "simplerwykoff_unpooled_mixed_bal-lnba\n",
      "simplerwykoff_unpooled_mixed_bal-lnba_batch00\n"
     ]
    },
    {
     "name": "stderr",
     "output_type": "stream",
     "text": [
      "sample: 100%|█| 2000/2000 [11:12<00:00,  2.98it/s, 255 steps of size 2.06e-02. a\n"
     ]
    },
    {
     "name": "stdout",
     "output_type": "stream",
     "text": [
      "Done.\n",
      "Samples saved at ../../models/maicf/BO//simplerwykoff_unpooled_mixed_bal-lnba_batch00.pkl\n",
      "MCMC saved at ../../models/maicf/BO//simplerwykoff_unpooled_mixed_bal-lnba_batch00_mcmc.pkl\n",
      "simplerwykoff_unpooled_mixed_bal-ccf\n",
      "simplerwykoff_unpooled_mixed_bal-ccf_batch00\n"
     ]
    },
    {
     "name": "stderr",
     "output_type": "stream",
     "text": [
      "sample: 100%|█| 2000/2000 [09:23<00:00,  3.55it/s, 255 steps of size 1.93e-02. a\n"
     ]
    },
    {
     "name": "stdout",
     "output_type": "stream",
     "text": [
      "Done.\n",
      "Samples saved at ../../models/maicf/BO//simplerwykoff_unpooled_mixed_bal-ccf_batch00.pkl\n",
      "MCMC saved at ../../models/maicf/BO//simplerwykoff_unpooled_mixed_bal-ccf_batch00_mcmc.pkl\n",
      "simplerwykoff_unpooled_mixed_relht-ba\n",
      "simplerwykoff_unpooled_mixed_relht-ba_batch00\n"
     ]
    },
    {
     "name": "stderr",
     "output_type": "stream",
     "text": [
      "sample: 100%|█| 2000/2000 [11:03<00:00,  3.01it/s, 255 steps of size 2.05e-02. a\n"
     ]
    },
    {
     "name": "stdout",
     "output_type": "stream",
     "text": [
      "Done.\n",
      "Samples saved at ../../models/maicf/BO//simplerwykoff_unpooled_mixed_relht-ba_batch00.pkl\n",
      "MCMC saved at ../../models/maicf/BO//simplerwykoff_unpooled_mixed_relht-ba_batch00_mcmc.pkl\n",
      "simplerwykoff_unpooled_mixed_relht-lnba\n",
      "simplerwykoff_unpooled_mixed_relht-lnba_batch00\n"
     ]
    },
    {
     "name": "stderr",
     "output_type": "stream",
     "text": [
      "sample: 100%|█| 2000/2000 [10:52<00:00,  3.07it/s, 255 steps of size 1.78e-02. a\n"
     ]
    },
    {
     "name": "stdout",
     "output_type": "stream",
     "text": [
      "Done.\n",
      "Samples saved at ../../models/maicf/BO//simplerwykoff_unpooled_mixed_relht-lnba_batch00.pkl\n",
      "MCMC saved at ../../models/maicf/BO//simplerwykoff_unpooled_mixed_relht-lnba_batch00_mcmc.pkl\n",
      "simplerwykoff_unpooled_mixed_relht-ccf\n",
      "simplerwykoff_unpooled_mixed_relht-ccf_batch00\n"
     ]
    },
    {
     "name": "stderr",
     "output_type": "stream",
     "text": [
      "sample: 100%|█| 2000/2000 [11:17<00:00,  2.95it/s, 255 steps of size 1.96e-02. a\n"
     ]
    },
    {
     "name": "stdout",
     "output_type": "stream",
     "text": [
      "Done.\n",
      "Samples saved at ../../models/maicf/BO//simplerwykoff_unpooled_mixed_relht-ccf_batch00.pkl\n",
      "MCMC saved at ../../models/maicf/BO//simplerwykoff_unpooled_mixed_relht-ccf_batch00_mcmc.pkl\n",
      "simplerwykoff_unpooled_mixed_ballndbh-ba\n",
      "simplerwykoff_unpooled_mixed_ballndbh-ba_batch00\n"
     ]
    },
    {
     "name": "stderr",
     "output_type": "stream",
     "text": [
      "sample: 100%|█| 2000/2000 [11:25<00:00,  2.92it/s, 255 steps of size 1.98e-02. a\n"
     ]
    },
    {
     "name": "stdout",
     "output_type": "stream",
     "text": [
      "Done.\n",
      "Samples saved at ../../models/maicf/BO//simplerwykoff_unpooled_mixed_ballndbh-ba_batch00.pkl\n",
      "MCMC saved at ../../models/maicf/BO//simplerwykoff_unpooled_mixed_ballndbh-ba_batch00_mcmc.pkl\n",
      "simplerwykoff_unpooled_mixed_ballndbh-lnba\n",
      "simplerwykoff_unpooled_mixed_ballndbh-lnba_batch00\n"
     ]
    },
    {
     "name": "stderr",
     "output_type": "stream",
     "text": [
      "sample: 100%|█| 2000/2000 [11:33<00:00,  2.88it/s, 255 steps of size 1.74e-02. a\n"
     ]
    },
    {
     "name": "stdout",
     "output_type": "stream",
     "text": [
      "Done.\n",
      "Samples saved at ../../models/maicf/BO//simplerwykoff_unpooled_mixed_ballndbh-lnba_batch00.pkl\n",
      "MCMC saved at ../../models/maicf/BO//simplerwykoff_unpooled_mixed_ballndbh-lnba_batch00_mcmc.pkl\n",
      "simplerwykoff_unpooled_mixed_ballndbh-ccf\n",
      "simplerwykoff_unpooled_mixed_ballndbh-ccf_batch00\n"
     ]
    },
    {
     "name": "stderr",
     "output_type": "stream",
     "text": [
      "sample: 100%|█| 2000/2000 [11:19<00:00,  2.94it/s, 255 steps of size 2.10e-02. a\n"
     ]
    },
    {
     "name": "stdout",
     "output_type": "stream",
     "text": [
      "Done.\n",
      "Samples saved at ../../models/maicf/BO//simplerwykoff_unpooled_mixed_ballndbh-ccf_batch00.pkl\n",
      "MCMC saved at ../../models/maicf/BO//simplerwykoff_unpooled_mixed_ballndbh-ccf_batch00_mcmc.pkl\n",
      "simplerwykoff_partial_mixed_bal-ba\n",
      "simplerwykoff_partial_mixed_bal-ba_batch00\n"
     ]
    },
    {
     "name": "stderr",
     "output_type": "stream",
     "text": [
      "sample: 100%|█| 2000/2000 [17:09<00:00,  1.94it/s, 255 steps of size 1.93e-02. a\n"
     ]
    },
    {
     "name": "stdout",
     "output_type": "stream",
     "text": [
      "Done.\n",
      "Samples saved at ../../models/maicf/BO//simplerwykoff_partial_mixed_bal-ba_batch00.pkl\n",
      "MCMC saved at ../../models/maicf/BO//simplerwykoff_partial_mixed_bal-ba_batch00_mcmc.pkl\n",
      "simplerwykoff_partial_mixed_bal-lnba\n",
      "simplerwykoff_partial_mixed_bal-lnba_batch00\n"
     ]
    },
    {
     "name": "stderr",
     "output_type": "stream",
     "text": [
      "sample: 100%|█| 2000/2000 [17:49<00:00,  1.87it/s, 255 steps of size 1.69e-02. a\n"
     ]
    },
    {
     "name": "stdout",
     "output_type": "stream",
     "text": [
      "Done.\n",
      "Samples saved at ../../models/maicf/BO//simplerwykoff_partial_mixed_bal-lnba_batch00.pkl\n",
      "MCMC saved at ../../models/maicf/BO//simplerwykoff_partial_mixed_bal-lnba_batch00_mcmc.pkl\n",
      "simplerwykoff_partial_mixed_bal-ccf\n",
      "simplerwykoff_partial_mixed_bal-ccf_batch00\n"
     ]
    },
    {
     "name": "stderr",
     "output_type": "stream",
     "text": [
      "sample: 100%|█| 2000/2000 [18:30<00:00,  1.80it/s, 255 steps of size 1.83e-02. a\n"
     ]
    },
    {
     "name": "stdout",
     "output_type": "stream",
     "text": [
      "Done.\n",
      "Samples saved at ../../models/maicf/BO//simplerwykoff_partial_mixed_bal-ccf_batch00.pkl\n",
      "MCMC saved at ../../models/maicf/BO//simplerwykoff_partial_mixed_bal-ccf_batch00_mcmc.pkl\n",
      "simplerwykoff_partial_mixed_relht-ba\n",
      "simplerwykoff_partial_mixed_relht-ba_batch00\n"
     ]
    },
    {
     "name": "stderr",
     "output_type": "stream",
     "text": [
      "sample: 100%|█| 2000/2000 [17:55<00:00,  1.86it/s, 255 steps of size 1.92e-02. a\n"
     ]
    },
    {
     "name": "stdout",
     "output_type": "stream",
     "text": [
      "Done.\n",
      "Samples saved at ../../models/maicf/BO//simplerwykoff_partial_mixed_relht-ba_batch00.pkl\n",
      "MCMC saved at ../../models/maicf/BO//simplerwykoff_partial_mixed_relht-ba_batch00_mcmc.pkl\n",
      "simplerwykoff_partial_mixed_relht-lnba\n",
      "simplerwykoff_partial_mixed_relht-lnba_batch00\n"
     ]
    },
    {
     "name": "stderr",
     "output_type": "stream",
     "text": [
      "sample: 100%|█| 2000/2000 [17:58<00:00,  1.85it/s, 255 steps of size 2.02e-02. a\n"
     ]
    },
    {
     "name": "stdout",
     "output_type": "stream",
     "text": [
      "Done.\n",
      "Samples saved at ../../models/maicf/BO//simplerwykoff_partial_mixed_relht-lnba_batch00.pkl\n",
      "MCMC saved at ../../models/maicf/BO//simplerwykoff_partial_mixed_relht-lnba_batch00_mcmc.pkl\n",
      "simplerwykoff_partial_mixed_relht-ccf\n",
      "simplerwykoff_partial_mixed_relht-ccf_batch00\n"
     ]
    },
    {
     "name": "stderr",
     "output_type": "stream",
     "text": [
      "sample: 100%|█| 2000/2000 [18:26<00:00,  1.81it/s, 255 steps of size 1.64e-02. a\n"
     ]
    },
    {
     "name": "stdout",
     "output_type": "stream",
     "text": [
      "Done.\n",
      "Samples saved at ../../models/maicf/BO//simplerwykoff_partial_mixed_relht-ccf_batch00.pkl\n",
      "MCMC saved at ../../models/maicf/BO//simplerwykoff_partial_mixed_relht-ccf_batch00_mcmc.pkl\n",
      "simplerwykoff_partial_mixed_ballndbh-ba\n",
      "simplerwykoff_partial_mixed_ballndbh-ba_batch00\n"
     ]
    },
    {
     "name": "stderr",
     "output_type": "stream",
     "text": [
      "sample: 100%|█| 2000/2000 [18:38<00:00,  1.79it/s, 255 steps of size 1.95e-02. a\n"
     ]
    },
    {
     "name": "stdout",
     "output_type": "stream",
     "text": [
      "Done.\n",
      "Samples saved at ../../models/maicf/BO//simplerwykoff_partial_mixed_ballndbh-ba_batch00.pkl\n",
      "MCMC saved at ../../models/maicf/BO//simplerwykoff_partial_mixed_ballndbh-ba_batch00_mcmc.pkl\n",
      "simplerwykoff_partial_mixed_ballndbh-lnba\n",
      "simplerwykoff_partial_mixed_ballndbh-lnba_batch00\n"
     ]
    },
    {
     "name": "stderr",
     "output_type": "stream",
     "text": [
      "sample: 100%|█| 2000/2000 [17:46<00:00,  1.88it/s, 255 steps of size 2.01e-02. a\n"
     ]
    },
    {
     "name": "stdout",
     "output_type": "stream",
     "text": [
      "Done.\n",
      "Samples saved at ../../models/maicf/BO//simplerwykoff_partial_mixed_ballndbh-lnba_batch00.pkl\n",
      "MCMC saved at ../../models/maicf/BO//simplerwykoff_partial_mixed_ballndbh-lnba_batch00_mcmc.pkl\n",
      "simplerwykoff_partial_mixed_ballndbh-ccf\n",
      "simplerwykoff_partial_mixed_ballndbh-ccf_batch00\n"
     ]
    },
    {
     "name": "stderr",
     "output_type": "stream",
     "text": [
      "sample: 100%|█| 2000/2000 [18:07<00:00,  1.84it/s, 255 steps of size 1.70e-02. a\n"
     ]
    },
    {
     "name": "stdout",
     "output_type": "stream",
     "text": [
      "Done.\n",
      "Samples saved at ../../models/maicf/BO//simplerwykoff_partial_mixed_ballndbh-ccf_batch00.pkl\n",
      "MCMC saved at ../../models/maicf/BO//simplerwykoff_partial_mixed_ballndbh-ccf_batch00_mcmc.pkl\n"
     ]
    }
   ],
   "source": [
    "for pooling in ['unpooled', 'partial']:\n",
    "    for tree_comp in ['bal', 'relht', 'ballndbh']:\n",
    "        for stand_comp in ['ba', 'lnba', 'ccf']:\n",
    "            model_name = f\"simplerwykoff_{pooling}_mixed_{tree_comp}-{stand_comp}\"\n",
    "            fit_simpler_wykoff(\n",
    "                bark_b0,\n",
    "                bark_b1,\n",
    "                bark_b2,\n",
    "                tree_comp,\n",
    "                stand_comp,\n",
    "                pooling,\n",
    "                LOC_RANDOM,\n",
    "                PLOT_RANDOM,\n",
    "                NUM_CYCLES,\n",
    "                data,\n",
    "                model_name,\n",
    "                CHECKPOINT_DIR,\n",
    "                NUM_WARMUP,\n",
    "                NUM_SAMPLES,\n",
    "                NUM_CHAINS,\n",
    "                CHAIN_METHOD,\n",
    "                NUM_BATCHES,\n",
    "                SEED,\n",
    "                PROGRESS_BAR,\n",
    "                OVERWRITE\n",
    "            )"
   ]
  }
 ],
 "metadata": {
  "kernelspec": {
   "display_name": "Python [conda env:miniconda3-refit_fvs]",
   "language": "python",
   "name": "conda-env-miniconda3-refit_fvs-py"
  },
  "language_info": {
   "codemirror_mode": {
    "name": "ipython",
    "version": 3
   },
   "file_extension": ".py",
   "mimetype": "text/x-python",
   "name": "python",
   "nbconvert_exporter": "python",
   "pygments_lexer": "ipython3",
   "version": "3.10.6"
  }
 },
 "nbformat": 4,
 "nbformat_minor": 5
}
