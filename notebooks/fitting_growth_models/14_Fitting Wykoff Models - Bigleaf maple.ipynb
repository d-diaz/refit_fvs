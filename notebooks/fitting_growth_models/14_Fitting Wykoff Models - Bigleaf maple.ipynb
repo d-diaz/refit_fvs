{
 "cells": [
  {
   "cell_type": "code",
   "execution_count": null,
   "id": "0e392d45-86b1-4de8-9748-0086f5e40d46",
   "metadata": {},
   "outputs": [],
   "source": [
    "import pandas as pd\n",
    "import os\n",
    "import numpyro\n",
    "from refit_fvs.data.load import fia_for_diameter_growth_modeling\n",
    "from refit_fvs.models.fit import fit_wykoff, fit_simpler_wykoff"
   ]
  },
  {
   "cell_type": "code",
   "execution_count": null,
   "id": "b75769a8-46d8-421b-bc3f-f65be4f20168",
   "metadata": {},
   "outputs": [],
   "source": [
    "os.environ[\"XLA_PYTHON_CLIENT_MEM_FRACTION\"] = \"0.75\"\n",
    "numpyro.set_platform(\"gpu\")\n",
    "numpyro.set_host_device_count(3)"
   ]
  },
  {
   "cell_type": "markdown",
   "id": "9bd96038-f30a-48d1-81ba-f2593e8be408",
   "metadata": {},
   "source": [
    "# Select species\n",
    "Identify species codes and the FVS variant from which bark ratio coefficients should be drawn."
   ]
  },
  {
   "cell_type": "code",
   "execution_count": null,
   "id": "e5c84098-1dba-4c19-bc06-fa8eae8a2f60",
   "metadata": {},
   "outputs": [],
   "source": [
    "FVS_ALPHA = \"BM\"\n",
    "BARK_VAR = \"PN\"\n",
    "FIA_SPCD = 312"
   ]
  },
  {
   "cell_type": "code",
   "execution_count": null,
   "id": "9db5d35d-29aa-43fb-a775-94229fa52247",
   "metadata": {},
   "outputs": [],
   "source": [
    "BARK_COEFS = \"../../data/raw/fvs_barkratio_coefs.csv\"\n",
    "bark = pd.read_csv(BARK_COEFS).set_index([\"FIA_SPCD\", \"FVS_VARIANT\"])\n",
    "\n",
    "bark_b0, bark_b1, bark_b2 = bark.loc[FIA_SPCD, BARK_VAR][[\"BARK_B0\", \"BARK_B1\", \"BARK_B2\"]]\n",
    "bark_b0, bark_b1, bark_b2"
   ]
  },
  {
   "cell_type": "markdown",
   "id": "7d812fc8-0f00-43ef-9993-3eb576f62af9",
   "metadata": {},
   "source": [
    "# Model-fitting parameters\n",
    "These don't usually need to be updated when fitting a new species unless you want to add more chains or samples per chain."
   ]
  },
  {
   "cell_type": "code",
   "execution_count": null,
   "id": "a81b074f-f9c8-47a9-a89b-bd15787de9d3",
   "metadata": {},
   "outputs": [],
   "source": [
    "NUM_CYCLES = 2\n",
    "LOC_RANDOM = True\n",
    "PLOT_RANDOM = True\n",
    "CHECKPOINT_DIR = f\"../../models/maicf/{FVS_ALPHA}/\"\n",
    "NUM_WARMUP = 1000\n",
    "NUM_SAMPLES = 1000\n",
    "NUM_CHAINS = 1\n",
    "CHAIN_METHOD = \"parallel\"\n",
    "NUM_BATCHES = 1\n",
    "SEED = 42\n",
    "PROGRESS_BAR = True\n",
    "OVERWRITE = False"
   ]
  },
  {
   "cell_type": "code",
   "execution_count": null,
   "id": "3f43e10f-90ba-4806-8945-e7bde2cf8dac",
   "metadata": {},
   "outputs": [],
   "source": [
    "data, factors = fia_for_diameter_growth_modeling(\n",
    "    path=\"../../data/interim/FIA_remeasured_trees_for_training.csv\",\n",
    "    filter_spp=[FIA_SPCD]\n",
    ")\n",
    "obs_variants, obs_locations, obs_plots = factors\n",
    "data.describe()"
   ]
  },
  {
   "cell_type": "code",
   "execution_count": null,
   "id": "fa6efd78-c55b-4fd6-8bb7-b065e7411842",
   "metadata": {},
   "outputs": [],
   "source": [
    "for tree_comp in ['bal', 'relht', 'ballndbh']:\n",
    "    for stand_comp in ['ba', 'lnba', 'ccf']:\n",
    "        for pooling in ['unpooled', 'partial']:\n",
    "            model_name = f\"wykoff_{pooling}_mixed_{tree_comp}-{stand_comp}\"\n",
    "            fit_wykoff(\n",
    "                bark_b0,\n",
    "                bark_b1,\n",
    "                bark_b2,\n",
    "                tree_comp,\n",
    "                stand_comp,\n",
    "                pooling,\n",
    "                LOC_RANDOM,\n",
    "                PLOT_RANDOM,\n",
    "                NUM_CYCLES,\n",
    "                data,\n",
    "                model_name,\n",
    "                CHECKPOINT_DIR,\n",
    "                NUM_WARMUP,\n",
    "                NUM_SAMPLES,\n",
    "                NUM_CHAINS,\n",
    "                CHAIN_METHOD,\n",
    "                NUM_BATCHES,\n",
    "                SEED,\n",
    "                PROGRESS_BAR,\n",
    "                OVERWRITE\n",
    "            )"
   ]
  },
  {
   "cell_type": "code",
   "execution_count": null,
   "id": "d000f348-ff1e-418e-8d61-f072fe009df5",
   "metadata": {},
   "outputs": [],
   "source": [
    "for pooling in ['unpooled', 'partial']:\n",
    "    for tree_comp in ['bal', 'relht', 'ballndbh']:\n",
    "        for stand_comp in ['ba', 'lnba', 'ccf']:\n",
    "            model_name = f\"simplerwykoff_{pooling}_mixed_{tree_comp}-{stand_comp}\"\n",
    "            fit_simpler_wykoff(\n",
    "                bark_b0,\n",
    "                bark_b1,\n",
    "                bark_b2,\n",
    "                tree_comp,\n",
    "                stand_comp,\n",
    "                pooling,\n",
    "                LOC_RANDOM,\n",
    "                PLOT_RANDOM,\n",
    "                NUM_CYCLES,\n",
    "                data,\n",
    "                model_name,\n",
    "                CHECKPOINT_DIR,\n",
    "                NUM_WARMUP,\n",
    "                NUM_SAMPLES,\n",
    "                NUM_CHAINS,\n",
    "                CHAIN_METHOD,\n",
    "                NUM_BATCHES,\n",
    "                SEED,\n",
    "                PROGRESS_BAR,\n",
    "                OVERWRITE\n",
    "            )"
   ]
  }
 ],
 "metadata": {
  "kernelspec": {
   "display_name": "Python [conda env:miniconda3-refit_fvs]",
   "language": "python",
   "name": "conda-env-miniconda3-refit_fvs-py"
  },
  "language_info": {
   "codemirror_mode": {
    "name": "ipython",
    "version": 3
   },
   "file_extension": ".py",
   "mimetype": "text/x-python",
   "name": "python",
   "nbconvert_exporter": "python",
   "pygments_lexer": "ipython3",
   "version": "3.10.6"
  }
 },
 "nbformat": 4,
 "nbformat_minor": 5
}
